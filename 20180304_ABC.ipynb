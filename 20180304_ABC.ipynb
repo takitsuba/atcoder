{
 "cells": [
  {
   "cell_type": "markdown",
   "metadata": {},
   "source": [
    "* https://beta.atcoder.jp/contests/abc089/tasks"
   ]
  },
  {
   "cell_type": "markdown",
   "metadata": {},
   "source": [
    "# C"
   ]
  },
  {
   "cell_type": "code",
   "execution_count": 24,
   "metadata": {},
   "outputs": [
    {
     "name": "stdout",
     "output_type": "stream",
     "text": [
      "4\n",
      "ZZ\n",
      "ZZZ\n",
      "Z\n",
      "ZZZZZZZ\n",
      "0\n"
     ]
    }
   ],
   "source": [
    "n = int(input())\n",
    "sd = {}\n",
    "hl = [\"M\",\"A\",\"R\",\"C\",\"H\"]\n",
    "for i in range(n):\n",
    "    s = input()\n",
    "    head = s[0]\n",
    "    \n",
    "    if not head in hl:\n",
    "        continue\n",
    "        \n",
    "    if head in sd:\n",
    "        sd[head] += 1\n",
    "    else:\n",
    "        sd[head] = 1\n",
    "        \n",
    "values = list(sd.values())\n",
    "#print(values)\n",
    "length = len(values)\n",
    "counts = 0\n",
    "if length < 3:\n",
    "    print(0)\n",
    "else:\n",
    "    for i in range(length-2):\n",
    "        for j in range(i+1,length-1):\n",
    "            for k in range(j+1,length):\n",
    "#                print(i,j,k)\n",
    "                counts += values[i]*values[j]*values[k]\n",
    "\n",
    "    print(counts)"
   ]
  },
  {
   "cell_type": "markdown",
   "metadata": {},
   "source": [
    "# D"
   ]
  },
  {
   "cell_type": "code",
   "execution_count": 32,
   "metadata": {},
   "outputs": [
    {
     "name": "stdout",
     "output_type": "stream",
     "text": [
      "3 3 2\n",
      "1 4 3\n",
      "2 5 7\n",
      "8 9 6\n"
     ]
    }
   ],
   "source": [
    "h,w,d = map(int,input().split())\n",
    "a_h = [0] * (h*w+1)\n",
    "a_w = [0] * (h*w+1)\n",
    "\n",
    "d_l = []\n",
    "\n",
    "for i in range(h):\n",
    "    a_list = list(map(int, input().split()))\n",
    "    for j,a in enumerate(a_list):\n",
    "        a_h[a] = i\n",
    "        a_w[a] = j"
   ]
  },
  {
   "cell_type": "code",
   "execution_count": 34,
   "metadata": {},
   "outputs": [
    {
     "data": {
      "text/plain": [
       "[0, 0, 1, 0, 0, 1, 2, 1, 2, 2]"
      ]
     },
     "execution_count": 34,
     "metadata": {},
     "output_type": "execute_result"
    }
   ],
   "source": [
    "a_h"
   ]
  },
  {
   "cell_type": "code",
   "execution_count": 38,
   "metadata": {},
   "outputs": [
    {
     "name": "stdout",
     "output_type": "stream",
     "text": [
      "3 3 2\n"
     ]
    }
   ],
   "source": [
    "h,w,d = map(int,input().split())\n",
    "a_h = [[0] * ((h*w+1)//d + 1)] * d\n",
    "a_w = [[0] * ((h*w+1)//d + 1)] * d"
   ]
  },
  {
   "cell_type": "code",
   "execution_count": 39,
   "metadata": {},
   "outputs": [
    {
     "data": {
      "text/plain": [
       "[[0, 0, 0, 0, 0, 0], [0, 0, 0, 0, 0, 0]]"
      ]
     },
     "execution_count": 39,
     "metadata": {},
     "output_type": "execute_result"
    }
   ],
   "source": [
    "a_h"
   ]
  },
  {
   "cell_type": "code",
   "execution_count": 57,
   "metadata": {},
   "outputs": [],
   "source": [
    "a_h = [[0] * yoko for i in range(tate)]\n"
   ]
  },
  {
   "cell_type": "code",
   "execution_count": 59,
   "metadata": {},
   "outputs": [],
   "source": [
    "a_h[0][1] = 2"
   ]
  },
  {
   "cell_type": "code",
   "execution_count": 60,
   "metadata": {},
   "outputs": [
    {
     "data": {
      "text/plain": [
       "[[0, 2, 0, 0, 0], [0, 0, 0, 0, 0]]"
      ]
     },
     "execution_count": 60,
     "metadata": {},
     "output_type": "execute_result"
    }
   ],
   "source": [
    "a_h"
   ]
  },
  {
   "cell_type": "code",
   "execution_count": 61,
   "metadata": {},
   "outputs": [
    {
     "name": "stdout",
     "output_type": "stream",
     "text": [
      "3 3 2\n",
      "1 4 3\n",
      "[1, 4, 3]\n",
      "0 1\n",
      "a_h [[0, 0, 0, 0, 0], [0, 0, 0, 0, 0]]\n",
      "a_w [[0, 0, 0, 0, 0], [0, 0, 0, 0, 0]]\n",
      "2 0\n",
      "a_h [[0, 0, 0, 0, 0], [0, 0, 0, 0, 0]]\n",
      "a_w [[0, 0, 1, 0, 0], [0, 0, 0, 0, 0]]\n",
      "1 1\n",
      "a_h [[0, 0, 0, 0, 0], [0, 0, 0, 0, 0]]\n",
      "a_w [[0, 0, 1, 0, 0], [0, 2, 0, 0, 0]]\n",
      "2 5 7\n",
      "[2, 5, 7]\n",
      "1 0\n",
      "a_h [[0, 1, 0, 0, 0], [0, 0, 0, 0, 0]]\n",
      "a_w [[0, 0, 1, 0, 0], [0, 2, 0, 0, 0]]\n",
      "2 1\n",
      "a_h [[0, 1, 0, 0, 0], [0, 0, 1, 0, 0]]\n",
      "a_w [[0, 0, 1, 0, 0], [0, 2, 1, 0, 0]]\n",
      "3 1\n",
      "a_h [[0, 1, 0, 0, 0], [0, 0, 1, 1, 0]]\n",
      "a_w [[0, 0, 1, 0, 0], [0, 2, 1, 2, 0]]\n",
      "8 9 6\n",
      "[8, 9, 6]\n",
      "4 0\n",
      "a_h [[0, 1, 0, 0, 2], [0, 0, 1, 1, 0]]\n",
      "a_w [[0, 0, 1, 0, 0], [0, 2, 1, 2, 0]]\n",
      "4 1\n",
      "a_h [[0, 1, 0, 0, 2], [0, 0, 1, 1, 2]]\n",
      "a_w [[0, 0, 1, 0, 0], [0, 2, 1, 2, 1]]\n",
      "3 0\n",
      "a_h [[0, 1, 0, 2, 2], [0, 0, 1, 1, 2]]\n",
      "a_w [[0, 0, 1, 2, 0], [0, 2, 1, 2, 1]]\n"
     ]
    }
   ],
   "source": [
    "h,w,d = map(int,input().split())\n",
    "\n",
    "tate = d\n",
    "yoko = h * w // d + 1\n",
    "\n",
    "a_h = [[0] * yoko for i in range(tate)]\n",
    "a_w = [[0] * yoko for i in range(tate)]\n",
    "\n",
    "for i in range(h):\n",
    "    a_list = list(map(int, input().split()))\n",
    "    print(a_list)\n",
    "    for j,a in enumerate(a_list):\n",
    "        syou = a // d\n",
    "        amari = a % d\n",
    "        print(syou,amari)\n",
    "        a_h[amari][syou] = i\n",
    "        print(\"a_h\",a_h)\n",
    "        a_w[amari][syou] = j\n",
    "        print(\"a_w\",a_w)"
   ]
  },
  {
   "cell_type": "code",
   "execution_count": 109,
   "metadata": {},
   "outputs": [
    {
     "name": "stdout",
     "output_type": "stream",
     "text": [
      "5 5 4\n",
      "13 25 7 15 17\n",
      "16 22 20 2 9\n",
      "14 11 12 1 19\n",
      "10 6 23 8 18\n",
      "3 21 5 24 4\n",
      "3\n",
      "13 13\n",
      "0\n",
      "2 10\n",
      "5\n",
      "13 13\n",
      "0\n"
     ]
    }
   ],
   "source": [
    "import numpy as np\n",
    "\n",
    "h,w,d = map(int,input().split())\n",
    "\n",
    "tate = d\n",
    "yoko = h * w // d + 1\n",
    "\n",
    "a_h = [[0] * yoko for i in range(tate)]\n",
    "a_w = [[0] * yoko for i in range(tate)]\n",
    "\n",
    "for i in range(h):\n",
    "    a_list = list(map(int, input().split()))\n",
    "#     print(a_list)\n",
    "    for j,a in enumerate(a_list):\n",
    "        syou = a // d\n",
    "        amari = a % d\n",
    "#         print(syou,amari)\n",
    "        a_h[amari][syou] = i\n",
    "#         print(\"a_h\",a_h)\n",
    "        a_w[amari][syou] = j\n",
    "#         print(\"a_w\",a_w)\n",
    "\n",
    "a_h_a = np.array(a_h)\n",
    "a_w_a = np.array(a_w)\n",
    "\n",
    "def diffarray(a):\n",
    "    return np.abs(a[:,1:] - a[:,:-1])\n",
    "\n",
    "def amarisyou(num):\n",
    "    amari = num % d\n",
    "    syou  = num // d\n",
    "    return amari, syou\n",
    "\n",
    "diffh = diffarray(a_h_a)\n",
    "diffw = diffarray(a_w_a)\n",
    "\n",
    "q = int(input())\n",
    "\n",
    "for i in range(q):\n",
    "    l, r = map(int,input().split())\n",
    "    \n",
    "    start_amari, start_syou = amarisyou(l)\n",
    "    end_amari,   end_syou = amarisyou(r)\n",
    "    \n",
    "#     diffh[start_amari, start_syou:end_syou]\n",
    "#     diffw[start_amari, start_syou:end_syou]\n",
    "    \n",
    "    cost = np.sum(diffh[start_amari, start_syou:end_syou]) + np.sum(diffw[start_amari, start_syou:end_syou])\n",
    "    print(cost)"
   ]
  },
  {
   "cell_type": "code",
   "execution_count": 106,
   "metadata": {},
   "outputs": [
    {
     "data": {
      "text/plain": [
       "2"
      ]
     },
     "execution_count": 106,
     "metadata": {},
     "output_type": "execute_result"
    }
   ],
   "source": [
    "np.sum(diffh[start_amari, start_syou:end_syou])"
   ]
  },
  {
   "cell_type": "code",
   "execution_count": 98,
   "metadata": {},
   "outputs": [
    {
     "name": "stdout",
     "output_type": "stream",
     "text": [
      "1\n"
     ]
    }
   ],
   "source": []
  },
  {
   "cell_type": "code",
   "execution_count": 99,
   "metadata": {},
   "outputs": [
    {
     "name": "stdout",
     "output_type": "stream",
     "text": [
      "4 8\n"
     ]
    }
   ],
   "source": []
  },
  {
   "cell_type": "code",
   "execution_count": 100,
   "metadata": {},
   "outputs": [],
   "source": []
  },
  {
   "cell_type": "code",
   "execution_count": 101,
   "metadata": {},
   "outputs": [],
   "source": []
  },
  {
   "cell_type": "code",
   "execution_count": 102,
   "metadata": {},
   "outputs": [
    {
     "data": {
      "text/plain": [
       "array([2, 0])"
      ]
     },
     "execution_count": 102,
     "metadata": {},
     "output_type": "execute_result"
    }
   ],
   "source": []
  },
  {
   "cell_type": "code",
   "execution_count": 103,
   "metadata": {},
   "outputs": [
    {
     "data": {
      "text/plain": [
       "array([1, 2])"
      ]
     },
     "execution_count": 103,
     "metadata": {},
     "output_type": "execute_result"
    }
   ],
   "source": []
  },
  {
   "cell_type": "markdown",
   "metadata": {},
   "source": [
    "### a_h"
   ]
  },
  {
   "cell_type": "code",
   "execution_count": 45,
   "metadata": {},
   "outputs": [
    {
     "data": {
      "text/plain": [
       "[[0, 0, 1, 2, 1, 0], [0, 0, 1, 2, 1, 0]]"
      ]
     },
     "execution_count": 45,
     "metadata": {},
     "output_type": "execute_result"
    }
   ],
   "source": [
    "a_w"
   ]
  },
  {
   "cell_type": "code",
   "execution_count": null,
   "metadata": {},
   "outputs": [],
   "source": [
    "q = int(input().split())\n",
    "for "
   ]
  }
 ],
 "metadata": {
  "kernelspec": {
   "display_name": "Python 3",
   "language": "python",
   "name": "python3"
  },
  "language_info": {
   "codemirror_mode": {
    "name": "ipython",
    "version": 3
   },
   "file_extension": ".py",
   "mimetype": "text/x-python",
   "name": "python",
   "nbconvert_exporter": "python",
   "pygments_lexer": "ipython3",
   "version": "3.6.4"
  }
 },
 "nbformat": 4,
 "nbformat_minor": 2
}
