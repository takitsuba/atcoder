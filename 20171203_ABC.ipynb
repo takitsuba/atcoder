{
 "cells": [
  {
   "cell_type": "markdown",
   "metadata": {},
   "source": [
    "# A"
   ]
  },
  {
   "cell_type": "code",
   "execution_count": 1,
   "metadata": {},
   "outputs": [
    {
     "name": "stdout",
     "output_type": "stream",
     "text": [
      "7 17 120\n"
     ]
    }
   ],
   "source": [
    "n,a,b = list(map(lambda x: int(x),input().split()))"
   ]
  },
  {
   "cell_type": "code",
   "execution_count": 5,
   "metadata": {},
   "outputs": [
    {
     "name": "stdout",
     "output_type": "stream",
     "text": [
      "119\n"
     ]
    }
   ],
   "source": [
    "n,a,b = list(map(lambda x: int(x),input().split()))\n",
    "\n",
    "price_1 = n*a\n",
    "price_2 = b\n",
    "\n",
    "if price_1 > price_2:\n",
    "    print(price_2)\n",
    "else:\n",
    "    print(price_1)"
   ]
  },
  {
   "cell_type": "markdown",
   "metadata": {},
   "source": [
    "# B"
   ]
  },
  {
   "cell_type": "code",
   "execution_count": 11,
   "metadata": {},
   "outputs": [
    {
     "name": "stdout",
     "output_type": "stream",
     "text": [
      "148\n",
      "No\n"
     ]
    }
   ],
   "source": [
    "n = input()\n",
    "x = int(n)\n",
    "fx = sum(list(map(lambda x: int(x),list(n))))\n",
    "\n",
    "if x%fx == 0:\n",
    "    print(\"Yes\")\n",
    "else:\n",
    "    print(\"No\")"
   ]
  },
  {
   "cell_type": "code",
   "execution_count": 7,
   "metadata": {},
   "outputs": [
    {
     "data": {
      "text/plain": [
       "12"
      ]
     },
     "execution_count": 7,
     "metadata": {},
     "output_type": "execute_result"
    }
   ],
   "source": [
    "x"
   ]
  },
  {
   "cell_type": "code",
   "execution_count": 8,
   "metadata": {},
   "outputs": [
    {
     "data": {
      "text/plain": [
       "3"
      ]
     },
     "execution_count": 8,
     "metadata": {},
     "output_type": "execute_result"
    }
   ],
   "source": [
    "fx"
   ]
  },
  {
   "cell_type": "markdown",
   "metadata": {},
   "source": [
    "# C"
   ]
  },
  {
   "cell_type": "code",
   "execution_count": 14,
   "metadata": {},
   "outputs": [
    {
     "name": "stdout",
     "output_type": "stream",
     "text": [
      "3\n",
      "1 1 1 1 1 1 0 0 1 1\n",
      "0 1 0 1 1 1 1 0 1 0\n",
      "1 0 1 1 0 1 0 1 0 1\n",
      "-8 6 -2 -8 -8 4 8 7 -6 2 2\n",
      "-9 2 0 1 7 -5 0 -2 -6 5 5\n",
      "6 -6 7 -9 6 -5 8 0 -9 -7 -7\n"
     ]
    }
   ],
   "source": [
    "n = int(input())\n",
    "f = []\n",
    "for i in range(n):\n",
    "    f.append(list(map(lambda x: int(x),input().split())))\n",
    "p = []\n",
    "for i in range(n):\n",
    "    p.append(list(map(lambda x: int(x),input().split())))"
   ]
  },
  {
   "cell_type": "markdown",
   "metadata": {},
   "source": [
    "https://beta.atcoder.jp/contests/abc080/submissions/1830947"
   ]
  },
  {
   "cell_type": "code",
   "execution_count": 60,
   "metadata": {},
   "outputs": [
    {
     "name": "stdout",
     "output_type": "stream",
     "text": [
      "3\n",
      "1 1 1 1 1 1 0 0 1 1\n",
      "0 1 0 1 1 1 1 0 1 0\n",
      "1 0 1 1 0 1 0 1 0 1\n",
      "-8 6 -2 -8 -8 4 8 7 -6 2 2\n",
      "-9 2 0 1 7 -5 0 -2 -6 5 5\n",
      "6 -6 7 -9 6 -5 8 0 -9 -7 -7\n",
      "23\n"
     ]
    }
   ],
   "source": [
    "from operator import mul\n",
    "n = int(input())\n",
    "cof = [1 << x for x in range(10)]\n",
    "\n",
    "fs = [sum(map(mul, map(int, input().split()), cof)) for _ in range(n)]\n",
    "ps = [list(map(int,input().split())) for _ in range(n)]\n",
    "ans = float(\"-inf\")\n",
    "for g in range(1,1024):\n",
    "    ans = max(ans, sum(p[bin(f&g).count(\"1\")] for f, p in zip(fs, ps)))\n",
    "    \n",
    "print(ans)"
   ]
  },
  {
   "cell_type": "markdown",
   "metadata": {},
   "source": [
    "# D"
   ]
  },
  {
   "cell_type": "code",
   "execution_count": null,
   "metadata": {
    "collapsed": true
   },
   "outputs": [],
   "source": [
    "n,c = list(map(lambda x:int(x), input().split())())\n"
   ]
  }
 ],
 "metadata": {
  "kernelspec": {
   "display_name": "Python 3",
   "language": "python",
   "name": "python3"
  },
  "language_info": {
   "codemirror_mode": {
    "name": "ipython",
    "version": 3
   },
   "file_extension": ".py",
   "mimetype": "text/x-python",
   "name": "python",
   "nbconvert_exporter": "python",
   "pygments_lexer": "ipython3",
   "version": "3.6.3"
  }
 },
 "nbformat": 4,
 "nbformat_minor": 2
}
