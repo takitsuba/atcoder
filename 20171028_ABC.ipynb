{
 "cells": [
  {
   "cell_type": "markdown",
   "metadata": {},
   "source": [
    "# A"
   ]
  },
  {
   "cell_type": "code",
   "execution_count": 2,
   "metadata": {},
   "outputs": [
    {
     "name": "stdout",
     "output_type": "stream",
     "text": [
      "1\n",
      "3\n",
      "5\n"
     ]
    }
   ],
   "source": [
    "r = int(input())\n",
    "g = int(input())\n",
    "\n",
    "print(g+(g-r))"
   ]
  },
  {
   "cell_type": "code",
   "execution_count": 7,
   "metadata": {},
   "outputs": [
    {
     "name": "stdout",
     "output_type": "stream",
     "text": [
      "10\n",
      "10\n",
      "76\n"
     ]
    }
   ],
   "source": [
    "n = int(input())\n",
    "k = int(input())\n",
    "\n",
    "count = 1\n",
    "for _ in range(n):\n",
    "    n_count = count*2\n",
    "    k_count = count+k\n",
    "    count = min(n_count,k_count)\n",
    "    \n",
    "print(count)"
   ]
  },
  {
   "cell_type": "code",
   "execution_count": 6,
   "metadata": {},
   "outputs": [
    {
     "data": {
      "text/plain": [
       "10"
      ]
     },
     "execution_count": 6,
     "metadata": {},
     "output_type": "execute_result"
    }
   ],
   "source": [
    "count"
   ]
  },
  {
   "cell_type": "markdown",
   "metadata": {},
   "source": [
    "# c"
   ]
  },
  {
   "cell_type": "code",
   "execution_count": 27,
   "metadata": {},
   "outputs": [
    {
     "name": "stdout",
     "output_type": "stream",
     "text": [
      "??p??d??\n",
      "abc\n",
      "UNRESTORABLE\n"
     ]
    }
   ],
   "source": [
    "sd = list(input())\n",
    "t  = list(input())\n",
    "\n",
    "change_list = []\n",
    "\n",
    "for i in range(len(sd)-len(t)+1):\n",
    "    cut = sd[i:i+len(t)]\n",
    "    for j in range(len(cut)):\n",
    "        if cut[j]==t[j]:\n",
    "            continue\n",
    "        elif cut[j]==\"?\":\n",
    "            cut[j] = t[j]\n",
    "        else:\n",
    "            break\n",
    "    if cut == t:\n",
    "        change_s = sd[:i] + cut + sd[i+len(t):]\n",
    "        change_list.append(change_s)\n",
    "    \n",
    "if len(change_list)>0:\n",
    "    change_list = [\"\".join(x) for x in change_list ]\n",
    "    change_list = [x.replace(\"?\",\"a\") for x in change_list]\n",
    "    change_list.sort()\n",
    "    print(change_list[0])\n",
    "else:\n",
    "    print(\"UNRESTORABLE\")"
   ]
  },
  {
   "cell_type": "code",
   "execution_count": 18,
   "metadata": {},
   "outputs": [],
   "source": []
  },
  {
   "cell_type": "code",
   "execution_count": 19,
   "metadata": {},
   "outputs": [
    {
     "data": {
      "text/plain": [
       "['?tcoder???', '?tccoder??', '?tc?coder?', '?tc??coder']"
      ]
     },
     "execution_count": 19,
     "metadata": {},
     "output_type": "execute_result"
    }
   ],
   "source": []
  },
  {
   "cell_type": "code",
   "execution_count": 22,
   "metadata": {},
   "outputs": [],
   "source": []
  },
  {
   "cell_type": "code",
   "execution_count": 24,
   "metadata": {},
   "outputs": [],
   "source": []
  },
  {
   "cell_type": "code",
   "execution_count": 25,
   "metadata": {},
   "outputs": [
    {
     "data": {
      "text/plain": [
       "['atcaacoder', 'atcacodera', 'atccoderaa', 'atcoderaaa']"
      ]
     },
     "execution_count": 25,
     "metadata": {},
     "output_type": "execute_result"
    }
   ],
   "source": []
  },
  {
   "cell_type": "markdown",
   "metadata": {},
   "source": [
    "# D"
   ]
  },
  {
   "cell_type": "code",
   "execution_count": 77,
   "metadata": {},
   "outputs": [
    {
     "name": "stdout",
     "output_type": "stream",
     "text": [
      "1\n",
      "9\n",
      "10\n",
      "20.25\n"
     ]
    }
   ],
   "source": [
    "n = int(input())\n",
    "t_list = input().split()\n",
    "t_list = [int(t) for t in t_list]\n",
    "v_list = input().split()\n",
    "v_list = [int(v) for v in v_list]\n",
    "\n",
    "\n",
    "down_list = []\n",
    "v_list.append(0)\n",
    "for i in range(n):\n",
    "    down = []\n",
    "    down.append(sum(t_list[:i+1]))\n",
    "    down.append(min(v_list[i],v_list[i+1]))\n",
    "    down_list.append(down)\n",
    "    \n",
    "now_v = 0\n",
    "distance = 0\n",
    "kukan = 0\n",
    "down_check = 0\n",
    "now_s = 0\n",
    "last_time = down_list[-1][0]\n",
    "while now_s < last_time:\n",
    "    for down in down_list[kukan:]:\n",
    "        if down[1]+(down[0]-now_s)*1==now_v:\n",
    "            next_s = down_list[kukan][0]\n",
    "            next_v = now_v +(-1*(next_s-now_s))\n",
    "#             print(\"4\",next_s,next_v,now_s,now_v)\n",
    "            distance += (next_v +now_v) * (next_s-now_s) /2\n",
    "#             print(\"1\",now_s,now_v,distance)\n",
    "            now_v = next_v\n",
    "            now_s = next_s\n",
    "            kukan += 1\n",
    "            down_check = 1\n",
    "            break\n",
    "    if down_check == 1:\n",
    "        down_check = 0\n",
    "        continue\n",
    "    else:\n",
    "        if now_v == v_list[kukan]:\n",
    "            distance += now_v * 0.5\n",
    "#             print(\"2\",now_s,now_v,distance)\n",
    "        else:\n",
    "            next_v = now_v + 0.5\n",
    "            distance += (next_v + now_v) * 0.5 /2\n",
    "#             print(\"3\",now_s,now_v,distance)\n",
    "            now_v = next_v\n",
    "\n",
    "        now_s += 0.5\n",
    "        if kukan < len(down_list):\n",
    "            if now_s == down_list[kukan][0]:\n",
    "                kukan += 1\n",
    "#                 print(\"kukan\",kukan)\n",
    "\n",
    "print(distance)"
   ]
  },
  {
   "cell_type": "code",
   "execution_count": 75,
   "metadata": {},
   "outputs": [
    {
     "data": {
      "text/plain": [
       "28"
      ]
     },
     "execution_count": 75,
     "metadata": {},
     "output_type": "execute_result"
    }
   ],
   "source": [
    "10\n",
    "64 55 27 35 76 119 7 18 49 100\n",
    "29 19 31 39 27 48 41 87 55 70\n",
    "\n"
   ]
  },
  {
   "cell_type": "code",
   "execution_count": 40,
   "metadata": {},
   "outputs": [],
   "source": []
  },
  {
   "cell_type": "code",
   "execution_count": 46,
   "metadata": {},
   "outputs": [
    {
     "data": {
      "text/plain": [
       "[12, 14, 2]"
      ]
     },
     "execution_count": 46,
     "metadata": {},
     "output_type": "execute_result"
    }
   ],
   "source": [
    "t_list_new = "
   ]
  },
  {
   "cell_type": "code",
   "execution_count": 63,
   "metadata": {},
   "outputs": [
    {
     "data": {
      "text/plain": [
       "[6, 2, 7, 0]"
      ]
     },
     "execution_count": 63,
     "metadata": {},
     "output_type": "execute_result"
    }
   ],
   "source": [
    "v_list"
   ]
  },
  {
   "cell_type": "code",
   "execution_count": 68,
   "metadata": {},
   "outputs": [
    {
     "name": "stdout",
     "output_type": "stream",
     "text": [
      "3 0 0 0.125\n",
      "3 0.5 0.5 0.5\n",
      "3 1.0 1.0 1.125\n",
      "3 1.5 1.5 2.0\n",
      "3 2.0 2.0 3.125\n",
      "3 2.5 2.5 4.5\n",
      "3 3.0 3.0 6.125\n",
      "3 3.5 3.5 8.0\n",
      "3 4.0 4.0 10.125\n",
      "3 4.5 4.5 12.5\n",
      "3 5.0 5.0 15.125\n",
      "3 5.5 5.5 18.0\n",
      "2 6.0 6.0 21.0\n",
      "2 6.5 6.0 24.0\n",
      "2 7.0 6.0 27.0\n",
      "2 7.5 6.0 30.0\n",
      "4 12 2.0 8.0 6.0\n",
      "1 8.0 6.0 46.0\n",
      "2 12 2.0 47.0\n",
      "2 12.5 2.0 48.0\n",
      "2 13.0 2.0 49.0\n",
      "2 13.5 2.0 50.0\n",
      "2 14.0 2.0 51.0\n",
      "2 14.5 2.0 52.0\n",
      "2 15.0 2.0 53.0\n",
      "2 15.5 2.0 54.0\n",
      "2 16.0 2.0 55.0\n",
      "2 16.5 2.0 56.0\n",
      "2 17.0 2.0 57.0\n",
      "2 17.5 2.0 58.0\n",
      "2 18.0 2.0 59.0\n",
      "2 18.5 2.0 60.0\n",
      "2 19.0 2.0 61.0\n",
      "2 19.5 2.0 62.0\n",
      "2 20.0 2.0 63.0\n",
      "2 20.5 2.0 64.0\n",
      "2 21.0 2.0 65.0\n",
      "2 21.5 2.0 66.0\n",
      "2 22.0 2.0 67.0\n",
      "2 22.5 2.0 68.0\n",
      "2 23.0 2.0 69.0\n",
      "2 23.5 2.0 70.0\n",
      "2 24.0 2.0 71.0\n",
      "2 24.5 2.0 72.0\n",
      "2 25.0 2.0 73.0\n",
      "2 25.5 2.0 74.0\n",
      "kukan 2\n",
      "4 28 0.0 26.0 2.0\n",
      "1 26.0 2.0 76.0\n",
      "76.0\n"
     ]
    }
   ],
   "source": []
  },
  {
   "cell_type": "code",
   "execution_count": 52,
   "metadata": {},
   "outputs": [
    {
     "data": {
      "text/plain": [
       "-125.0"
      ]
     },
     "execution_count": 52,
     "metadata": {},
     "output_type": "execute_result"
    }
   ],
   "source": [
    "distance"
   ]
  },
  {
   "cell_type": "code",
   "execution_count": null,
   "metadata": {
    "collapsed": true
   },
   "outputs": [],
   "source": []
  }
 ],
 "metadata": {
  "kernelspec": {
   "display_name": "Python 3",
   "language": "python",
   "name": "python3"
  },
  "language_info": {
   "codemirror_mode": {
    "name": "ipython",
    "version": 3
   },
   "file_extension": ".py",
   "mimetype": "text/x-python",
   "name": "python",
   "nbconvert_exporter": "python",
   "pygments_lexer": "ipython3",
   "version": "3.6.3"
  }
 },
 "nbformat": 4,
 "nbformat_minor": 2
}
