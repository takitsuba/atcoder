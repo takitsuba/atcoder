{
 "cells": [
  {
   "cell_type": "markdown",
   "metadata": {},
   "source": [
    "# A"
   ]
  },
  {
   "cell_type": "code",
   "execution_count": 7,
   "metadata": {},
   "outputs": [
    {
     "name": "stdout",
     "output_type": "stream",
     "text": [
      "4\n"
     ]
    }
   ],
   "source": [
    "A,B,C = map(int,input().split())\n",
    "print(max(C-(A-B),0))"
   ]
  },
  {
   "cell_type": "markdown",
   "metadata": {},
   "source": [
    "# B"
   ]
  },
  {
   "cell_type": "code",
   "execution_count": 10,
   "metadata": {},
   "outputs": [
    {
     "name": "stdout",
     "output_type": "stream",
     "text": [
      "90909\n"
     ]
    }
   ],
   "source": [
    "N = int(input())\n",
    "cnt = 0\n",
    "for i in range(1,N+1):\n",
    "    if len(str(i))%2 ==1:\n",
    "        cnt += 1 \n",
    "print(cnt)"
   ]
  },
  {
   "cell_type": "markdown",
   "metadata": {},
   "source": [
    "# C"
   ]
  },
  {
   "cell_type": "code",
   "execution_count": 21,
   "metadata": {},
   "outputs": [
    {
     "name": "stdout",
     "output_type": "stream",
     "text": [
      "Yes\n"
     ]
    }
   ],
   "source": [
    "N = int(input())\n",
    "h_list = list(map(int,input().split()))\n",
    "h_list.reverse()\n",
    "def func():\n",
    "    for i in range(N-1):\n",
    "        if h_list[i+1] <= h_list[i]:\n",
    "            pass\n",
    "        elif h_list[i+1] == h_list[i]+1:\n",
    "            h_list[i+1] -= 1\n",
    "        elif h_list[i+1] >= h_list[i]+2:\n",
    "            return False\n",
    "    return True\n",
    "\n",
    "if func():\n",
    "    print(\"Yes\")\n",
    "else:\n",
    "    print(\"No\")"
   ]
  },
  {
   "cell_type": "code",
   "execution_count": 17,
   "metadata": {},
   "outputs": [
    {
     "data": {
      "text/plain": [
       "<function list.reverse>"
      ]
     },
     "execution_count": 17,
     "metadata": {},
     "output_type": "execute_result"
    }
   ],
   "source": [
    "[1,2,3].reverse"
   ]
  },
  {
   "cell_type": "markdown",
   "metadata": {},
   "source": [
    "# D"
   ]
  },
  {
   "cell_type": "code",
   "execution_count": 29,
   "metadata": {},
   "outputs": [
    {
     "name": "stdout",
     "output_type": "stream",
     "text": [
      "0 0 3 2 0 2 1 0 0 0 4 4 0 0 0 0\n"
     ]
    }
   ],
   "source": [
    "ss = list(input())\n",
    "children = [1 for _ in range(len(ss))]\n",
    "for i in range(len(ss)-1):\n",
    "    if ss[i] == \"R\" and ss[i+1]==\"L\":\n",
    "        pass\n",
    "    elif ss[i] == \"R\":\n",
    "        children[i+2] += children[i]\n",
    "        children[i] = 0\n",
    "    \n",
    "#     print(children)\n",
    "        \n",
    "children.reverse()\n",
    "ss.reverse()\n",
    "for i in range(len(ss)-1):\n",
    "    if ss[i] == \"L\" and ss[i+1]==\"R\":\n",
    "        pass\n",
    "    elif ss[i] == \"L\":\n",
    "        children[i+2] += children[i]\n",
    "        children[i] = 0\n",
    "        \n",
    "children.reverse()\n",
    "ss.reverse()\n",
    "\n",
    "print(\" \".join(list(map(str,children))))"
   ]
  },
  {
   "cell_type": "code",
   "execution_count": 25,
   "metadata": {},
   "outputs": [
    {
     "data": {
      "text/plain": [
       "[0, 'R', 'L', 'R', 'L']"
      ]
     },
     "execution_count": 25,
     "metadata": {},
     "output_type": "execute_result"
    }
   ],
   "source": [
    "ss"
   ]
  },
  {
   "cell_type": "markdown",
   "metadata": {},
   "source": [
    "# E"
   ]
  },
  {
   "cell_type": "code",
   "execution_count": 57,
   "metadata": {},
   "outputs": [
    {
     "name": "stdout",
     "output_type": "stream",
     "text": [
      "7\n"
     ]
    }
   ],
   "source": [
    "def gcd(x,y):\n",
    "    if x%y==0:\n",
    "        return y\n",
    "    else:\n",
    "        return gcd(y, x%y)\n",
    "\n",
    "def make_divisors(n):\n",
    "    divisors = []\n",
    "    for i in range(1, int(n**0.5)+1):\n",
    "        # nを合う数字で割り切れたら、その割った数と商をリストに追加する。\n",
    "        # nが平方数のとき、同じ数字が2回追加されてしまうので3行したのif文がある\n",
    "        if n % i == 0:\n",
    "            divisors.append(i)\n",
    "            if i != n // i:\n",
    "                divisors.append(n//i)\n",
    "\n",
    "    divisors.sort()\n",
    "    return divisors\n",
    "\n",
    "N,K = map(int,input().split())\n",
    "a_list = list(map(int,input().split()))\n",
    "\n",
    "sums = sum(a_list)\n",
    "divisors = make_divisors(sums)\n",
    "divisors.reverse()\n",
    "\n",
    "def func():\n",
    "    for d in divisors:\n",
    "        amaris = [a%d for a in a_list]\n",
    "        amaris.sort()\n",
    "        amaris.reverse()\n",
    "        amari_sum = sum(amaris)\n",
    "        hanten_cnt = int(amari_sum / d)\n",
    "        sousa_cnt = 0\n",
    "        for i in range(hanten_cnt):\n",
    "            sousa_cnt += d - amaris[i]\n",
    "        if sousa_cnt <= K:\n",
    "            return d\n",
    "\n",
    "result = func()\n",
    "\n",
    "print(result)"
   ]
  },
  {
   "cell_type": "markdown",
   "metadata": {},
   "source": [
    "# F"
   ]
  },
  {
   "cell_type": "code",
   "execution_count": 1,
   "metadata": {},
   "outputs": [
    {
     "data": {
      "application/vnd.jupyter.widget-view+json": {
       "model_id": "bbae8baf2f1849a49b5263e758f304fc",
       "version_major": 2,
       "version_minor": 0
      },
      "text/plain": [
       "Textarea(value='')"
      ]
     },
     "metadata": {},
     "output_type": "display_data"
    }
   ],
   "source": [
    "from ipywidgets import Textarea\n",
    "import io\n",
    "\n",
    "if 'open' in globals():\n",
    "    del open\n",
    "if 'input' in globals():\n",
    "    del input\n",
    "\n",
    "original_open = open\n",
    "\n",
    "class custom_open():\n",
    "    def __init__(self):\n",
    "        self.text = ''\n",
    "\n",
    "    def __call__(self, file, *args, **kwargs):\n",
    "        if file == 0:\n",
    "            return io.StringIO(self.text)\n",
    "        return original_open(file, *args, **kwargs)\n",
    "\n",
    "    def updater(self, change):\n",
    "        self.text = change[\"new\"]\n",
    "\n",
    "class custom_input():\n",
    "    def __init__(self):\n",
    "        self.__sio = io.StringIO('')\n",
    "        self.shell = get_ipython()\n",
    "        if self.shell.events.callbacks['pre_run_cell'] != []:\n",
    "            self.shell.events.callbacks['pre_run_cell'] = []\n",
    "        self.shell.events.register('pre_run_cell', self.pre_run_cell)\n",
    "\n",
    "    def __call__(self):\n",
    "        return self.__sio.readline().strip()\n",
    "\n",
    "    def pre_run_cell(self, info):\n",
    "        text = self.shell.user_ns.get('text_area', None).value\n",
    "        self.__sio = io.StringIO(text)\n",
    "\n",
    "open = custom_open()\n",
    "input = custom_input()\n",
    "\n",
    "text_area = Textarea()\n",
    "text_area.observe(open.updater, names='value')\n",
    "display(text_area)"
   ]
  },
  {
   "cell_type": "markdown",
   "metadata": {},
   "source": [
    "# F"
   ]
  },
  {
   "cell_type": "code",
   "execution_count": 58,
   "metadata": {},
   "outputs": [],
   "source": [
    "N = int(input())\n",
    "xys = [tuple(map(int,input().split())) for _ in range(N) ]"
   ]
  },
  {
   "cell_type": "code",
   "execution_count": 60,
   "metadata": {},
   "outputs": [
    {
     "name": "stdout",
     "output_type": "stream",
     "text": [
      "3\n"
     ]
    }
   ],
   "source": [
    "from math import factorial\n",
    "\n",
    "def permutations_count(n, r):\n",
    "    ''' 順列 '''\n",
    "    return factorial(n) // factorial(n - r)\n",
    "\n",
    "def combinations_count(n, r):\n",
    "    ''' 組み合わせ '''\n",
    "    return factorial(n) // (factorial(n - r) * factorial(r))\n",
    "\n",
    "# print(permutations_count(5, 2))\n",
    "print(combinations_count(3, 1))"
   ]
  },
  {
   "cell_type": "code",
   "execution_count": 61,
   "metadata": {},
   "outputs": [
    {
     "data": {
      "text/plain": [
       "24"
      ]
     },
     "execution_count": 61,
     "metadata": {},
     "output_type": "execute_result"
    }
   ],
   "source": [
    "factorial(4)"
   ]
  },
  {
   "cell_type": "code",
   "execution_count": null,
   "metadata": {},
   "outputs": [],
   "source": []
  }
 ],
 "metadata": {
  "kernelspec": {
   "display_name": "Python 3",
   "language": "python",
   "name": "python3"
  },
  "language_info": {
   "codemirror_mode": {
    "name": "ipython",
    "version": 3
   },
   "file_extension": ".py",
   "mimetype": "text/x-python",
   "name": "python",
   "nbconvert_exporter": "python",
   "pygments_lexer": "ipython3",
   "version": "3.6.6"
  }
 },
 "nbformat": 4,
 "nbformat_minor": 2
}
