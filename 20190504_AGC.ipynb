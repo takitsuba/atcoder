{
 "cells": [
  {
   "cell_type": "markdown",
   "metadata": {},
   "source": [
    "# A"
   ]
  },
  {
   "cell_type": "code",
   "execution_count": null,
   "metadata": {},
   "outputs": [],
   "source": [
    "from collection import deque\n",
    "\n",
    "H, W = map(int,input().split())\n",
    "\n",
    "table = []\n",
    "for _ in range(H):\n",
    "    table.append([\"k\"] + list(input()) + [\"k\"])\n",
    "    \n",
    "table = [[\"k\"]*(W+2)] + table + [[\"k\"]*(W+2)]\n",
    "\n",
    "import queue\n",
    "q = queue.Queue()\n",
    "\n",
    "min_memo = [[None]*(W+2) for _ in range(H+2)]\n",
    "\n",
    "all_cnt = 0\n",
    "for y, r in enumerate(table):\n",
    "    for x, c in enumerate(r):\n",
    "        if c == \"#\":\n",
    "            q.put([y,x,0])\n",
    "            min_memo[y][x] = 0\n",
    "            all_cnt += 1\n",
    "\n",
    "if all_cnt == H*W:\n",
    "    print(0)\n",
    "else:          \n",
    "    while True:\n",
    "        y, x, cnt = q.get()\n",
    "        for dy,dx in [(-1,0),(1,0),(0,-1),(0,1)]:\n",
    "            if table[y+dy][x+dx] == \".\":\n",
    "                if min_memo[y+dy][x+dx] == None:\n",
    "                    min_memo[y+dy][x+dx] = cnt+1\n",
    "                    q.put([y+dy, x+dx, cnt+1])\n",
    "                    all_cnt += 1\n",
    "        if all_cnt >= H*W:\n",
    "            print(cnt+1)\n",
    "            break\n"
   ]
  },
  {
   "cell_type": "code",
   "execution_count": null,
   "metadata": {},
   "outputs": [],
   "source": []
  },
  {
   "cell_type": "code",
   "execution_count": 8,
   "metadata": {},
   "outputs": [
    {
     "name": "stdout",
     "output_type": "stream",
     "text": [
      "3 3\n",
      "###\n",
      "#.#\n",
      "###\n",
      "1 1 0\n",
      "1 2 0\n",
      "1 3 0\n",
      "2 1 0\n",
      "2 3 0\n",
      "3 1 0\n",
      "3 2 0\n",
      "3 3 0\n",
      "2 2 1\n",
      "1\n"
     ]
    }
   ],
   "source": [
    "H, W = map(int,input().split())\n",
    "\n",
    "table = []\n",
    "for _ in range(H):\n",
    "    table.append([\"k\"] + list(input()) + [\"k\"])\n",
    "    \n",
    "table = [[\"k\"]*(W+2)] + table + [[\"k\"]*(W+2)]\n",
    "\n",
    "import queue\n",
    "q = queue.Queue()\n",
    "\n",
    "min_memo = [[None]*(W+2) for _ in range(H+2)]\n",
    "\n",
    "for y, r in enumerate(table):\n",
    "    for x, c in enumerate(r):\n",
    "        if c == \"#\":\n",
    "            q.put([y,x,0])\n",
    "            min_memo[y][x] = 0\n",
    "\n",
    "while True:\n",
    "    if q.empty():\n",
    "        print(cnt)\n",
    "        break\n",
    "    y, x, cnt = q.get()\n",
    "    print(y,x,cnt)\n",
    "    for dy,dx in [(-1,0),(1,0),(0,-1),(0,1)]:\n",
    "        if table[y+dy][x+dx] == \".\":\n",
    "            if min_memo[y+dy][x+dx] == None:\n",
    "                min_memo[y+dy][x+dx] = cnt+1\n",
    "                q.put([y+dy, x+dx, cnt+1])\n"
   ]
  },
  {
   "cell_type": "code",
   "execution_count": 6,
   "metadata": {},
   "outputs": [
    {
     "data": {
      "text/plain": [
       "[[None, None, None, None, None, None, None],\n",
       " [None, 1, 2, 2, 1, 0, None],\n",
       " [None, 0, 1, 2, 2, 1, None],\n",
       " [None, None, None, None, None, None, None]]"
      ]
     },
     "execution_count": 6,
     "metadata": {},
     "output_type": "execute_result"
    }
   ],
   "source": [
    "min_memo"
   ]
  },
  {
   "cell_type": "code",
   "execution_count": null,
   "metadata": {},
   "outputs": [],
   "source": []
  },
  {
   "cell_type": "markdown",
   "metadata": {},
   "source": [
    "### dequeにして、PyPy3にしたら通った"
   ]
  },
  {
   "cell_type": "code",
   "execution_count": 2,
   "metadata": {},
   "outputs": [
    {
     "name": "stdout",
     "output_type": "stream",
     "text": [
      "3 3\n",
      "...\n",
      ".#.\n",
      "...\n",
      "2\n"
     ]
    }
   ],
   "source": [
    "from collections import deque\n",
    "\n",
    "H, W = map(int,input().split())\n",
    "\n",
    "table = []\n",
    "for _ in range(H):\n",
    "    table.append([\"k\"] + list(input()) + [\"k\"])\n",
    "    \n",
    "table = [[\"k\"]*(W+2)] + table + [[\"k\"]*(W+2)]\n",
    "\n",
    "q = deque()\n",
    "\n",
    "min_memo = [[None]*(W+2) for _ in range(H+2)]\n",
    "\n",
    "all_cnt = 0\n",
    "for y, r in enumerate(table):\n",
    "    for x, c in enumerate(r):\n",
    "        if c == \"#\":\n",
    "            q.append([y,x,0])\n",
    "            min_memo[y][x] = 0\n",
    "            all_cnt += 1\n",
    "\n",
    "if all_cnt == H*W:\n",
    "    print(0)\n",
    "else:          \n",
    "    while True:\n",
    "        y, x, cnt = q.popleft()\n",
    "        for dy,dx in [(-1,0),(1,0),(0,-1),(0,1)]:\n",
    "            if table[y+dy][x+dx] == \".\":\n",
    "                if min_memo[y+dy][x+dx] == None:\n",
    "                    min_memo[y+dy][x+dx] = cnt+1\n",
    "                    q.append([y+dy, x+dx, cnt+1])\n",
    "                    all_cnt += 1\n",
    "        if all_cnt >= H*W:\n",
    "            print(cnt+1)\n",
    "            break\n"
   ]
  },
  {
   "cell_type": "code",
   "execution_count": null,
   "metadata": {},
   "outputs": [],
   "source": []
  },
  {
   "cell_type": "markdown",
   "metadata": {},
   "source": [
    "# B"
   ]
  },
  {
   "cell_type": "code",
   "execution_count": null,
   "metadata": {},
   "outputs": [],
   "source": [
    "H,W,N = map(int, input().split())\n",
    "sy,sx = map(int, input().split())\n",
    "\n",
    "S = list(input())\n",
    "T = list(input())"
   ]
  },
  {
   "cell_type": "code",
   "execution_count": null,
   "metadata": {},
   "outputs": [],
   "source": []
  },
  {
   "cell_type": "code",
   "execution_count": null,
   "metadata": {},
   "outputs": [],
   "source": []
  }
 ],
 "metadata": {
  "kernelspec": {
   "display_name": "Python 3",
   "language": "python",
   "name": "python3"
  },
  "language_info": {
   "codemirror_mode": {
    "name": "ipython",
    "version": 3
   },
   "file_extension": ".py",
   "mimetype": "text/x-python",
   "name": "python",
   "nbconvert_exporter": "python",
   "pygments_lexer": "ipython3",
   "version": "3.6.6"
  }
 },
 "nbformat": 4,
 "nbformat_minor": 2
}
