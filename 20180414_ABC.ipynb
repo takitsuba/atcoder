{
 "cells": [
  {
   "cell_type": "markdown",
   "metadata": {},
   "source": [
    "# C"
   ]
  },
  {
   "cell_type": "code",
   "execution_count": null,
   "metadata": {},
   "outputs": [],
   "source": [
    "N = int(input())\n",
    "X_list = list(map(int,input().split()))\n",
    " \n",
    "X_sort = X_list.copy()\n",
    "X_sort.sort()\n",
    " \n",
    "mae_idx = N//2 - 1\n",
    "ato_idx = N//2\n",
    " \n",
    "mae_num = X_sort[mae_idx]\n",
    "ato_num = X_sort[ato_idx]\n",
    " \n",
    "for x in X_list:\n",
    "    if x <= mae_num:\n",
    "        print(ato_num)\n",
    "    else:\n",
    "        print(mae_num)"
   ]
  },
  {
   "cell_type": "markdown",
   "metadata": {},
   "source": [
    "# D"
   ]
  },
  {
   "cell_type": "code",
   "execution_count": null,
   "metadata": {},
   "outputs": [],
   "source": []
  }
 ],
 "metadata": {
  "kernelspec": {
   "display_name": "Python 3",
   "language": "python",
   "name": "python3"
  },
  "language_info": {
   "codemirror_mode": {
    "name": "ipython",
    "version": 3
   },
   "file_extension": ".py",
   "mimetype": "text/x-python",
   "name": "python",
   "nbconvert_exporter": "python",
   "pygments_lexer": "ipython3",
   "version": "3.6.4"
  }
 },
 "nbformat": 4,
 "nbformat_minor": 2
}
