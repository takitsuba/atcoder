{
 "cells": [
  {
   "cell_type": "markdown",
   "metadata": {},
   "source": [
    "# C"
   ]
  },
  {
   "cell_type": "code",
   "execution_count": 1,
   "metadata": {},
   "outputs": [
    {
     "data": {
      "application/vnd.jupyter.widget-view+json": {
       "model_id": "50f8ed0fe9cd4f528e68003fc30a692a",
       "version_major": 2,
       "version_minor": 0
      },
      "text/plain": [
       "Textarea(value='')"
      ]
     },
     "metadata": {},
     "output_type": "display_data"
    }
   ],
   "source": [
    "from ipywidgets import Textarea\n",
    "import io\n",
    "\n",
    "if 'open' in globals():\n",
    "    del open\n",
    "if 'input' in globals():\n",
    "    del input\n",
    "\n",
    "original_open = open\n",
    "\n",
    "class custom_open():\n",
    "    def __init__(self):\n",
    "        self.text = ''\n",
    "\n",
    "    def __call__(self, file, *args, **kwargs):\n",
    "        if file == 0:\n",
    "            return io.StringIO(self.text)\n",
    "        return original_open(file, *args, **kwargs)\n",
    "\n",
    "    def updater(self, change):\n",
    "        self.text = change['new']\n",
    "\n",
    "class custom_input():\n",
    "    def __init__(self):\n",
    "        self.__sio = io.StringIO('')\n",
    "        self.shell = get_ipython()\n",
    "        if self.shell.events.callbacks['pre_run_cell'] != []:\n",
    "            self.shell.events.callbacks['pre_run_cell'] = []\n",
    "        self.shell.events.register('pre_run_cell', self.pre_run_cell)\n",
    "\n",
    "    def __call__(self):\n",
    "        return self.__sio.readline().strip()\n",
    "\n",
    "    def pre_run_cell(self, info):\n",
    "        text = self.shell.user_ns.get('text_area', None).value\n",
    "        self.__sio = io.StringIO(text)\n",
    "\n",
    "open = custom_open()\n",
    "input = custom_input()\n",
    "\n",
    "text_area = Textarea()\n",
    "text_area.observe(open.updater, names='value')\n",
    "display(text_area)"
   ]
  },
  {
   "cell_type": "code",
   "execution_count": 19,
   "metadata": {},
   "outputs": [],
   "source": [
    "def soinsuu(n):\n",
    "    ans = [0 for _ in range(n+1)]\n",
    "    while n>1:\n",
    "        for i in range(2,n+1):\n",
    "            if n % i==0:\n",
    "                ans[i] += 1\n",
    "                n = n//i\n",
    "                break\n",
    "    return ans\n",
    "\n",
    "N = int(input())\n",
    "\n",
    "sosuu_cnt_list = [0 for _ in range(N+1)]\n",
    "for i in range(1,N+1):\n",
    "    tmp_sosuu_cnt = soinsuu(i)\n",
    "    for sss,cnt in enumerate(tmp_sosuu_cnt):\n",
    "        sosuu_cnt_list[sss] += cnt\n",
    "\n",
    "cnt = 1\n",
    "for sosuu_cnt in sosuu_cnt_list:\n",
    "    if sosuu_cnt !=0:\n",
    "        cnt *= sosuu_cnt+1\n",
    "        cnt %= 10**9+7\n",
    "\n",
    "\n",
    "\n",
    "print(cnt)"
   ]
  },
  {
   "cell_type": "code",
   "execution_count": 13,
   "metadata": {},
   "outputs": [
    {
     "name": "stdout",
     "output_type": "stream",
     "text": [
      "972926972\n"
     ]
    }
   ],
   "source": [
    "import sys\n",
    "sys.setrecursionlimit(100000000)\n",
    "n = int(input())\n",
    "def factrial(n):\n",
    "    if n == 1:\n",
    "        return 1\n",
    "    return n * factrial(n-1)\n",
    "def primes(n):\n",
    "    is_prime = [True] * (n+1)\n",
    "    is_prime[0] = False\n",
    "    is_prime[1] = False\n",
    "    for i in range(2, int(n**0.5)+1):\n",
    "        if not is_prime[i]:\n",
    "            continue\n",
    "        for j in range(i*2, n+1, i):\n",
    "            is_prime[j] = False\n",
    "    return [i for i in range(n+1) if is_prime[i]]\n",
    "prime = primes(n)\n",
    "fact = factrial(n)\n",
    "ans = []\n",
    "for i in prime:\n",
    "    tmp = 0\n",
    "    for j in range(1, 1000):\n",
    "        ij = i**j\n",
    "        if tmp > n:\n",
    "            break\n",
    "        tmp += n//ij\n",
    "    ans.append(tmp + 1)\n",
    "answer = 1\n",
    "for i in ans:\n",
    "    answer *= i\n",
    "print(answer%(10**9+7))\n"
   ]
  },
  {
   "cell_type": "code",
   "execution_count": null,
   "metadata": {},
   "outputs": [],
   "source": []
  }
 ],
 "metadata": {
  "kernelspec": {
   "display_name": "Python 3",
   "language": "python",
   "name": "python3"
  },
  "language_info": {
   "codemirror_mode": {
    "name": "ipython",
    "version": 3
   },
   "file_extension": ".py",
   "mimetype": "text/x-python",
   "name": "python",
   "nbconvert_exporter": "python",
   "pygments_lexer": "ipython3",
   "version": "3.6.6"
  }
 },
 "nbformat": 4,
 "nbformat_minor": 2
}
