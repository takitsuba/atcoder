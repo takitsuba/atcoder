{
 "cells": [
  {
   "cell_type": "markdown",
   "metadata": {},
   "source": [
    "# A"
   ]
  },
  {
   "cell_type": "code",
   "execution_count": 75,
   "metadata": {},
   "outputs": [
    {
     "name": "stdout",
     "output_type": "stream",
     "text": [
      "3\n",
      "1 2 3\n",
      "for1 1 1\n",
      "for1 1 2\n",
      "Yes\n"
     ]
    }
   ],
   "source": [
    "N = int(input())\n",
    "a_list = list(map(int,input().split()))\n",
    "\n",
    "\n",
    "from collections import Counter\n",
    "a_dict = Counter(a_list)\n",
    "\n",
    "start = a_list[0]\n",
    "# 数を減らさない。\n",
    "# a_dict[a] -= 1\n",
    "\n",
    "a_keys = a_dict.keys()\n",
    "\n",
    "def check():\n",
    "    for a1 in a_keys:\n",
    "#         print(\"for1\",start,a1)\n",
    "        a0 = start\n",
    "        tmp_dict = a_dict.copy()\n",
    "#         tmp_dict[a1] -= 1\n",
    "        for i in range(N):\n",
    "#             print(\" for2\",i,a0,a1)\n",
    "#             print(tmp_dict)\n",
    "            next_a = int(bin(a0^a1), 0)\n",
    "            if not next_a in tmp_dict:\n",
    "#                 print(next_a,\" not in dict\")\n",
    "                break\n",
    "            if tmp_dict[next_a] <= 0:\n",
    "                tmp_dict.pop(next_a)\n",
    "                break\n",
    "            a0 = a1\n",
    "            a1 = next_a\n",
    "            tmp_dict[next_a] -= 1\n",
    "#             if tmp_dict[next_a] == 0:\n",
    "#                 tmp_dict.pop(next_a)\n",
    "            if i == N-1:\n",
    "                return True\n",
    "    return False\n",
    "\n",
    "if check():\n",
    "    print(\"Yes\")\n",
    "else:\n",
    "    print(\"No\")"
   ]
  },
  {
   "cell_type": "code",
   "execution_count": 77,
   "metadata": {},
   "outputs": [],
   "source": [
    "a,b,c = set([1,1,2,2,2,3,])"
   ]
  },
  {
   "cell_type": "code",
   "execution_count": 105,
   "metadata": {},
   "outputs": [
    {
     "data": {
      "text/plain": [
       "0"
      ]
     },
     "execution_count": 105,
     "metadata": {},
     "output_type": "execute_result"
    }
   ],
   "source": [
    "Counter([1,2,3])[0]"
   ]
  },
  {
   "cell_type": "code",
   "execution_count": 95,
   "metadata": {},
   "outputs": [
    {
     "data": {
      "text/plain": [
       "True"
      ]
     },
     "execution_count": 95,
     "metadata": {},
     "output_type": "execute_result"
    }
   ],
   "source": [
    "set(list(Counter([1,2,3]).values())) == set([1])"
   ]
  },
  {
   "cell_type": "code",
   "execution_count": 111,
   "metadata": {},
   "outputs": [
    {
     "name": "stdout",
     "output_type": "stream",
     "text": [
      "6\n",
      "1 1 0 1 1 0\n",
      "No\n"
     ]
    }
   ],
   "source": [
    "from collections import Counter\n",
    "N = int(input())\n",
    "a_list = list(map(int,input().split()))\n",
    "\n",
    "l = len(set(a_list))\n",
    "\n",
    "def check():\n",
    "    counter = Counter(a_list)\n",
    "    if l == 1:\n",
    "        if a_list[0] == 0:\n",
    "            return True\n",
    "        return False\n",
    "    if l == 2:\n",
    "        if counter[0] == N/3:\n",
    "            return True\n",
    "        return False\n",
    "    if l == 3:\n",
    "        x,y,z = set(a_list)\n",
    "        if int(bin(x^y^z), 0) == 0 and set(list(counter.values()))==set([N/3]):\n",
    "            return True\n",
    "        return False\n",
    "    return False\n",
    "\n",
    "if check():\n",
    "    print(\"Yes\")\n",
    "else:\n",
    "    print(\"No\")"
   ]
  },
  {
   "cell_type": "code",
   "execution_count": null,
   "metadata": {},
   "outputs": [],
   "source": []
  }
 ],
 "metadata": {
  "kernelspec": {
   "display_name": "Python 3",
   "language": "python",
   "name": "python3"
  },
  "language_info": {
   "codemirror_mode": {
    "name": "ipython",
    "version": 3
   },
   "file_extension": ".py",
   "mimetype": "text/x-python",
   "name": "python",
   "nbconvert_exporter": "python",
   "pygments_lexer": "ipython3",
   "version": "3.6.6"
  }
 },
 "nbformat": 4,
 "nbformat_minor": 2
}
