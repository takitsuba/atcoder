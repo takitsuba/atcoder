{
 "cells": [
  {
   "cell_type": "code",
   "execution_count": 5,
   "metadata": {},
   "outputs": [
    {
     "name": "stdout",
     "output_type": "stream",
     "text": [
      "3 2 3\n"
     ]
    }
   ],
   "source": [
    "# A\n",
    "\n",
    "p,q,r = map(int, input().split())\n",
    "\n",
    "max_pqr = max(p,q,r)\n",
    "\n",
    "print(p+q+r-max_pqr)"
   ]
  },
  {
   "cell_type": "markdown",
   "metadata": {},
   "source": [
    "# B"
   ]
  },
  {
   "cell_type": "code",
   "execution_count": 38,
   "metadata": {},
   "outputs": [
    {
     "name": "stdout",
     "output_type": "stream",
     "text": [
      "4\n",
      "1 3 1 1\n",
      "2\n"
     ]
    }
   ],
   "source": [
    "n = int(input())\n",
    "w_list = list(map(int,input().split()))\n",
    "\n",
    "sum_w = sum(w_list)\n",
    "\n",
    "diff = 999\n",
    "t = 0\n",
    "for i in range(n):\n",
    "    mae = sum(w_list[:i])\n",
    "    ato = sum_w-mae\n",
    "    if diff > abs(mae-ato):\n",
    "        diff = abs(mae-ato)\n",
    "        t = i\n",
    "\n",
    "print(diff)"
   ]
  },
  {
   "cell_type": "markdown",
   "metadata": {},
   "source": [
    "# C"
   ]
  },
  {
   "cell_type": "code",
   "execution_count": 83,
   "metadata": {},
   "outputs": [
    {
     "name": "stdout",
     "output_type": "stream",
     "text": [
      "6 1\n",
      "3\n",
      "4\n"
     ]
    }
   ],
   "source": [
    "n,m = map(int, input().split())\n",
    "a_list = []\n",
    "for i in range(m):\n",
    "    a_list.append(int(input()))\n",
    "\n",
    "# memo = [-1 for _ in range(n)]\n",
    "step_now = 0\n",
    "step_1   = 0\n",
    "step_2   = 0\n",
    "DIV_NUM = 1000000007\n",
    "if 1 in a_list:\n",
    "    memo[0] = 0\n",
    "else:\n",
    "    memo[0] = 1\n",
    "for i in range(1, n):\n",
    "    if i == 1:\n",
    "        if i+1 in a_list:\n",
    "            memo[i] = 0\n",
    "        else:\n",
    "            memo[i] = (memo[0] + 1) % DIV_NUM\n",
    "    else:\n",
    "        if i+1 in a_list:\n",
    "            memo[i] = 0\n",
    "        else:\n",
    "            memo[i] = (memo[i-1] + memo[i-2]) % DIV_NUM\n",
    "\n",
    "print(memo[-1])"
   ]
  },
  {
   "cell_type": "code",
   "execution_count": 196,
   "metadata": {},
   "outputs": [
    {
     "data": {
      "text/plain": [
       "True"
      ]
     },
     "execution_count": 196,
     "metadata": {},
     "output_type": "execute_result"
    }
   ],
   "source": [
    "0 == 0== 0"
   ]
  },
  {
   "cell_type": "code",
   "execution_count": 199,
   "metadata": {},
   "outputs": [
    {
     "name": "stdout",
     "output_type": "stream",
     "text": [
      "6 1\n",
      "3\n",
      "4\n"
     ]
    }
   ],
   "source": [
    "n,m = map(int, input().split())\n",
    "a_list = []\n",
    "for i in range(m):\n",
    "    a_list.append(int(input()))\n",
    "\n",
    "# memo = [-1 for _ in range(n)]\n",
    "step_now = 0\n",
    "step_1   = 0\n",
    "step_2   = 0\n",
    "DIV_NUM = 1000000007\n",
    "if 1 in a_list:\n",
    "    a_list.pop(0)\n",
    "    step_now = 0\n",
    "else:\n",
    "    step_now = 1\n",
    "for i in range(1, n):\n",
    "    if i == 1:\n",
    "        step_1 = step_now\n",
    "        if i+1 in a_list:\n",
    "            a_list.pop(0)\n",
    "            step_now = 0\n",
    "        else:\n",
    "#             memo[i] = (memo[0] + 1) % DIV_NUM\n",
    "            step_now = step_1 + 1\n",
    "    else:\n",
    "        step_2 = step_1\n",
    "        step_1 = step_now\n",
    "        if i+1 in a_list:\n",
    "            a_list.pop(0)\n",
    "            step_now = 0\n",
    "        else:\n",
    "#             memo[i] = (memo[i-1] + memo[i-2]) % DIV_NUM\n",
    "            step_now = (step_1 + step_2) % DIV_NUM\n",
    "    if step_now ==  step_1 == step_2 == 0:\n",
    "        break\n",
    "\n",
    "print(step_now)"
   ]
  },
  {
   "cell_type": "code",
   "execution_count": null,
   "metadata": {},
   "outputs": [],
   "source": [
    "# https://atcoder.jp/contests/abc129/submissions/5856802\n",
    "MOD = 10**9+7\n",
    "N,M = map(int,input().split())\n",
    "a = [int(input()) for _ in range(M)]\n",
    "dp = [0 for i in range(N+1)]\n",
    "b = [0 for i in range(N+1)]\n",
    "dp[0] = 1\n",
    "for i in range(M):\n",
    "    b[a[i]] += 1\n",
    "for i in range(1,N+1):\n",
    "    if b[i] == 1:\n",
    "        dp[i] = 0\n",
    "        continue\n",
    "    elif i == 1:\n",
    "        dp[i] = 1\n",
    "        continue\n",
    "    dp[i] = (dp[i-1] + dp[i-2]) % MOD\n",
    "print(dp[N])"
   ]
  },
  {
   "cell_type": "markdown",
   "metadata": {},
   "source": [
    "# D"
   ]
  },
  {
   "cell_type": "code",
   "execution_count": 197,
   "metadata": {},
   "outputs": [
    {
     "name": "stdout",
     "output_type": "stream",
     "text": [
      "2 2\n",
      "2 2\n",
      "2 \n"
     ]
    },
    {
     "ename": "IndexError",
     "evalue": "list index out of range",
     "output_type": "error",
     "traceback": [
      "\u001b[0;31m---------------------------------------------------------------------------\u001b[0m",
      "\u001b[0;31mIndexError\u001b[0m                                Traceback (most recent call last)",
      "\u001b[0;32m<ipython-input-197-6f5d67fa37b0>\u001b[0m in \u001b[0;36m<module>\u001b[0;34m()\u001b[0m\n\u001b[1;32m     68\u001b[0m     \u001b[0;32mfor\u001b[0m \u001b[0mj\u001b[0m \u001b[0;32min\u001b[0m \u001b[0mrange\u001b[0m\u001b[0;34m(\u001b[0m\u001b[0mw\u001b[0m\u001b[0;34m)\u001b[0m\u001b[0;34m:\u001b[0m\u001b[0;34m\u001b[0m\u001b[0m\n\u001b[1;32m     69\u001b[0m         \u001b[0mtt\u001b[0m \u001b[0;34m=\u001b[0m \u001b[0mtate_cnt_mod\u001b[0m\u001b[0;34m[\u001b[0m\u001b[0mj\u001b[0m\u001b[0;34m]\u001b[0m\u001b[0;34m[\u001b[0m\u001b[0mi\u001b[0m\u001b[0;34m]\u001b[0m\u001b[0;34m\u001b[0m\u001b[0m\n\u001b[0;32m---> 70\u001b[0;31m         \u001b[0myy\u001b[0m \u001b[0;34m=\u001b[0m \u001b[0myoko_cnt_mod\u001b[0m\u001b[0;34m[\u001b[0m\u001b[0mi\u001b[0m\u001b[0;34m]\u001b[0m\u001b[0;34m[\u001b[0m\u001b[0mj\u001b[0m\u001b[0;34m]\u001b[0m\u001b[0;34m\u001b[0m\u001b[0m\n\u001b[0m\u001b[1;32m     71\u001b[0m \u001b[0;34m\u001b[0m\u001b[0m\n\u001b[1;32m     72\u001b[0m         \u001b[0;32mif\u001b[0m \u001b[0mtt\u001b[0m \u001b[0;34m==\u001b[0m \u001b[0;36m0\u001b[0m \u001b[0;32mor\u001b[0m \u001b[0myy\u001b[0m \u001b[0;34m==\u001b[0m\u001b[0;36m0\u001b[0m\u001b[0;34m:\u001b[0m\u001b[0;34m\u001b[0m\u001b[0m\n",
      "\u001b[0;31mIndexError\u001b[0m: list index out of range"
     ]
    }
   ],
   "source": [
    "h,w = map(int,input().split())\n",
    "\n",
    "table = []\n",
    "table.append([\"#\" for _ in range(w+2)])\n",
    "for i in range(h):\n",
    "    s = input()\n",
    "    table.append([\"#\"]+list(s)+[\"#\"])\n",
    "table.append([\"#\" for _ in range(w+2)])\n",
    "\n",
    "# yoko = []#[None for _ in range(w)] for _ in range(h)]\n",
    "yoko_cnt = []\n",
    "for i in range(1,h+1):\n",
    "    cnt = 0\n",
    "#     start = 0\n",
    "    yoko = []\n",
    "    for j in range(1,w+2):\n",
    "        if table[i][j] == \"#\":\n",
    "            if cnt != 0:\n",
    "                yoko.append(cnt)\n",
    "            yoko.append(0)\n",
    "            cnt = 0\n",
    "            continue\n",
    "        else:\n",
    "            cnt += 1\n",
    "    yoko_cnt.append(yoko[:-1])\n",
    "\n",
    "# yoko = []#[None for _ in range(w)] for _ in range(h)]\n",
    "tate_cnt = []\n",
    "for i in range(1,w+1):\n",
    "    cnt = 0\n",
    "#     start = 0\n",
    "    tate = []\n",
    "    for j in range(1,h+2):\n",
    "        if table[j][i] == \"#\":\n",
    "            if cnt != 0:\n",
    "                tate.append(cnt)\n",
    "            tate.append(0)\n",
    "            cnt = 0\n",
    "            continue\n",
    "        else:\n",
    "            cnt += 1\n",
    "    tate_cnt.append(tate[:-1])\n",
    "\n",
    "yoko_cnt_mod = []\n",
    "for l in yoko_cnt:\n",
    "    hoge = []\n",
    "    for i in l:\n",
    "        if i == 0:\n",
    "            hoge.append(0)\n",
    "        else:\n",
    "            hoge.extend([i for _ in range(i)])\n",
    "    yoko_cnt_mod.append(hoge)\n",
    "# yoko_cnt_mod = [[0 if i == 0 else i for _ in range(i) for i in l] for l in yoko_cnt  ]\n",
    "\n",
    "tate_cnt_mod = []\n",
    "for l in tate_cnt:\n",
    "    hoge = []\n",
    "    for i in l:\n",
    "        if i == 0:\n",
    "            hoge.append(0)\n",
    "        else:\n",
    "            hoge.extend([i for _ in range(i)])\n",
    "    tate_cnt_mod.append(hoge)\n",
    "# yoko_cnt_mod = [[0 if i == 0 else i for _ in range(i) for i in l] for l in yoko_cnt  ]\n",
    "\n",
    "result = 0\n",
    "for i in range(h):\n",
    "    for j in range(w):\n",
    "        tt = tate_cnt_mod[j][i]\n",
    "        yy = yoko_cnt_mod[i][j]\n",
    "        \n",
    "        if tt == 0 or yy ==0:\n",
    "            continue\n",
    "        else:\n",
    "            c = tt + yy - 1\n",
    "            if result < c:\n",
    "                result = c\n",
    "                \n",
    "print(result)"
   ]
  },
  {
   "cell_type": "code",
   "execution_count": 195,
   "metadata": {},
   "outputs": [
    {
     "data": {
      "text/plain": [
       "13"
      ]
     },
     "execution_count": 195,
     "metadata": {},
     "output_type": "execute_result"
    }
   ],
   "source": [
    "result"
   ]
  },
  {
   "cell_type": "code",
   "execution_count": 127,
   "metadata": {},
   "outputs": [
    {
     "data": {
      "text/plain": [
       "[['#', '#', '#', '#', '#', '#', '#', '#'],\n",
       " ['#', '#', '.', '.', '#', '.', '.', '#'],\n",
       " ['#', '.', '.', '.', '.', '.', '#', '#'],\n",
       " ['#', '.', '.', '.', '.', '#', '.', '#'],\n",
       " ['#', '#', '.', '#', '.', '.', '.', '#'],\n",
       " ['#', '#', '#', '#', '#', '#', '#', '#']]"
      ]
     },
     "execution_count": 127,
     "metadata": {},
     "output_type": "execute_result"
    }
   ],
   "source": [
    "table"
   ]
  },
  {
   "cell_type": "code",
   "execution_count": 124,
   "metadata": {},
   "outputs": [
    {
     "data": {
      "text/plain": [
       "[[0, 2, 2], [5, 0], [4, 1], [0, 1, 3]]"
      ]
     },
     "execution_count": 124,
     "metadata": {},
     "output_type": "execute_result"
    }
   ],
   "source": [
    "yoko_cnt"
   ]
  },
  {
   "cell_type": "code",
   "execution_count": 105,
   "metadata": {},
   "outputs": [
    {
     "data": {
      "text/plain": [
       "[1, 2]"
      ]
     },
     "execution_count": 105,
     "metadata": {},
     "output_type": "execute_result"
    }
   ],
   "source": [
    "[1,2,3,4,5][:2] "
   ]
  },
  {
   "cell_type": "code",
   "execution_count": null,
   "metadata": {},
   "outputs": [],
   "source": []
  }
 ],
 "metadata": {
  "kernelspec": {
   "display_name": "Python 3",
   "language": "python",
   "name": "python3"
  },
  "language_info": {
   "codemirror_mode": {
    "name": "ipython",
    "version": 3
   },
   "file_extension": ".py",
   "mimetype": "text/x-python",
   "name": "python",
   "nbconvert_exporter": "python",
   "pygments_lexer": "ipython3",
   "version": "3.6.6"
  }
 },
 "nbformat": 4,
 "nbformat_minor": 2
}
