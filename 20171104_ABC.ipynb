{
 "cells": [
  {
   "cell_type": "markdown",
   "metadata": {},
   "source": [
    "# A"
   ]
  },
  {
   "cell_type": "code",
   "execution_count": 4,
   "metadata": {},
   "outputs": [
    {
     "name": "stdout",
     "output_type": "stream",
     "text": [
      "eye\n",
      "eel\n",
      "No\n"
     ]
    }
   ],
   "source": [
    "C1 = list(input())\n",
    "C2 = list(input())\n",
    "\n",
    "if (C1[0]==C2[2])&(C1[1]==C2[1])&(C1[2]==C2[0]):\n",
    "    print(\"YES\")\n",
    "else:\n",
    "    print(\"NO\")"
   ]
  },
  {
   "cell_type": "markdown",
   "metadata": {},
   "source": [
    "# B"
   ]
  },
  {
   "cell_type": "code",
   "execution_count": 15,
   "metadata": {},
   "outputs": [
    {
     "name": "stdout",
     "output_type": "stream",
     "text": [
      "10\n",
      "9\n"
     ]
    }
   ],
   "source": [
    "n = int(input())\n",
    "print(int((n**(1/2)//1))**2)"
   ]
  },
  {
   "cell_type": "code",
   "execution_count": 7,
   "metadata": {},
   "outputs": [
    {
     "data": {
      "text/plain": [
       "3.1622776601683795"
      ]
     },
     "execution_count": 7,
     "metadata": {},
     "output_type": "execute_result"
    }
   ],
   "source": [
    "n**(1/2)"
   ]
  },
  {
   "cell_type": "markdown",
   "metadata": {},
   "source": [
    "# C"
   ]
  },
  {
   "cell_type": "code",
   "execution_count": 22,
   "metadata": {
    "scrolled": true
   },
   "outputs": [
    {
     "name": "stdout",
     "output_type": "stream",
     "text": [
      "3\n",
      "1 1 1\n",
      "2 2 2\n",
      "3 3 3\n",
      "27\n"
     ]
    }
   ],
   "source": [
    "import bisect\n",
    "\n",
    "n = int(input())\n",
    "a = sorted(list(map(lambda x: int(x),input().split())))\n",
    "b = sorted(list(map(lambda x: int(x),input().split())))\n",
    "c = sorted(list(map(lambda x: int(x),input().split())))\n",
    "\n",
    "count = 0\n",
    "for mid in b:\n",
    "    upper_count = bisect.bisect_left(a,mid)\n",
    "    lower_count = len(c) - bisect.bisect_right(c,mid)\n",
    "    count += upper_count * lower_count\n",
    "print(count)"
   ]
  },
  {
   "cell_type": "markdown",
   "metadata": {},
   "source": [
    "* bisect大切"
   ]
  },
  {
   "cell_type": "markdown",
   "metadata": {},
   "source": [
    "# D"
   ]
  },
  {
   "cell_type": "markdown",
   "metadata": {},
   "source": [
    "https://arc084.contest.atcoder.jp/submissions/1745276"
   ]
  },
  {
   "cell_type": "code",
   "execution_count": 47,
   "metadata": {},
   "outputs": [
    {
     "name": "stdout",
     "output_type": "stream",
     "text": [
      "3\n",
      "[4, 4, 4]\n",
      "deque([(1, 1)])\n",
      "i,m: 1 1\n",
      "i,m: 2 2\n",
      "i,m: 0 3\n",
      "3\n"
     ]
    },
    {
     "ename": "SystemExit",
     "evalue": "",
     "output_type": "error",
     "traceback": [
      "An exception has occurred, use %tb to see the full traceback.\n",
      "\u001b[0;31mSystemExit\u001b[0m\n"
     ]
    },
    {
     "name": "stderr",
     "output_type": "stream",
     "text": [
      "/Users/takizawa/dev/python/atcoder/lib/python3.6/site-packages/IPython/core/interactiveshell.py:2889: UserWarning: To exit: use 'exit', 'quit', or Ctrl-D.\n",
      "  warn(\"To exit: use 'exit', 'quit', or Ctrl-D.\", stacklevel=1)\n"
     ]
    }
   ],
   "source": [
    "from collections import deque\n",
    "k = int(input().strip())\n",
    "a = [k+1] * k\n",
    "print(a)\n",
    "q = deque()\n",
    "q.append((1,1))\n",
    "print(q)\n",
    "while q:\n",
    "    i, m = q.popleft()\n",
    "    print(\"i,m:\",i,m)\n",
    "    while 1:\n",
    "        if a[i] <= m:\n",
    "            break\n",
    "        if i == 0:\n",
    "            print(m)\n",
    "            raise SystemExit\n",
    "        a[i] = m\n",
    "        q.append(((i+1)%k,m+1))\n",
    "        i = i * 10 % k"
   ]
  },
  {
   "cell_type": "markdown",
   "metadata": {},
   "source": [
    "* 上記のは正しく動いてない？ので要確認"
   ]
  },
  {
   "cell_type": "code",
   "execution_count": null,
   "metadata": {
    "collapsed": true
   },
   "outputs": [],
   "source": []
  }
 ],
 "metadata": {
  "kernelspec": {
   "display_name": "Python 3",
   "language": "python",
   "name": "python3"
  },
  "language_info": {
   "codemirror_mode": {
    "name": "ipython",
    "version": 3
   },
   "file_extension": ".py",
   "mimetype": "text/x-python",
   "name": "python",
   "nbconvert_exporter": "python",
   "pygments_lexer": "ipython3",
   "version": "3.6.3"
  }
 },
 "nbformat": 4,
 "nbformat_minor": 2
}
