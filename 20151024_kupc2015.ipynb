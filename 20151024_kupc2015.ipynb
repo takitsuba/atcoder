{
 "cells": [
  {
   "cell_type": "markdown",
   "metadata": {},
   "source": [
    "# A\n",
    "https://atcoder.jp/contests/kupc2015/tasks/kupc2015_a"
   ]
  },
  {
   "cell_type": "code",
   "execution_count": 1,
   "metadata": {},
   "outputs": [
    {
     "data": {
      "text/plain": [
       "3"
      ]
     },
     "execution_count": 1,
     "metadata": {},
     "output_type": "execute_result"
    }
   ],
   "source": [
    "\"abcdede\".find(\"de\")"
   ]
  },
  {
   "cell_type": "code",
   "execution_count": 4,
   "metadata": {},
   "outputs": [
    {
     "name": "stdout",
     "output_type": "stream",
     "text": [
      "1\n",
      "tokyotokyo\n",
      "2\n"
     ]
    }
   ],
   "source": [
    "T = int(input())\n",
    "s_list = []\n",
    "for _ in range(T):\n",
    "    s_list.append(input())\n",
    "\n",
    "for s in s_list:\n",
    "    cnt = 0\n",
    "    while True:\n",
    "        place_tokyo = s.find(\"tokyo\")\n",
    "        place_kyoto = s.find(\"kyoto\")\n",
    "        if place_tokyo == -1 and place_kyoto == -1:\n",
    "            print(cnt)\n",
    "            break\n",
    "        elif place_tokyo>=0 and place_kyoto>=0:\n",
    "            cnt += 1\n",
    "            s = s[min(place_tokyo,place_kyoto)+5:]\n",
    "        else:\n",
    "            cnt += 1\n",
    "            s = s[max(place_tokyo,place_kyoto)+5:]"
   ]
  },
  {
   "cell_type": "code",
   "execution_count": null,
   "metadata": {},
   "outputs": [],
   "source": []
  }
 ],
 "metadata": {
  "kernelspec": {
   "display_name": "Python 3",
   "language": "python",
   "name": "python3"
  },
  "language_info": {
   "codemirror_mode": {
    "name": "ipython",
    "version": 3
   },
   "file_extension": ".py",
   "mimetype": "text/x-python",
   "name": "python",
   "nbconvert_exporter": "python",
   "pygments_lexer": "ipython3",
   "version": "3.6.6"
  }
 },
 "nbformat": 4,
 "nbformat_minor": 2
}
