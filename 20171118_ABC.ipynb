{
 "cells": [
  {
   "cell_type": "markdown",
   "metadata": {},
   "source": [
    "# A"
   ]
  },
  {
   "cell_type": "code",
   "execution_count": 11,
   "metadata": {},
   "outputs": [
    {
     "name": "stdout",
     "output_type": "stream",
     "text": [
      "1333\n",
      "Yes\n"
     ]
    }
   ],
   "source": [
    "n = list(input())\n",
    "\n",
    "if (len(set(n[:3]))==1) or (len(set(n[1:]))==1):\n",
    "    print(\"Yes\")\n",
    "else:\n",
    "    print(\"No\")\n",
    "   "
   ]
  },
  {
   "cell_type": "code",
   "execution_count": 8,
   "metadata": {},
   "outputs": [
    {
     "data": {
      "text/plain": [
       "['1', '2', '3', '4']"
      ]
     },
     "execution_count": 8,
     "metadata": {},
     "output_type": "execute_result"
    }
   ],
   "source": [
    "n"
   ]
  },
  {
   "cell_type": "markdown",
   "metadata": {},
   "source": [
    "# B"
   ]
  },
  {
   "cell_type": "code",
   "execution_count": 23,
   "metadata": {},
   "outputs": [
    {
     "name": "stdout",
     "output_type": "stream",
     "text": [
      "5\n",
      "11\n"
     ]
    }
   ],
   "source": [
    "n = int(input())\n",
    "\n",
    "l = [2,1]\n",
    "\n",
    "for i in range(n-1):\n",
    "    l.append(l[i]+l[i+1])\n",
    "\n",
    "print(l[-1])"
   ]
  },
  {
   "cell_type": "code",
   "execution_count": 12,
   "metadata": {
    "collapsed": true
   },
   "outputs": [],
   "source": [
    "a = [3,4]"
   ]
  },
  {
   "cell_type": "code",
   "execution_count": 13,
   "metadata": {
    "collapsed": true
   },
   "outputs": [],
   "source": [
    "a.append(5)"
   ]
  },
  {
   "cell_type": "code",
   "execution_count": 14,
   "metadata": {},
   "outputs": [
    {
     "data": {
      "text/plain": [
       "[3, 4, 5]"
      ]
     },
     "execution_count": 14,
     "metadata": {},
     "output_type": "execute_result"
    }
   ],
   "source": [
    "a"
   ]
  },
  {
   "cell_type": "markdown",
   "metadata": {},
   "source": [
    "# C"
   ]
  },
  {
   "cell_type": "code",
   "execution_count": 17,
   "metadata": {},
   "outputs": [
    {
     "name": "stdout",
     "output_type": "stream",
     "text": [
      "3343\n",
      "3+3+4-3=7\n"
     ]
    }
   ],
   "source": [
    "a,b,c,d = list(input())\n",
    "a = int(a)\n",
    "b = int(b)\n",
    "c = int(c)\n",
    "d = int(d)\n",
    "\n",
    "def plus(x,y):\n",
    "    return x+y\n",
    "\n",
    "def minus(x,y):\n",
    "    return x-y\n",
    "\n",
    "pm_list = [plus,minus]\n",
    "print_list = [\"+\",\"-\"]\n",
    "\n",
    "for i,method in enumerate(pm_list):\n",
    "#     print(\"1;\",i,method)\n",
    "    goukei1 = method(a,b)\n",
    "    for j,method2 in enumerate(pm_list):\n",
    "#         print(\"2;\",j,method2)\n",
    "        goukei2 = method2(goukei1,c)\n",
    "        for k,method3 in enumerate(pm_list):\n",
    "#             print(\"3;\",k,method3)\n",
    "            goukei3 = method3(goukei2,d)\n",
    "            \n",
    "            if goukei3 == 7:\n",
    "                kw = str(a)+print_list[i]+str(b)+print_list[j]+str(c)+print_list[k]+str(d)+\"=7\"\n",
    "                print(kw)\n",
    "                break\n",
    "        if goukei3 ==7:\n",
    "            break\n",
    "            \n",
    "    if goukei3 ==7:\n",
    "        break\n"
   ]
  },
  {
   "cell_type": "code",
   "execution_count": 2,
   "metadata": {},
   "outputs": [
    {
     "data": {
      "text/plain": [
       "1"
      ]
     },
     "execution_count": 2,
     "metadata": {},
     "output_type": "execute_result"
    }
   ],
   "source": [
    "a"
   ]
  },
  {
   "cell_type": "code",
   "execution_count": 3,
   "metadata": {},
   "outputs": [
    {
     "data": {
      "text/plain": [
       "3"
      ]
     },
     "execution_count": 3,
     "metadata": {},
     "output_type": "execute_result"
    }
   ],
   "source": [
    "method = plus\n",
    "method(1,2)"
   ]
  },
  {
   "cell_type": "markdown",
   "metadata": {},
   "source": [
    "# C 参考回答\n",
    "* https://beta.atcoder.jp/contests/abc079/submissions/1783295"
   ]
  },
  {
   "cell_type": "code",
   "execution_count": null,
   "metadata": {
    "collapsed": true
   },
   "outputs": [],
   "source": [
    "#!/usr/bin/env python\n",
    "a, b, c, d = map(int, input())\n",
    "\n",
    "for i in [1, -1]:\n",
    "    for j in [1, -1]:\n",
    "        for k in [1, -1]:\n",
    "            if a + i * b + j * c + k * d == 7:\n",
    "                def op(x):\n",
    "                    return '+' if x == 1 else '-'\n",
    "                print(str(a) + op(i) + str(b) + op(j) + str(c) + op(k) + str(d) + '=7')\n",
    "                exit()\n"
   ]
  },
  {
   "cell_type": "markdown",
   "metadata": {},
   "source": [
    "* 足し算、引き算を、1、-1をかけたものを足す、という形にしているところが美しい"
   ]
  },
  {
   "cell_type": "markdown",
   "metadata": {},
   "source": [
    "# D"
   ]
  },
  {
   "cell_type": "markdown",
   "metadata": {},
   "source": [
    "参考：https://beta.atcoder.jp/contests/abc079/submissions/1787122\n"
   ]
  },
  {
   "cell_type": "code",
   "execution_count": null,
   "metadata": {
    "collapsed": true
   },
   "outputs": [],
   "source": [
    "H, W = map(int, input().split())\n",
    "c = [\n",
    "    list(map(int, input().split()))\n",
    "    for _ in range(10)\n",
    "]\n",
    " \n",
    "for k in range(10):\n",
    "    for i in range(10):\n",
    "        for j in range(10):\n",
    "            c1 = c[i][j]\n",
    "            c2 = c[i][k] + c[k][j]\n",
    "            if c1 > c2:\n",
    "                c[i][j] = c2\n",
    "\n",
    "ans = 0\n",
    "for _ in range(H):\n",
    "    for a in map(int, input().split()):\n",
    "        if a != -1:\n",
    "            ans += c[a][1]\n",
    "\n",
    "print(ans)"
   ]
  },
  {
   "cell_type": "markdown",
   "metadata": {},
   "source": [
    "* http://dai1741.github.io/maximum-algo-2012/docs/shortest-path/\n",
    "* ワーシャルフロイド法を自力で思いつけなかった。\n",
    "    * ワーシャルフロイド法は、下記のアルゴリズム。\n",
    "        1. 3つの頂点a,b,cを選ぶ\n",
    "        2. a->b->cという道が、a->cという道よりも短ければa->cの距離を更新する"
   ]
  },
  {
   "cell_type": "code",
   "execution_count": null,
   "metadata": {
    "collapsed": true
   },
   "outputs": [],
   "source": []
  }
 ],
 "metadata": {
  "kernelspec": {
   "display_name": "Python 3",
   "language": "python",
   "name": "python3"
  },
  "language_info": {
   "codemirror_mode": {
    "name": "ipython",
    "version": 3
   },
   "file_extension": ".py",
   "mimetype": "text/x-python",
   "name": "python",
   "nbconvert_exporter": "python",
   "pygments_lexer": "ipython3",
   "version": "3.6.3"
  }
 },
 "nbformat": 4,
 "nbformat_minor": 2
}
