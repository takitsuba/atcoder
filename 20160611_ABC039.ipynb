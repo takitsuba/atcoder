{
 "cells": [
  {
   "cell_type": "markdown",
   "metadata": {},
   "source": [
    "# D"
   ]
  },
  {
   "cell_type": "code",
   "execution_count": 1,
   "metadata": {},
   "outputs": [
    {
     "data": {
      "application/vnd.jupyter.widget-view+json": {
       "model_id": "f20429c14cb04efcbfab898f985e5f56",
       "version_major": 2,
       "version_minor": 0
      },
      "text/plain": [
       "Textarea(value='')"
      ]
     },
     "metadata": {},
     "output_type": "display_data"
    }
   ],
   "source": [
    "from ipywidgets import Textarea\n",
    "import io\n",
    "\n",
    "if 'open' in globals():\n",
    "    del open\n",
    "if 'input' in globals():\n",
    "    del input\n",
    "\n",
    "original_open = open\n",
    "\n",
    "class custom_open():\n",
    "    def __init__(self):\n",
    "        self.text = ''\n",
    "\n",
    "    def __call__(self, file, *args, **kwargs):\n",
    "        if file == 0:\n",
    "            return io.StringIO(self.text)\n",
    "        return original_open(file, *args, **kwargs)\n",
    "\n",
    "    def updater(self, change):\n",
    "        self.text = change['new']\n",
    "\n",
    "class custom_input():\n",
    "    def __init__(self):\n",
    "        self.__sio = io.StringIO('')\n",
    "        self.shell = get_ipython()\n",
    "        if self.shell.events.callbacks['pre_run_cell'] != []:\n",
    "            self.shell.events.callbacks['pre_run_cell'] = []\n",
    "        self.shell.events.register('pre_run_cell', self.pre_run_cell)\n",
    "\n",
    "    def __call__(self):\n",
    "        return self.__sio.readline().strip()\n",
    "\n",
    "    def pre_run_cell(self, info):\n",
    "        text = self.shell.user_ns.get('text_area', None).value\n",
    "        self.__sio = io.StringIO(text)\n",
    "\n",
    "open = custom_open()\n",
    "input = custom_input()\n",
    "\n",
    "text_area = Textarea()\n",
    "text_area.observe(open.updater, names='value')\n",
    "display(text_area)"
   ]
  },
  {
   "cell_type": "code",
   "execution_count": 7,
   "metadata": {},
   "outputs": [
    {
     "name": "stdout",
     "output_type": "stream",
     "text": [
      "possible\n",
      "##..\n",
      "....\n",
      "...#\n",
      "...#\n"
     ]
    }
   ],
   "source": [
    "H,W = map(int, input().split())\n",
    "s_list = []\n",
    "for _ in range(H):\n",
    "    s_list.append(list(input()))\n",
    "\n",
    "original = [[\".\" for _ in range(W)] for _ in range(H)]\n",
    "\n",
    "def able_to_place(h,w):\n",
    "    if s_list[h][w] == \".\":\n",
    "        return False\n",
    "    check_list = [(i,j) for i in range(max(0,h-1),min(H,h+2))\n",
    "                          for j in range(max(0,w-1),min(W,w+2))]\n",
    "    for check in check_list:\n",
    "        if s_list[check[0]][check[1]] == \".\":\n",
    "            return False\n",
    "    return True\n",
    "\n",
    "for h in range(H):\n",
    "    for w in range(W):\n",
    "        if able_to_place(h,w):\n",
    "            original[h][w] = \"#\"\n",
    "\n",
    "processed = [[\".\" for _ in range(W)] for _ in range(H)]\n",
    "for h in range(H):\n",
    "    for w in range(W):\n",
    "        if original[h][w] == \"#\":\n",
    "            check_list = [(i,j) for i in range(max(0,h-1),min(H,h+2))\n",
    "                              for j in range(max(0,w-1),min(W,w+2))]\n",
    "            processed[h][w] = \"#\"\n",
    "            for check in check_list:\n",
    "                processed[check[0]][check[1]] = \"#\"\n",
    "\n",
    "if s_list == processed:\n",
    "    print(\"possible\")\n",
    "    for o in original:\n",
    "        print(\"\".join(o))\n",
    "else:\n",
    "    print(\"impossible\")"
   ]
  },
  {
   "cell_type": "code",
   "execution_count": null,
   "metadata": {},
   "outputs": [],
   "source": [
    "h = 2\n",
    "w = 3\n",
    "[(i,j) for i in range(max(0,h-1),min(W,h+2)) for j in range(max(0,w-1),min(W,w+2))]"
   ]
  },
  {
   "cell_type": "code",
   "execution_count": null,
   "metadata": {},
   "outputs": [],
   "source": []
  }
 ],
 "metadata": {
  "kernelspec": {
   "display_name": "Python 3",
   "language": "python",
   "name": "python3"
  },
  "language_info": {
   "codemirror_mode": {
    "name": "ipython",
    "version": 3
   },
   "file_extension": ".py",
   "mimetype": "text/x-python",
   "name": "python",
   "nbconvert_exporter": "python",
   "pygments_lexer": "ipython3",
   "version": "3.6.6"
  }
 },
 "nbformat": 4,
 "nbformat_minor": 2
}
