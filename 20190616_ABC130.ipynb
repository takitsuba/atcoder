{
 "cells": [
  {
   "cell_type": "markdown",
   "metadata": {},
   "source": [
    "# A"
   ]
  },
  {
   "cell_type": "code",
   "execution_count": null,
   "metadata": {},
   "outputs": [],
   "source": [
    "X,A = map(int, input().split())\n",
    "\n",
    "if X<A:\n",
    "    print(0)\n",
    "else:\n",
    "    print(10)"
   ]
  },
  {
   "cell_type": "markdown",
   "metadata": {},
   "source": [
    "# B "
   ]
  },
  {
   "cell_type": "code",
   "execution_count": null,
   "metadata": {},
   "outputs": [],
   "source": [
    "N, X = map(int, input().split())\n",
    "l_list = list(map(int,input().split()))\n",
    "\n",
    "d = 0\n",
    "cnt = 1\n",
    "for i,l in enumerate(l_list):\n",
    "    d += l\n",
    "\n",
    "    if d > X:\n",
    "        break\n",
    "    cnt += 1\n",
    "#     if i == N-1:\n",
    "#         if d <= X:\n",
    "#             cnt += 1\n",
    "    \n",
    "print(cnt)"
   ]
  },
  {
   "cell_type": "code",
   "execution_count": null,
   "metadata": {},
   "outputs": [],
   "source": [
    "#やり直し\n",
    "N, X = map(int, input().split())\n",
    "l_list = list(map(int,input().split()))\n",
    "\n",
    "d = 0\n",
    "for i,l in enumerate(l_list):\n",
    "    d += l\n",
    "\n",
    "    if d > X:\n",
    "        break\n",
    "#     if i == N-1:\n",
    "#         if d <= X:\n",
    "#             cnt += 1\n",
    "    \n",
    "print(i+1)"
   ]
  },
  {
   "cell_type": "markdown",
   "metadata": {},
   "source": [
    "# C"
   ]
  },
  {
   "cell_type": "code",
   "execution_count": null,
   "metadata": {},
   "outputs": [],
   "source": [
    "W, H, x, y = map(int,input().split())\n",
    "\n",
    "# yoko_menseki_min = min(W*(H-y),W*y)\n",
    "# tate_menseki_min = min((W-x)*H,x*H)\n",
    "\n",
    "# if yoko_menseki_min == tate_menseki_min:\n",
    "#     if x == 0 or y == 0 or x ==W or y == H:\n",
    "#         result = 0\n",
    "#     else:\n",
    "#         result = 1\n",
    "# else:\n",
    "#     result = 0\n",
    "\n",
    "# print(max(yoko_menseki_min,tate_menseki_min),result)"
   ]
  },
  {
   "cell_type": "code",
   "execution_count": null,
   "metadata": {},
   "outputs": [],
   "source": [
    "W, H, x, y = map(int,input().split())\n",
    "\n",
    "if x == W/2 and y == H/2:\n",
    "    result = 1\n",
    "else:\n",
    "    result = 0\n",
    "\n",
    "print(W*H/2, result)"
   ]
  },
  {
   "cell_type": "markdown",
   "metadata": {},
   "source": [
    "# D"
   ]
  },
  {
   "cell_type": "code",
   "execution_count": 7,
   "metadata": {},
   "outputs": [
    {
     "name": "stdout",
     "output_type": "stream",
     "text": [
      "2 10\n",
      "1 1\n",
      "0\n"
     ]
    }
   ],
   "source": [
    "N, K = map(int, input().split())\n",
    "\n",
    "a_list = list(map(int,input().split()))\n",
    "\n",
    "cnt = 0\n",
    "endidx = 0\n",
    "tmp_sum = 0\n",
    "\n",
    "def hoge():\n",
    "    cnt = 0\n",
    "    endidx = 0\n",
    "    tmp_sum = 0\n",
    "    for i in range(N):\n",
    "#         print(\"i:\",i)\n",
    "        for j in range(endidx,N+1):\n",
    "            if tmp_sum >= K:\n",
    "                cnt += N - j + 1\n",
    "                if i-1==j:\n",
    "                    endidx = j\n",
    "                else:\n",
    "                    endidx = j\n",
    "                tmp_sum -= a_list[i]\n",
    "#                 print(cnt,endidx,tmp_sum)\n",
    "                break\n",
    "#             print(\"j:\",j)\n",
    "            if j>=N:\n",
    "                return cnt\n",
    "                break\n",
    "            tmp_sum += a_list[j]\n",
    "#             print(\"tmp_sum\",tmp_sum)\n",
    "    return cnt\n",
    "    \n",
    "#         if tmp_sum >= K:\n",
    "#             cnt += N - j\n",
    "#             if i==j:\n",
    "#                 endidx = i+1\n",
    "#             else:\n",
    "#                 endidx = j\n",
    "#             tmp_sum -= a_list[i]\n",
    "#             print(cnt,endidx,tmp_sum)\n",
    "#             break\n",
    "result = hoge()\n",
    "print(result)"
   ]
  },
  {
   "cell_type": "code",
   "execution_count": null,
   "metadata": {},
   "outputs": [],
   "source": [
    "cnt"
   ]
  },
  {
   "cell_type": "code",
   "execution_count": 11,
   "metadata": {},
   "outputs": [
    {
     "name": "stdout",
     "output_type": "stream",
     "text": [
      "10 53462\n",
      "103 35322 232 342 21099 90000 18843 9010 35221 19352\n"
     ]
    },
    {
     "ename": "KeyboardInterrupt",
     "evalue": "",
     "output_type": "error",
     "traceback": [
      "\u001b[0;31m---------------------------------------------------------------------------\u001b[0m",
      "\u001b[0;31mKeyboardInterrupt\u001b[0m                         Traceback (most recent call last)",
      "\u001b[0;32m<ipython-input-11-ae2d4e27a46e>\u001b[0m in \u001b[0;36m<module>\u001b[0;34m()\u001b[0m\n\u001b[1;32m     10\u001b[0m \u001b[0mright\u001b[0m \u001b[0;34m=\u001b[0m \u001b[0;36m0\u001b[0m\u001b[0;34m\u001b[0m\u001b[0m\n\u001b[1;32m     11\u001b[0m \u001b[0mtmp_sum\u001b[0m \u001b[0;34m=\u001b[0m \u001b[0;36m0\u001b[0m\u001b[0;34m\u001b[0m\u001b[0m\n\u001b[0;32m---> 12\u001b[0;31m \u001b[0;32mwhile\u001b[0m \u001b[0mleft\u001b[0m \u001b[0;34m<\u001b[0m \u001b[0mN\u001b[0m\u001b[0;34m:\u001b[0m\u001b[0;34m\u001b[0m\u001b[0m\n\u001b[0m\u001b[1;32m     13\u001b[0m \u001b[0;31m#     print(\"left:\",left)\u001b[0m\u001b[0;34m\u001b[0m\u001b[0;34m\u001b[0m\u001b[0m\n\u001b[1;32m     14\u001b[0m     \u001b[0;32mwhile\u001b[0m \u001b[0mright\u001b[0m \u001b[0;34m<\u001b[0m \u001b[0mN\u001b[0m\u001b[0;34m:\u001b[0m\u001b[0;34m\u001b[0m\u001b[0m\n",
      "\u001b[0;31mKeyboardInterrupt\u001b[0m: "
     ]
    }
   ],
   "source": [
    "# やり直し\n",
    "\n",
    "N, K = map(int, input().split())\n",
    "\n",
    "a_list = list(map(int,input().split()))\n",
    "\n",
    "# def hoge():\n",
    "cnt = 0\n",
    "left = 0\n",
    "right = 0\n",
    "tmp_sum = 0\n",
    "while left < N:\n",
    "#     print(\"left:\",left)\n",
    "    while right < N:\n",
    "#         print(\"right:\",right)\n",
    "        tmp_sum += a_list[right]\n",
    "        if tmp_sum >= K:\n",
    "            cnt += N - right\n",
    "            break\n",
    "        right += 1\n",
    "\n",
    "    # leftとrightが等しい時、leftが1増えるとleftがrightの前に行ってしまう\n",
    "#         if left == right:\n",
    "#             right += 1\n",
    "\n",
    "    while left < right:\n",
    "        tmp_sum -= a_list[left]\n",
    "        if tmp_sum >= K:\n",
    "            cnt += N - right\n",
    "            left += 1\n",
    "        else:\n",
    "\n",
    "            break\n",
    "    right += 1\n",
    "    if right == N:\n",
    "        break\n",
    "            \n",
    "#                 if left-1==j:\n",
    "#                     endidx = j\n",
    "#                 else:\n",
    "#                     endidx = j\n",
    "#                 tmp_sum -= a_list[i]\n",
    "# #                 print(cnt,endidx,tmp_sum)\n",
    "#                 break\n",
    "# #             print(\"j:\",j)\n",
    "#             if j>=N:\n",
    "#                 return cnt\n",
    "#                 break\n",
    "#             tmp_sum += a_list[j]\n",
    "# #             print(\"tmp_sum\",tmp_sum)\n",
    "#     return cnt\n",
    "print(cnt)\n",
    "    \n",
    "#         if tmp_sum >= K:\n",
    "#             cnt += N - j\n",
    "#             if i==j:\n",
    "#                 endidx = i+1\n",
    "#             else:\n",
    "#                 endidx = j\n",
    "#             tmp_sum -= a_list[i]\n",
    "#             print(cnt,endidx,tmp_sum)\n",
    "#             break\n",
    "# result = hoge()\n",
    "# print(result)"
   ]
  },
  {
   "cell_type": "code",
   "execution_count": 12,
   "metadata": {},
   "outputs": [
    {
     "name": "stdout",
     "output_type": "stream",
     "text": [
      "10 53462\n",
      "103 35322 232 342 21099 90000 18843 9010 35221 19352\n",
      "36\n"
     ]
    }
   ],
   "source": [
    "# やり直し\n",
    "\n",
    "N, K = map(int, input().split())\n",
    "\n",
    "a_list = list(map(int,input().split()))\n",
    "\n",
    "cnt = 0\n",
    "left = 0\n",
    "tmp_sum = 0\n",
    "for right in range(N):\n",
    "#     print(\"left:\",left)\n",
    "    tmp_sum += a_list[right]\n",
    "    while tmp_sum >= K:\n",
    "        cnt += N - right\n",
    "        tmp_sum -= a_list[left]\n",
    "        left += 1\n",
    "\n",
    "print(cnt)\n"
   ]
  },
  {
   "cell_type": "markdown",
   "metadata": {},
   "source": [
    "# E"
   ]
  },
  {
   "cell_type": "code",
   "execution_count": 8,
   "metadata": {},
   "outputs": [
    {
     "name": "stdout",
     "output_type": "stream",
     "text": [
      "2 2\n",
      "1 3\n",
      "3 1\n"
     ]
    }
   ],
   "source": [
    "N, M = map(int,input().split())\n",
    "s_list = list(map(int, input().split()))\n",
    "t_list = list(map(int, input().split()))"
   ]
  },
  {
   "cell_type": "code",
   "execution_count": null,
   "metadata": {},
   "outputs": [],
   "source": [
    "result = 0\n",
    "\n",
    "def func(s_idx,t_idx):\n",
    "    s = s_list[s_idx]\n",
    "    for t in t_list[t_idx:]:\n",
    "        if s == t:\n",
    "            return max(func(s_idx+1, t_idx+1)"
   ]
  }
 ],
 "metadata": {
  "kernelspec": {
   "display_name": "Python 3",
   "language": "python",
   "name": "python3"
  },
  "language_info": {
   "codemirror_mode": {
    "name": "ipython",
    "version": 3
   },
   "file_extension": ".py",
   "mimetype": "text/x-python",
   "name": "python",
   "nbconvert_exporter": "python",
   "pygments_lexer": "ipython3",
   "version": "3.6.6"
  }
 },
 "nbformat": 4,
 "nbformat_minor": 2
}
