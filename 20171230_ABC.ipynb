{
 "cells": [
  {
   "cell_type": "markdown",
   "metadata": {},
   "source": [
    "# A"
   ]
  },
  {
   "cell_type": "code",
   "execution_count": 1,
   "metadata": {},
   "outputs": [
    {
     "name": "stdout",
     "output_type": "stream",
     "text": [
      "21\n",
      "27\n"
     ]
    }
   ],
   "source": [
    "m = int(input())\n",
    "print((24-m)+24)\n"
   ]
  },
  {
   "cell_type": "markdown",
   "metadata": {},
   "source": [
    "# B"
   ]
  },
  {
   "cell_type": "code",
   "execution_count": 5,
   "metadata": {},
   "outputs": [
    {
     "name": "stdout",
     "output_type": "stream",
     "text": [
      "3 4\n",
      "269-6650\n"
     ]
    }
   ],
   "source": [
    "a, b = list(map(int,input().split()))\n",
    "s = input()"
   ]
  },
  {
   "cell_type": "code",
   "execution_count": 16,
   "metadata": {},
   "outputs": [
    {
     "name": "stdout",
     "output_type": "stream",
     "text": [
      "1 1\n",
      "---\n",
      "No\n"
     ]
    }
   ],
   "source": [
    "a, b = list(map(int,input().split()))\n",
    "s = input()\n",
    "from collections import Counter\n",
    "c = Counter(s)\n",
    "if (c[\"-\"] == 1) & (s.find(\"-\") == a):\n",
    "    print(\"Yes\")\n",
    "else:\n",
    "    print(\"No\")\n",
    "            "
   ]
  },
  {
   "cell_type": "code",
   "execution_count": 10,
   "metadata": {},
   "outputs": [
    {
     "data": {
      "text/plain": [
       "1"
      ]
     },
     "execution_count": 10,
     "metadata": {},
     "output_type": "execute_result"
    }
   ],
   "source": [
    "c[\"-\"]"
   ]
  },
  {
   "cell_type": "code",
   "execution_count": 11,
   "metadata": {},
   "outputs": [
    {
     "data": {
      "text/plain": [
       "3"
      ]
     },
     "execution_count": 11,
     "metadata": {},
     "output_type": "execute_result"
    }
   ],
   "source": [
    "s.find(\"-\")"
   ]
  },
  {
   "cell_type": "markdown",
   "metadata": {},
   "source": [
    "# C"
   ]
  },
  {
   "cell_type": "code",
   "execution_count": 13,
   "metadata": {},
   "outputs": [
    {
     "name": "stdout",
     "output_type": "stream",
     "text": [
      "4\n",
      "12 24 6\n",
      "52 16 4\n",
      "99 2 2\n"
     ]
    }
   ],
   "source": [
    "n = int(input())\n",
    "c_list = []\n",
    "s_list = []\n",
    "f_list = []\n",
    "for _ in range(n-1):\n",
    "    c, s, f = list(map(int,input().split()))\n",
    "    c_list.append(c)\n",
    "    s_list.append(s)\n",
    "    f_list.append(f)\n",
    "\n",
    "for i in range(n):\n",
    "    t = 0\n",
    "    for j in range(i,n-1):\n",
    "        c = c_list[j]\n",
    "        s = s_list[j]\n",
    "        f = f_list[j]\n",
    "#         print(c,s,f)\n",
    "        if t < s:\n",
    "            t = s\n",
    "        elif t%f == 0:\n",
    "            pass\n",
    "        else:\n",
    "            t = f * (t//f+1)\n",
    "        t += c\n",
    "        \n",
    "    print(t)"
   ]
  },
  {
   "cell_type": "markdown",
   "metadata": {},
   "source": [
    "# D"
   ]
  },
  {
   "cell_type": "code",
   "execution_count": 40,
   "metadata": {},
   "outputs": [
    {
     "name": "stdout",
     "output_type": "stream",
     "text": [
      "6\n",
      "1 53\n",
      "13 91\n",
      "37 55\n",
      "19 51\n",
      "73 91\n",
      "13 49\n",
      "4\n",
      "4\n",
      "1\n",
      "1\n",
      "1\n",
      "2\n"
     ]
    }
   ],
   "source": [
    "import math\n",
    "\n",
    "# def primes(x):\n",
    "#     if x < 2: return []\n",
    "\n",
    "#     primes = [i for i in range(x)]\n",
    "#     primes[1] = 0 # 1は素数ではない\n",
    "#     x_sqrt = math.sqrt(x) # 記憶させていちいち計算しない\n",
    "\n",
    "#     # エラトステネスのふるい\n",
    "#     for prime in primes:\n",
    "#         if prime == 0:\n",
    "#             continue # 先に処理\n",
    "#         if prime > x_sqrt: \n",
    "#             break\n",
    "#         for non_prime in range(2 * prime, x, prime):\n",
    "#             primes[non_prime] = 0\n",
    "\n",
    "#     return [prime for prime in primes if prime != 0]\n",
    "# def primes_sieve2(limit):\n",
    "#     a = [True] * limit                          # Initialize the primality list\n",
    "#     a[0] = a[1] = False\n",
    "\n",
    "#     for (i, isprime) in enumerate(a):\n",
    "#         if isprime:\n",
    "#             yield i\n",
    "#             for n in range(i*i, limit, i):     # Mark factors non-prime\n",
    "#                 a[n] = False\n",
    "                \n",
    "    \n",
    "def eratos(n):\n",
    "    if n == 1:\n",
    "        return set()\n",
    "    primes = [1 for i in range(n+1)]\n",
    "    primes[0] = 0\n",
    "    primes[1] = 0\n",
    "    for i in range(2,math.floor(math.sqrt(n))+1):\n",
    "        if primes[i] == 1:\n",
    "            j = i + i\n",
    "            while j <= n:\n",
    "                primes[j] = 0\n",
    "                j = j + i\n",
    "    return primes\n",
    "\n",
    "q = int(input())\n",
    "l_list = []\n",
    "r_list = []\n",
    "for _ in range(q):\n",
    "    l, r = list(map(int,input().split()))\n",
    "    l_list.append(l)\n",
    "    r_list.append(r)\n",
    "    \n",
    "maxr = max(r_list)\n",
    "p_list = list(primes_sieve2(maxr+1))\n",
    "\n",
    "sim_list = []\n",
    "for p in p_list:\n",
    "    if (p+1)/2 in p_list:\n",
    "        sim_list.append(p)\n",
    "        \n",
    "cumulation = [0 for _ in range(maxr+1)]\n",
    "for s in sim_list:\n",
    "    cumulation[s] = 1\n",
    "\n",
    "for i in range(1,len(cumulation)):\n",
    "    cumulation[i] += cumulation[i-1]\n",
    "\n",
    "for i in range(q):\n",
    "    print(cumulation[r_list[i]]-cumulation[l_list[i]-1])"
   ]
  },
  {
   "cell_type": "code",
   "execution_count": null,
   "metadata": {
    "collapsed": true
   },
   "outputs": [],
   "source": [
    "### p_list"
   ]
  },
  {
   "cell_type": "code",
   "execution_count": 19,
   "metadata": {
    "collapsed": true
   },
   "outputs": [],
   "source": [
    "sim_list = []\n",
    "for p in p_list:\n",
    "    if (p+1)/2 in p_list:\n",
    "        sim_list.append(p)\n",
    "        \n",
    "cumulation = [0 for _ in range(maxr+1)]\n",
    "for s in sim_list:\n",
    "    cumulation[s] = 1\n",
    "\n",
    "for i in range(1,len(cumulation)):\n",
    "    cumulation[i] += cumulation[i-1]\n",
    "\n",
    "for i in range(q):\n",
    "    print(cumulation[r_list[i]]-cumulation[l_list[i]-1])"
   ]
  },
  {
   "cell_type": "code",
   "execution_count": 20,
   "metadata": {},
   "outputs": [
    {
     "data": {
      "text/plain": [
       "[3,\n",
       " 5,\n",
       " 13,\n",
       " 37,\n",
       " 61,\n",
       " 73,\n",
       " 157,\n",
       " 193,\n",
       " 277,\n",
       " 313,\n",
       " 397,\n",
       " 421,\n",
       " 457,\n",
       " 541,\n",
       " 613,\n",
       " 661,\n",
       " 673,\n",
       " 733,\n",
       " 757,\n",
       " 877,\n",
       " 997,\n",
       " 1093,\n",
       " 1153,\n",
       " 1201,\n",
       " 1213,\n",
       " 1237,\n",
       " 1321,\n",
       " 1381,\n",
       " 1453,\n",
       " 1621,\n",
       " 1657,\n",
       " 1753,\n",
       " 1873,\n",
       " 1933,\n",
       " 1993,\n",
       " 2017]"
      ]
     },
     "execution_count": 20,
     "metadata": {},
     "output_type": "execute_result"
    }
   ],
   "source": [
    "sim_list"
   ]
  },
  {
   "cell_type": "code",
   "execution_count": 21,
   "metadata": {
    "collapsed": true
   },
   "outputs": [],
   "source": [
    "cumulation = [0 for _ in range(maxr+1)]\n",
    "for s in sim_list:\n",
    "    cumulation[s] = 1\n",
    "\n",
    "for i in range(1,len(cumulation)):\n",
    "    cumulation[i] += cumulation[i-1]\n",
    "\n",
    "for i in range(q):\n",
    "    print(cumulation[r_list[i]]-cumulation[l_list[i]-1])"
   ]
  },
  {
   "cell_type": "code",
   "execution_count": 23,
   "metadata": {},
   "outputs": [
    {
     "data": {
      "text/plain": [
       "4"
      ]
     },
     "execution_count": 23,
     "metadata": {},
     "output_type": "execute_result"
    }
   ],
   "source": [
    "cumulation[49]"
   ]
  },
  {
   "cell_type": "code",
   "execution_count": 25,
   "metadata": {},
   "outputs": [
    {
     "data": {
      "text/plain": [
       "2"
      ]
     },
     "execution_count": 25,
     "metadata": {},
     "output_type": "execute_result"
    }
   ],
   "source": [
    "cumulation[12]"
   ]
  },
  {
   "cell_type": "code",
   "execution_count": 27,
   "metadata": {},
   "outputs": [
    {
     "name": "stdout",
     "output_type": "stream",
     "text": [
      "36\n"
     ]
    }
   ],
   "source": []
  },
  {
   "cell_type": "code",
   "execution_count": 28,
   "metadata": {},
   "outputs": [
    {
     "data": {
      "text/plain": [
       "[2017]"
      ]
     },
     "execution_count": 28,
     "metadata": {},
     "output_type": "execute_result"
    }
   ],
   "source": [
    "r_list"
   ]
  },
  {
   "cell_type": "code",
   "execution_count": 29,
   "metadata": {},
   "outputs": [
    {
     "data": {
      "text/plain": [
       "[3]"
      ]
     },
     "execution_count": 29,
     "metadata": {},
     "output_type": "execute_result"
    }
   ],
   "source": [
    "l_list"
   ]
  },
  {
   "cell_type": "code",
   "execution_count": 37,
   "metadata": {
    "collapsed": true
   },
   "outputs": [],
   "source": [
    "def primes_sieve2(limit):\n",
    "    a = [True] * limit                          # Initialize the primality list\n",
    "    a[0] = a[1] = False\n",
    "\n",
    "    for (i, isprime) in enumerate(a):\n",
    "        if isprime:\n",
    "            yield i\n",
    "            for n in range(i*i, limit, i):     # Mark factors non-prime\n",
    "                a[n] = False"
   ]
  },
  {
   "cell_type": "code",
   "execution_count": 38,
   "metadata": {},
   "outputs": [
    {
     "data": {
      "text/plain": [
       "[2, 3, 5, 7, 11, 13, 17, 19, 23, 29]"
      ]
     },
     "execution_count": 38,
     "metadata": {},
     "output_type": "execute_result"
    }
   ],
   "source": [
    "list(primes_sieve2(30))"
   ]
  },
  {
   "cell_type": "markdown",
   "metadata": {},
   "source": [
    "* 参考\n",
    "* https://abc084.contest.atcoder.jp/submissions/1927814"
   ]
  },
  {
   "cell_type": "code",
   "execution_count": 41,
   "metadata": {},
   "outputs": [
    {
     "name": "stdout",
     "output_type": "stream",
     "text": [
      "1\n",
      "3 7\n",
      "2\n"
     ]
    }
   ],
   "source": [
    "# -*- coding: utf-8 -*-\n",
    "import math\n",
    "Q = int(input())\n",
    "\n",
    "ls = []\n",
    "rs = []\n",
    "for n in range(Q):\n",
    "    l, r = map(int, input().split())\n",
    "    ls.append(l)\n",
    "    rs.append(r)\n",
    "    num = 0\n",
    "\n",
    "max_r = max(rs)\n",
    "\n",
    "def eratos(n):\n",
    "    if n == 1:\n",
    "        return set()\n",
    "    primes = [1 for i in range(n+1)]\n",
    "    primes[0] = 0\n",
    "    primes[1] = 0\n",
    "    for i in range(2,math.floor(math.sqrt(n))+1):\n",
    "        if primes[i] == 1:\n",
    "            j = i + i\n",
    "            while j <= n:\n",
    "                primes[j] = 0\n",
    "                j = j + i\n",
    "    return primes\n",
    "\n",
    "\n",
    "def count_similar(era, n):\n",
    "    count_similar = [0 for i in range(n+1)]\n",
    "    for i in range(1,n+1):\n",
    "        count_similar[i] = count_similar[i-1]\n",
    "        if era[i] == 1 and era[int((i+1)/2)] == 1:\n",
    "            count_similar[i] += 1\n",
    "    return count_similar\n",
    "\n",
    "\n",
    "\n",
    "\n",
    "era = eratos(max_r)\n",
    "cnt = count_similar(era, max_r)\n",
    "\n",
    "for l, r in zip(ls, rs):\n",
    "    print(cnt[r] - cnt[l-1])\n",
    "\n"
   ]
  },
  {
   "cell_type": "code",
   "execution_count": null,
   "metadata": {
    "collapsed": true
   },
   "outputs": [],
   "source": []
  }
 ],
 "metadata": {
  "kernelspec": {
   "display_name": "Python 3",
   "language": "python",
   "name": "python3"
  },
  "language_info": {
   "codemirror_mode": {
    "name": "ipython",
    "version": 3
   },
   "file_extension": ".py",
   "mimetype": "text/x-python",
   "name": "python",
   "nbconvert_exporter": "python",
   "pygments_lexer": "ipython3",
   "version": "3.6.3"
  }
 },
 "nbformat": 4,
 "nbformat_minor": 2
}
