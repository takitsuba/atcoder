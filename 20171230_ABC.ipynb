{
 "cells": [
  {
   "cell_type": "markdown",
   "metadata": {},
   "source": [
    "# A"
   ]
  },
  {
   "cell_type": "code",
   "execution_count": 1,
   "metadata": {},
   "outputs": [
    {
     "name": "stdout",
     "output_type": "stream",
     "text": [
      "21\n",
      "27\n"
     ]
    }
   ],
   "source": [
    "m = int(input())\n",
    "print((24-m)+24)\n"
   ]
  },
  {
   "cell_type": "markdown",
   "metadata": {},
   "source": [
    "# B"
   ]
  },
  {
   "cell_type": "code",
   "execution_count": 5,
   "metadata": {},
   "outputs": [
    {
     "name": "stdout",
     "output_type": "stream",
     "text": [
      "3 4\n",
      "269-6650\n"
     ]
    }
   ],
   "source": [
    "a, b = list(map(int,input().split()))\n",
    "s = input()"
   ]
  },
  {
   "cell_type": "code",
   "execution_count": 16,
   "metadata": {},
   "outputs": [
    {
     "name": "stdout",
     "output_type": "stream",
     "text": [
      "1 1\n",
      "---\n",
      "No\n"
     ]
    }
   ],
   "source": [
    "a, b = list(map(int,input().split()))\n",
    "s = input()\n",
    "from collections import Counter\n",
    "c = Counter(s)\n",
    "if (c[\"-\"] == 1) & (s.find(\"-\") == a):\n",
    "    print(\"Yes\")\n",
    "else:\n",
    "    print(\"No\")\n",
    "            "
   ]
  },
  {
   "cell_type": "code",
   "execution_count": 10,
   "metadata": {},
   "outputs": [
    {
     "data": {
      "text/plain": [
       "1"
      ]
     },
     "execution_count": 10,
     "metadata": {},
     "output_type": "execute_result"
    }
   ],
   "source": [
    "c[\"-\"]"
   ]
  },
  {
   "cell_type": "code",
   "execution_count": 11,
   "metadata": {},
   "outputs": [
    {
     "data": {
      "text/plain": [
       "3"
      ]
     },
     "execution_count": 11,
     "metadata": {},
     "output_type": "execute_result"
    }
   ],
   "source": [
    "s.find(\"-\")"
   ]
  },
  {
   "cell_type": "markdown",
   "metadata": {},
   "source": [
    "# C"
   ]
  },
  {
   "cell_type": "code",
   "execution_count": 13,
   "metadata": {},
   "outputs": [
    {
     "name": "stdout",
     "output_type": "stream",
     "text": [
      "4\n",
      "12 24 6\n",
      "52 16 4\n",
      "99 2 2\n"
     ]
    }
   ],
   "source": [
    "n = int(input())\n",
    "c_list = []\n",
    "s_list = []\n",
    "f_list = []\n",
    "for _ in range(n-1):\n",
    "    c, s, f = list(map(int,input().split()))\n",
    "    c_list.append(c)\n",
    "    s_list.append(s)\n",
    "    f_list.append(f)\n",
    "\n",
    "for i in range(n):\n",
    "    t = 0\n",
    "    for j in range(i,n-1):\n",
    "        c = c_list[j]\n",
    "        s = s_list[j]\n",
    "        f = f_list[j]\n",
    "#         print(c,s,f)\n",
    "        if t < s:\n",
    "            t = s\n",
    "        elif t%f == 0:\n",
    "            pass\n",
    "        else:\n",
    "            t = f * (t//f+1)\n",
    "        t += c\n",
    "        \n",
    "    print(t)"
   ]
  },
  {
   "cell_type": "code",
   "execution_count": 14,
   "metadata": {},
   "outputs": [
    {
     "name": "stdout",
     "output_type": "stream",
     "text": [
      "187\n",
      "167\n",
      "101\n",
      "0\n"
     ]
    }
   ],
   "source": []
  },
  {
   "cell_type": "code",
   "execution_count": 4,
   "metadata": {},
   "outputs": [
    {
     "data": {
      "text/plain": [
       "3"
      ]
     },
     "execution_count": 4,
     "metadata": {},
     "output_type": "execute_result"
    }
   ],
   "source": [
    "n"
   ]
  },
  {
   "cell_type": "code",
   "execution_count": null,
   "metadata": {
    "collapsed": true
   },
   "outputs": [],
   "source": []
  }
 ],
 "metadata": {
  "kernelspec": {
   "display_name": "Python 3",
   "language": "python",
   "name": "python3"
  },
  "language_info": {
   "codemirror_mode": {
    "name": "ipython",
    "version": 3
   },
   "file_extension": ".py",
   "mimetype": "text/x-python",
   "name": "python",
   "nbconvert_exporter": "python",
   "pygments_lexer": "ipython3",
   "version": "3.6.3"
  }
 },
 "nbformat": 4,
 "nbformat_minor": 2
}
