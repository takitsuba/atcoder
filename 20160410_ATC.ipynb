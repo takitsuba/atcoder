{
 "cells": [
  {
   "cell_type": "markdown",
   "metadata": {},
   "source": [
    "# B"
   ]
  },
  {
   "cell_type": "code",
   "execution_count": 12,
   "metadata": {},
   "outputs": [],
   "source": [
    "N, M, P = [int(x) for x in input().split()]\n",
    "\n",
    "memo = {}\n",
    "def func(n, m, p):\n",
    "    if p==1:\n",
    "        memo[p] = n % m\n",
    "        return memo[p]\n",
    "    \n",
    "    if p in memo:\n",
    "        return memo[p]\n",
    "    \n",
    "    if p%2 == 0:\n",
    "        memo[p] = (func(n, m, p/2) * func(n, m, p/2)) % m\n",
    "        return memo[p]\n",
    "    else:\n",
    "        memo[p] = (func(n, m, p-1) * func(n, m, 1)) % m\n",
    "        return memo[p]\n",
    "\n",
    "print(func(N, M, P))"
   ]
  }
 ],
 "metadata": {
  "kernelspec": {
   "display_name": "Python 3",
   "language": "python",
   "name": "python3"
  },
  "language_info": {
   "codemirror_mode": {
    "name": "ipython",
    "version": 3
   },
   "file_extension": ".py",
   "mimetype": "text/x-python",
   "name": "python",
   "nbconvert_exporter": "python",
   "pygments_lexer": "ipython3",
   "version": "3.6.6"
  }
 },
 "nbformat": 4,
 "nbformat_minor": 2
}
