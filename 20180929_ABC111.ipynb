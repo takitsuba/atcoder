{
 "cells": [
  {
   "cell_type": "code",
   "execution_count": 1,
   "metadata": {},
   "outputs": [
    {
     "data": {
      "application/vnd.jupyter.widget-view+json": {
       "model_id": "ab8fa6f32190409380715ab4c26efba6",
       "version_major": 2,
       "version_minor": 0
      },
      "text/plain": [
       "Textarea(value='')"
      ]
     },
     "metadata": {},
     "output_type": "display_data"
    }
   ],
   "source": [
    "from ipywidgets import Textarea\n",
    "import io\n",
    "\n",
    "if 'open' in globals():\n",
    "    del open\n",
    "if 'input' in globals():\n",
    "    del input\n",
    "\n",
    "original_open = open\n",
    "\n",
    "class custom_open():\n",
    "    def __init__(self):\n",
    "        self.text = ''\n",
    "\n",
    "    def __call__(self, file, *args, **kwargs):\n",
    "        if file == 0:\n",
    "            return io.StringIO(self.text)\n",
    "        return original_open(file, *args, **kwargs)\n",
    "\n",
    "    def updater(self, change):\n",
    "        self.text = change[\"new\"]\n",
    "\n",
    "class custom_input():\n",
    "    def __init__(self):\n",
    "        self.__sio = io.StringIO('')\n",
    "        self.shell = get_ipython()\n",
    "        if self.shell.events.callbacks['pre_run_cell'] != []:\n",
    "            self.shell.events.callbacks['pre_run_cell'] = []\n",
    "        self.shell.events.register('pre_run_cell', self.pre_run_cell)\n",
    "\n",
    "    def __call__(self):\n",
    "        return self.__sio.readline().strip()\n",
    "\n",
    "    def pre_run_cell(self, info):\n",
    "        text = self.shell.user_ns.get('text_area', None).value\n",
    "        self.__sio = io.StringIO(text)\n",
    "\n",
    "open = custom_open()\n",
    "input = custom_input()\n",
    "\n",
    "text_area = Textarea()\n",
    "text_area.observe(open.updater, names='value')\n",
    "display(text_area)"
   ]
  },
  {
   "cell_type": "markdown",
   "metadata": {},
   "source": [
    "# C"
   ]
  },
  {
   "cell_type": "code",
   "execution_count": 35,
   "metadata": {},
   "outputs": [],
   "source": [
    "N = int(input())\n",
    "a_list = list(map(int,input().split()))\n",
    "\n",
    "kisuus = [a_list[i] for i in range(0,N,2)]\n",
    "guusuus = [a_list[i] for i in range(1,N,2)]\n",
    "\n",
    "n_kisuu = len(kisuus)\n",
    "n_guusuus = len(guusuus)\n",
    "\n",
    "from collections import Counter\n",
    "kisuu_cnter = Counter(kisuus)\n",
    "guusuu_cnter = Counter(guusuus)\n",
    "\n",
    "def func(cnter):\n",
    "    tmp = [(k,v) for k, v in sorted(cnter.items(), key=lambda x: -x[1])] + [(-1,0)]\n",
    "    tmp0 = tmp[0]\n",
    "    tmp1 = tmp[1]\n",
    "    return tmp0,tmp1\n",
    "\n",
    "(k0,kcnt0),(k1,kcnt1) = func(kisuu_cnter)\n",
    "(g0,gcnt0),(g1,gcnt1) = func(guusuu_cnter)\n",
    "kcnt0 = n_kisuu-kcnt0\n",
    "kcnt1 = n_kisuu-kcnt1\n",
    "gcnt0 = n_guusuus-gcnt0\n",
    "gcnt1 = n_guusuus-gcnt1\n",
    "\n",
    "if k0 != g0:\n",
    "    print(kcnt0+gcnt0)\n",
    "else:\n",
    "    print(min(kcnt0+gcnt1,kcnt1+gcnt0))"
   ]
  },
  {
   "cell_type": "code",
   "execution_count": 23,
   "metadata": {},
   "outputs": [
    {
     "data": {
      "text/plain": [
       "0"
      ]
     },
     "execution_count": 23,
     "metadata": {},
     "output_type": "execute_result"
    }
   ],
   "source": [
    "cnt1"
   ]
  },
  {
   "cell_type": "code",
   "execution_count": null,
   "metadata": {},
   "outputs": [],
   "source": []
  }
 ],
 "metadata": {
  "kernelspec": {
   "display_name": "Python 3",
   "language": "python",
   "name": "python3"
  },
  "language_info": {
   "codemirror_mode": {
    "name": "ipython",
    "version": 3
   },
   "file_extension": ".py",
   "mimetype": "text/x-python",
   "name": "python",
   "nbconvert_exporter": "python",
   "pygments_lexer": "ipython3",
   "version": "3.6.6"
  }
 },
 "nbformat": 4,
 "nbformat_minor": 2
}
