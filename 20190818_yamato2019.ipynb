{
 "cells": [
  {
   "cell_type": "code",
   "execution_count": null,
   "metadata": {},
   "outputs": [],
   "source": [
    "https://atcoder.jp/contests/kuronekoyamato-contest2019/tasks/yamato_contest2019_a"
   ]
  },
  {
   "cell_type": "markdown",
   "metadata": {},
   "source": [
    "# A"
   ]
  },
  {
   "cell_type": "code",
   "execution_count": null,
   "metadata": {},
   "outputs": [],
   "source": [
    "# 駐車した車の向きは変えられない"
   ]
  },
  {
   "cell_type": "code",
   "execution_count": 26,
   "metadata": {},
   "outputs": [
    {
     "data": {
      "application/vnd.jupyter.widget-view+json": {
       "model_id": "677b1ced974d4f0693d6f378597e2b70",
       "version_major": 2,
       "version_minor": 0
      },
      "text/plain": [
       "Textarea(value='')"
      ]
     },
     "metadata": {},
     "output_type": "display_data"
    }
   ],
   "source": [
    "from ipywidgets import Textarea\n",
    "import io\n",
    "\n",
    "if 'open' in globals():\n",
    "    del open\n",
    "if 'input' in globals():\n",
    "    del input\n",
    "\n",
    "original_open = open\n",
    "\n",
    "class custom_open():\n",
    "    def __init__(self):\n",
    "        self.text = ''\n",
    "\n",
    "    def __call__(self, file, *args, **kwargs):\n",
    "        if file == 0:\n",
    "            return io.StringIO(self.text)\n",
    "        return original_open(file, *args, **kwargs)\n",
    "\n",
    "    def updater(self, change):\n",
    "        self.text = change[\"new\"]\n",
    "\n",
    "class custom_input():\n",
    "    def __init__(self):\n",
    "        self.__sio = io.StringIO('')\n",
    "        self.shell = get_ipython()\n",
    "        if self.shell.events.callbacks['pre_run_cell'] != []:\n",
    "            self.shell.events.callbacks['pre_run_cell'] = []\n",
    "        self.shell.events.register('pre_run_cell', self.pre_run_cell)\n",
    "\n",
    "    def __call__(self):\n",
    "        return self.__sio.readline().strip()\n",
    "\n",
    "    def pre_run_cell(self, info):\n",
    "        text = self.shell.user_ns.get('text_area', None).value\n",
    "        self.__sio = io.StringIO(text)\n",
    "\n",
    "open = custom_open()\n",
    "input = custom_input()\n",
    "\n",
    "text_area = Textarea()\n",
    "text_area.observe(open.updater, names='value')\n",
    "display(text_area)"
   ]
  },
  {
   "cell_type": "code",
   "execution_count": 27,
   "metadata": {},
   "outputs": [],
   "source": [
    "def get_list(n,type0,type1,type2):\n",
    "    l = [input().split() for _ in range(n)]\n",
    "    \n",
    "    return list(map(lambda x:[type0(x[0]),type1(x[1]),type2(x[2])],l))"
   ]
  },
  {
   "cell_type": "code",
   "execution_count": 34,
   "metadata": {},
   "outputs": [],
   "source": [
    "alpha,beta,gamma,sigma,eta = map(int,input().split())\n",
    "roads = get_list(alpha, str, int, int)\n",
    "crosses = get_list(beta, str, str, str)\n",
    "parkings = get_list(gamma, str, str, int)\n",
    "deriveries = get_list(sigma, str, str, int)\n",
    "queries = get_list(eta, int, str, str)"
   ]
  },
  {
   "cell_type": "code",
   "execution_count": 30,
   "metadata": {},
   "outputs": [
    {
     "data": {
      "text/plain": [
       "[['C003', 'R003SE', 'R004SE'],\n",
       " ['C003', 'R003SE', 'R073ES'],\n",
       " ['C003', 'R073SE', 'R004SE'],\n",
       " ['C018', 'R053SE', 'R003SE'],\n",
       " ['C018', 'R053SE', 'R017SE'],\n",
       " ['C018', 'R017ES', 'R003SE'],\n",
       " ['C040', 'R017SE', 'R023SE'],\n",
       " ['C040', 'R017SE', 'R019SE'],\n",
       " ['C040', 'R023ES', 'R017ES'],\n",
       " ['C040', 'R023ES', 'R019SE'],\n",
       " ['C040', 'R004SE', 'R017ES'],\n",
       " ['C040', 'R004SE', 'R023SE'],\n",
       " ['C040', 'R004SE', 'R019SE'],\n",
       " ['C075', 'R073ES', 'R129ES'],\n",
       " ['C075', 'R019SE', 'R073SE'],\n",
       " ['C075', 'R019SE', 'R129ES'],\n",
       " ['C075', 'R129SE', 'R073SE'],\n",
       " ['C148', 'R023SE', 'R053SE'],\n",
       " ['C148', 'R023SE', 'R129SE'],\n",
       " ['C148', 'R129ES', 'R053SE'],\n",
       " ['C148', 'R129ES', 'R023ES']]"
      ]
     },
     "execution_count": 30,
     "metadata": {},
     "output_type": "execute_result"
    }
   ],
   "source": [
    "crosses"
   ]
  },
  {
   "cell_type": "code",
   "execution_count": 31,
   "metadata": {},
   "outputs": [
    {
     "data": {
      "text/plain": [
       "[['P001SE', 'R003', 83],\n",
       " ['P004SE', 'R073', 41],\n",
       " ['P004ES', 'R073', 41],\n",
       " ['P017SE', 'R129', 55],\n",
       " ['P017ES', 'R129', 55]]"
      ]
     },
     "execution_count": 31,
     "metadata": {},
     "output_type": "execute_result"
    }
   ],
   "source": [
    "parkings"
   ]
  },
  {
   "cell_type": "code",
   "execution_count": 32,
   "metadata": {},
   "outputs": [
    {
     "data": {
      "text/plain": [
       "[['D008', 'R003', 92],\n",
       " ['D046', 'R073', 101],\n",
       " ['D050', 'R003', 33],\n",
       " ['D051', 'R004', 35],\n",
       " ['D058', 'R073', 68],\n",
       " ['D060', 'R017', 28],\n",
       " ['D061', 'R017', 60],\n",
       " ['D112', 'R019', 24],\n",
       " ['D123', 'R019', 65],\n",
       " ['D124', 'R053', 107],\n",
       " ['D141', 'R053', 60],\n",
       " ['D142', 'R023', 18],\n",
       " ['D150', 'R129', 99],\n",
       " ['D157', 'R129', 88],\n",
       " ['D159', 'R053', 51]]"
      ]
     },
     "execution_count": 32,
     "metadata": {},
     "output_type": "execute_result"
    }
   ],
   "source": [
    "destinations"
   ]
  },
  {
   "cell_type": "code",
   "execution_count": 35,
   "metadata": {},
   "outputs": [
    {
     "data": {
      "text/plain": [
       "[[0, 'P017SE', 'P004SE'],\n",
       " [1, 'D050', 'D046'],\n",
       " [1, 'D112', 'P017ES'],\n",
       " [0, 'P001SE', 'P017ES'],\n",
       " [1, 'D157', 'D150'],\n",
       " [1, 'D159', 'D142'],\n",
       " [0, 'P004ES', 'P001SE']]"
      ]
     },
     "execution_count": 35,
     "metadata": {},
     "output_type": "execute_result"
    }
   ],
   "source": [
    "queries"
   ]
  },
  {
   "cell_type": "code",
   "execution_count": null,
   "metadata": {},
   "outputs": [],
   "source": []
  }
 ],
 "metadata": {
  "kernelspec": {
   "display_name": "Python 3",
   "language": "python",
   "name": "python3"
  },
  "language_info": {
   "codemirror_mode": {
    "name": "ipython",
    "version": 3
   },
   "file_extension": ".py",
   "mimetype": "text/x-python",
   "name": "python",
   "nbconvert_exporter": "python",
   "pygments_lexer": "ipython3",
   "version": "3.6.6"
  }
 },
 "nbformat": 4,
 "nbformat_minor": 2
}
