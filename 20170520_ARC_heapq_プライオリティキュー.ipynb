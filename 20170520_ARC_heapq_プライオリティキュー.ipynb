{
 "cells": [
  {
   "cell_type": "markdown",
   "metadata": {},
   "source": [
    "# D\n",
    "https://atcoder.jp/contests/arc074/tasks/arc074_b"
   ]
  },
  {
   "cell_type": "markdown",
   "metadata": {},
   "source": [
    "長さ3N\n",
    "N取り除き２Nになったものを、はじめのN,後ろのNとする\n",
    "その総和を前半ー後半を最大にする\n"
   ]
  },
  {
   "cell_type": "markdown",
   "metadata": {},
   "source": [
    "上から２こ除くとしたら。\n",
    "31除いたら\n",
    "４１，５９で−９\n",
    "取れたとしても、初めの２Nから前半はとる。後ろの２Nから後半は取る"
   ]
  },
  {
   "cell_type": "code",
   "execution_count": 110,
   "metadata": {},
   "outputs": [
    {
     "data": {
      "text/plain": [
       "5"
      ]
     },
     "execution_count": 110,
     "metadata": {},
     "output_type": "execute_result"
    }
   ],
   "source": [
    "import heapq\n",
    "\n",
    "N = int(input())\n",
    "a_list = list(map(int, input().split()))\n",
    "\n",
    "h = []\n",
    "goukei = 0\n",
    "for a in a_list[:N]:\n",
    "    goukei += a\n",
    "    heapq.heappush(h,a)\n",
    "\n",
    "k_left_goukei = [goukei]\n",
    "\n",
    "for a in a_list[N:2*N]:\n",
    "    goukei += a\n",
    "    d = heapq.heappushpop(h,a)\n",
    "    goukei -= d\n",
    "    k_left_goukei.append(goukei)\n",
    "\n",
    "h = []\n",
    "goukei = 0\n",
    "for a in a_list[::-1][:N]:\n",
    "    goukei += a\n",
    "    heapq.heappush(h,(-a,a))\n",
    "    \n",
    "k_right_goukei = [goukei]\n",
    "\n",
    "for a in a_list[::-1][N:2*N]:\n",
    "    goukei += a\n",
    "    d = heapq.heappushpop(h,(-a,a))\n",
    "    goukei -= d[1]\n",
    "    k_right_goukei.append(goukei)\n",
    "\n",
    "max_diff = None\n",
    "for l, r in zip(k_left_goukei, k_right_goukei[::-1]):\n",
    "    diff = l-r\n",
    "    if max_diff == None:\n",
    "        max_diff = diff\n",
    "    else:\n",
    "        max_diff = max(diff,max_diff)\n",
    "\n",
    "print(max_diff)"
   ]
  },
  {
   "cell_type": "code",
   "execution_count": null,
   "metadata": {},
   "outputs": [],
   "source": []
  }
 ],
 "metadata": {
  "kernelspec": {
   "display_name": "Python 3",
   "language": "python",
   "name": "python3"
  },
  "language_info": {
   "codemirror_mode": {
    "name": "ipython",
    "version": 3
   },
   "file_extension": ".py",
   "mimetype": "text/x-python",
   "name": "python",
   "nbconvert_exporter": "python",
   "pygments_lexer": "ipython3",
   "version": "3.6.6"
  }
 },
 "nbformat": 4,
 "nbformat_minor": 2
}
