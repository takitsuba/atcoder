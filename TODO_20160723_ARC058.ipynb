{
 "cells": [
  {
   "cell_type": "markdown",
   "metadata": {},
   "source": [
    "# D"
   ]
  },
  {
   "cell_type": "code",
   "execution_count": 1,
   "metadata": {},
   "outputs": [
    {
     "data": {
      "application/vnd.jupyter.widget-view+json": {
       "model_id": "d39fd516d88f4688b8b4af2b86fd78be",
       "version_major": 2,
       "version_minor": 0
      },
      "text/plain": [
       "Textarea(value='')"
      ]
     },
     "metadata": {},
     "output_type": "display_data"
    }
   ],
   "source": [
    "from ipywidgets import Textarea\n",
    "import io\n",
    "\n",
    "if 'open' in globals():\n",
    "    del open\n",
    "if 'input' in globals():\n",
    "    del input\n",
    "\n",
    "original_open = open\n",
    "\n",
    "class custom_open():\n",
    "    def __init__(self):\n",
    "        self.text = ''\n",
    "\n",
    "    def __call__(self, file, *args, **kwargs):\n",
    "        if file == 0:\n",
    "            return io.StringIO(self.text)\n",
    "        return original_open(file, *args, **kwargs)\n",
    "\n",
    "    def updater(self, change):\n",
    "        self.text = change['new']\n",
    "\n",
    "class custom_input():\n",
    "    def __init__(self):\n",
    "        self.__sio = io.StringIO('')\n",
    "        self.shell = get_ipython()\n",
    "        if self.shell.events.callbacks['pre_run_cell'] != []:\n",
    "            self.shell.events.callbacks['pre_run_cell'] = []\n",
    "        self.shell.events.register('pre_run_cell', self.pre_run_cell)\n",
    "\n",
    "    def __call__(self):\n",
    "        return self.__sio.readline().strip()\n",
    "\n",
    "    def pre_run_cell(self, info):\n",
    "        text = self.shell.user_ns.get('text_area', None).value\n",
    "        self.__sio = io.StringIO(text)\n",
    "\n",
    "open = custom_open()\n",
    "input = custom_input()\n",
    "\n",
    "text_area = Textarea()\n",
    "text_area.observe(open.updater, names='value')\n",
    "display(text_area)"
   ]
  },
  {
   "cell_type": "code",
   "execution_count": 38,
   "metadata": {},
   "outputs": [],
   "source": [
    "H,W,A,B = map(int, input().split())\n",
    "\n",
    "MOD = 10**9 + 7\n",
    "\n",
    "def count_dr(d,r):\n",
    "    # (H+W)CW\n",
    "    cnt = 1\n",
    "    multiple_nums = list(range(d+r,d,-1))\n",
    "    divide_nums = list(range(1,r+1))\n",
    "    for num in multiple_nums:\n",
    "        cnt *= num % MOD\n",
    "        \n",
    "    for num in divide_nums:\n",
    "        cnt = cnt // num\n",
    "    \n",
    "    return cnt\n",
    "\n",
    "def zouka_combination(zouka,kotei,how_many):\n",
    "    tmp = count_dr(zouka,kotei)\n",
    "#     print(tmp)\n",
    "#     tmp_last = count_dr(a,w-b-1)\n",
    "    result = []\n",
    "    for i in range(1,how_many+1):\n",
    "        numer = zouka+kotei+i\n",
    "        denom = zouka+i\n",
    "        tmp *= numer\n",
    "        tmp //= denom\n",
    "        result.append(tmp)\n",
    "    return result\n",
    "\n",
    "exit = zouka_combination(H-A-1,B-1,A)\n",
    "last = ([1] + zouka_combination(0,W-B-1,A-1))[::-1]\n",
    "\n",
    "cnt = 0\n",
    "for e, l in zip(exit,last):\n",
    "    cnt += e*l\n",
    "    cnt %= MOD\n",
    "print(count_dr(H-1,W-1) - cnt)"
   ]
  },
  {
   "cell_type": "code",
   "execution_count": 36,
   "metadata": {},
   "outputs": [
    {
     "data": {
      "text/plain": [
       "[6, 3, 1]"
      ]
     },
     "execution_count": 36,
     "metadata": {},
     "output_type": "execute_result"
    }
   ],
   "source": [
    "last"
   ]
  },
  {
   "cell_type": "code",
   "execution_count": 11,
   "metadata": {},
   "outputs": [],
   "source": [
    "def enter_count(h,w,a,b):\n",
    "    cnt = 0\n",
    "    d = h-a-1\n",
    "    r = b-1\n",
    "    tmp_out = count_dr(d,r)\n",
    "#     tmp_last = count_dr(a,w-b-1)\n",
    "    for i in range(1,a+1):\n",
    "        numer_out = d+r+i\n",
    "        denom_out = d+i\n",
    "        tmp_out = tmp_out * numer_out / denom_out\n",
    "        \n",
    "#         numer_last = \n",
    "        cnt += tmp\n",
    "    return cnt"
   ]
  },
  {
   "cell_type": "code",
   "execution_count": 12,
   "metadata": {},
   "outputs": [
    {
     "name": "stdout",
     "output_type": "stream",
     "text": [
      "120.0\n",
      "165.0\n",
      "220.0\n"
     ]
    },
    {
     "data": {
      "text/plain": [
       "505.0"
      ]
     },
     "execution_count": 12,
     "metadata": {},
     "output_type": "execute_result"
    }
   ],
   "source": [
    "enter_count(H,W,A,B)"
   ]
  },
  {
   "cell_type": "code",
   "execution_count": 26,
   "metadata": {},
   "outputs": [
    {
     "name": "stdout",
     "output_type": "stream",
     "text": [
      "4885\n"
     ]
    }
   ],
   "source": [
    "print(count_dr(H-1,W-1) - enter_count(H,W,A,B))"
   ]
  },
  {
   "cell_type": "code",
   "execution_count": 13,
   "metadata": {},
   "outputs": [
    {
     "data": {
      "text/plain": [
       "5005"
      ]
     },
     "execution_count": 13,
     "metadata": {},
     "output_type": "execute_result"
    }
   ],
   "source": [
    "5*7*13*11"
   ]
  },
  {
   "cell_type": "code",
   "execution_count": null,
   "metadata": {},
   "outputs": [],
   "source": []
  }
 ],
 "metadata": {
  "kernelspec": {
   "display_name": "Python 3",
   "language": "python",
   "name": "python3"
  },
  "language_info": {
   "codemirror_mode": {
    "name": "ipython",
    "version": 3
   },
   "file_extension": ".py",
   "mimetype": "text/x-python",
   "name": "python",
   "nbconvert_exporter": "python",
   "pygments_lexer": "ipython3",
   "version": "3.6.6"
  }
 },
 "nbformat": 4,
 "nbformat_minor": 2
}
