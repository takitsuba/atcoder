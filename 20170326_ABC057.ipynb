{
 "cells": [
  {
   "cell_type": "markdown",
   "metadata": {},
   "source": [
    "# B"
   ]
  },
  {
   "cell_type": "code",
   "execution_count": 21,
   "metadata": {},
   "outputs": [
    {
     "name": "stdout",
     "output_type": "stream",
     "text": [
      "3 4\n",
      "10 10\n",
      "-10 -10\n",
      "3 3\n",
      "1 2\n",
      "2 3\n",
      "3 5\n",
      "3 5\n"
     ]
    }
   ],
   "source": [
    "N,M = map(int,input().split())\n",
    "students = []\n",
    "checks = []\n",
    "for _ in range(N):\n",
    "    students.append(tuple(map(int,input().split())))\n",
    "    \n",
    "for _ in range(M):\n",
    "    checks.append(tuple(map(int,input().split())))\n",
    "\n",
    "for a,b in students:\n",
    "    min_d = 10**9 \n",
    "    min_i = 0\n",
    "    for i,(c,d) in enumerate(checks):\n",
    "        dis = abs(a-c) + abs(b-d)\n",
    "        if dis < min_d:\n",
    "            min_d = dis\n",
    "            min_i = i\n",
    "#         print(a,b,c,d,dis,min_d,min_i,i)\n",
    "    print(min_i+1)"
   ]
  },
  {
   "cell_type": "code",
   "execution_count": 9,
   "metadata": {},
   "outputs": [
    {
     "name": "stdout",
     "output_type": "stream",
     "text": [
      "0\n",
      "-1\n",
      "1\n",
      "1\n"
     ]
    }
   ],
   "source": [
    "for i,(c,d) in enumerate(checks):\n",
    "    print(i)\n",
    "    print(c)\n",
    "#     d = abs(a-c) + abs(b-d)\n",
    "#     if d < min_d:\n",
    "#         min_d = d\n",
    "#         min_i\n"
   ]
  },
  {
   "cell_type": "code",
   "execution_count": null,
   "metadata": {},
   "outputs": [],
   "source": []
  },
  {
   "cell_type": "code",
   "execution_count": null,
   "metadata": {},
   "outputs": [],
   "source": []
  },
  {
   "cell_type": "code",
   "execution_count": null,
   "metadata": {},
   "outputs": [],
   "source": []
  },
  {
   "cell_type": "code",
   "execution_count": 4,
   "metadata": {},
   "outputs": [
    {
     "data": {
      "text/plain": [
       "[(-1, 0), (1, 0)]"
      ]
     },
     "execution_count": 4,
     "metadata": {},
     "output_type": "execute_result"
    }
   ],
   "source": [
    "checks"
   ]
  },
  {
   "cell_type": "code",
   "execution_count": 5,
   "metadata": {},
   "outputs": [
    {
     "data": {
      "text/plain": [
       "[(2, 0), (0, 0)]"
      ]
     },
     "execution_count": 5,
     "metadata": {},
     "output_type": "execute_result"
    }
   ],
   "source": [
    "students"
   ]
  },
  {
   "cell_type": "markdown",
   "metadata": {},
   "source": [
    "# C"
   ]
  },
  {
   "cell_type": "code",
   "execution_count": 1,
   "metadata": {},
   "outputs": [
    {
     "data": {
      "application/vnd.jupyter.widget-view+json": {
       "model_id": "ce302b6857e94d2b824d53f8eea1de14",
       "version_major": 2,
       "version_minor": 0
      },
      "text/plain": [
       "Textarea(value='')"
      ]
     },
     "metadata": {},
     "output_type": "display_data"
    }
   ],
   "source": [
    "from ipywidgets import Textarea\n",
    "import io\n",
    "\n",
    "if 'open' in globals():\n",
    "    del open\n",
    "if 'input' in globals():\n",
    "    del input\n",
    "\n",
    "original_open = open\n",
    "\n",
    "class custom_open():\n",
    "    def __init__(self):\n",
    "        self.text = ''\n",
    "\n",
    "    def __call__(self, file, *args, **kwargs):\n",
    "        if file == 0:\n",
    "            return io.StringIO(self.text)\n",
    "        return original_open(file, *args, **kwargs)\n",
    "\n",
    "    def updater(self, change):\n",
    "        self.text = change['new']\n",
    "\n",
    "class custom_input():\n",
    "    def __init__(self):\n",
    "        self.__sio = io.StringIO('')\n",
    "        self.shell = get_ipython()\n",
    "        if self.shell.events.callbacks['pre_run_cell'] != []:\n",
    "            self.shell.events.callbacks['pre_run_cell'] = []\n",
    "        self.shell.events.register('pre_run_cell', self.pre_run_cell)\n",
    "\n",
    "    def __call__(self):\n",
    "        return self.__sio.readline().strip()\n",
    "\n",
    "    def pre_run_cell(self, info):\n",
    "        text = self.shell.user_ns.get('text_area', None).value\n",
    "        self.__sio = io.StringIO(text)\n",
    "\n",
    "open = custom_open()\n",
    "input = custom_input()\n",
    "\n",
    "text_area = Textarea()\n",
    "text_area.observe(open.updater, names='value')\n",
    "display(text_area)"
   ]
  },
  {
   "cell_type": "code",
   "execution_count": 32,
   "metadata": {},
   "outputs": [
    {
     "name": "stdout",
     "output_type": "stream",
     "text": [
      "6\n"
     ]
    }
   ],
   "source": [
    "N = int(input())\n",
    "\n",
    "def count_digit(n):\n",
    "    cnt = 1\n",
    "    while True:\n",
    "        n = n // 10\n",
    "        if n == 0:\n",
    "            break\n",
    "        else:\n",
    "            cnt += 1\n",
    "    return cnt\n",
    "\n",
    "def gcd(x,y):\n",
    "    if x%y==0:\n",
    "        return y\n",
    "    else:\n",
    "        return gcd(y, x%y)\n",
    "\n",
    "def make_divisors(n):\n",
    "    divisors = []\n",
    "    for i in range(1, int(n**0.5)+1):\n",
    "        # nを合う数字で割り切れたら、その割った数と商をリストに追加する。\n",
    "        # nが平方数のとき、同じ数字が2回追加されてしまうので3行したのif文がある\n",
    "        if n % i == 0:\n",
    "            divisors.append(i)\n",
    "            if i != n // i:\n",
    "                divisors.append(n//i)\n",
    "\n",
    "    divisors.sort()\n",
    "    return divisors\n",
    "\n",
    "divs_list = make_divisors(N)\n",
    "\n",
    "min_f = 12\n",
    "len_d = len(divs_list)\n",
    "for i in range(len_d):\n",
    "    if i > len_d-i:\n",
    "        break\n",
    "    cnt = max(count_digit(divs_list[i]),count_digit(divs_list[len_d-i-1]))\n",
    "    if min_f > cnt:\n",
    "        min_f = cnt\n",
    "print(cnt)"
   ]
  },
  {
   "cell_type": "code",
   "execution_count": null,
   "metadata": {},
   "outputs": [],
   "source": []
  }
 ],
 "metadata": {
  "kernelspec": {
   "display_name": "Python 3",
   "language": "python",
   "name": "python3"
  },
  "language_info": {
   "codemirror_mode": {
    "name": "ipython",
    "version": 3
   },
   "file_extension": ".py",
   "mimetype": "text/x-python",
   "name": "python",
   "nbconvert_exporter": "python",
   "pygments_lexer": "ipython3",
   "version": "3.6.6"
  }
 },
 "nbformat": 4,
 "nbformat_minor": 2
}
