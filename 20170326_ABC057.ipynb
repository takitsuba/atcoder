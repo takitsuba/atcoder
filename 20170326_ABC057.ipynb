{
 "cells": [
  {
   "cell_type": "markdown",
   "metadata": {},
   "source": [
    "# B"
   ]
  },
  {
   "cell_type": "code",
   "execution_count": 21,
   "metadata": {},
   "outputs": [
    {
     "name": "stdout",
     "output_type": "stream",
     "text": [
      "3 4\n",
      "10 10\n",
      "-10 -10\n",
      "3 3\n",
      "1 2\n",
      "2 3\n",
      "3 5\n",
      "3 5\n"
     ]
    }
   ],
   "source": [
    "N,M = map(int,input().split())\n",
    "students = []\n",
    "checks = []\n",
    "for _ in range(N):\n",
    "    students.append(tuple(map(int,input().split())))\n",
    "    \n",
    "for _ in range(M):\n",
    "    checks.append(tuple(map(int,input().split())))\n",
    "\n",
    "for a,b in students:\n",
    "    min_d = 10**9 \n",
    "    min_i = 0\n",
    "    for i,(c,d) in enumerate(checks):\n",
    "        dis = abs(a-c) + abs(b-d)\n",
    "        if dis < min_d:\n",
    "            min_d = dis\n",
    "            min_i = i\n",
    "#         print(a,b,c,d,dis,min_d,min_i,i)\n",
    "    print(min_i+1)"
   ]
  },
  {
   "cell_type": "code",
   "execution_count": 9,
   "metadata": {},
   "outputs": [
    {
     "name": "stdout",
     "output_type": "stream",
     "text": [
      "0\n",
      "-1\n",
      "1\n",
      "1\n"
     ]
    }
   ],
   "source": [
    "for i,(c,d) in enumerate(checks):\n",
    "    print(i)\n",
    "    print(c)\n",
    "#     d = abs(a-c) + abs(b-d)\n",
    "#     if d < min_d:\n",
    "#         min_d = d\n",
    "#         min_i\n"
   ]
  },
  {
   "cell_type": "code",
   "execution_count": null,
   "metadata": {},
   "outputs": [],
   "source": []
  },
  {
   "cell_type": "code",
   "execution_count": null,
   "metadata": {},
   "outputs": [],
   "source": []
  },
  {
   "cell_type": "code",
   "execution_count": null,
   "metadata": {},
   "outputs": [],
   "source": []
  },
  {
   "cell_type": "code",
   "execution_count": 4,
   "metadata": {},
   "outputs": [
    {
     "data": {
      "text/plain": [
       "[(-1, 0), (1, 0)]"
      ]
     },
     "execution_count": 4,
     "metadata": {},
     "output_type": "execute_result"
    }
   ],
   "source": [
    "checks"
   ]
  },
  {
   "cell_type": "code",
   "execution_count": 5,
   "metadata": {},
   "outputs": [
    {
     "data": {
      "text/plain": [
       "[(2, 0), (0, 0)]"
      ]
     },
     "execution_count": 5,
     "metadata": {},
     "output_type": "execute_result"
    }
   ],
   "source": [
    "students"
   ]
  },
  {
   "cell_type": "code",
   "execution_count": null,
   "metadata": {},
   "outputs": [],
   "source": []
  }
 ],
 "metadata": {
  "kernelspec": {
   "display_name": "Python 3",
   "language": "python",
   "name": "python3"
  },
  "language_info": {
   "codemirror_mode": {
    "name": "ipython",
    "version": 3
   },
   "file_extension": ".py",
   "mimetype": "text/x-python",
   "name": "python",
   "nbconvert_exporter": "python",
   "pygments_lexer": "ipython3",
   "version": "3.6.6"
  }
 },
 "nbformat": 4,
 "nbformat_minor": 2
}
