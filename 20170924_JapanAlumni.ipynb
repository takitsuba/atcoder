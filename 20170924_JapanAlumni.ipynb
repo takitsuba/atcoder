{
 "cells": [
  {
   "cell_type": "markdown",
   "metadata": {},
   "source": [
    "# A"
   ]
  },
  {
   "cell_type": "code",
   "execution_count": 1,
   "metadata": {},
   "outputs": [
    {
     "name": "stdout",
     "output_type": "stream",
     "text": [
      "()*()\n",
      "0\n"
     ]
    }
   ],
   "source": [
    "s = input().split(\"*\")\n",
    "\n",
    "\n",
    "def kakko_count(s,kakko):\n",
    "    count = 0\n",
    "    for i in s:\n",
    "        if i == kakko:\n",
    "            count += 1\n",
    "        else:\n",
    "            count -= 1\n",
    "            if count < 0:\n",
    "                count = 0\n",
    "                \n",
    "    return count\n",
    "\n",
    "left = kakko_count(s[0],\"(\")\n",
    "right = kakko_count(s[1],\")\")\n",
    "\n",
    "print(min(left,right))"
   ]
  },
  {
   "cell_type": "code",
   "execution_count": null,
   "metadata": {},
   "outputs": [],
   "source": [
    "left"
   ]
  },
  {
   "cell_type": "code",
   "execution_count": null,
   "metadata": {},
   "outputs": [],
   "source": [
    "min(left,right)"
   ]
  },
  {
   "cell_type": "markdown",
   "metadata": {},
   "source": [
    "# 反省\n",
    "* 問題文読むのから10分ちょっとぐらい。\n",
    "* 英語の問題文は読むのに数分かかってしまう。\n",
    "* メソッド作って解けたのは良かった。いつもだと関数作らずコピペでどうかしたりする。\n",
    "* なれてる関数だけで作ることができ、検索時間をそれほど取らずに済んだ。"
   ]
  }
 ],
 "metadata": {
  "kernelspec": {
   "display_name": "Python 3",
   "language": "python",
   "name": "python3"
  },
  "language_info": {
   "codemirror_mode": {
    "name": "ipython",
    "version": 3
   },
   "file_extension": ".py",
   "mimetype": "text/x-python",
   "name": "python",
   "nbconvert_exporter": "python",
   "pygments_lexer": "ipython3",
   "version": "3.6.0"
  }
 },
 "nbformat": 4,
 "nbformat_minor": 2
}
