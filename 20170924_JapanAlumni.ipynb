{
 "cells": [
  {
   "cell_type": "markdown",
   "metadata": {},
   "source": [
    "# A"
   ]
  },
  {
   "cell_type": "code",
   "execution_count": 1,
   "metadata": {},
   "outputs": [
    {
     "name": "stdout",
     "output_type": "stream",
     "text": [
      "()*()\n",
      "0\n"
     ]
    }
   ],
   "source": [
    "s = input().split(\"*\")\n",
    "\n",
    "\n",
    "def kakko_count(s,kakko):\n",
    "    count = 0\n",
    "    for i in s:\n",
    "        if i == kakko:\n",
    "            count += 1\n",
    "        else:\n",
    "            count -= 1\n",
    "            if count < 0:\n",
    "                count = 0\n",
    "                \n",
    "    return count\n",
    "\n",
    "left = kakko_count(s[0],\"(\")\n",
    "right = kakko_count(s[1],\")\")\n",
    "\n",
    "print(min(left,right))"
   ]
  },
  {
   "cell_type": "code",
   "execution_count": null,
   "metadata": {
    "collapsed": true
   },
   "outputs": [],
   "source": [
    "left"
   ]
  },
  {
   "cell_type": "code",
   "execution_count": null,
   "metadata": {
    "collapsed": true
   },
   "outputs": [],
   "source": [
    "min(left,right)"
   ]
  },
  {
   "cell_type": "markdown",
   "metadata": {},
   "source": [
    "# 反省\n",
    "* 問題文読むのから10分ちょっとぐらい。\n",
    "* 英語の問題文は読むのに数分かかってしまう。\n",
    "* メソッド作って解けたのは良かった。いつもだと関数作らずコピペでどうかしたりする。\n",
    "* なれてる関数だけで作ることができ、検索時間をそれほど取らずに済んだ。"
   ]
  },
  {
   "cell_type": "markdown",
   "metadata": {},
   "source": [
    "# B"
   ]
  },
  {
   "cell_type": "code",
   "execution_count": 29,
   "metadata": {},
   "outputs": [
    {
     "name": "stdout",
     "output_type": "stream",
     "text": [
      "60 59 1\n",
      "-123\n",
      "1: [-123]\n",
      "1\n"
     ]
    }
   ],
   "source": [
    "import numpy as np\n",
    "s,t,d = input().split()\n",
    "s = int(s)\n",
    "t = int(t)\n",
    "d = int(d)\n",
    "w_list = input().split()\n",
    "w_list = np.array([int(x) for x in w_list])\n",
    "w_list_cumsum = np.cumsum(w_list)\n",
    "# print(\"1:\",w_list_cumsum)\n",
    "\n",
    "sa = t-s\n",
    "\n",
    "if w_list_cumsum[-1]>=0:\n",
    "    if len(w_list_cumsum[w_list_cumsum<=sa])>=1:\n",
    "        print(np.where(w_list_cumsum<=sa)[0][0]+1)\n",
    "    else:\n",
    "        print(\"-1\")\n",
    "#     for i in w_list:\n",
    "#         s += i\n",
    "#         count += 1\n",
    "#         if s <= t:\n",
    "#             break\n",
    "#     if s<=t:\n",
    "#         print(count)\n",
    "#     else:\n",
    "#         print(\"-1\")\n",
    "else:\n",
    "    if len(w_list_cumsum[w_list_cumsum<=sa])>=1:\n",
    "        print(np.where(w_list_cumsum<=sa)[0][0]+1)\n",
    "    else:\n",
    "        cumsum_last = w_list_cumsum[-1]\n",
    "        w_list_cumsum = sa-w_list_cumsum\n",
    "#         print(\"2:\",w_list_cumsum)\n",
    "        w_list_cumsum = np.ceil(w_list_cumsum/cumsum_last)\n",
    "#         print(\"3:\",w_list_cumsum)\n",
    "        fastest_order = np.where(w_list_cumsum==w_list_cumsum.min())[0][0]\n",
    "#         print(\"4;\",fastest_order)\n",
    "#         print(w_list_cumsum.min())\n",
    "        print(int(fastest_order+d*w_list_cumsum.min()+1))\n",
    "        \n",
    "# #     while s>t:\n",
    "# #         s += w_list[count%d]\n",
    "# #         count += 1\n",
    "#     goukei = \n",
    "#     print(count)\n",
    "        "
   ]
  },
  {
   "cell_type": "code",
   "execution_count": 16,
   "metadata": {},
   "outputs": [
    {
     "data": {
      "text/plain": [
       "array([1, 2, 0])"
      ]
     },
     "execution_count": 16,
     "metadata": {},
     "output_type": "execute_result"
    }
   ],
   "source": [
    " w_list_cumsum"
   ]
  },
  {
   "cell_type": "code",
   "execution_count": 17,
   "metadata": {},
   "outputs": [
    {
     "data": {
      "text/plain": [
       "array([-2,  3, -4])"
      ]
     },
     "execution_count": 17,
     "metadata": {},
     "output_type": "execute_result"
    }
   ],
   "source": [
    "w_list"
   ]
  },
  {
   "cell_type": "markdown",
   "metadata": {
    "collapsed": true
   },
   "source": [
    "# 反省\n",
    "* はじめはwhile文で作っていたのだが、それだとTLEになってしまったので作成し直した。そのため時間がかかってしまった。はじめの方向性の付け方を考えたほうがいい。\n",
    "* 変数の名前の付け方が下手。そのため今その変数にはどんな数字が入ってるのかで混乱してしまった。\n",
    "* マイナスの値からマイナスを引く、というときに混乱した。しょうもない。\n",
    "* numpyの切り上げにはnp.ceilを使う。切り捨てはfloor。"
   ]
  },
  {
   "cell_type": "code",
   "execution_count": null,
   "metadata": {
    "collapsed": true
   },
   "outputs": [],
   "source": []
  }
 ],
 "metadata": {
  "kernelspec": {
   "display_name": "Python 3",
   "language": "python",
   "name": "python3"
  },
  "language_info": {
   "codemirror_mode": {
    "name": "ipython",
    "version": 3
   },
   "file_extension": ".py",
   "mimetype": "text/x-python",
   "name": "python",
   "nbconvert_exporter": "python",
   "pygments_lexer": "ipython3",
   "version": "3.6.0"
  }
 },
 "nbformat": 4,
 "nbformat_minor": 2
}
