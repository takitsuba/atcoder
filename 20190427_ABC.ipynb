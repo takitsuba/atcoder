{
 "cells": [
  {
   "cell_type": "markdown",
   "metadata": {},
   "source": [
    "# A"
   ]
  },
  {
   "cell_type": "code",
   "execution_count": null,
   "metadata": {},
   "outputs": [],
   "source": [
    "A, B, T = input().split()\n",
    "A = int(A)\n",
    "B = int(B)\n",
    "T = int(T)\n",
    "\n",
    "print((T // A) * B )"
   ]
  },
  {
   "cell_type": "markdown",
   "metadata": {},
   "source": [
    "# B"
   ]
  },
  {
   "cell_type": "code",
   "execution_count": null,
   "metadata": {},
   "outputs": [],
   "source": [
    "N = int(input())\n",
    "v_list = [int(x) for x in input().split()]\n",
    "c_list = [int(x) for x in input().split()]\n",
    "\n",
    "result = 0\n",
    "for v, c in zip(v_list, c_list):\n",
    "    profit = v-c\n",
    "    if v-c>0:\n",
    "        result += profit\n",
    "        \n",
    "print(result)"
   ]
  },
  {
   "cell_type": "code",
   "execution_count": null,
   "metadata": {},
   "outputs": [],
   "source": [
    "result"
   ]
  },
  {
   "cell_type": "markdown",
   "metadata": {},
   "source": [
    "# C"
   ]
  },
  {
   "cell_type": "code",
   "execution_count": 22,
   "metadata": {},
   "outputs": [
    {
     "name": "stdout",
     "output_type": "stream",
     "text": [
      "4\n",
      "4 3 2 1\n",
      "1\n"
     ]
    }
   ],
   "source": [
    "N = int(input())\n",
    "a_list = [int(x) for x in input().split()]\n",
    "\n",
    "def func(a, b):\n",
    "    if a % b == 0:\n",
    "        return b\n",
    "    else:\n",
    "        return func(b, a%b)\n",
    "\n",
    "if len(a_list) == 2:\n",
    "    print(max(a_list))\n",
    "if len(a_list) == 3:\n",
    "    tmp_1 = func(a_list[0], a_list[1])\n",
    "    tmp_2 = func(a_list[1], a_list[2])\n",
    "    tmp_3 = func(a_list[0], a_list[2])\n",
    "    print(max(tmp_1,tmp_2,tmp_3))\n",
    "if len(a_list) >= 4:\n",
    "    tmp_1 = func(a_list[0], a_list[1])\n",
    "    tmp_2 = func(a_list[2], a_list[3])\n",
    "\n",
    "#     print(tmp_1,tmp_2)\n",
    "    def check_all(tmp):\n",
    "        miss_cnt = 0\n",
    "        for a in a_list:\n",
    "            if a % tmp != 0:\n",
    "                miss_cnt += 1\n",
    "            if miss_cnt >= 2:\n",
    "                return 1\n",
    "        return tmp\n",
    "    \n",
    "    ca_1 = check_all(tmp_1)\n",
    "    ca_2 = check_all(tmp_2)\n",
    "#     print(ca_1,ca_2)\n",
    "    \n",
    "    print(max(ca_1,ca_2))\n",
    "        "
   ]
  },
  {
   "cell_type": "code",
   "execution_count": null,
   "metadata": {},
   "outputs": [],
   "source": []
  },
  {
   "cell_type": "code",
   "execution_count": null,
   "metadata": {},
   "outputs": [],
   "source": [
    "func(12,4)"
   ]
  },
  {
   "cell_type": "markdown",
   "metadata": {},
   "source": [
    "# D"
   ]
  },
  {
   "cell_type": "code",
   "execution_count": null,
   "metadata": {},
   "outputs": [],
   "source": [
    "N = int(input())\n",
    "a_list = [int(x) for x in input().split()]"
   ]
  }
 ],
 "metadata": {
  "kernelspec": {
   "display_name": "Python 3",
   "language": "python",
   "name": "python3"
  },
  "language_info": {
   "codemirror_mode": {
    "name": "ipython",
    "version": 3
   },
   "file_extension": ".py",
   "mimetype": "text/x-python",
   "name": "python",
   "nbconvert_exporter": "python",
   "pygments_lexer": "ipython3",
   "version": "3.6.6"
  }
 },
 "nbformat": 4,
 "nbformat_minor": 2
}
