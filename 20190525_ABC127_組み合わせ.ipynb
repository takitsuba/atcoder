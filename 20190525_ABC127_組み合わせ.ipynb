{
 "cells": [
  {
   "cell_type": "markdown",
   "metadata": {},
   "source": [
    "# A"
   ]
  },
  {
   "cell_type": "code",
   "execution_count": null,
   "metadata": {},
   "outputs": [],
   "source": [
    "a, b = map(int, input().split())\n",
    "\n",
    "if a >= 13:\n",
    "    print(int(b))\n",
    "elif a >= 6:\n",
    "    print(int(b/2))\n",
    "else:\n",
    "    print(0)"
   ]
  },
  {
   "cell_type": "markdown",
   "metadata": {},
   "source": [
    "# B"
   ]
  },
  {
   "cell_type": "code",
   "execution_count": null,
   "metadata": {},
   "outputs": [],
   "source": [
    "r,d,x = map(int, input().split())\n",
    "\n",
    "for i in range(1,11):\n",
    "    x = r*x - d\n",
    "    print(x)"
   ]
  },
  {
   "cell_type": "markdown",
   "metadata": {},
   "source": [
    "# C"
   ]
  },
  {
   "cell_type": "code",
   "execution_count": null,
   "metadata": {},
   "outputs": [],
   "source": [
    "N,M = map(int, input().split())\n",
    "\n",
    "min_id = 0\n",
    "max_id = N+1\n",
    "for i in range(M):\n",
    "    l, r = map(int, input().split())\n",
    "    if min_id < l:\n",
    "        min_id = l\n",
    "    if max_id > r:\n",
    "        max_id = r\n",
    "\n",
    "result = max_id - min_id\n",
    "if result < 0:\n",
    "    print(0)\n",
    "else:\n",
    "    print(result+1)"
   ]
  },
  {
   "cell_type": "markdown",
   "metadata": {},
   "source": [
    "# D"
   ]
  },
  {
   "cell_type": "code",
   "execution_count": null,
   "metadata": {},
   "outputs": [],
   "source": [
    "N,M = map(int, input().split())\n",
    "\n",
    "a_list = list(map(int, input().split()))\n",
    "bc_list = []\n",
    "for i in range(M):\n",
    "    bc_list.append(list(map(int, input().split())))\n",
    "\n",
    "\n",
    "bc_list\n",
    "\n",
    "from collections import Counter\n",
    "nums_dict = dict(Counter(a_list))\n",
    "\n",
    "for bc in bc_list:\n",
    "    b = bc[0]\n",
    "    c = bc[1]\n",
    "    if c in nums_dict:\n",
    "        nums_dict[c] += b\n",
    "    else:\n",
    "        nums_dict[c] = b\n",
    "\n",
    "cnt = N\n",
    "goukei = 0\n",
    "for k, v in sorted(nums_dict.items(), key=lambda x: -x[0]):\n",
    "    if cnt >= v:\n",
    "        goukei += k*v\n",
    "        cnt -= v\n",
    "    elif cnt < v:\n",
    "        goukei += k*cnt\n",
    "        cnt = 0\n",
    "    if cnt == 0:\n",
    "        break\n",
    "print(goukei)"
   ]
  },
  {
   "cell_type": "code",
   "execution_count": null,
   "metadata": {},
   "outputs": [],
   "source": [
    "from collections import Counter"
   ]
  },
  {
   "cell_type": "code",
   "execution_count": null,
   "metadata": {},
   "outputs": [],
   "source": [
    "dict(Counter(a_list))"
   ]
  },
  {
   "cell_type": "code",
   "execution_count": null,
   "metadata": {},
   "outputs": [],
   "source": [
    "from collections import deque\n",
    "deque = "
   ]
  },
  {
   "cell_type": "markdown",
   "metadata": {},
   "source": [
    "# E"
   ]
  },
  {
   "cell_type": "code",
   "execution_count": 2,
   "metadata": {},
   "outputs": [
    {
     "name": "stdout",
     "output_type": "stream",
     "text": [
      "2 2 2\n",
      "8\n"
     ]
    }
   ],
   "source": [
    "from math import factorial\n",
    "\n",
    "def combinations_count(n, r):\n",
    "    \n",
    "    return factorial(n) // (factorial(n - r) * factorial(r))\n",
    "\n",
    "#     result = 1\n",
    "#     for i in range(n-r+1,n+1):\n",
    "#         result = result * i % div_num\n",
    "\n",
    "#     bunbo = 1\n",
    "#     for i in range(1,r+1):\n",
    "#         bunbo *= i\n",
    "\n",
    "#     return result//bunbo\n",
    "\n",
    "N,M,K = map(int,input().split())\n",
    "\n",
    "div_num = 10**9 + 7\n",
    "\n",
    "cost = 0\n",
    "def func(n,m,k):\n",
    "    result = 0\n",
    "    for d in range(1,n):\n",
    "        select_2cell_cnt = (n-d)*(m**2)\n",
    "        result += d * select_2cell_cnt * combinations_count(n*m-2,k-2)\n",
    "        result = result % div_num\n",
    "    \n",
    "    return result % div_num\n",
    "\n",
    "cost += func(N,M,K)\n",
    "cost += func(M,N,K)\n",
    "\n",
    "print(cost % div_num)"
   ]
  },
  {
   "cell_type": "code",
   "execution_count": null,
   "metadata": {},
   "outputs": [],
   "source": [
    "from math import factorial\n",
    "def combinations_count(n, r):\n",
    "    \n",
    "    return factorial(n) // (factorial(n - r) * factorial(r))\n"
   ]
  },
  {
   "cell_type": "code",
   "execution_count": null,
   "metadata": {},
   "outputs": [],
   "source": [
    "n = 10\n",
    "r = 3\n",
    "div_num = 10**9 + 7"
   ]
  },
  {
   "cell_type": "code",
   "execution_count": null,
   "metadata": {},
   "outputs": [],
   "source": [
    "result = 1\n",
    "for i in range(n-r+1,n+1):\n",
    "    result = result * i % div_num\n",
    "\n",
    "bunbo = 1\n",
    "for i in range(1,r+1):\n",
    "    bunbo *= i\n",
    "    \n",
    "print(result//bunbo)"
   ]
  },
  {
   "cell_type": "code",
   "execution_count": null,
   "metadata": {},
   "outputs": [],
   "source": [
    "combinations_count(10,3)"
   ]
  },
  {
   "cell_type": "code",
   "execution_count": null,
   "metadata": {},
   "outputs": [],
   "source": []
  }
 ],
 "metadata": {
  "kernelspec": {
   "display_name": "Python 3",
   "language": "python",
   "name": "python3"
  },
  "language_info": {
   "codemirror_mode": {
    "name": "ipython",
    "version": 3
   },
   "file_extension": ".py",
   "mimetype": "text/x-python",
   "name": "python",
   "nbconvert_exporter": "python",
   "pygments_lexer": "ipython3",
   "version": "3.6.6"
  }
 },
 "nbformat": 4,
 "nbformat_minor": 2
}
