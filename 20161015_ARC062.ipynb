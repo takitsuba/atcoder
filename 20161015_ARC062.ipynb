{
 "cells": [
  {
   "cell_type": "markdown",
   "metadata": {},
   "source": [
    "# D"
   ]
  },
  {
   "cell_type": "code",
   "execution_count": 11,
   "metadata": {},
   "outputs": [
    {
     "name": "stdout",
     "output_type": "stream",
     "text": [
      "gpg\n"
     ]
    }
   ],
   "source": [
    "s = input()\n",
    "\n",
    "s_list = list(s)\n",
    "\n",
    "from collections import Counter\n",
    "\n",
    "counter = Counter(s_list)\n",
    "\n",
    "times = len(s_list)\n",
    "\n",
    "half = times // 2\n",
    "print(min(counter[\"g\"] - half, half-counter[\"p\"]))"
   ]
  }
 ],
 "metadata": {
  "kernelspec": {
   "display_name": "Python 3",
   "language": "python",
   "name": "python3"
  },
  "language_info": {
   "codemirror_mode": {
    "name": "ipython",
    "version": 3
   },
   "file_extension": ".py",
   "mimetype": "text/x-python",
   "name": "python",
   "nbconvert_exporter": "python",
   "pygments_lexer": "ipython3",
   "version": "3.6.6"
  }
 },
 "nbformat": 4,
 "nbformat_minor": 2
}
