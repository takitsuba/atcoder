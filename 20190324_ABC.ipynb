{
 "cells": [
  {
   "cell_type": "markdown",
   "metadata": {},
   "source": [
    "# B\n",
    "https://atcoder.jp/contests/abc122/tasks/abc122_b"
   ]
  },
  {
   "cell_type": "code",
   "execution_count": 5,
   "metadata": {},
   "outputs": [
    {
     "name": "stdout",
     "output_type": "stream",
     "text": [
      "ACCCCCC\n",
      "7\n"
     ]
    }
   ],
   "source": [
    "S = input()\n",
    "s_list = list(S)\n",
    "\n",
    "acgt = list(\"ACGT\")\n",
    "\n",
    "max_length = 0\n",
    "# max_length_bottom = 0\n",
    "\n",
    "tmp_length = 0\n",
    "for i, s in enumerate(s_list):\n",
    "    if s in acgt:\n",
    "        tmp_length += 1\n",
    "    if tmp_length > max_length:\n",
    "        max_length = tmp_length\n",
    "#         max_length_bottom =i\n",
    "    if s not in acgt:\n",
    "        tmp_length = 0\n",
    "        \n",
    "print(max_length)"
   ]
  },
  {
   "cell_type": "markdown",
   "metadata": {},
   "source": [
    "# C"
   ]
  },
  {
   "cell_type": "code",
   "execution_count": 49,
   "metadata": {},
   "outputs": [
    {
     "name": "stdout",
     "output_type": "stream",
     "text": [
      "0\n"
     ]
    }
   ],
   "source": [
    "N,Q = map(int,input().split())\n",
    "s_list = list(input())\n",
    "lr_list = []\n",
    "for _ in range(Q):\n",
    "    lr_list.append(list(map(int,input().split())))\n",
    "\n",
    "ac_head = []\n",
    "\n",
    "for i in range(N-1):\n",
    "    if s_list[i] == \"A\" and s_list[i+1] == \"C\":\n",
    "        ac_head.append(1)\n",
    "    else:\n",
    "        ac_head.append(0)\n",
    "        \n",
    "ac_head.append(0)\n",
    "\n",
    "ac_tail = [0] + ac_head[:-1]\n",
    "\n",
    "ac_head_sum = []\n",
    "tmp = 0\n",
    "for h in ac_head:\n",
    "    tmp += h\n",
    "    ac_head_sum.append(tmp)\n",
    "\n",
    "ac_tail_sum = []\n",
    "tmp = 0\n",
    "for t in ac_tail[::-1]:\n",
    "    tmp += t\n",
    "    ac_tail_sum.append(tmp)\n",
    "    \n",
    "ac_tail_sum = ac_tail_sum[::-1]\n",
    "\n",
    "goukei = ac_head_sum[-1]\n",
    "\n",
    "for l,r in lr_list:\n",
    "    if l-1 > 0:\n",
    "        mae = ac_head_sum[l-2]\n",
    "    else:\n",
    "        mae = 0\n",
    "    if r-1 < N-1:\n",
    "        ato = ac_tail_sum[r]\n",
    "    else:\n",
    "        ato = 0\n",
    "    print(goukei - mae - ato)\n"
   ]
  }
 ],
 "metadata": {
  "kernelspec": {
   "display_name": "Python 3",
   "language": "python",
   "name": "python3"
  },
  "language_info": {
   "codemirror_mode": {
    "name": "ipython",
    "version": 3
   },
   "file_extension": ".py",
   "mimetype": "text/x-python",
   "name": "python",
   "nbconvert_exporter": "python",
   "pygments_lexer": "ipython3",
   "version": "3.6.6"
  }
 },
 "nbformat": 4,
 "nbformat_minor": 2
}
