{
 "cells": [
  {
   "cell_type": "markdown",
   "metadata": {},
   "source": [
    "# B\n",
    "https://atcoder.jp/contests/abc122/tasks/abc122_b"
   ]
  },
  {
   "cell_type": "code",
   "execution_count": 5,
   "metadata": {},
   "outputs": [
    {
     "name": "stdout",
     "output_type": "stream",
     "text": [
      "ACCCCCC\n",
      "7\n"
     ]
    }
   ],
   "source": [
    "S = input()\n",
    "s_list = list(S)\n",
    "\n",
    "acgt = list(\"ACGT\")\n",
    "\n",
    "max_length = 0\n",
    "# max_length_bottom = 0\n",
    "\n",
    "tmp_length = 0\n",
    "for i, s in enumerate(s_list):\n",
    "    if s in acgt:\n",
    "        tmp_length += 1\n",
    "    if tmp_length > max_length:\n",
    "        max_length = tmp_length\n",
    "#         max_length_bottom =i\n",
    "    if s not in acgt:\n",
    "        tmp_length = 0\n",
    "        \n",
    "print(max_length)"
   ]
  },
  {
   "cell_type": "code",
   "execution_count": null,
   "metadata": {},
   "outputs": [],
   "source": []
  }
 ],
 "metadata": {
  "kernelspec": {
   "display_name": "Python 3",
   "language": "python",
   "name": "python3"
  },
  "language_info": {
   "codemirror_mode": {
    "name": "ipython",
    "version": 3
   },
   "file_extension": ".py",
   "mimetype": "text/x-python",
   "name": "python",
   "nbconvert_exporter": "python",
   "pygments_lexer": "ipython3",
   "version": "3.6.6"
  }
 },
 "nbformat": 4,
 "nbformat_minor": 2
}
