{
 "cells": [
  {
   "cell_type": "markdown",
   "metadata": {},
   "source": [
    "# A"
   ]
  },
  {
   "cell_type": "code",
   "execution_count": 2,
   "metadata": {},
   "outputs": [
    {
     "data": {
      "application/vnd.jupyter.widget-view+json": {
       "model_id": "98050f2bac614255a0db1832e8782a9e",
       "version_major": 2,
       "version_minor": 0
      },
      "text/plain": [
       "Textarea(value='')"
      ]
     },
     "metadata": {},
     "output_type": "display_data"
    }
   ],
   "source": [
    "from ipywidgets import Textarea\n",
    "import io\n",
    "\n",
    "if 'open' in globals():\n",
    "    del open\n",
    "if 'input' in globals():\n",
    "    del input\n",
    "\n",
    "original_open = open\n",
    "\n",
    "class custom_open():\n",
    "    def __init__(self):\n",
    "        self.text = ''\n",
    "\n",
    "    def __call__(self, file, *args, **kwargs):\n",
    "        if file == 0:\n",
    "            return io.StringIO(self.text)\n",
    "        return original_open(file, *args, **kwargs)\n",
    "\n",
    "    def updater(self, change):\n",
    "        self.text = change['new']\n",
    "\n",
    "class custom_input():\n",
    "    def __init__(self):\n",
    "        self.__sio = io.StringIO('')\n",
    "        self.shell = get_ipython()\n",
    "        if self.shell.events.callbacks['pre_run_cell'] != []:\n",
    "            self.shell.events.callbacks['pre_run_cell'] = []\n",
    "        self.shell.events.register('pre_run_cell', self.pre_run_cell)\n",
    "\n",
    "    def __call__(self):\n",
    "        return self.__sio.readline().strip()\n",
    "\n",
    "    def pre_run_cell(self, info):\n",
    "        text = self.shell.user_ns.get('text_area', None).value\n",
    "        self.__sio = io.StringIO(text)\n",
    "\n",
    "open = custom_open()\n",
    "input = custom_input()\n",
    "\n",
    "text_area = Textarea()\n",
    "text_area.observe(open.updater, names='value')\n",
    "display(text_area)"
   ]
  },
  {
   "cell_type": "code",
   "execution_count": null,
   "metadata": {},
   "outputs": [],
   "source": [
    "# てんでダメ\n",
    "# エラトステネスの篩,素数\n",
    "S = int(input())\n",
    "\n",
    "def create_prime_numbers(upper_num):\n",
    "    data = [2] + list(range(3,upper_num+1,2))\n",
    "    idx = 0\n",
    "    length = len(data)\n",
    "    while idx < length:\n",
    "        prime = data[idx]\n",
    "        data = [d for d in data if (d==prime or d % prime != 0)]\n",
    "        idx += 1\n",
    "        length = len(data)\n",
    "    \n",
    "    return data\n",
    "\n",
    "def create_prime_numbers2(upper_num):\n",
    "    data = [2] + list(range(3,upper_num+1,2))\n",
    "    idx = 0\n",
    "    length = len(data)\n",
    "    primes=[]\n",
    "    while length>0:\n",
    "        prime = data[0]\n",
    "        print(prime)\n",
    "        primes.append(prime)\n",
    "        data = [d for d in data if d % prime != 0]\n",
    "        idx += 1\n",
    "        length = len(data)\n",
    "    \n",
    "    return primes\n",
    "\n",
    "primes = create_prime_numbers2(10**9)\n",
    "\n",
    "def pair_nums(S,primes):\n",
    "    for p in primes[::-1]:\n",
    "        if S % p == 0:\n",
    "            return p, S//p\n",
    "\n",
    "x1,y2 = pair_nums(S,primes)\n",
    "\n",
    "print(f\"{x1} 0 0 {y2} 0 0\")"
   ]
  },
  {
   "cell_type": "code",
   "execution_count": 8,
   "metadata": {},
   "outputs": [
    {
     "name": "stdout",
     "output_type": "stream",
     "text": [
      "0 0 1 1000000000 1 999999997\n"
     ]
    }
   ],
   "source": [
    "# 外積\n",
    "S = int(input())\n",
    "\n",
    "x2 = 1\n",
    "y2 = 10**9\n",
    "\n",
    "quotient = S//(10**9)\n",
    "mod = S%(10**9)\n",
    "\n",
    "if mod != 0:\n",
    "    x3 = quotient+1\n",
    "    y3 = -(mod-10**9)\n",
    "else:\n",
    "    x3 = quotient\n",
    "    y3 = mod\n",
    "    \n",
    "print(\" \".join(map(str,[0,0,x2,y2,x3,y3])))"
   ]
  },
  {
   "cell_type": "code",
   "execution_count": 9,
   "metadata": {},
   "outputs": [
    {
     "name": "stdout",
     "output_type": "stream",
     "text": [
      "1 2 3\n"
     ]
    }
   ],
   "source": [
    "print(1,2,3)"
   ]
  },
  {
   "cell_type": "code",
   "execution_count": null,
   "metadata": {},
   "outputs": [],
   "source": []
  }
 ],
 "metadata": {
  "kernelspec": {
   "display_name": "Python 3",
   "language": "python",
   "name": "python3"
  },
  "language_info": {
   "codemirror_mode": {
    "name": "ipython",
    "version": 3
   },
   "file_extension": ".py",
   "mimetype": "text/x-python",
   "name": "python",
   "nbconvert_exporter": "python",
   "pygments_lexer": "ipython3",
   "version": "3.6.6"
  }
 },
 "nbformat": 4,
 "nbformat_minor": 2
}
