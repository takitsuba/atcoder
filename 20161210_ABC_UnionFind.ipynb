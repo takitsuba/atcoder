{
 "cells": [
  {
   "cell_type": "markdown",
   "metadata": {},
   "source": [
    "# D\n",
    "https://abc049.contest.atcoder.jp/tasks/arc065_b\n",
    "- UnionFind"
   ]
  },
  {
   "cell_type": "markdown",
   "metadata": {},
   "source": [
    "- N個の都市\n",
    "- K本の道路、L本の鉄道\n",
    "- i番目の道路はpi-qiを結ぶ\n",
    "- 鉄道はri-siをを結ぶ"
   ]
  },
  {
   "cell_type": "code",
   "execution_count": 70,
   "metadata": {},
   "outputs": [
    {
     "name": "stdout",
     "output_type": "stream",
     "text": [
      "3 1 1\n",
      "2 3\n",
      "2 3\n",
      "1 2 2\n"
     ]
    }
   ],
   "source": [
    "N,K,L = map(int, input().split())\n",
    "pq_list = []\n",
    "for _ in range(K):\n",
    "    pq_list.append(list(map(int, input().split())))\n",
    "\n",
    "rs_list = []\n",
    "for _ in range(L):\n",
    "    rs_list.append(list(map(int, input().split())))\n",
    "\n",
    "class UnionFind():\n",
    "    def __init__(self):\n",
    "        self.roots = {}\n",
    "        self.ranks = {}\n",
    "\n",
    "    def connect(self,x,y):\n",
    "        root_x = self.pick_root(x)\n",
    "        root_y = self.pick_root(y)\n",
    "        if not root_x == root_y:\n",
    "            if self.ranks[root_x] >= self.ranks[root_y]:\n",
    "                # 短い方の根を長い方の根にする\n",
    "                # 等しいときはxにくっつける\n",
    "                self.roots[y] = root_x\n",
    "            else:\n",
    "                self.roots[x] = root_y\n",
    "\n",
    "        if self.ranks[root_x]==self.ranks[root_y]:\n",
    "            # 等しいときxにくっつけると、xのランクが1増える\n",
    "            self.ranks[x] += 1\n",
    "\n",
    "    def pick_root(self,k):\n",
    "        if not k in self.roots:\n",
    "            self.roots[k] = k\n",
    "            self.ranks[k] = 1\n",
    "            return k\n",
    "\n",
    "        k_root = self.roots[k]\n",
    "        if k_root == k:\n",
    "            return k\n",
    "        else:\n",
    "            # 経路圧縮（のつもり）\n",
    "            # pick_rootで毎回見に行くのが無駄にも思えるが、いつ根ノードがくっつくかわからないので必要な気がしている\n",
    "            self.roots[k] = self.pick_root(self.roots[k])\n",
    "            return self.roots[k]\n",
    "#             return self.pick_root(self.roots[k])\n",
    "\n",
    "UF_pq = UnionFind()\n",
    "for p,q in pq_list:\n",
    "    UF_pq.connect(p, q)\n",
    "\n",
    "UF_rs = UnionFind()\n",
    "for r,s in rs_list:\n",
    "    UF_rs.connect(r, s)\n",
    "\n",
    "root_tuples = []\n",
    "for i in range(1,N+1):\n",
    "    if not i in UF_pq.roots:\n",
    "        root_tuples.append((None,None))\n",
    "        continue\n",
    "    if not i in UF_rs.roots:\n",
    "        root_tuples.append((None,None))\n",
    "        continue\n",
    "    pq_root = UF_pq.roots[i]\n",
    "    rs_root = UF_rs.roots[i]\n",
    "    root_tuples.append((pq_root,rs_root))\n",
    "\n",
    "from collections import Counter\n",
    "counter = Counter(root_tuples)\n",
    "counter[(None,None)] = 1\n",
    "\n",
    "kotae_list = []\n",
    "for i in range(N):\n",
    "    kotae_list.append(counter[root_tuples[i]])\n",
    "\n",
    "print(\" \".join(map(str,kotae_list)))"
   ]
  },
  {
   "cell_type": "code",
   "execution_count": 66,
   "metadata": {},
   "outputs": [
    {
     "data": {
      "text/plain": [
       "'1 2 3 4 5'"
      ]
     },
     "execution_count": 66,
     "metadata": {},
     "output_type": "execute_result"
    }
   ],
   "source": [
    "\" \".join(map(str,[1,2,3,4,5]))"
   ]
  },
  {
   "cell_type": "code",
   "execution_count": null,
   "metadata": {},
   "outputs": [],
   "source": []
  }
 ],
 "metadata": {
  "kernelspec": {
   "display_name": "Python 3",
   "language": "python",
   "name": "python3"
  },
  "language_info": {
   "codemirror_mode": {
    "name": "ipython",
    "version": 3
   },
   "file_extension": ".py",
   "mimetype": "text/x-python",
   "name": "python",
   "nbconvert_exporter": "python",
   "pygments_lexer": "ipython3",
   "version": "3.6.6"
  }
 },
 "nbformat": 4,
 "nbformat_minor": 2
}
