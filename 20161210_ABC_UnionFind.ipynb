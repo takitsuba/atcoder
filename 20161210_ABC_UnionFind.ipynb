{
 "cells": [
  {
   "cell_type": "markdown",
   "metadata": {},
   "source": [
    "# D\n",
    "https://abc049.contest.atcoder.jp/tasks/arc065_b\n",
    "- UnionFind"
   ]
  },
  {
   "cell_type": "markdown",
   "metadata": {},
   "source": [
    "- N個の都市\n",
    "- K本の道路、L本の鉄道\n",
    "- i番目の道路はpi-qiを結ぶ\n",
    "- 鉄道はri-siをを結ぶ"
   ]
  },
  {
   "cell_type": "code",
   "execution_count": 110,
   "metadata": {},
   "outputs": [
    {
     "name": "stdout",
     "output_type": "stream",
     "text": [
      "4 3 1\n",
      "1 2\n",
      "2 3\n",
      "3 4\n",
      "2 3\n"
     ]
    }
   ],
   "source": [
    "from collections import Counter\n",
    "\n",
    "N,K,L = map(int, input().split())\n",
    "pq_list = []\n",
    "for _ in range(K):\n",
    "    pq_list.append(list(map(int, input().split())))\n",
    "\n",
    "rs_list = []\n",
    "for _ in range(L):\n",
    "    rs_list.append(list(map(int, input().split())))\n",
    "\n",
    "class UnionFind():\n",
    "    def __init__(self):\n",
    "        self.roots = {}\n",
    "        self.ranks = {}\n",
    "\n",
    "    def connect(self,x,y):\n",
    "        root_x = self.pick_root(x)\n",
    "        root_y = self.pick_root(y)\n",
    "\n",
    "        if not root_x == root_y:\n",
    "            if self.ranks[root_x] >= self.ranks[root_y]:\n",
    "                # 短い方の根を長い方の根にする\n",
    "                # 等しいときはxにくっつける\n",
    "                self.roots[root_y] = root_x\n",
    "            else:\n",
    "                self.roots[root_x] = root_y\n",
    "\n",
    "            if self.ranks[root_x]==self.ranks[root_y]:\n",
    "                # 等しいときxにくっつけると、xのランクが1増える\n",
    "                self.ranks[x] += 1\n",
    "\n",
    "    def pick_root(self,k):\n",
    "        if not k in self.roots:\n",
    "            self.roots[k] = k\n",
    "            self.ranks[k] = 1\n",
    "            return k\n",
    "\n",
    "        k_root = self.roots[k]\n",
    "        if k_root == k:\n",
    "            return k\n",
    "        else:\n",
    "            # pick_rootで毎回見に行くのが無駄にも思えるが、いつ根ノードがくっつくかわからないので必要な気がしている\n",
    "            self.roots[k] = self.pick_root(self.roots[k_root])\n",
    "            return self.roots[k]\n",
    "#             return self.pick_root(k_root)\n",
    "\n",
    "UF_pq = UnionFind()\n",
    "for p,q in pq_list:\n",
    "    UF_pq.connect(p, q)\n",
    "\n",
    "UF_rs = UnionFind()\n",
    "for r,s in rs_list:\n",
    "    UF_rs.connect(r, s)\n",
    "\n",
    "root_tuples = []\n",
    "for i in range(1,N+1):\n",
    "    # rootsにないということは、一度もconnectしてないということ\n",
    "    # それであれば最終的な解答ではその街は1（自分のみ）でよいので\n",
    "    # (None, None)で保存しcounterを１に変更する\n",
    "    if not i in UF_pq.roots:\n",
    "        root_tuples.append((None,None))\n",
    "        continue\n",
    "    if not i in UF_rs.roots:\n",
    "        root_tuples.append((None,None))\n",
    "        continue\n",
    "    pq_root = UF_pq.pick_root(i)\n",
    "    rs_root = UF_rs.pick_root(i)\n",
    "    \n",
    "    # ある都市のpqのroot,rsのrootを保存。\n",
    "    # これが両方共一致する都市は、「どちらでも連結している」といえる\n",
    "    root_tuples.append((pq_root,rs_root))\n",
    "\n",
    "counter = Counter(root_tuples)\n",
    "counter[(None,None)] = 1\n",
    "\n",
    "kotae_list = []\n",
    "for i in range(N):\n",
    "    kotae_list.append(counter[root_tuples[i]])\n",
    "\n",
    "print(\" \".join(map(str,kotae_list)))"
   ]
  },
  {
   "cell_type": "code",
   "execution_count": 21,
   "metadata": {},
   "outputs": [
    {
     "data": {
      "text/plain": [
       "2"
      ]
     },
     "execution_count": 21,
     "metadata": {},
     "output_type": "execute_result"
    }
   ],
   "source": [
    "Counter([(1,2),(1,2),(2,1)])[(1,2)]"
   ]
  },
  {
   "cell_type": "code",
   "execution_count": 16,
   "metadata": {},
   "outputs": [
    {
     "data": {
      "text/plain": [
       "[(None, None), (1, 2), (1, 2), (None, None)]"
      ]
     },
     "execution_count": 16,
     "metadata": {},
     "output_type": "execute_result"
    }
   ],
   "source": [
    "root_tuples"
   ]
  },
  {
   "cell_type": "code",
   "execution_count": 66,
   "metadata": {},
   "outputs": [
    {
     "data": {
      "text/plain": [
       "'1 2 3 4 5'"
      ]
     },
     "execution_count": 66,
     "metadata": {},
     "output_type": "execute_result"
    }
   ],
   "source": [
    "\" \".join(map(str,[1,2,3,4,5]))"
   ]
  },
  {
   "cell_type": "code",
   "execution_count": 7,
   "metadata": {},
   "outputs": [
    {
     "data": {
      "text/plain": [
       "'1'"
      ]
     },
     "execution_count": 7,
     "metadata": {},
     "output_type": "execute_result"
    }
   ],
   "source": [
    "\" \".join(map(str,[1]))"
   ]
  },
  {
   "cell_type": "code",
   "execution_count": 68,
   "metadata": {},
   "outputs": [],
   "source": [
    "uf = UnionFind()"
   ]
  },
  {
   "cell_type": "code",
   "execution_count": 64,
   "metadata": {},
   "outputs": [],
   "source": [
    "uf.connect(1,2)\n",
    "uf.connect(3,2)"
   ]
  },
  {
   "cell_type": "code",
   "execution_count": 65,
   "metadata": {},
   "outputs": [
    {
     "data": {
      "text/plain": [
       "{1: 1, 2: 1, 3: 1}"
      ]
     },
     "execution_count": 65,
     "metadata": {},
     "output_type": "execute_result"
    }
   ],
   "source": [
    "uf.roots"
   ]
  },
  {
   "cell_type": "code",
   "execution_count": 66,
   "metadata": {},
   "outputs": [],
   "source": [
    "uf.connect(2,4)"
   ]
  },
  {
   "cell_type": "code",
   "execution_count": 67,
   "metadata": {},
   "outputs": [
    {
     "data": {
      "text/plain": [
       "{1: 1, 2: 1, 3: 1, 4: 1}"
      ]
     },
     "execution_count": 67,
     "metadata": {},
     "output_type": "execute_result"
    }
   ],
   "source": [
    "uf.roots"
   ]
  },
  {
   "cell_type": "code",
   "execution_count": null,
   "metadata": {},
   "outputs": [],
   "source": []
  },
  {
   "cell_type": "code",
   "execution_count": null,
   "metadata": {},
   "outputs": [],
   "source": []
  },
  {
   "cell_type": "code",
   "execution_count": 94,
   "metadata": {},
   "outputs": [],
   "source": [
    "uf = UnionFind()"
   ]
  },
  {
   "cell_type": "code",
   "execution_count": 95,
   "metadata": {},
   "outputs": [],
   "source": [
    "uf.connect(1,2)"
   ]
  },
  {
   "cell_type": "code",
   "execution_count": 96,
   "metadata": {},
   "outputs": [],
   "source": [
    "uf.connect(3,2)"
   ]
  },
  {
   "cell_type": "code",
   "execution_count": 97,
   "metadata": {},
   "outputs": [],
   "source": [
    "uf.connect(3,4)"
   ]
  },
  {
   "cell_type": "code",
   "execution_count": 98,
   "metadata": {},
   "outputs": [],
   "source": [
    "uf.connect(5,6)\n",
    "uf.connect(7,6)"
   ]
  },
  {
   "cell_type": "code",
   "execution_count": 99,
   "metadata": {},
   "outputs": [],
   "source": [
    "uf.connect(8,9)\n",
    "uf.connect(9,10)"
   ]
  },
  {
   "cell_type": "code",
   "execution_count": 100,
   "metadata": {},
   "outputs": [
    {
     "data": {
      "text/plain": [
       "{1: 1, 2: 1, 3: 1, 4: 1, 5: 5, 6: 5, 7: 5, 8: 8, 9: 8, 10: 8}"
      ]
     },
     "execution_count": 100,
     "metadata": {},
     "output_type": "execute_result"
    }
   ],
   "source": [
    "uf.roots"
   ]
  },
  {
   "cell_type": "code",
   "execution_count": 101,
   "metadata": {},
   "outputs": [],
   "source": [
    "uf.connect(1,5)"
   ]
  },
  {
   "cell_type": "code",
   "execution_count": 102,
   "metadata": {},
   "outputs": [
    {
     "data": {
      "text/plain": [
       "{1: 1, 2: 1, 3: 1, 4: 1, 5: 1, 6: 5, 7: 5, 8: 8, 9: 8, 10: 8}"
      ]
     },
     "execution_count": 102,
     "metadata": {},
     "output_type": "execute_result"
    }
   ],
   "source": [
    "uf.roots"
   ]
  },
  {
   "cell_type": "code",
   "execution_count": 103,
   "metadata": {},
   "outputs": [],
   "source": [
    "uf.connect(2,10)"
   ]
  },
  {
   "cell_type": "code",
   "execution_count": 104,
   "metadata": {},
   "outputs": [
    {
     "data": {
      "text/plain": [
       "{1: 1, 2: 1, 3: 1, 4: 1, 5: 1, 6: 5, 7: 5, 8: 1, 9: 8, 10: 8}"
      ]
     },
     "execution_count": 104,
     "metadata": {},
     "output_type": "execute_result"
    }
   ],
   "source": [
    "uf.roots"
   ]
  },
  {
   "cell_type": "code",
   "execution_count": 105,
   "metadata": {},
   "outputs": [
    {
     "data": {
      "text/plain": [
       "1"
      ]
     },
     "execution_count": 105,
     "metadata": {},
     "output_type": "execute_result"
    }
   ],
   "source": [
    "uf.pick_root(9)"
   ]
  },
  {
   "cell_type": "code",
   "execution_count": 60,
   "metadata": {},
   "outputs": [
    {
     "data": {
      "text/plain": [
       "1"
      ]
     },
     "execution_count": 60,
     "metadata": {},
     "output_type": "execute_result"
    }
   ],
   "source": [
    "uf.pick_root(6)"
   ]
  },
  {
   "cell_type": "code",
   "execution_count": 108,
   "metadata": {},
   "outputs": [
    {
     "name": "stdout",
     "output_type": "stream",
     "text": [
      "1\n",
      "1\n",
      "1\n",
      "1\n",
      "1\n",
      "1\n",
      "1\n",
      "1\n",
      "1\n",
      "1\n"
     ]
    }
   ],
   "source": [
    "for i in range(1,11):\n",
    "    print(uf.pick_root(i))"
   ]
  },
  {
   "cell_type": "code",
   "execution_count": null,
   "metadata": {},
   "outputs": [],
   "source": []
  },
  {
   "cell_type": "code",
   "execution_count": null,
   "metadata": {},
   "outputs": [],
   "source": []
  },
  {
   "cell_type": "markdown",
   "metadata": {},
   "source": [
    "# メモ"
   ]
  },
  {
   "cell_type": "code",
   "execution_count": null,
   "metadata": {},
   "outputs": [],
   "source": [
    "            \n",
    "#             self.roots[k] = self.pick_root(self.roots[k_root])\n",
    "#             return self.roots[k]\n"
   ]
  }
 ],
 "metadata": {
  "kernelspec": {
   "display_name": "Python 3",
   "language": "python",
   "name": "python3"
  },
  "language_info": {
   "codemirror_mode": {
    "name": "ipython",
    "version": 3
   },
   "file_extension": ".py",
   "mimetype": "text/x-python",
   "name": "python",
   "nbconvert_exporter": "python",
   "pygments_lexer": "ipython3",
   "version": "3.6.6"
  }
 },
 "nbformat": 4,
 "nbformat_minor": 2
}
