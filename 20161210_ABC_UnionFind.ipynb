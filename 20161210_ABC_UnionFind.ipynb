{
 "cells": [
  {
   "cell_type": "code",
   "execution_count": 1,
   "metadata": {},
   "outputs": [
    {
     "data": {
      "application/vnd.jupyter.widget-view+json": {
       "model_id": "7391bf4a4df14e9e8dde3fd9e0d6070f",
       "version_major": 2,
       "version_minor": 0
      },
      "text/plain": [
       "Textarea(value='')"
      ]
     },
     "metadata": {},
     "output_type": "display_data"
    }
   ],
   "source": [
    "from ipywidgets import Textarea\n",
    "import io\n",
    "\n",
    "if 'open' in globals():\n",
    "    del open\n",
    "if 'input' in globals():\n",
    "    del input\n",
    "\n",
    "original_open = open\n",
    "\n",
    "class custom_open():\n",
    "    def __init__(self):\n",
    "        self.text = ''\n",
    "\n",
    "    def __call__(self, file, *args, **kwargs):\n",
    "        if file == 0:\n",
    "            return io.StringIO(self.text)\n",
    "        return original_open(file, *args, **kwargs)\n",
    "\n",
    "    def updater(self, change):\n",
    "        self.text = change['new']\n",
    "\n",
    "class custom_input():\n",
    "    def __init__(self):\n",
    "        self.__sio = io.StringIO('')\n",
    "        self.shell = get_ipython()\n",
    "        if self.shell.events.callbacks['pre_run_cell'] != []:\n",
    "            self.shell.events.callbacks['pre_run_cell'] = []\n",
    "        self.shell.events.register('pre_run_cell', self.pre_run_cell)\n",
    "\n",
    "    def __call__(self):\n",
    "        return self.__sio.readline().strip()\n",
    "\n",
    "    def pre_run_cell(self, info):\n",
    "        text = self.shell.user_ns.get('text_area', None).value\n",
    "        self.__sio = io.StringIO(text)\n",
    "\n",
    "open = custom_open()\n",
    "input = custom_input()\n",
    "\n",
    "text_area = Textarea()\n",
    "text_area.observe(open.updater, names='value')\n",
    "display(text_area)"
   ]
  },
  {
   "cell_type": "markdown",
   "metadata": {},
   "source": [
    "# C"
   ]
  },
  {
   "cell_type": "code",
   "execution_count": 9,
   "metadata": {},
   "outputs": [
    {
     "name": "stdout",
     "output_type": "stream",
     "text": [
      "YES\n"
     ]
    }
   ],
   "source": [
    "# MLE\n",
    "s = input()\n",
    "\n",
    "kws = [\"dream\", \"dreamer\", \"erase\", \"eraser\"]\n",
    "\n",
    "def func(s):\n",
    "    if s == \"\":\n",
    "        return True\n",
    "    bool = False\n",
    "    for kw in kws:\n",
    "        if s.startswith(kw):\n",
    "            bool = bool or func(s[len(kw):])\n",
    "    return bool\n",
    "\n",
    "result = func(s)\n",
    "\n",
    "if result:\n",
    "    print(\"YES\")\n",
    "else:\n",
    "    print(\"NO\")\n"
   ]
  },
  {
   "cell_type": "code",
   "execution_count": 10,
   "metadata": {},
   "outputs": [
    {
     "data": {
      "text/plain": [
       "'cd'"
      ]
     },
     "execution_count": 10,
     "metadata": {},
     "output_type": "execute_result"
    }
   ],
   "source": [
    "\"abcde\"[2:4]"
   ]
  },
  {
   "cell_type": "code",
   "execution_count": 17,
   "metadata": {},
   "outputs": [],
   "source": [
    "s_list = list(input())\n",
    "\n",
    "kws = [list(kw) for kw in [\"dream\", \"dreamer\", \"erase\", \"eraser\"]]\n",
    "\n",
    "memo = [0 for _ in range(len(s_list)+1)]\n",
    "memo[0] = 1\n",
    "for i in range(len(s_list)):\n",
    "    if memo[i] == 1:\n",
    "        for kw in kws:\n",
    "            l = len(kw)\n",
    "            if s_list[i:i+l] == kw:\n",
    "                memo[i+l] = 1\n",
    "\n",
    "if memo[-1] == 1:\n",
    "    print(\"YES\")\n",
    "else:\n",
    "    print('NO')"
   ]
  },
  {
   "cell_type": "markdown",
   "metadata": {},
   "source": [
    "# D\n",
    "https://abc049.contest.atcoder.jp/tasks/arc065_b\n",
    "- UnionFind"
   ]
  },
  {
   "cell_type": "markdown",
   "metadata": {},
   "source": [
    "- N個の都市\n",
    "- K本の道路、L本の鉄道\n",
    "- i番目の道路はpi-qiを結ぶ\n",
    "- 鉄道はri-siをを結ぶ"
   ]
  },
  {
   "cell_type": "code",
   "execution_count": 110,
   "metadata": {},
   "outputs": [
    {
     "name": "stdout",
     "output_type": "stream",
     "text": [
      "4 3 1\n",
      "1 2\n",
      "2 3\n",
      "3 4\n",
      "2 3\n"
     ]
    }
   ],
   "source": [
    "from collections import Counter\n",
    "\n",
    "N,K,L = map(int, input().split())\n",
    "pq_list = []\n",
    "for _ in range(K):\n",
    "    pq_list.append(list(map(int, input().split())))\n",
    "\n",
    "rs_list = []\n",
    "for _ in range(L):\n",
    "    rs_list.append(list(map(int, input().split())))\n",
    "\n",
    "class UnionFind():\n",
    "    def __init__(self):\n",
    "        self.roots = {}\n",
    "        self.ranks = {}\n",
    "\n",
    "    def connect(self,x,y):\n",
    "        root_x = self.pick_root(x)\n",
    "        root_y = self.pick_root(y)\n",
    "\n",
    "        if not root_x == root_y:\n",
    "            if self.ranks[root_x] >= self.ranks[root_y]:\n",
    "                # 短い方の根を長い方の「根の根」にする\n",
    "                # 等しいときはxにくっつける\n",
    "                self.roots[root_y] = root_x\n",
    "            else:\n",
    "                self.roots[root_x] = root_y\n",
    "\n",
    "            if self.ranks[root_x]==self.ranks[root_y]:\n",
    "                # 等しいときxにくっつけると、xのランクが1増える\n",
    "                self.ranks[x] += 1\n",
    "\n",
    "    def pick_root(self,k):\n",
    "        if not k in self.roots:\n",
    "            self.roots[k] = k\n",
    "            self.ranks[k] = 1\n",
    "            return k\n",
    "\n",
    "        k_root = self.roots[k]\n",
    "        if k_root == k:\n",
    "            return k\n",
    "        else:\n",
    "            # 経路圧縮\n",
    "            # pick_rootで毎回見に行くのが無駄にも思えるが、いつ根ノードがくっつくかわからないので必要な気がしている\n",
    "            self.roots[k] = self.pick_root(self.roots[k_root])\n",
    "            return self.roots[k]\n",
    "#             return self.pick_root(k_root)\n",
    "\n",
    "UF_pq = UnionFind()\n",
    "for p,q in pq_list:\n",
    "    UF_pq.connect(p, q)\n",
    "\n",
    "UF_rs = UnionFind()\n",
    "for r,s in rs_list:\n",
    "    UF_rs.connect(r, s)\n",
    "\n",
    "root_tuples = []\n",
    "for i in range(1,N+1):\n",
    "    # rootsにないということは、一度もconnectしてないということ\n",
    "    # それであれば最終的な解答ではその街は1（自分のみ）でよいので\n",
    "    # (None, None)で保存しcounterを１に変更する\n",
    "    if not i in UF_pq.roots:\n",
    "        root_tuples.append((None,None))\n",
    "        continue\n",
    "    if not i in UF_rs.roots:\n",
    "        root_tuples.append((None,None))\n",
    "        continue\n",
    "    pq_root = UF_pq.pick_root(i)\n",
    "    rs_root = UF_rs.pick_root(i)\n",
    "    \n",
    "    # ある都市のpqのroot,rsのrootを保存。\n",
    "    # これが両方共一致する都市は、「どちらでも連結している」といえる\n",
    "    root_tuples.append((pq_root,rs_root))\n",
    "\n",
    "counter = Counter(root_tuples)\n",
    "counter[(None,None)] = 1\n",
    "\n",
    "kotae_list = []\n",
    "for i in range(N):\n",
    "    kotae_list.append(counter[root_tuples[i]])\n",
    "\n",
    "print(\" \".join(map(str,kotae_list)))"
   ]
  },
  {
   "cell_type": "code",
   "execution_count": 21,
   "metadata": {},
   "outputs": [
    {
     "data": {
      "text/plain": [
       "2"
      ]
     },
     "execution_count": 21,
     "metadata": {},
     "output_type": "execute_result"
    }
   ],
   "source": [
    "Counter([(1,2),(1,2),(2,1)])[(1,2)]"
   ]
  },
  {
   "cell_type": "code",
   "execution_count": 16,
   "metadata": {},
   "outputs": [
    {
     "data": {
      "text/plain": [
       "[(None, None), (1, 2), (1, 2), (None, None)]"
      ]
     },
     "execution_count": 16,
     "metadata": {},
     "output_type": "execute_result"
    }
   ],
   "source": [
    "root_tuples"
   ]
  },
  {
   "cell_type": "code",
   "execution_count": 66,
   "metadata": {},
   "outputs": [
    {
     "data": {
      "text/plain": [
       "'1 2 3 4 5'"
      ]
     },
     "execution_count": 66,
     "metadata": {},
     "output_type": "execute_result"
    }
   ],
   "source": [
    "\" \".join(map(str,[1,2,3,4,5]))"
   ]
  },
  {
   "cell_type": "code",
   "execution_count": 7,
   "metadata": {},
   "outputs": [
    {
     "data": {
      "text/plain": [
       "'1'"
      ]
     },
     "execution_count": 7,
     "metadata": {},
     "output_type": "execute_result"
    }
   ],
   "source": [
    "\" \".join(map(str,[1]))"
   ]
  },
  {
   "cell_type": "code",
   "execution_count": 68,
   "metadata": {},
   "outputs": [],
   "source": [
    "uf = UnionFind()"
   ]
  },
  {
   "cell_type": "code",
   "execution_count": 64,
   "metadata": {},
   "outputs": [],
   "source": [
    "uf.connect(1,2)\n",
    "uf.connect(3,2)"
   ]
  },
  {
   "cell_type": "code",
   "execution_count": 65,
   "metadata": {},
   "outputs": [
    {
     "data": {
      "text/plain": [
       "{1: 1, 2: 1, 3: 1}"
      ]
     },
     "execution_count": 65,
     "metadata": {},
     "output_type": "execute_result"
    }
   ],
   "source": [
    "uf.roots"
   ]
  },
  {
   "cell_type": "code",
   "execution_count": 66,
   "metadata": {},
   "outputs": [],
   "source": [
    "uf.connect(2,4)"
   ]
  },
  {
   "cell_type": "code",
   "execution_count": 67,
   "metadata": {},
   "outputs": [
    {
     "data": {
      "text/plain": [
       "{1: 1, 2: 1, 3: 1, 4: 1}"
      ]
     },
     "execution_count": 67,
     "metadata": {},
     "output_type": "execute_result"
    }
   ],
   "source": [
    "uf.roots"
   ]
  },
  {
   "cell_type": "code",
   "execution_count": null,
   "metadata": {},
   "outputs": [],
   "source": []
  },
  {
   "cell_type": "code",
   "execution_count": null,
   "metadata": {},
   "outputs": [],
   "source": []
  },
  {
   "cell_type": "code",
   "execution_count": 94,
   "metadata": {},
   "outputs": [],
   "source": [
    "uf = UnionFind()"
   ]
  },
  {
   "cell_type": "code",
   "execution_count": 95,
   "metadata": {},
   "outputs": [],
   "source": [
    "uf.connect(1,2)"
   ]
  },
  {
   "cell_type": "code",
   "execution_count": 96,
   "metadata": {},
   "outputs": [],
   "source": [
    "uf.connect(3,2)"
   ]
  },
  {
   "cell_type": "code",
   "execution_count": 97,
   "metadata": {},
   "outputs": [],
   "source": [
    "uf.connect(3,4)"
   ]
  },
  {
   "cell_type": "code",
   "execution_count": 98,
   "metadata": {},
   "outputs": [],
   "source": [
    "uf.connect(5,6)\n",
    "uf.connect(7,6)"
   ]
  },
  {
   "cell_type": "code",
   "execution_count": 99,
   "metadata": {},
   "outputs": [],
   "source": [
    "uf.connect(8,9)\n",
    "uf.connect(9,10)"
   ]
  },
  {
   "cell_type": "code",
   "execution_count": 100,
   "metadata": {},
   "outputs": [
    {
     "data": {
      "text/plain": [
       "{1: 1, 2: 1, 3: 1, 4: 1, 5: 5, 6: 5, 7: 5, 8: 8, 9: 8, 10: 8}"
      ]
     },
     "execution_count": 100,
     "metadata": {},
     "output_type": "execute_result"
    }
   ],
   "source": [
    "uf.roots"
   ]
  },
  {
   "cell_type": "code",
   "execution_count": 101,
   "metadata": {},
   "outputs": [],
   "source": [
    "uf.connect(1,5)"
   ]
  },
  {
   "cell_type": "code",
   "execution_count": 102,
   "metadata": {},
   "outputs": [
    {
     "data": {
      "text/plain": [
       "{1: 1, 2: 1, 3: 1, 4: 1, 5: 1, 6: 5, 7: 5, 8: 8, 9: 8, 10: 8}"
      ]
     },
     "execution_count": 102,
     "metadata": {},
     "output_type": "execute_result"
    }
   ],
   "source": [
    "uf.roots"
   ]
  },
  {
   "cell_type": "code",
   "execution_count": 103,
   "metadata": {},
   "outputs": [],
   "source": [
    "uf.connect(2,10)"
   ]
  },
  {
   "cell_type": "code",
   "execution_count": 104,
   "metadata": {},
   "outputs": [
    {
     "data": {
      "text/plain": [
       "{1: 1, 2: 1, 3: 1, 4: 1, 5: 1, 6: 5, 7: 5, 8: 1, 9: 8, 10: 8}"
      ]
     },
     "execution_count": 104,
     "metadata": {},
     "output_type": "execute_result"
    }
   ],
   "source": [
    "uf.roots"
   ]
  },
  {
   "cell_type": "code",
   "execution_count": 105,
   "metadata": {},
   "outputs": [
    {
     "data": {
      "text/plain": [
       "1"
      ]
     },
     "execution_count": 105,
     "metadata": {},
     "output_type": "execute_result"
    }
   ],
   "source": [
    "uf.pick_root(9)"
   ]
  },
  {
   "cell_type": "code",
   "execution_count": 60,
   "metadata": {},
   "outputs": [
    {
     "data": {
      "text/plain": [
       "1"
      ]
     },
     "execution_count": 60,
     "metadata": {},
     "output_type": "execute_result"
    }
   ],
   "source": [
    "uf.pick_root(6)"
   ]
  },
  {
   "cell_type": "code",
   "execution_count": 108,
   "metadata": {},
   "outputs": [
    {
     "name": "stdout",
     "output_type": "stream",
     "text": [
      "1\n",
      "1\n",
      "1\n",
      "1\n",
      "1\n",
      "1\n",
      "1\n",
      "1\n",
      "1\n",
      "1\n"
     ]
    }
   ],
   "source": [
    "for i in range(1,11):\n",
    "    print(uf.pick_root(i))"
   ]
  },
  {
   "cell_type": "code",
   "execution_count": null,
   "metadata": {},
   "outputs": [],
   "source": []
  },
  {
   "cell_type": "code",
   "execution_count": null,
   "metadata": {},
   "outputs": [],
   "source": []
  },
  {
   "cell_type": "markdown",
   "metadata": {},
   "source": [
    "# メモ"
   ]
  },
  {
   "cell_type": "code",
   "execution_count": null,
   "metadata": {},
   "outputs": [],
   "source": [
    "            \n",
    "#             self.roots[k] = self.pick_root(self.roots[k_root])\n",
    "#             return self.roots[k]\n"
   ]
  }
 ],
 "metadata": {
  "kernelspec": {
   "display_name": "Python 3",
   "language": "python",
   "name": "python3"
  },
  "language_info": {
   "codemirror_mode": {
    "name": "ipython",
    "version": 3
   },
   "file_extension": ".py",
   "mimetype": "text/x-python",
   "name": "python",
   "nbconvert_exporter": "python",
   "pygments_lexer": "ipython3",
   "version": "3.6.6"
  }
 },
 "nbformat": 4,
 "nbformat_minor": 2
}
