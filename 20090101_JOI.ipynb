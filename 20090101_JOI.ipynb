{
 "cells": [
  {
   "cell_type": "markdown",
   "metadata": {},
   "source": [
    "# D\n",
    "https://atcoder.jp/contests/joi2009yo/tasks/joi2009yo_d"
   ]
  },
  {
   "cell_type": "code",
   "execution_count": null,
   "metadata": {},
   "outputs": [],
   "source": [
    "input_text = \"\"\"10\n",
    "10\n",
    "1 1 0 0 0 1 0 0 1 1\n",
    "1 0 0 0 1 1 1 1 0 0\n",
    "0 0 0 0 0 0 0 0 0 0\n",
    "1 0 0 0 1 1 0 1 0 1\n",
    "0 0 1 1 0 0 0 1 1 1\n",
    "0 1 1 0 1 0 1 0 0 0\n",
    "0 1 1 1 0 0 0 1 1 0\n",
    "1 0 1 0 1 1 0 1 1 0\n",
    "0 0 0 1 0 0 1 0 0 0\n",
    "0 0 0 0 0 1 0 0 1 1\"\"\""
   ]
  },
  {
   "cell_type": "code",
   "execution_count": null,
   "metadata": {},
   "outputs": [],
   "source": [
    "input_text_list = input_text.split(\"\\n\")\n",
    "M = int(input_text_list[0])\n",
    "N = int(input_text_list[1])\n",
    "\n",
    "map_list = []\n",
    "for t in input_text_list[2:]:\n",
    "    map_list.append([int(x) for x in t.split()])"
   ]
  },
  {
   "cell_type": "code",
   "execution_count": null,
   "metadata": {},
   "outputs": [],
   "source": [
    "(1,2) == (2,1)"
   ]
  },
  {
   "cell_type": "code",
   "execution_count": null,
   "metadata": {},
   "outputs": [],
   "source": [
    "for a,b in [[1,2],[2,1],[5,6],[7,8]]:\n",
    "    print(a,b)"
   ]
  },
  {
   "cell_type": "code",
   "execution_count": null,
   "metadata": {},
   "outputs": [],
   "source": [
    "test={}\n",
    "test[(1,2,*[1,2,3])] = 1"
   ]
  },
  {
   "cell_type": "code",
   "execution_count": null,
   "metadata": {},
   "outputs": [],
   "source": [
    "def flatten(through_ice_list):\n",
    "    return [num for elem in through_ice_list for num in elem]"
   ]
  },
  {
   "cell_type": "code",
   "execution_count": 2,
   "metadata": {},
   "outputs": [
    {
     "data": {
      "text/plain": [
       "[1, 2, 3, 2, 3, 4]"
      ]
     },
     "execution_count": 2,
     "metadata": {},
     "output_type": "execute_result"
    }
   ],
   "source": [
    "flatten([[1,2,3],[2,3,4]])"
   ]
  },
  {
   "cell_type": "code",
   "execution_count": null,
   "metadata": {},
   "outputs": [],
   "source": [
    "test ={}\n",
    "test[1,2,[1,2,3]]"
   ]
  },
  {
   "cell_type": "code",
   "execution_count": 9,
   "metadata": {},
   "outputs": [
    {
     "name": "stdout",
     "output_type": "stream",
     "text": [
      "[1, 2, 1, 2, 3]\n"
     ]
    }
   ],
   "source": [
    "print([1,2,*[1,2,3]])"
   ]
  },
  {
   "cell_type": "code",
   "execution_count": 8,
   "metadata": {},
   "outputs": [],
   "source": [
    "test = {}\n",
    "test[(1,*flatten([[1,2,3],[2,3,4]]))] = 1"
   ]
  },
  {
   "cell_type": "code",
   "execution_count": 15,
   "metadata": {},
   "outputs": [
    {
     "name": "stdout",
     "output_type": "stream",
     "text": [
      "[1, 2, 1, 2, 3]\n"
     ]
    }
   ],
   "source": [
    "print([1,2,*[1,2,3]])"
   ]
  },
  {
   "cell_type": "code",
   "execution_count": 19,
   "metadata": {},
   "outputs": [
    {
     "data": {
      "text/plain": [
       "tuple"
      ]
     },
     "execution_count": 19,
     "metadata": {},
     "output_type": "execute_result"
    }
   ],
   "source": [
    "type(tuple([1,2,3]))"
   ]
  },
  {
   "cell_type": "code",
   "execution_count": 14,
   "metadata": {},
   "outputs": [
    {
     "ename": "TypeError",
     "evalue": "unhashable type: 'list'",
     "output_type": "error",
     "traceback": [
      "\u001b[0;31m---------------------------------------------------------------------------\u001b[0m",
      "\u001b[0;31mTypeError\u001b[0m                                 Traceback (most recent call last)",
      "\u001b[0;32m<ipython-input-14-8823dc0a26b9>\u001b[0m in \u001b[0;36m<module>\u001b[0;34m()\u001b[0m\n\u001b[0;32m----> 1\u001b[0;31m \u001b[0mtest\u001b[0m\u001b[0;34m[\u001b[0m\u001b[0;34m(\u001b[0m\u001b[0;34m[\u001b[0m\u001b[0;36m1\u001b[0m\u001b[0;34m]\u001b[0m\u001b[0;34m+\u001b[0m\u001b[0;34m[\u001b[0m\u001b[0;36m2\u001b[0m\u001b[0;34m]\u001b[0m\u001b[0;34m+\u001b[0m\u001b[0;34m[\u001b[0m\u001b[0;36m3\u001b[0m\u001b[0;34m,\u001b[0m\u001b[0;36m4\u001b[0m\u001b[0;34m,\u001b[0m\u001b[0;36m5\u001b[0m\u001b[0;34m]\u001b[0m\u001b[0;34m)\u001b[0m\u001b[0;34m]\u001b[0m \u001b[0;34m=\u001b[0m \u001b[0;36m1\u001b[0m\u001b[0;34m\u001b[0m\u001b[0m\n\u001b[0m",
      "\u001b[0;31mTypeError\u001b[0m: unhashable type: 'list'"
     ]
    }
   ],
   "source": [
    "\n",
    "test[([1]+[2]+[3,4,5])] = 1"
   ]
  },
  {
   "cell_type": "markdown",
   "metadata": {},
   "source": [
    "# 初見"
   ]
  },
  {
   "cell_type": "code",
   "execution_count": 20,
   "metadata": {},
   "outputs": [
    {
     "name": "stdout",
     "output_type": "stream",
     "text": [
      "3\n",
      "3\n",
      "1 1 1\n",
      "1 1 1\n",
      "1 1 1\n",
      "9\n"
     ]
    }
   ],
   "source": [
    "# import copy\n",
    "\n",
    "# M = int(input())\n",
    "# N = int(input())\n",
    "\n",
    "# map_list = []\n",
    "# for _ in range(N):\n",
    "#     map_list.append([int(x) for x in input().split()])\n",
    "\n",
    "# def create_list(i):\n",
    "#     return [[i for x in range(M)] for x in range(N)]\n",
    "\n",
    "# through_ice_list = create_list(0)\n",
    "# # タイルがあるか、あるとしてもそこに氷はあるか。これまで1度も通ってないか\n",
    "# def check_ice(a,b, til):\n",
    "#     if a < 0 or b < 0 or a >=M or b>=N:\n",
    "#         return False\n",
    "#     if map_list[b][a]==0:\n",
    "#         return False\n",
    "#     if til[b][a]==1:\n",
    "#         return False\n",
    "#     return True\n",
    "\n",
    "# def get_movable_ice(k,l,through_ice_list):\n",
    "#     movable_ice_list = []\n",
    "#     for a,b in [[k-1,l],[k+1,l],[k,l-1],[k,l+1]]:\n",
    "#         if check_ice(a,b,through_ice_list):\n",
    "#             movable_ice_list.append([a,b])\n",
    "#     return movable_ice_list\n",
    "\n",
    "# def flatten(through_ice_list):\n",
    "#     return [num for elem in through_ice_list for num in elem]\n",
    "\n",
    "# memo = {}\n",
    "# def func(a, b, through_ice_list):\n",
    "#     new_til = copy.deepcopy(through_ice_list)\n",
    "#     new_til[b][a] = 1\n",
    "    \n",
    "#     flat_til = flatten(new_til)\n",
    "#     memo_key = tuple([a]+[b]+flat_til)\n",
    "    \n",
    "#     if memo_key in memo:\n",
    "#         return memo[memo_key] + 1\n",
    "    \n",
    "#     movable_ice_list = get_movable_ice(a,b,new_til[:])\n",
    "#     if len(movable_ice_list)==0:\n",
    "#         return 1\n",
    "#     result_list = []\n",
    "    \n",
    "#     for next_a, next_b in movable_ice_list:\n",
    "#         result_list.append(func(next_a, next_b, new_til))\n",
    "    \n",
    "#     tmp_max = max(result_list)\n",
    "#     memo[memo_key] = tmp_max\n",
    "    \n",
    "#     return tmp_max + 1\n",
    "\n",
    "# max_ice_list = create_list(0)\n",
    "\n",
    "# max_result = 0\n",
    "# for m in range(M):\n",
    "#     for n in range(N):\n",
    "#         start_ice = map_list[n][m]\n",
    "#         if start_ice == 1:\n",
    "#             through_ice_list = create_list(0)\n",
    "            \n",
    "#             max_cnt = func(m, n, through_ice_list)\n",
    "#             max_ice_list[n][m] = max_cnt\n",
    "            \n",
    "#             max_result = max(max_result, max_cnt)\n",
    "\n",
    "# print(max_result)"
   ]
  },
  {
   "cell_type": "markdown",
   "metadata": {},
   "source": [
    "# 解説を見てから"
   ]
  },
  {
   "cell_type": "code",
   "execution_count": 83,
   "metadata": {},
   "outputs": [
    {
     "name": "stdout",
     "output_type": "stream",
     "text": [
      "5\n"
     ]
    }
   ],
   "source": [
    "X = int(input())\n",
    "Y = int(input())\n",
    "map_list = [[0 for _ in range(Y+2)]] \\\n",
    "            + [[0] + list(map(int, input().split())) + [0] for _ in range(Y)] \\\n",
    "            + [[0 for _ in range(Y+2)]]\n",
    "\n",
    "import copy\n",
    "\n",
    "max_depth = 0\n",
    "\n",
    "def check(map_table, y, x, depth):\n",
    "    global max_depth\n",
    "    \n",
    "    new_mt = copy.deepcopy(map_table)\n",
    "    new_mt[y][x] = 0\n",
    "    \n",
    "    move_cnt = 0\n",
    "    for dy, dx in [(-1,0), (1,0), (0,-1), (0,1)]:\n",
    "        if new_mt[y+dy][x+dx] == 1:\n",
    "            move_cnt += 1\n",
    "            check(new_mt, y+dy, x+dx, depth+1)\n",
    "            \n",
    "    if move_cnt == 0:\n",
    "        if max_depth < depth+1:\n",
    "            max_depth = depth+1\n",
    "\n",
    "for y in range(1,Y+1):\n",
    "    for x in range(1,X+1):\n",
    "        if map_list[y][x] == 1:\n",
    "            check(map_list, y, x, 0)\n",
    "\n",
    "# check(map_list,1,2,0)\n",
    "print(max_depth)"
   ]
  },
  {
   "cell_type": "code",
   "execution_count": 79,
   "metadata": {},
   "outputs": [
    {
     "data": {
      "text/plain": [
       "6"
      ]
     },
     "execution_count": 79,
     "metadata": {},
     "output_type": "execute_result"
    }
   ],
   "source": [
    "max_depth"
   ]
  },
  {
   "cell_type": "code",
   "execution_count": null,
   "metadata": {},
   "outputs": [],
   "source": []
  },
  {
   "cell_type": "code",
   "execution_count": null,
   "metadata": {
    "scrolled": false
   },
   "outputs": [],
   "source": [
    "# for m in range(M):\n",
    "#     for n in range(N):\n",
    "m=1\n",
    "n=0\n",
    "\n",
    "start_ice = map_list[n][m]\n",
    "if start_ice == 1:\n",
    "    through_ice_list = create_list(0)\n",
    "\n",
    "    max_cnt = func(m, n, through_ice_list[:])\n",
    "    max_ice_list[n][m] = max_cnt\n",
    "\n",
    "    max_result = max(max_result, max_cnt)\n",
    "print(max_ice_list)\n",
    "print(max_result)"
   ]
  },
  {
   "cell_type": "code",
   "execution_count": null,
   "metadata": {},
   "outputs": [],
   "source": [
    "for t in max_ice_list:\n",
    "    print(t)"
   ]
  },
  {
   "cell_type": "code",
   "execution_count": null,
   "metadata": {},
   "outputs": [],
   "source": [
    "\n"
   ]
  },
  {
   "cell_type": "code",
   "execution_count": null,
   "metadata": {},
   "outputs": [],
   "source": []
  },
  {
   "cell_type": "code",
   "execution_count": null,
   "metadata": {},
   "outputs": [],
   "source": []
  },
  {
   "cell_type": "code",
   "execution_count": null,
   "metadata": {},
   "outputs": [],
   "source": []
  },
  {
   "cell_type": "code",
   "execution_count": null,
   "metadata": {},
   "outputs": [],
   "source": [
    "a = [1,[2,3,4]]\n",
    "\n",
    "sl = a.copy()"
   ]
  },
  {
   "cell_type": "code",
   "execution_count": null,
   "metadata": {},
   "outputs": [],
   "source": [
    "sl[0]=10"
   ]
  },
  {
   "cell_type": "code",
   "execution_count": null,
   "metadata": {},
   "outputs": [],
   "source": [
    "a"
   ]
  },
  {
   "cell_type": "code",
   "execution_count": null,
   "metadata": {},
   "outputs": [],
   "source": [
    "sl[1][0]= 20"
   ]
  },
  {
   "cell_type": "code",
   "execution_count": null,
   "metadata": {},
   "outputs": [],
   "source": [
    "sl"
   ]
  },
  {
   "cell_type": "code",
   "execution_count": null,
   "metadata": {},
   "outputs": [],
   "source": [
    "a"
   ]
  },
  {
   "cell_type": "code",
   "execution_count": null,
   "metadata": {},
   "outputs": [],
   "source": [
    "import copy\n",
    "b=[1,[2,3,4]]\n",
    "dl = copy.deepcopy(b)"
   ]
  },
  {
   "cell_type": "code",
   "execution_count": null,
   "metadata": {},
   "outputs": [],
   "source": [
    "dl[0]= 10"
   ]
  },
  {
   "cell_type": "code",
   "execution_count": null,
   "metadata": {},
   "outputs": [],
   "source": [
    "dl"
   ]
  },
  {
   "cell_type": "code",
   "execution_count": null,
   "metadata": {},
   "outputs": [],
   "source": [
    "b"
   ]
  },
  {
   "cell_type": "code",
   "execution_count": null,
   "metadata": {},
   "outputs": [],
   "source": [
    "dl[1][0]=20"
   ]
  },
  {
   "cell_type": "code",
   "execution_count": null,
   "metadata": {},
   "outputs": [],
   "source": [
    "dl"
   ]
  },
  {
   "cell_type": "markdown",
   "metadata": {},
   "source": [
    "# 他の方の再帰を用いない解き方"
   ]
  },
  {
   "cell_type": "code",
   "execution_count": 30,
   "metadata": {},
   "outputs": [
    {
     "name": "stdout",
     "output_type": "stream",
     "text": [
      "3\n",
      "3\n",
      "1 1 1\n",
      "1 1 1\n",
      "1 1 1\n"
     ]
    }
   ],
   "source": [
    "from collections import deque\n",
    "X = int(input())\n",
    "Y = int(input())\n",
    "area = [tuple(map(int, input().split())) for _ in range(Y)]\n",
    "result = 0"
   ]
  },
  {
   "cell_type": "code",
   "execution_count": 36,
   "metadata": {},
   "outputs": [
    {
     "name": "stdout",
     "output_type": "stream",
     "text": [
      "9\n"
     ]
    }
   ],
   "source": [
    "for y in range(Y):\n",
    "    for x in range(X):\n",
    "        if area[y][x]:\n",
    "            size = 0\n",
    "            dq = deque(((y, x, {(y, x)}, 1),))\n",
    "            while dq:\n",
    "                cy, cx, hist, steps = dq.pop()\n",
    "                if steps > result:\n",
    "                    result = steps\n",
    "                steps += 1\n",
    "                size += 1\n",
    "                for dy, dx in ((-1,0),(1,0),(0,-1),(0,1)):\n",
    "                    newy, newx = cy+dy, cx+dx\n",
    "                    if 0 <= newy < Y and 0 <= newx < X and area[newy][newx] and (newy, newx) not in hist:\n",
    "                        dq.append((newy, newx, hist|{(newy, newx)}, steps))\n",
    "print(result)"
   ]
  },
  {
   "cell_type": "code",
   "execution_count": 40,
   "metadata": {},
   "outputs": [],
   "source": [
    "a = deque((2,3))"
   ]
  },
  {
   "cell_type": "code",
   "execution_count": 41,
   "metadata": {},
   "outputs": [
    {
     "data": {
      "text/plain": [
       "deque([2, 3])"
      ]
     },
     "execution_count": 41,
     "metadata": {},
     "output_type": "execute_result"
    }
   ],
   "source": [
    "a"
   ]
  },
  {
   "cell_type": "code",
   "execution_count": 43,
   "metadata": {},
   "outputs": [
    {
     "data": {
      "text/plain": [
       "3"
      ]
     },
     "execution_count": 43,
     "metadata": {},
     "output_type": "execute_result"
    }
   ],
   "source": [
    "a.pop()"
   ]
  },
  {
   "cell_type": "code",
   "execution_count": 44,
   "metadata": {},
   "outputs": [
    {
     "data": {
      "text/plain": [
       "deque([2])"
      ]
     },
     "execution_count": 44,
     "metadata": {},
     "output_type": "execute_result"
    }
   ],
   "source": [
    "a"
   ]
  },
  {
   "cell_type": "code",
   "execution_count": null,
   "metadata": {},
   "outputs": [],
   "source": []
  },
  {
   "cell_type": "code",
   "execution_count": 27,
   "metadata": {},
   "outputs": [
    {
     "data": {
      "text/plain": [
       "(1, 2, 3)"
      ]
     },
     "execution_count": 27,
     "metadata": {},
     "output_type": "execute_result"
    }
   ],
   "source": [
    "tuple(map(int, \"1 2 3\".split()))"
   ]
  },
  {
   "cell_type": "code",
   "execution_count": 35,
   "metadata": {},
   "outputs": [
    {
     "data": {
      "text/plain": [
       "set"
      ]
     },
     "execution_count": 35,
     "metadata": {},
     "output_type": "execute_result"
    }
   ],
   "source": [
    "type({(1,2),(2,3)})"
   ]
  },
  {
   "cell_type": "code",
   "execution_count": null,
   "metadata": {},
   "outputs": [],
   "source": []
  },
  {
   "cell_type": "code",
   "execution_count": null,
   "metadata": {},
   "outputs": [],
   "source": []
  }
 ],
 "metadata": {
  "kernelspec": {
   "display_name": "Python 3",
   "language": "python",
   "name": "python3"
  },
  "language_info": {
   "codemirror_mode": {
    "name": "ipython",
    "version": 3
   },
   "file_extension": ".py",
   "mimetype": "text/x-python",
   "name": "python",
   "nbconvert_exporter": "python",
   "pygments_lexer": "ipython3",
   "version": "3.6.6"
  }
 },
 "nbformat": 4,
 "nbformat_minor": 2
}
