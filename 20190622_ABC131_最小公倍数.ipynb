{
 "cells": [
  {
   "cell_type": "markdown",
   "metadata": {},
   "source": [
    "# A"
   ]
  },
  {
   "cell_type": "code",
   "execution_count": null,
   "metadata": {},
   "outputs": [],
   "source": [
    "s = list(input())\n",
    "\n",
    "\n",
    "def check(s):\n",
    "    tmp = s[0]\n",
    "    for i in s[1:]:\n",
    "        if tmp == i:\n",
    "            return \"Bad\"\n",
    "        tmp = i\n",
    "    return \"Good\"\n",
    "\n",
    "print(check(s))"
   ]
  },
  {
   "cell_type": "code",
   "execution_count": null,
   "metadata": {},
   "outputs": [],
   "source": [
    "# B\n",
    "\n",
    "N, L = map(int, input().split())\n",
    "\n",
    "azi_list = []\n",
    "for i in range(1,N+1):\n",
    "    azi_list.append(L+i-1)\n",
    "\n",
    "if azi_list[0]<=0 and azi_list[-1]>=0:\n",
    "#     print(1)\n",
    "    print(sum(azi_list))\n",
    "elif abs(azi_list[0]) < abs(azi_list[-1]):\n",
    "#     print(2)\n",
    "    print(sum(azi_list[1:]))\n",
    "else:\n",
    "#     print(3)\n",
    "    print(sum(azi_list[:-1]))"
   ]
  },
  {
   "cell_type": "markdown",
   "metadata": {},
   "source": [
    "# C"
   ]
  },
  {
   "cell_type": "code",
   "execution_count": null,
   "metadata": {},
   "outputs": [],
   "source": [
    "A,B,C,D = map(int,input().split())\n",
    "\n",
    "def kosuu(a, b, hoge):\n",
    "    mae = a // hoge\n",
    "    if a%hoge == 0:\n",
    "        mae -= 1\n",
    "    ato = b // hoge\n",
    "    wareru = ato - mae\n",
    "    return wareru\n",
    "\n",
    "def gcd(x, y):\n",
    "    while y > 0:\n",
    "        x, y = y, x%y\n",
    "    return x\n",
    "\n",
    "def lcm(x, y):\n",
    "    return int(x/gcd(x, y)*y)\n",
    "\n",
    "c_kosuu = kosuu(A,B,C)\n",
    "d_kosuu = kosuu(A,B,D)\n",
    "cd_kosuu = kosuu(A,B,lcm(C,D))\n",
    "\n",
    "# cd_kosuu\n",
    "\n",
    "print(B-A+1-(c_kosuu+d_kosuu-cd_kosuu))"
   ]
  },
  {
   "cell_type": "markdown",
   "metadata": {},
   "source": [
    "# D"
   ]
  },
  {
   "cell_type": "code",
   "execution_count": null,
   "metadata": {},
   "outputs": [],
   "source": [
    "N = int(input())\n",
    "\n",
    "ab_list = []\n",
    "for i in range(N):\n",
    "    a,b = map(int,input().split())\n",
    "    ab_list.append([a,b])\n",
    "\n",
    "ab_list.sort(key=lambda x:(x[1],x[0]))\n",
    "\n",
    "def check(ab_list):\n",
    "    goukei = 0\n",
    "    for a,b in ab_list:\n",
    "        goukei += a\n",
    "        if b < goukei:\n",
    "#             print(a,b,goukei)\n",
    "            return False\n",
    "    return True\n",
    "\n",
    "if check(ab_list):\n",
    "    print(\"Yes\")\n",
    "else:\n",
    "    print(\"No\")"
   ]
  },
  {
   "cell_type": "markdown",
   "metadata": {},
   "source": [
    "# E"
   ]
  },
  {
   "cell_type": "code",
   "execution_count": null,
   "metadata": {},
   "outputs": [],
   "source": [
    "def check():\n",
    "    N,K = map(int,input().split())\n",
    "\n",
    "    #中心1\n",
    "    m_list = []\n",
    "    for i in range(2,N+1):\n",
    "        m_list.append([1,i])\n",
    "\n",
    "    saidai = int((N-1)*(N-2)/2)\n",
    "\n",
    "    if K > saidai:\n",
    "        return False\n",
    "    \n",
    "    herasu = K-saidai\n",
    "    \n",
    "    cnt = 0\n",
    "    for i in range(2,N+1):\n",
    "        for j in range(i,N+1):\n",
    "            m_list.append([i,j])\n",
    "            cnt += 1\n",
    "            if cnt == herasu:\n",
    "                return m_list"
   ]
  },
  {
   "cell_type": "code",
   "execution_count": null,
   "metadata": {},
   "outputs": [],
   "source": [
    "check()"
   ]
  },
  {
   "cell_type": "code",
   "execution_count": 5,
   "metadata": {},
   "outputs": [
    {
     "name": "stdout",
     "output_type": "stream",
     "text": [
      "3 1\n",
      "2\n",
      "1 2\n",
      "1 3\n"
     ]
    }
   ],
   "source": [
    "def check():\n",
    "    N,K = map(int,input().split())\n",
    "\n",
    "    #中心1\n",
    "    m_list = []\n",
    "    for i in range(2,N+1):\n",
    "        m_list.append([1,i])\n",
    "\n",
    "    saidai = int((N-1)*(N-2)/2)\n",
    "\n",
    "    if K > saidai:\n",
    "        return False\n",
    "\n",
    "    herasu = saidai - K\n",
    "\n",
    "    if herasu == 0:\n",
    "        return m_list\n",
    "\n",
    "    cnt = 0\n",
    "    for i in range(2,N+1):\n",
    "        for j in range(i+1,N+1):\n",
    "            m_list.append([i,j])\n",
    "            cnt += 1\n",
    "            if cnt == herasu:\n",
    "                return m_list\n",
    "\n",
    "result = check()\n",
    "if result == False:\n",
    "    print(-1)\n",
    "else:\n",
    "    print(len(result))\n",
    "    for a,b in result:\n",
    "        print(a,b)"
   ]
  },
  {
   "cell_type": "code",
   "execution_count": null,
   "metadata": {},
   "outputs": [],
   "source": []
  },
  {
   "cell_type": "markdown",
   "metadata": {},
   "source": [
    "# F"
   ]
  },
  {
   "cell_type": "code",
   "execution_count": null,
   "metadata": {},
   "outputs": [],
   "source": []
  }
 ],
 "metadata": {
  "kernelspec": {
   "display_name": "Python 3",
   "language": "python",
   "name": "python3"
  },
  "language_info": {
   "codemirror_mode": {
    "name": "ipython",
    "version": 3
   },
   "file_extension": ".py",
   "mimetype": "text/x-python",
   "name": "python",
   "nbconvert_exporter": "python",
   "pygments_lexer": "ipython3",
   "version": "3.6.6"
  }
 },
 "nbformat": 4,
 "nbformat_minor": 2
}
