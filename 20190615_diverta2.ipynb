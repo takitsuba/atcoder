{
 "cells": [
  {
   "cell_type": "markdown",
   "metadata": {},
   "source": [
    "# A"
   ]
  },
  {
   "cell_type": "code",
   "execution_count": null,
   "metadata": {},
   "outputs": [],
   "source": [
    "N,K = map(int, input().split())\n",
    "\n",
    "if K == 1:\n",
    "    print(0)\n",
    "else:\n",
    "    print(N-K)"
   ]
  },
  {
   "cell_type": "markdown",
   "metadata": {},
   "source": [
    "# B"
   ]
  },
  {
   "cell_type": "code",
   "execution_count": 1,
   "metadata": {},
   "outputs": [
    {
     "name": "stdout",
     "output_type": "stream",
     "text": [
      "4\n",
      "1 1\n",
      "1 2\n",
      "2 1\n",
      "2 2\n",
      "2\n"
     ]
    }
   ],
   "source": [
    "N = int(input())\n",
    "xy_list = []\n",
    "for i in range(N):\n",
    "    xy_list.append(list(map(int, input().split())))\n",
    "\n",
    "xy_list.sort(key=lambda x:(x[0],x[1]))\n",
    "    \n",
    "diff_dict = {}\n",
    "for i in range(N-1):\n",
    "    for j in range(i+1,N):\n",
    "        dx = xy_list[j][0] - xy_list[i][0]\n",
    "        dy = xy_list[j][1] - xy_list[i][1]\n",
    "        \n",
    "        if (dx,dy) in diff_dict:\n",
    "            diff_dict[(dx,dy)] += 1\n",
    "        else:\n",
    "            diff_dict[(dx,dy)] = 1\n",
    "            \n",
    "\n",
    "print(N - max(diff_dict.values()))"
   ]
  },
  {
   "cell_type": "code",
   "execution_count": null,
   "metadata": {},
   "outputs": [],
   "source": []
  }
 ],
 "metadata": {
  "kernelspec": {
   "display_name": "Python 3",
   "language": "python",
   "name": "python3"
  },
  "language_info": {
   "codemirror_mode": {
    "name": "ipython",
    "version": 3
   },
   "file_extension": ".py",
   "mimetype": "text/x-python",
   "name": "python",
   "nbconvert_exporter": "python",
   "pygments_lexer": "ipython3",
   "version": "3.6.6"
  }
 },
 "nbformat": 4,
 "nbformat_minor": 2
}
