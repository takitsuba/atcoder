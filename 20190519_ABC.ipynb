{
 "cells": [
  {
   "cell_type": "markdown",
   "metadata": {},
   "source": [
    "# A"
   ]
  },
  {
   "cell_type": "code",
   "execution_count": null,
   "metadata": {},
   "outputs": [],
   "source": [
    "N, K = map(int, input().split())\n",
    "S = input()\n",
    "\n",
    "print(S[:K-1] + S[K-1].lower()+S[K:])"
   ]
  },
  {
   "cell_type": "markdown",
   "metadata": {},
   "source": [
    "# B"
   ]
  },
  {
   "cell_type": "code",
   "execution_count": null,
   "metadata": {},
   "outputs": [],
   "source": [
    "S = input()\n",
    "mae = int(S[:2])\n",
    "ato = int(S[2:])\n",
    "\n",
    "def my(x):\n",
    "    if x == 0:\n",
    "        return \"y\"\n",
    "    if x >= 13:\n",
    "        return \"y\"\n",
    "    return \"my\"\n",
    "\n",
    "t = (my(ato),my(mae))\n",
    "if t==(\"my\",\"my\"):\n",
    "    print(\"AMBIGUOUS\")\n",
    "elif t== (\"y\",\"y\"):\n",
    "    print(\"NA\")\n",
    "elif t== (\"y\",\"my\"):\n",
    "    print(\"MMYY\")\n",
    "else:\n",
    "    print(\"YYMM\")"
   ]
  },
  {
   "cell_type": "markdown",
   "metadata": {},
   "source": [
    "# C"
   ]
  },
  {
   "cell_type": "code",
   "execution_count": null,
   "metadata": {},
   "outputs": [],
   "source": [
    "from math import ceil, log2\n",
    "N, K = map(int, input().split())\n",
    "\n",
    "kakuritu = 0\n",
    "for i in range(1,N+1):\n",
    "    if K<=i:\n",
    "        kakuritu += 1/N\n",
    "    else:\n",
    "        kaisuu = ceil(log2(K / i))\n",
    "\n",
    "        kakuritu += 1/N * (1/2)**kaisuu\n",
    "\n",
    "print(kakuritu)"
   ]
  },
  {
   "cell_type": "markdown",
   "metadata": {},
   "source": [
    "# D"
   ]
  },
  {
   "cell_type": "code",
   "execution_count": null,
   "metadata": {},
   "outputs": [],
   "source": [
    "\n",
    "\n",
    "N = int(input())\n",
    "\n",
    " \n",
    "# 隣接リスト\n",
    "l = [[] for i in range(N+1)]\n",
    "\n",
    "def tuika(l,a,b):\n",
    "    l[a].append(b)\n",
    "    l[b].append(a)\n",
    "\n",
    "kisuu = [[] for i in range(N+1)] \n",
    "guusuu = [[] for i in range(N+1)]\n",
    "for i in range(N-1):\n",
    "    u,v,w = map(int,input().split())\n",
    "    if w%2== 0:\n",
    "        tuika(guusuu, u, v)\n",
    "    else:\n",
    "        tuika(kisuu, u, v)\n",
    "\n",
    "\n",
    "colors = [0 for i in range(N+1)]\n",
    "\n",
    "stack = [1]\n",
    "colors[1] = 1\n",
    "while stack:\n",
    "    node = stack.pop()\n",
    "    for next_node in guusuu[node]:\n",
    "        if colors[next_node]==0:\n",
    "            stack.append(next_node)\n",
    "            colors[next_node] = colors[node]\n",
    "            \n",
    "    for next_node in kisuu[node]:\n",
    "        if colors[next_node]==0:\n",
    "            stack.append(next_node)\n",
    "            colors[next_node] = - colors[node]\n",
    "            \n",
    "            \n",
    "#         else:\n",
    "#             if nodes_color[next_node]==nodes_color[node]:\n",
    "#                 nibu = False\n",
    "#                 break\n",
    "#     if not nibu:\n",
    "#         break\n",
    "\n",
    "colors_modify = [1 if x ==1 else 0 for x in colors[1:] ]\n",
    "\n",
    "for c in colors_modify:\n",
    "    print(c)"
   ]
  },
  {
   "cell_type": "markdown",
   "metadata": {},
   "source": [
    "# E"
   ]
  },
  {
   "cell_type": "code",
   "execution_count": 8,
   "metadata": {},
   "outputs": [
    {
     "name": "stdout",
     "output_type": "stream",
     "text": [
      "9999\n"
     ]
    }
   ],
   "source": [
    "N,M = map(int, input().split())\n",
    "\n",
    "onazi = [[] for i in range(N+1)] \n",
    "chigau = [[] for i in range(N+1)]\n",
    "\n",
    "def tuika(l,a,b):\n",
    "    l[a].append(b)\n",
    "    l[b].append(a)\n",
    "\n",
    "for i in range(M):\n",
    "    X,Y,Z = map(int, input().split())\n",
    "    if Z%2 == 0:\n",
    "        tuika(onazi, X, Y)\n",
    "    else:\n",
    "        tuika(chigau, X, Y)\n",
    "        \n",
    "\n",
    "\n",
    "colors = [0 for i in range(N+1)]\n",
    "\n",
    "def func(i):\n",
    "    stack = [i]\n",
    "    colors[i] = 1\n",
    "\n",
    "    while stack:\n",
    "        node = stack.pop()\n",
    "        for next_node in onazi[node]:\n",
    "            if colors[next_node]==0:\n",
    "                stack.append(next_node)\n",
    "                colors[next_node] = colors[node]\n",
    "\n",
    "        for next_node in chigau[node]:\n",
    "            if colors[next_node]==0:\n",
    "                stack.append(next_node)\n",
    "                colors[next_node] = - colors[node]\n",
    "\n",
    "result = 0\n",
    "for i in range(1,N+1):\n",
    "    if colors[i] == 0:\n",
    "        result += 1\n",
    "        func(i)\n",
    "print(result)"
   ]
  },
  {
   "cell_type": "markdown",
   "metadata": {},
   "source": [
    "# F"
   ]
  },
  {
   "cell_type": "code",
   "execution_count": 9,
   "metadata": {},
   "outputs": [
    {
     "name": "stdout",
     "output_type": "stream",
     "text": [
      "1 0\n"
     ]
    }
   ],
   "source": [
    "M,K = map(int, input().split())"
   ]
  },
  {
   "cell_type": "code",
   "execution_count": null,
   "metadata": {},
   "outputs": [],
   "source": []
  }
 ],
 "metadata": {
  "kernelspec": {
   "display_name": "Python 3",
   "language": "python",
   "name": "python3"
  },
  "language_info": {
   "codemirror_mode": {
    "name": "ipython",
    "version": 3
   },
   "file_extension": ".py",
   "mimetype": "text/x-python",
   "name": "python",
   "nbconvert_exporter": "python",
   "pygments_lexer": "ipython3",
   "version": "3.6.6"
  }
 },
 "nbformat": 4,
 "nbformat_minor": 2
}
