{
 "cells": [
  {
   "cell_type": "markdown",
   "metadata": {},
   "source": [
    "# A"
   ]
  },
  {
   "cell_type": "code",
   "execution_count": null,
   "metadata": {},
   "outputs": [],
   "source": [
    "1 -1 1 -1 1 -1 1\n",
    "o o \n",
    "o o  o o\n",
    "o o  o o  o o\n",
    "   o o \n",
    "   o o o  o\n",
    "\n",
    "\n",
    "1 3 -4 2 2 -2\n",
    "0 1 4 0 2 4 2\n",
    "2 1 -2 2 0 -2 0\n"
   ]
  },
  {
   "cell_type": "code",
   "execution_count": 1,
   "metadata": {},
   "outputs": [
    {
     "name": "stdout",
     "output_type": "stream",
     "text": [
      "6\n",
      "1 3 -4 2 2 -2\n"
     ]
    }
   ],
   "source": [
    "N = int(input())\n",
    "a_list = list(map(int,input().split()))\n",
    "\n",
    "left = []\n",
    "left_cnt = 0\n",
    "left.append(left_cnt)\n",
    "\n",
    "for a in a_list:\n",
    "    left_cnt += a\n",
    "    left.append(left_cnt)\n",
    "\n",
    "from collections import Counter\n",
    "c = Counter(left)\n",
    "\n",
    "result = 0\n",
    "for _, cnt in c.items():\n",
    "    if cnt >= 2:\n",
    "        result += cnt*(cnt-1)/2\n",
    "\n",
    "print(int(result))"
   ]
  },
  {
   "cell_type": "code",
   "execution_count": 5,
   "metadata": {},
   "outputs": [],
   "source": [
    "left = []\n",
    "right = []\n",
    "left_cnt = 0\n",
    "right_cnt = goukei\n",
    "left.append(left_cnt)\n",
    "right.append(right_cnt)\n",
    "\n",
    "for a in a_list:\n",
    "    left_cnt += a\n",
    "    right_cnt -= a\n",
    "    left.append(left_cnt)\n",
    "    right.append(right_cnt)\n"
   ]
  },
  {
   "cell_type": "code",
   "execution_count": 6,
   "metadata": {},
   "outputs": [
    {
     "data": {
      "text/plain": [
       "[0, 1, 4, 0, 2, 4, 2]"
      ]
     },
     "execution_count": 6,
     "metadata": {},
     "output_type": "execute_result"
    }
   ],
   "source": [
    "left"
   ]
  },
  {
   "cell_type": "code",
   "execution_count": 7,
   "metadata": {},
   "outputs": [
    {
     "data": {
      "text/plain": [
       "[2, 1, -2, 2, 0, -2, 0]"
      ]
     },
     "execution_count": 7,
     "metadata": {},
     "output_type": "execute_result"
    }
   ],
   "source": [
    "right"
   ]
  },
  {
   "cell_type": "code",
   "execution_count": null,
   "metadata": {},
   "outputs": [],
   "source": [
    "for i in range(N):"
   ]
  },
  {
   "cell_type": "code",
   "execution_count": null,
   "metadata": {},
   "outputs": [],
   "source": [
    "10^5 x "
   ]
  }
 ],
 "metadata": {
  "kernelspec": {
   "display_name": "Python 3",
   "language": "python",
   "name": "python3"
  },
  "language_info": {
   "codemirror_mode": {
    "name": "ipython",
    "version": 3
   },
   "file_extension": ".py",
   "mimetype": "text/x-python",
   "name": "python",
   "nbconvert_exporter": "python",
   "pygments_lexer": "ipython3",
   "version": "3.6.6"
  }
 },
 "nbformat": 4,
 "nbformat_minor": 2
}
