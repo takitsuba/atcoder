{
 "cells": [
  {
   "cell_type": "markdown",
   "metadata": {},
   "source": [
    "# C"
   ]
  },
  {
   "cell_type": "code",
   "execution_count": 2,
   "metadata": {},
   "outputs": [
    {
     "data": {
      "application/vnd.jupyter.widget-view+json": {
       "model_id": "860207812f5d46fc9922f3f1b521da24",
       "version_major": 2,
       "version_minor": 0
      },
      "text/plain": [
       "Textarea(value='')"
      ]
     },
     "metadata": {},
     "output_type": "display_data"
    }
   ],
   "source": [
    "from ipywidgets import Textarea\n",
    "import io\n",
    "\n",
    "if 'open' in globals():\n",
    "    del open\n",
    "if 'input' in globals():\n",
    "    del input\n",
    "\n",
    "original_open = open\n",
    "\n",
    "class custom_open():\n",
    "    def __init__(self):\n",
    "        self.text = ''\n",
    "\n",
    "    def __call__(self, file, *args, **kwargs):\n",
    "        if file == 0:\n",
    "            return io.StringIO(self.text)\n",
    "        return original_open(file, *args, **kwargs)\n",
    "\n",
    "    def updater(self, change):\n",
    "        self.text = change['new']\n",
    "\n",
    "class custom_input():\n",
    "    def __init__(self):\n",
    "        self.__sio = io.StringIO('')\n",
    "        self.shell = get_ipython()\n",
    "        if self.shell.events.callbacks['pre_run_cell'] != []:\n",
    "            self.shell.events.callbacks['pre_run_cell'] = []\n",
    "        self.shell.events.register('pre_run_cell', self.pre_run_cell)\n",
    "\n",
    "    def __call__(self):\n",
    "        return self.__sio.readline().strip()\n",
    "\n",
    "    def pre_run_cell(self, info):\n",
    "        text = self.shell.user_ns.get('text_area', None).value\n",
    "        self.__sio = io.StringIO(text)\n",
    "\n",
    "open = custom_open()\n",
    "input = custom_input()\n",
    "\n",
    "text_area = Textarea()\n",
    "text_area.observe(open.updater, names='value')\n",
    "display(text_area)"
   ]
  },
  {
   "cell_type": "code",
   "execution_count": null,
   "metadata": {},
   "outputs": [],
   "source": [
    "ボーナス考えないなら、iが大きいものから解いていくのが良い。\n",
    "iが小さいものでも解くのはボーナスが大きいから。\n",
    "\n",
    "Gがある。\n",
    "1問あたりの平均スコアが高いものから順にとく。\n",
    "\n",
    "・全部解いてボーナスを足してもまだGを越さない\n",
    "　・pc足してスコア全てで平均\n",
    "・全部解いてボーナスを足すと大きくGを越す\n",
    "　・G/p問\n",
    "・解いてる途中でGを越す。\n",
    "　・100i\n",
    "\n",
    "\n",
    "解いてる途中でGを越してしまう場合\n",
    "のがあればそれを全てとく。\n",
    "\n",
    "Gを越す範囲のものがあれば、\n",
    "\n",
    "\n",
    "1000\n",
    "\n",
    "100*5 1500 400 100\n",
    "200*3 100  230 200\n"
   ]
  },
  {
   "cell_type": "code",
   "execution_count": null,
   "metadata": {},
   "outputs": [],
   "source": [
    "from math import ceil\n",
    "\n",
    "D,G = map(int,input().split())\n",
    "\n",
    "pc_list = [[i]+list(map(int,input().split())) for i in range(D)]\n",
    "\n",
    "def add_mean_score(g,pc_list):\n",
    "    pcmean = []\n",
    "    for i,p,c in pc_list:\n",
    "#         print(i,p,c)\n",
    "        if p == 0:\n",
    "            continue\n",
    "        p_sum = 100*(i+1)*p\n",
    "        if p_sum > g:\n",
    "            m = 100*(i+1)\n",
    "        elif p_sum <= g < p_sum + c:\n",
    "            m = g/p\n",
    "        else:\n",
    "            m = (p_sum + c) / p\n",
    "        \n",
    "        pcmean.append([i,p,c,m])\n",
    "    return pcmean\n",
    "\n",
    "cnt = 0\n",
    "while G>0:\n",
    "    pcm = add_mean_score(G,pc_list)\n",
    "    pcm.sort(key=lambda x:-x[3])\n",
    "    i,p,c,_ = pcm[0]\n",
    "    pc_list[i] = [i,0,0]\n",
    "#     print(i,p,c)\n",
    "    p_sum = 100*(i+1)*p\n",
    "    if G <= p_sum:\n",
    "        tmp_cnt = ceil(G/(100*(i+1)))\n",
    "        cnt += tmp_cnt\n",
    "        break\n",
    "    else:\n",
    "        cnt += p\n",
    "        G -= p_sum+c\n",
    "        \n",
    "print(cnt)"
   ]
  },
  {
   "cell_type": "code",
   "execution_count": null,
   "metadata": {},
   "outputs": [],
   "source": [
    "def rindex_zero(l):\n",
    "    return len(l) - l[::-1].index(0)-1"
   ]
  },
  {
   "cell_type": "code",
   "execution_count": 8,
   "metadata": {},
   "outputs": [
    {
     "data": {
      "text/plain": [
       "3"
      ]
     },
     "execution_count": 8,
     "metadata": {},
     "output_type": "execute_result"
    }
   ],
   "source": [
    "rindex_zero([0,0,1,0])"
   ]
  },
  {
   "cell_type": "code",
   "execution_count": null,
   "metadata": {},
   "outputs": [],
   "source": [
    "min(10,None)"
   ]
  },
  {
   "cell_type": "code",
   "execution_count": null,
   "metadata": {},
   "outputs": [],
   "source": []
  },
  {
   "cell_type": "code",
   "execution_count": 16,
   "metadata": {},
   "outputs": [
    {
     "name": "stdout",
     "output_type": "stream",
     "text": [
      "8\n"
     ]
    }
   ],
   "source": [
    "from math import ceil\n",
    "\n",
    "D,G = map(int,input().split())\n",
    "\n",
    "pc_list = [[i]+list(map(int,input().split())) for i in range(D)]\n",
    "def rindex_zero(l):\n",
    "    return len(l) - l[::-1].index(0)-1\n",
    "\n",
    "def func(g,cnt,l):\n",
    "    if len(l) == D:\n",
    "        if g <= 0:\n",
    "            return cnt\n",
    "        idx = rindex_zero(l)\n",
    "        i,p,c = pc_list[idx]\n",
    "        if g <= 100*(i+1)*(p-1):\n",
    "            cnt += ceil(g/(100*(i+1)))\n",
    "            return cnt\n",
    "        return 10**9\n",
    "    length = len(l)\n",
    "    i,p,c = pc_list[length]\n",
    "#     print(i,p,c,l)\n",
    "    a = func(g-(100*(i+1)*p+c), cnt+p,l+[1])\n",
    "    b = func(g, cnt,l +[0])\n",
    "    return min(a,b)\n",
    "        \n",
    "print(func(G,0,[]))\n"
   ]
  },
  {
   "cell_type": "code",
   "execution_count": null,
   "metadata": {},
   "outputs": [],
   "source": [
    "len([])"
   ]
  },
  {
   "cell_type": "code",
   "execution_count": null,
   "metadata": {},
   "outputs": [],
   "source": [
    "cnt"
   ]
  },
  {
   "cell_type": "code",
   "execution_count": null,
   "metadata": {},
   "outputs": [],
   "source": [
    "pcsums = "
   ]
  }
 ],
 "metadata": {
  "kernelspec": {
   "display_name": "Python 3",
   "language": "python",
   "name": "python3"
  }
 },
 "nbformat": 4,
 "nbformat_minor": 2
}
