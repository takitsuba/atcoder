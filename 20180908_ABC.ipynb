{
 "cells": [
  {
   "cell_type": "markdown",
   "metadata": {},
   "source": [
    "# C\n",
    "- ユークリッドの互除法"
   ]
  },
  {
   "cell_type": "code",
   "execution_count": 21,
   "metadata": {},
   "outputs": [
    {
     "name": "stdout",
     "output_type": "stream",
     "text": [
      "1 1\n",
      "1000000000\n",
      "999999999\n"
     ]
    }
   ],
   "source": [
    "N, X = [int(x) for x in input().split()]\n",
    "x_list = [int(x) for x in input().split()]\n",
    "\n",
    "x_processed = list(set([abs(x - X) for x in x_list]))\n",
    "\n",
    "x_processed.sort()\n",
    "\n",
    "def func(a, b):\n",
    "    if a % b == 0:\n",
    "        return b\n",
    "    else:\n",
    "        return func(b, a%b)\n",
    "\n",
    "x1 = x_processed[0]\n",
    "for x2 in x_processed[1:]:\n",
    "    x1 = func(x2, x1)\n",
    "    \n",
    "print(x1)"
   ]
  }
 ],
 "metadata": {
  "kernelspec": {
   "display_name": "Python 3",
   "language": "python",
   "name": "python3"
  }
 },
 "nbformat": 4,
 "nbformat_minor": 2
}
