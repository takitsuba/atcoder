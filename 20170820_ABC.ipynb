{
 "cells": [
  {
   "cell_type": "code",
   "execution_count": 1,
   "metadata": {
    "collapsed": true
   },
   "outputs": [],
   "source": [
    "import numpy as np\n",
    "import itertools\n",
    "from scipy.special import comb"
   ]
  },
  {
   "cell_type": "code",
   "execution_count": 3,
   "metadata": {},
   "outputs": [
    {
     "name": "stdout",
     "output_type": "stream",
     "text": [
      "1 999 1000\n",
      "A\n"
     ]
    }
   ],
   "source": [
    "x,a,b = input().split()\n",
    "x = int(x)\n",
    "a = int(a)\n",
    "b = int(b)\n",
    "\n",
    "if (x-a)**2 >(x-b)**2:\n",
    "    print(\"B\")\n",
    "else:\n",
    "    print(\"A\")\n",
    "    "
   ]
  },
  {
   "cell_type": "markdown",
   "metadata": {
    "collapsed": true
   },
   "source": [
    "# B"
   ]
  },
  {
   "cell_type": "code",
   "execution_count": 15,
   "metadata": {},
   "outputs": [],
   "source": [
    "abc_list = [chr(i) for i in range(97, 97+26)]"
   ]
  },
  {
   "cell_type": "code",
   "execution_count": 122,
   "metadata": {},
   "outputs": [
    {
     "ename": "SyntaxError",
     "evalue": "invalid syntax (<ipython-input-122-e296afe6c219>, line 6)",
     "output_type": "error",
     "traceback": [
      "\u001b[0;36m  File \u001b[0;32m\"<ipython-input-122-e296afe6c219>\"\u001b[0;36m, line \u001b[0;32m6\u001b[0m\n\u001b[0;31m    print(\"None\")else:\u001b[0m\n\u001b[0m                    ^\u001b[0m\n\u001b[0;31mSyntaxError\u001b[0m\u001b[0;31m:\u001b[0m invalid syntax\n"
     ]
    }
   ],
   "source": [
    "s = input()\n",
    "s_list = list(s)\n",
    "s_set = s_list\n",
    "abc_list = [chr(i) for i in range(97, 97+26)]\n",
    "if len(s_set) == 26:\n",
    "    print(\"None\")else:\n",
    "    for a in abc_list:\n",
    "            pass\n",
    "        else:\n",
    "            print(a)\n",
    "            break\n",
    "\n"
   ]
  },
  {
   "cell_type": "code",
   "execution_count": 130,
   "metadata": {},
   "outputs": [
    {
     "name": "stdout",
     "output_type": "stream",
     "text": [
      "fajsonlslfepbjtsaayxbymeskptcumtwrmkkinjxnnucagfrg\n",
      "d\n"
     ]
    }
   ],
   "source": [
    "s = input()\n",
    "s_list = list(s)\n",
    "s_set = set(s_list)\n",
    "abc_list = [chr(i) for i in range(97, 97+26)]\n",
    "if len(s_set) == 26:\n",
    "    print(\"None\")\n",
    "else:\n",
    "    for a in abc_list:\n",
    "        if a in s_set:\n",
    "            pass\n",
    "        else:\n",
    "            print(a)\n",
    "            break\n"
   ]
  },
  {
   "cell_type": "code",
   "execution_count": 127,
   "metadata": {},
   "outputs": [
    {
     "data": {
      "text/plain": [
       "['a',\n",
       " 'b',\n",
       " 'c',\n",
       " 'd',\n",
       " 'e',\n",
       " 'f',\n",
       " 'g',\n",
       " 'h',\n",
       " 'i',\n",
       " 'j',\n",
       " 'k',\n",
       " 'l',\n",
       " 'm',\n",
       " 'n',\n",
       " 'o',\n",
       " 'p',\n",
       " 'q',\n",
       " 'r',\n",
       " 's',\n",
       " 't',\n",
       " 'u',\n",
       " 'v',\n",
       " 'w',\n",
       " 'x',\n",
       " 'y',\n",
       " 'z',\n",
       " 'a',\n",
       " 'b',\n",
       " 'c',\n",
       " 'd',\n",
       " 'e',\n",
       " 'f',\n",
       " 'g',\n",
       " 'h',\n",
       " 'i',\n",
       " 'j',\n",
       " 'k',\n",
       " 'l',\n",
       " 'm',\n",
       " 'n',\n",
       " 'o',\n",
       " 'p',\n",
       " 'q',\n",
       " 'r',\n",
       " 's',\n",
       " 't',\n",
       " 'u',\n",
       " 'v',\n",
       " 'w',\n",
       " 'x',\n",
       " 'y',\n",
       " 'z']"
      ]
     },
     "execution_count": 127,
     "metadata": {},
     "output_type": "execute_result"
    }
   ],
   "source": [
    "s_set"
   ]
  },
  {
   "cell_type": "markdown",
   "metadata": {},
   "source": [
    "# C\n"
   ]
  },
  {
   "cell_type": "code",
   "execution_count": 60,
   "metadata": {},
   "outputs": [
    {
     "name": "stdout",
     "output_type": "stream",
     "text": [
      "1\n",
      "2 2 3 4 4 4\n"
     ]
    }
   ],
   "source": [
    "import numpy as np\n",
    "\n",
    "n = input()\n",
    "n = int(n)\n",
    "a_list = input().split()\n",
    "a_list = [int(a) for a in a_list]\n",
    "\n",
    "a_dict = dict()\n",
    "for a in a_list:\n",
    "    if a in a_dict:\n",
    "        a_dict[a] += 1\n",
    "    else:\n",
    "        a_dict[a] = 1\n"
   ]
  },
  {
   "cell_type": "code",
   "execution_count": 104,
   "metadata": {},
   "outputs": [
    {
     "name": "stdout",
     "output_type": "stream",
     "text": [
      "8\n"
     ]
    }
   ],
   "source": [
    "import numpy as np\n",
    "l = []\n",
    "for k,v in a_dict.items():\n",
    "    l.append([k,v])\n",
    "ar = np.array(l)\n",
    "\n",
    "menseki = 1\n",
    "for i in range(2):\n",
    "    ar = ar[ar[:,1]>=2]\n",
    "    if len(ar) == 0:\n",
    "        menseki = 0\n",
    "        break\n",
    "    else:\n",
    "        saidai = ar[:,0].max()\n",
    "        menseki *= saidai\n",
    "        ar[ar[:,0]==saidai,1] -=2\n",
    "print(menseki)"
   ]
  },
  {
   "cell_type": "code",
   "execution_count": 67,
   "metadata": {},
   "outputs": [
    {
     "data": {
      "text/plain": [
       "[[3, 1], [2, 2], [4, 3]]"
      ]
     },
     "execution_count": 67,
     "metadata": {},
     "output_type": "execute_result"
    }
   ],
   "source": [
    "sorted(l,key=lambda i:i[1])"
   ]
  },
  {
   "cell_type": "code",
   "execution_count": 75,
   "metadata": {},
   "outputs": [
    {
     "data": {
      "text/plain": [
       "array([[4, 3]])"
      ]
     },
     "execution_count": 75,
     "metadata": {},
     "output_type": "execute_result"
    }
   ],
   "source": [
    "ar[ar[:,1]>2]"
   ]
  },
  {
   "cell_type": "code",
   "execution_count": 78,
   "metadata": {},
   "outputs": [
    {
     "data": {
      "text/plain": [
       "4"
      ]
     },
     "execution_count": 78,
     "metadata": {},
     "output_type": "execute_result"
    }
   ],
   "source": [
    "ar[:,0].max()"
   ]
  },
  {
   "cell_type": "code",
   "execution_count": 79,
   "metadata": {},
   "outputs": [
    {
     "ename": "TypeError",
     "evalue": "Required argument 'object' (pos 1) not found",
     "output_type": "error",
     "traceback": [
      "\u001b[0;31m---------------------------------------------------------------------------\u001b[0m",
      "\u001b[0;31mTypeError\u001b[0m                                 Traceback (most recent call last)",
      "\u001b[0;32m<ipython-input-79-595b59f001f1>\u001b[0m in \u001b[0;36m<module>\u001b[0;34m()\u001b[0m\n\u001b[0;32m----> 1\u001b[0;31m \u001b[0mnp\u001b[0m\u001b[0;34m.\u001b[0m\u001b[0marray\u001b[0m\u001b[0;34m(\u001b[0m\u001b[0;34m)\u001b[0m\u001b[0;34m.\u001b[0m\u001b[0mmax\u001b[0m\u001b[0;34m(\u001b[0m\u001b[0;34m)\u001b[0m\u001b[0;34m\u001b[0m\u001b[0m\n\u001b[0m",
      "\u001b[0;31mTypeError\u001b[0m: Required argument 'object' (pos 1) not found"
     ]
    }
   ],
   "source": [
    "np.array().max()"
   ]
  },
  {
   "cell_type": "code",
   "execution_count": 93,
   "metadata": {},
   "outputs": [],
   "source": [
    "ar[ar[:,0]==3][0][1] = 3"
   ]
  },
  {
   "cell_type": "code",
   "execution_count": 101,
   "metadata": {},
   "outputs": [],
   "source": [
    "ar[ar[:,0]==3,1] -= 2"
   ]
  },
  {
   "cell_type": "code",
   "execution_count": 103,
   "metadata": {},
   "outputs": [
    {
     "data": {
      "text/plain": [
       "array([[2, 1],\n",
       "       [3, 0],\n",
       "       [4, 3]])"
      ]
     },
     "execution_count": 103,
     "metadata": {},
     "output_type": "execute_result"
    }
   ],
   "source": [
    "ar"
   ]
  },
  {
   "cell_type": "code",
   "execution_count": 107,
   "metadata": {},
   "outputs": [
    {
     "name": "stdout",
     "output_type": "stream",
     "text": [
      "10\n",
      "3 3 3 3 4 4 4 5 5 5\n",
      "20\n"
     ]
    }
   ],
   "source": [
    "import numpy as np\n",
    "\n",
    "n = input()\n",
    "n = int(n)\n",
    "a_list = input().split()\n",
    "a_list = [int(a) for a in a_list]\n",
    "\n",
    "a_dict = dict()\n",
    "for a in a_list:\n",
    "    if a in a_dict:\n",
    "        a_dict[a] += 1\n",
    "    else:\n",
    "        a_dict[a] = 1\n",
    "\n",
    "\n",
    "l = []\n",
    "for k,v in a_dict.items():\n",
    "    l.append([k,v])\n",
    "ar = np.array(l)\n",
    "\n",
    "menseki = 1\n",
    "for i in range(2):\n",
    "    ar = ar[ar[:,1]>=2]\n",
    "    if len(ar) == 0:\n",
    "        menseki = 0\n",
    "        break\n",
    "    else:\n",
    "        saidai = ar[:,0].max()\n",
    "        menseki *= saidai\n",
    "        ar[ar[:,0]==saidai,1] -=2\n",
    "print(menseki)"
   ]
  },
  {
   "cell_type": "markdown",
   "metadata": {},
   "source": [
    "# D"
   ]
  },
  {
   "cell_type": "code",
   "execution_count": 120,
   "metadata": {},
   "outputs": [
    {
     "name": "stdout",
     "output_type": "stream",
     "text": [
      "52\n",
      "RvvttdWIyyPPQFFZZssffEEkkaSSDKqcibbeYrhAljCCGGJppHHn\n",
      "RLLwwdWIxxNNQUUXXVVMMooBBaggDKqcimmeYrhAljOOTTJuuzzn\n",
      "958681902\n"
     ]
    }
   ],
   "source": [
    "n = input()\n",
    "n = int(n)\n",
    "s_1 = input()\n",
    "s_2 = input()\n",
    "s_list = []\n",
    "\n",
    "nagasa = len(s_1)\n",
    "i = 0\n",
    "while i < nagasa:\n",
    "    if s_1[i] == s_2[i]:\n",
    "        s_list.append(0)\n",
    "        i += 1\n",
    "    else:\n",
    "        s_list.append(1)\n",
    "        i += 2\n",
    "\n",
    "if s_list[0]==0:\n",
    "    kotae = 3\n",
    "else:\n",
    "    kotae = 3*2\n",
    "    \n",
    "mod = 1000000007\n",
    "mod = 1000000007\n",
    "def mul(a, b):\n",
    "    return ((a % mod) * (b % mod)) % mod\n",
    "\n",
    "for i in range(len(s_list)-1):\n",
    "    if s_list[i]==0:\n",
    "        kotae = mul(kotae,2)\n",
    "    elif s_list[i]==1 and s_list[i+1]==0:\n",
    "        pass\n",
    "    else:\n",
    "        kotae = mul(kotae,3)\n",
    "print(kotae)\n",
    "        "
   ]
  },
  {
   "cell_type": "code",
   "execution_count": 116,
   "metadata": {},
   "outputs": [
    {
     "data": {
      "text/plain": [
       "[1, 0]"
      ]
     },
     "execution_count": 116,
     "metadata": {},
     "output_type": "execute_result"
    }
   ],
   "source": [
    "s_list"
   ]
  },
  {
   "cell_type": "code",
   "execution_count": null,
   "metadata": {
    "collapsed": true
   },
   "outputs": [],
   "source": [
    "52\n",
    "RvvttdWIyyPPQFFZZssffEEkkaSSDKqcibbeYrhAljCCGGJppHHn\n",
    "RLLwwdWIxxNNQUUXXVVMMooBBaggDKqcimmeYrhAljOOTTJuuzzn"
   ]
  }
 ],
 "metadata": {
  "kernelspec": {
   "display_name": "Python 3",
   "language": "python",
   "name": "python3"
  },
  "language_info": {
   "codemirror_mode": {
    "name": "ipython",
    "version": 3
   },
   "file_extension": ".py",
   "mimetype": "text/x-python",
   "name": "python",
   "nbconvert_exporter": "python",
   "pygments_lexer": "ipython3",
   "version": "3.6.0"
  }
 },
 "nbformat": 4,
 "nbformat_minor": 2
}
