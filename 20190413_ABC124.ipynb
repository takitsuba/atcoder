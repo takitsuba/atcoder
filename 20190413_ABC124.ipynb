{
 "cells": [
  {
   "cell_type": "markdown",
   "metadata": {},
   "source": [
    "# C"
   ]
  },
  {
   "cell_type": "code",
   "execution_count": 8,
   "metadata": {},
   "outputs": [
    {
     "name": "stdout",
     "output_type": "stream",
     "text": [
      "0\n",
      "0\n"
     ]
    }
   ],
   "source": [
    "s_list = list(map(int,list(input())))\n",
    "\n",
    "def check(start,s_list):\n",
    "    cnt = 0\n",
    "    for s in s_list:\n",
    "        if start != s:\n",
    "            cnt += 1\n",
    "        if start == 0:\n",
    "            start = 1\n",
    "        else:\n",
    "            start = 0\n",
    "    return cnt\n",
    "\n",
    "print(min(check(0,s_list),check(1,s_list)))"
   ]
  },
  {
   "cell_type": "code",
   "execution_count": null,
   "metadata": {},
   "outputs": [],
   "source": []
  }
 ],
 "metadata": {
  "kernelspec": {
   "display_name": "Python 3",
   "language": "python",
   "name": "python3"
  },
  "language_info": {
   "codemirror_mode": {
    "name": "ipython",
    "version": 3
   },
   "file_extension": ".py",
   "mimetype": "text/x-python",
   "name": "python",
   "nbconvert_exporter": "python",
   "pygments_lexer": "ipython3",
   "version": "3.6.6"
  }
 },
 "nbformat": 4,
 "nbformat_minor": 2
}
