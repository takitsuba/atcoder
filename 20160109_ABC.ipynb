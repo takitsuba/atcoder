{
 "cells": [
  {
   "cell_type": "markdown",
   "metadata": {},
   "source": [
    "# D - ナップサック問題"
   ]
  },
  {
   "cell_type": "code",
   "execution_count": 41,
   "metadata": {},
   "outputs": [
    {
     "name": "stdout",
     "output_type": "stream",
     "text": [
      "3 10\n",
      "15 9\n",
      "10 6\n",
      "6 4\n",
      "16\n"
     ]
    }
   ],
   "source": [
    "N, W = [int(x) for x in input().split()]\n",
    "\n",
    "v_list = []\n",
    "w_list = []\n",
    "\n",
    "for i in range(N):\n",
    "    v, w = input().split()\n",
    "    v = int(v)\n",
    "    w = int(w)\n",
    "    \n",
    "    v_list.append(v)\n",
    "    w_list.append(w)\n",
    "\n",
    "dp = [dict() for x in range(N)]\n",
    "\n",
    "def func(i):    \n",
    "    if len(dp[i-1]):\n",
    "        return dp[i-1]\n",
    "\n",
    "    if i == 0:\n",
    "        tmp_dic = {}\n",
    "        tmp_dic[0] = 0\n",
    "        \n",
    "        w = w_list[0]\n",
    "        if w <= W:\n",
    "            v = v_list[0]\n",
    "            tmp_dic[w] = v\n",
    "            \n",
    "        dp[i] = tmp_dic\n",
    "        return tmp_dic\n",
    "    \n",
    "    tmp_dic = {}\n",
    "    past_dic = func(i-1)\n",
    "\n",
    "    v = v_list[i]\n",
    "    w = w_list[i]\n",
    "    for w_past,v_past in past_dic.items():\n",
    "        if w_past in tmp_dic:\n",
    "            tmp_dic[w_past] = max(tmp_dic[w_past], v_past)\n",
    "        else:\n",
    "            tmp_dic[w_past] = v_past\n",
    "        if w_past + w <= W:\n",
    "            if w_past+w in tmp_dic:\n",
    "                tmp_dic[w_past+w] = max(tmp_dic[w_past+w], v_past+v)\n",
    "            else:\n",
    "                tmp_dic[w_past+w] = v_past + v\n",
    "                \n",
    "    max_v = 0\n",
    "    for w in sorted(tmp_dic):\n",
    "        if max_v > tmp_dic[w]:\n",
    "            del tmp_dic[w]\n",
    "        else:\n",
    "            max_v = tmp_dic[w]\n",
    "            \n",
    "    dp[i] = tmp_dic\n",
    "    \n",
    "    return tmp_dic\n",
    "        \n",
    "\n",
    "d = func(N-1)\n",
    "\n",
    "print(max(d.values()))"
   ]
  },
  {
   "cell_type": "code",
   "execution_count": 37,
   "metadata": {},
   "outputs": [],
   "source": [
    "a = {3:1, 2:2}"
   ]
  },
  {
   "cell_type": "code",
   "execution_count": 38,
   "metadata": {},
   "outputs": [
    {
     "data": {
      "text/plain": [
       "[2, 3]"
      ]
     },
     "execution_count": 38,
     "metadata": {},
     "output_type": "execute_result"
    }
   ],
   "source": [
    "sorted(a)"
   ]
  },
  {
   "cell_type": "code",
   "execution_count": null,
   "metadata": {},
   "outputs": [],
   "source": []
  }
 ],
 "metadata": {
  "kernelspec": {
   "display_name": "Python 3",
   "language": "python",
   "name": "python3"
  },
  "language_info": {
   "codemirror_mode": {
    "name": "ipython",
    "version": 3
   },
   "file_extension": ".py",
   "mimetype": "text/x-python",
   "name": "python",
   "nbconvert_exporter": "python",
   "pygments_lexer": "ipython3",
   "version": "3.6.6"
  }
 },
 "nbformat": 4,
 "nbformat_minor": 2
}
