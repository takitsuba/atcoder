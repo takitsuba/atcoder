{
 "cells": [
  {
   "cell_type": "markdown",
   "metadata": {},
   "source": [
    "# A"
   ]
  },
  {
   "cell_type": "code",
   "execution_count": null,
   "metadata": {},
   "outputs": [],
   "source": [
    "35\n",
    "9  26 17\n",
    "10 25 8\n",
    "11 24 8\n",
    "12 23 8\n",
    "13 22 8\n",
    "\n",
    "20 15 8\n",
    "26 9  17\n",
    "\n",
    "10\n",
    "5 5 10\n",
    "11\n",
    "10 1 2\n",
    "\n",
    "100\n",
    "50 50 10\n",
    "\n",
    "101\n",
    "100 1 2\n",
    "\n",
    "111\n",
    "110 1 3\n",
    "110\n",
    "100 10 2\n",
    "\n",
    "1000"
   ]
  },
  {
   "cell_type": "code",
   "execution_count": 2,
   "metadata": {},
   "outputs": [
    {
     "data": {
      "text/plain": [
       "1"
      ]
     },
     "execution_count": 2,
     "metadata": {},
     "output_type": "execute_result"
    }
   ],
   "source": [
    "sum(list(map(int,list(\"10000\"))))"
   ]
  },
  {
   "cell_type": "code",
   "execution_count": 6,
   "metadata": {},
   "outputs": [
    {
     "name": "stdout",
     "output_type": "stream",
     "text": [
      "15\n",
      "6\n"
     ]
    }
   ],
   "source": [
    "Ns = input()\n",
    "Nint = int(Ns)\n",
    "tens = [10**i for i in range(1,6)]\n",
    "\n",
    "result = 0\n",
    "if Nint in tens:\n",
    "    result = 10\n",
    "else:\n",
    "    result = sum(list(map(int,list(Ns))))\n",
    "\n",
    "print(result)"
   ]
  },
  {
   "cell_type": "code",
   "execution_count": null,
   "metadata": {},
   "outputs": [],
   "source": []
  }
 ],
 "metadata": {
  "kernelspec": {
   "display_name": "Python 3",
   "language": "python",
   "name": "python3"
  },
  "language_info": {
   "codemirror_mode": {
    "name": "ipython",
    "version": 3
   },
   "file_extension": ".py",
   "mimetype": "text/x-python",
   "name": "python",
   "nbconvert_exporter": "python",
   "pygments_lexer": "ipython3",
   "version": "3.6.6"
  }
 },
 "nbformat": 4,
 "nbformat_minor": 2
}
