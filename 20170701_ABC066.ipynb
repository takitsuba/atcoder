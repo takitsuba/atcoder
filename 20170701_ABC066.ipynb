{
 "cells": [
  {
   "cell_type": "markdown",
   "metadata": {},
   "source": [
    "# B"
   ]
  },
  {
   "cell_type": "code",
   "execution_count": 13,
   "metadata": {},
   "outputs": [
    {
     "name": "stdout",
     "output_type": "stream",
     "text": [
      "akasakaakasakasakaakas\n",
      "14\n"
     ]
    }
   ],
   "source": [
    "S = input()\n",
    "s_list = list(S)\n",
    "n = len(s_list)\n",
    "\n",
    "for i in range(1,n):\n",
    "    a = s_list[:-i]\n",
    "    if len(a)%2 == 0:\n",
    "        half = a[:int(len(a)/2)]\n",
    "        \n",
    "        if half + half == a:\n",
    "            break\n",
    "    \n",
    "print(len(a))"
   ]
  },
  {
   "cell_type": "code",
   "execution_count": null,
   "metadata": {},
   "outputs": [],
   "source": []
  },
  {
   "cell_type": "code",
   "execution_count": null,
   "metadata": {},
   "outputs": [],
   "source": []
  }
 ],
 "metadata": {
  "kernelspec": {
   "display_name": "Python 3",
   "language": "python",
   "name": "python3"
  },
  "language_info": {
   "codemirror_mode": {
    "name": "ipython",
    "version": 3
   },
   "file_extension": ".py",
   "mimetype": "text/x-python",
   "name": "python",
   "nbconvert_exporter": "python",
   "pygments_lexer": "ipython3",
   "version": "3.6.6"
  }
 },
 "nbformat": 4,
 "nbformat_minor": 2
}
