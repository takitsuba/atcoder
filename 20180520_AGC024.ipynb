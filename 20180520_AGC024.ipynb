{
 "cells": [
  {
   "cell_type": "markdown",
   "metadata": {},
   "source": [
    "# A"
   ]
  },
  {
   "cell_type": "code",
   "execution_count": null,
   "metadata": {},
   "outputs": [],
   "source": [
    "1 2 3 1\n",
    "\n",
    "5 4 3 0\n",
    "\n",
    "a b c k\n",
    "\n",
    "b+c a+c a+b\n",
    "\n",
    "a+a+b+c a+b+b+c a+b+c+c\n",
    "\n",
    "2a+3b+3c 3a+2b+3c 3a+3b+2c\n",
    "\n",
    "6a+5b+5c\n",
    "\n",
    "a_n = b_n-1+c_n-1\n",
    "b_n = a_n-1+c_n-1\n",
    "c_n = a_n-1+b_n-1\n",
    "\n",
    "a_n+b_n+c_n = 2(a_n-1+b_n-1+c_n-1)\n",
    "a_n+b_n+c_n = \n",
    "\n",
    "a_n-b_n = b_n-1 - a_n-1 : 差は＋ーが交互になる\n",
    "    \n",
    "a_n - b_n = a_n-2 - b_n-2\n",
    "b_n - c_n = \n",
    "c_n - a_n = \n",
    "\n",
    "\n",
    "011\n",
    "211\n",
    "233\n",
    "655"
   ]
  },
  {
   "cell_type": "code",
   "execution_count": 5,
   "metadata": {},
   "outputs": [
    {
     "name": "stdout",
     "output_type": "stream",
     "text": [
      "1000000000 1000000000 1000000000 1000000000000000000\n"
     ]
    }
   ],
   "source": [
    "A,B,C,K = map(int, input().split())\n",
    "\n",
    "if K % 2 == 0:\n",
    "    print(A-B)\n",
    "else:\n",
    "    print(B-A)"
   ]
  }
 ],
 "metadata": {
  "kernelspec": {
   "display_name": "Python 3",
   "language": "python",
   "name": "python3"
  },
  "language_info": {
   "codemirror_mode": {
    "name": "ipython",
    "version": 3
   },
   "file_extension": ".py",
   "mimetype": "text/x-python",
   "name": "python",
   "nbconvert_exporter": "python",
   "pygments_lexer": "ipython3",
   "version": "3.6.6"
  }
 },
 "nbformat": 4,
 "nbformat_minor": 2
}
