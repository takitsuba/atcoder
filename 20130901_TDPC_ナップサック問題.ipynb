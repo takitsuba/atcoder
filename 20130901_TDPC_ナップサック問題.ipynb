{
 "cells": [
  {
   "cell_type": "markdown",
   "metadata": {},
   "source": [
    "# D\n",
    "https://tdpc.contest.atcoder.jp/tasks/tdpc_dice"
   ]
  },
  {
   "cell_type": "markdown",
   "metadata": {},
   "source": [
    "サイコロを振る\n",
    "N回降ったときに、Dの倍数となる確率は\n",
    "N-1回投げたときに、Dの倍数である確率+\n",
    "N-1回投げたときにD/2の倍数である確率*3/6 +\n",
    "N-1回投げたときにD/3の倍数である確率*2/6 +\n",
    "D/4の倍数である確率*1/6 +\n",
    "D/5 * 1/6\n",
    "D/6 * 1/6"
   ]
  },
  {
   "cell_type": "code",
   "execution_count": 1,
   "metadata": {},
   "outputs": [
    {
     "name": "stdout",
     "output_type": "stream",
     "text": [
      "2 6\n"
     ]
    }
   ],
   "source": [
    "N,D = map(int, input().split())"
   ]
  },
  {
   "cell_type": "code",
   "execution_count": 2,
   "metadata": {},
   "outputs": [
    {
     "data": {
      "text/plain": [
       "0.75"
      ]
     },
     "execution_count": 2,
     "metadata": {},
     "output_type": "execute_result"
    }
   ],
   "source": [
    "1*1/6 +\\\n",
    "3/6*2/6 +\\\n",
    "2/6*3/6 +\\\n",
    "1/6*1/3 +\\\n",
    "1/6*1/6 +\\\n",
    "1/6"
   ]
  },
  {
   "cell_type": "code",
   "execution_count": 3,
   "metadata": {},
   "outputs": [
    {
     "data": {
      "text/plain": [
       "0.5555555555555555"
      ]
     },
     "execution_count": 3,
     "metadata": {},
     "output_type": "execute_result"
    }
   ],
   "source": [
    "1*1/6 +\\\n",
    "1/6*2/6 +\\\n",
    "1/6*3/6 +\\\n",
    "1/6*1/3 +\\\n",
    "1/6*1/6 +\\\n",
    "1/6"
   ]
  },
  {
   "cell_type": "code",
   "execution_count": 4,
   "metadata": {},
   "outputs": [
    {
     "data": {
      "text/plain": [
       "0.6666666666666666"
      ]
     },
     "execution_count": 4,
     "metadata": {},
     "output_type": "execute_result"
    }
   ],
   "source": [
    "1*1/6 +\\\n",
    "3/6*2/6 +\\\n",
    "2/6*3/6 +\\\n",
    "1/6"
   ]
  },
  {
   "cell_type": "code",
   "execution_count": 5,
   "metadata": {},
   "outputs": [
    {
     "data": {
      "text/plain": [
       "0.41666666666666663"
      ]
     },
     "execution_count": 5,
     "metadata": {},
     "output_type": "execute_result"
    }
   ],
   "source": [
    "2/6*1/6 +\\\n",
    "2/6*2/6 +\\\n",
    "1/6*3/6 +\\\n",
    "1/6"
   ]
  },
  {
   "cell_type": "code",
   "execution_count": 36,
   "metadata": {},
   "outputs": [
    {
     "name": "stdout",
     "output_type": "stream",
     "text": [
      "3 2\n",
      "0.8750000000000003\n"
     ]
    }
   ],
   "source": [
    "N,D = map(int, input().split())\n",
    "\n",
    "memo = [dict() for _ in range(N)]\n",
    "\n",
    "# 初期値\n",
    "for i in range(1,7):\n",
    "    memo[0][i] = 1/6\n",
    "\n",
    "for i in range(1,N):\n",
    "    for j in memo[i-1].keys():\n",
    "        for s in range(1,7):\n",
    "            if j*s in memo[i]:\n",
    "                memo[i][j*s] += memo[i-1][j]*1/6\n",
    "            else:\n",
    "                memo[i][j*s] = memo[i-1][j]*1/6\n",
    "    k_list = []\n",
    "    for k,v in memo[i].items():\n",
    "        if k>D and k%D == 0:\n",
    "            memo[i][D] += v\n",
    "            k_list.append(k)\n",
    "    for k in k_list:\n",
    "        del memo[i][k]\n",
    "\n",
    "print(memo[N-1][D])"
   ]
  },
  {
   "cell_type": "code",
   "execution_count": 35,
   "metadata": {},
   "outputs": [
    {
     "data": {
      "text/plain": [
       "0.8750000000000003"
      ]
     },
     "execution_count": 35,
     "metadata": {},
     "output_type": "execute_result"
    }
   ],
   "source": [
    "memo[2][D]"
   ]
  },
  {
   "cell_type": "code",
   "execution_count": 67,
   "metadata": {},
   "outputs": [
    {
     "name": "stdout",
     "output_type": "stream",
     "text": [
      "2 36\n",
      "0.027777777777777776\n"
     ]
    }
   ],
   "source": [
    "N,D = map(int, input().split())\n",
    "\n",
    "memo = [dict() for _ in range(N)]\n",
    "# import sys\n",
    "# sys.setrecursionlimit(1000000)\n",
    "\n",
    "def func(a, b):\n",
    "    if a % b == 0:\n",
    "        return b\n",
    "    else:\n",
    "        return func(b, a%b)\n",
    "\n",
    "# 初期値\n",
    "for i in range(1,7):\n",
    "    gcd = func(D,i)\n",
    "    if D/gcd in memo[0]:\n",
    "        memo[0][D/gcd] += 1/6\n",
    "    else:\n",
    "        memo[0][D/gcd] = 1/6\n",
    "\n",
    "for i in range(1,N):\n",
    "    for j in memo[i-1].keys():\n",
    "        for s in range(1,7):\n",
    "#         for s in [1,2,3,2,2,5,2,3]:\n",
    "            gcd = func(j,s)\n",
    "            if j/gcd in memo[i]:\n",
    "                memo[i][j/gcd] += memo[i-1][j]*1/6\n",
    "            else:\n",
    "                memo[i][j/gcd] = memo[i-1][j]*1/6\n",
    "\n",
    "if 1 in memo[N-1]:\n",
    "    print(memo[N-1][1])\n",
    "else:\n",
    "    print(0)"
   ]
  },
  {
   "cell_type": "code",
   "execution_count": 68,
   "metadata": {},
   "outputs": [
    {
     "data": {
      "text/plain": [
       "[{36.0: 0.3333333333333333,\n",
       "  18.0: 0.16666666666666666,\n",
       "  12.0: 0.16666666666666666,\n",
       "  9.0: 0.16666666666666666,\n",
       "  6.0: 0.16666666666666666},\n",
       " {36.0: 0.1111111111111111,\n",
       "  18.0: 0.1111111111111111,\n",
       "  12.0: 0.1111111111111111,\n",
       "  9.0: 0.22222222222222227,\n",
       "  6.0: 0.16666666666666669,\n",
       "  3.0: 0.16666666666666669,\n",
       "  4.0: 0.027777777777777776,\n",
       "  2.0: 0.05555555555555555,\n",
       "  1.0: 0.027777777777777776}]"
      ]
     },
     "execution_count": 68,
     "metadata": {},
     "output_type": "execute_result"
    }
   ],
   "source": [
    "memo"
   ]
  },
  {
   "cell_type": "code",
   "execution_count": 58,
   "metadata": {},
   "outputs": [
    {
     "data": {
      "text/plain": [
       "1"
      ]
     },
     "execution_count": 58,
     "metadata": {},
     "output_type": "execute_result"
    }
   ],
   "source": [
    "func(6,5)"
   ]
  },
  {
   "cell_type": "code",
   "execution_count": null,
   "metadata": {},
   "outputs": [],
   "source": [
    "func()"
   ]
  }
 ],
 "metadata": {
  "kernelspec": {
   "display_name": "Python 3",
   "language": "python",
   "name": "python3"
  },
  "language_info": {
   "codemirror_mode": {
    "name": "ipython",
    "version": 3
   },
   "file_extension": ".py",
   "mimetype": "text/x-python",
   "name": "python",
   "nbconvert_exporter": "python",
   "pygments_lexer": "ipython3",
   "version": "3.6.6"
  }
 },
 "nbformat": 4,
 "nbformat_minor": 2
}
