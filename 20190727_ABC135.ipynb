{
 "cells": [
  {
   "cell_type": "markdown",
   "metadata": {},
   "source": [
    "# C"
   ]
  },
  {
   "cell_type": "code",
   "execution_count": null,
   "metadata": {},
   "outputs": [],
   "source": [
    "3 5 2\n",
    "4 5"
   ]
  },
  {
   "cell_type": "code",
   "execution_count": 10,
   "metadata": {},
   "outputs": [
    {
     "name": "stdout",
     "output_type": "stream",
     "text": [
      "1\n",
      "1 1\n",
      "1\n"
     ]
    }
   ],
   "source": [
    "N = int(input())\n",
    "a_list = list(map(int,input().split()))\n",
    "b_list = list(map(int,input().split()))\n",
    "\n",
    "cnt = 0\n",
    "for i in range(N):\n",
    "    a = a_list[i]\n",
    "    b = b_list[i]\n",
    "    if a >= b:\n",
    "        cnt += b\n",
    "    else:\n",
    "        cnt += a\n",
    "        kill = min(a_list[i+1], b-a)\n",
    "        cnt += kill\n",
    "        a_list[i+1] -= kill\n",
    "        \n",
    "print(cnt)"
   ]
  },
  {
   "cell_type": "code",
   "execution_count": null,
   "metadata": {},
   "outputs": [],
   "source": []
  }
 ],
 "metadata": {
  "kernelspec": {
   "display_name": "Python 3",
   "language": "python",
   "name": "python3"
  },
  "language_info": {
   "codemirror_mode": {
    "name": "ipython",
    "version": 3
   },
   "file_extension": ".py",
   "mimetype": "text/x-python",
   "name": "python",
   "nbconvert_exporter": "python",
   "pygments_lexer": "ipython3",
   "version": "3.6.6"
  }
 },
 "nbformat": 4,
 "nbformat_minor": 2
}
