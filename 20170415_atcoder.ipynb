{
 "cells": [
  {
   "cell_type": "code",
   "execution_count": 68,
   "metadata": {},
   "outputs": [
    {
     "name": "stdout",
     "output_type": "stream",
     "text": [
      "7\n",
      "1 2 3 2 1 99999 1000000000000\n",
      "3\n"
     ]
    }
   ],
   "source": [
    "C = input()\n",
    "N = list(map(int,input().split()))\n",
    "\n",
    "count = 0\n",
    "a = 0\n",
    "b = 0\n",
    "for i in range(len(N)-1):\n",
    "    if N[i+1] - N[i] > 0:\n",
    "        b = 1\n",
    "    elif N[i+1] - N[i] < 0:\n",
    "        b = -1\n",
    "    else:\n",
    "        b = 0\n",
    "        \n",
    "    if a == 0:\n",
    "        a = b  \n",
    "    elif a == b:\n",
    "        pass\n",
    "    elif a == b * (-1):\n",
    "        count += 1\n",
    "        a = 0\n",
    "    else:\n",
    "        pass\n",
    "\n",
    "print(count+1)\n",
    "    "
   ]
  },
  {
   "cell_type": "code",
   "execution_count": 17,
   "metadata": {},
   "outputs": [
    {
     "name": "stdout",
     "output_type": "stream",
     "text": [
      "1\n",
      "2\n",
      "1\n",
      "2\n",
      "1\n",
      "2\n",
      "1\n",
      "2\n",
      "1\n"
     ]
    }
   ],
   "source": [
    "for i in N:\n",
    "    print(i)"
   ]
  },
  {
   "cell_type": "code",
   "execution_count": 12,
   "metadata": {},
   "outputs": [
    {
     "data": {
      "text/plain": [
       "1"
      ]
     },
     "execution_count": 12,
     "metadata": {},
     "output_type": "execute_result"
    }
   ],
   "source": [
    "N[0]"
   ]
  },
  {
   "cell_type": "markdown",
   "metadata": {},
   "source": [
    "# 2"
   ]
  },
  {
   "cell_type": "code",
   "execution_count": null,
   "metadata": {
    "collapsed": true
   },
   "outputs": [],
   "source": []
  },
  {
   "cell_type": "markdown",
   "metadata": {},
   "source": [
    "# 3"
   ]
  },
  {
   "cell_type": "code",
   "execution_count": 89,
   "metadata": {},
   "outputs": [
    {
     "name": "stdout",
     "output_type": "stream",
     "text": [
      "4 20 9\n",
      "7 2\n",
      "9 1\n",
      "12 1\n",
      "18 1\n",
      "7\n",
      "18\n",
      "18\n",
      "1\n"
     ]
    },
    {
     "name": "stderr",
     "output_type": "stream",
     "text": [
      "/Users/takizawa/dev/python/atcoder/lib/python3.6/site-packages/ipykernel_launcher.py:41: RuntimeWarning: divide by zero encountered in true_divide\n"
     ]
    }
   ],
   "source": [
    "import numpy as np\n",
    "from numpy import inf\n",
    "n,l,t = list(map(int,input().split()))\n",
    "x_list = list()\n",
    "w_list = list()\n",
    "\n",
    "for i in range(n):\n",
    "    x, w = list(map(int,input().split()))\n",
    "    x_list.append(x)\n",
    "    w_list.append(w)\n",
    "\n",
    "d_list = list()\n",
    "for i in range(len(x_list)-1):\n",
    "    d_list.append(x_list[i+1]-x_list[i])\n",
    "d_list.append(x_list[0]+l-x_list[-1])\n",
    "\n",
    "w_list = [w if w == 1 else -1 for w in w_list]\n",
    "\n",
    "x_array = np.array(x_list)\n",
    "w_array = np.array(w_list)\n",
    "d_array = np.array(d_list)\n",
    "\n",
    "\n",
    "\n",
    "time = 0\n",
    "while time < t:\n",
    "#     s_list = list()\n",
    "#     # さが縮まるかどうか。縮まるなら1\n",
    "#     for i in range(len(w_list)):\n",
    "#         if w_array[i%n] == 1 and w_array[(i+1)%n]==-1:\n",
    "#             s_list.append(1)\n",
    "#         elif w_array[i%n] == -1 and w_array[(i+1)%n]==1:\n",
    "#             s_list.append(-1)\n",
    "#         else:\n",
    "#             s_list.append(0)\n",
    "    \n",
    "    s_array = (w_array[1:] - w_array[:-1]) * (-1/2)\n",
    "    s_array = np.append(s_array,(w_array[0]-w_array[-1])*(-1/2))\n",
    "#     s_array = np.array(s_list)\n",
    "    # d_arrayには差が入っている。\n",
    "    butukaru_array = d_array / (s_array*2)\n",
    "    butukaru_array[butukaru_array == inf] = 0\n",
    "    butukaru_array[butukaru_array == -inf] = 0\n",
    "    if s_array.all == 0:\n",
    "        next_time = t -time\n",
    "    else:\n",
    "        next_time = butukaru_array.max()\n",
    "\n",
    "    time += next_time\n",
    "        \n",
    "    if time >= t:\n",
    "        next_time -= (time-t)\n",
    "    \n",
    "    x_array = (x_array + w_array*next_time) % l\n",
    "    if time >= t:\n",
    "        break\n",
    "    d_array = d_array - s_array*2*next_time\n",
    "\n",
    "    butukatta_x = np.where(d_array == 0)[0]\n",
    "    \n",
    "#     for i in butukatta_x:\n",
    "    w_array[butukatta_x] *= -1\n",
    "    w_array[(butukatta_x+1)%n] *= -1\n",
    "    \n",
    "for x in x_array:\n",
    "\n",
    "    while x<0:\n",
    "        x += l\n",
    "    while x >= l:\n",
    "        x -= l\n",
    "        \n",
    "    print(int(x))"
   ]
  },
  {
   "cell_type": "code",
   "execution_count": 88,
   "metadata": {},
   "outputs": [
    {
     "data": {
      "text/plain": [
       "array([ 2.,  5.,  1.])"
      ]
     },
     "execution_count": 88,
     "metadata": {},
     "output_type": "execute_result"
    }
   ],
   "source": [
    "d_array"
   ]
  },
  {
   "cell_type": "code",
   "execution_count": 34,
   "metadata": {},
   "outputs": [
    {
     "data": {
      "text/plain": [
       "[0, 'fizz', 'fizz', 3, 'fizz', 'fizz', 6, 'fizz', 'fizz', 9]"
      ]
     },
     "execution_count": 34,
     "metadata": {},
     "output_type": "execute_result"
    }
   ],
   "source": [
    "[x if x % 3 == 0 else 'fizz' for x in range(10)]"
   ]
  },
  {
   "cell_type": "code",
   "execution_count": 63,
   "metadata": {},
   "outputs": [
    {
     "data": {
      "text/plain": [
       "array([ 9,  8, -7, -6, -5,  4])"
      ]
     },
     "execution_count": 63,
     "metadata": {},
     "output_type": "execute_result"
    }
   ],
   "source": [
    "a = np.array([1,2,3])\n",
    "\n",
    "b = np.array([9,8,7,6,5,4])\n",
    "\n",
    "# for i in a:\n",
    "#     b[i] *= -1\n",
    "    \n",
    "b[a+1]*= -1\n",
    "b"
   ]
  },
  {
   "cell_type": "code",
   "execution_count": 44,
   "metadata": {},
   "outputs": [
    {
     "ename": "SyntaxError",
     "evalue": "invalid syntax (<ipython-input-44-a23c8defd53f>, line 1)",
     "output_type": "error",
     "traceback": [
      "\u001b[0;36m  File \u001b[0;32m\"<ipython-input-44-a23c8defd53f>\"\u001b[0;36m, line \u001b[0;32m1\u001b[0m\n\u001b[0;31m    3 8 3\u001b[0m\n\u001b[0m      ^\u001b[0m\n\u001b[0;31mSyntaxError\u001b[0m\u001b[0;31m:\u001b[0m invalid syntax\n"
     ]
    }
   ],
   "source": [
    "3 8 3\n",
    "0 1\n",
    "3 2\n",
    "6 1"
   ]
  },
  {
   "cell_type": "code",
   "execution_count": 45,
   "metadata": {},
   "outputs": [
    {
     "name": "stdout",
     "output_type": "stream",
     "text": [
      "1\n",
      "2\n",
      "3\n"
     ]
    }
   ],
   "source": [
    "a = np.array([1,2,3])\n",
    "for i in a:\n",
    "    print(i)"
   ]
  },
  {
   "cell_type": "code",
   "execution_count": 47,
   "metadata": {},
   "outputs": [
    {
     "data": {
      "text/plain": [
       "array([-1,  1,  0])"
      ]
     },
     "execution_count": 47,
     "metadata": {},
     "output_type": "execute_result"
    }
   ],
   "source": [
    "s_array"
   ]
  },
  {
   "cell_type": "code",
   "execution_count": 71,
   "metadata": {},
   "outputs": [
    {
     "data": {
      "text/plain": [
       "True"
      ]
     },
     "execution_count": 71,
     "metadata": {},
     "output_type": "execute_result"
    }
   ],
   "source": [
    "a = np.array([0,0,0])\n",
    "(a ==0).any()"
   ]
  },
  {
   "cell_type": "code",
   "execution_count": 76,
   "metadata": {},
   "outputs": [
    {
     "ename": "TypeError",
     "evalue": "can only concatenate tuple (not \"int\") to tuple",
     "output_type": "error",
     "traceback": [
      "\u001b[0;31m---------------------------------------------------------------------------\u001b[0m",
      "\u001b[0;31mTypeError\u001b[0m                                 Traceback (most recent call last)",
      "\u001b[0;32m<ipython-input-76-d244c90208f4>\u001b[0m in \u001b[0;36m<module>\u001b[0;34m()\u001b[0m\n\u001b[0;32m----> 1\u001b[0;31m \u001b[0mbutukatta_x\u001b[0m\u001b[0;34m+\u001b[0m\u001b[0;36m1\u001b[0m\u001b[0;34m\u001b[0m\u001b[0m\n\u001b[0m",
      "\u001b[0;31mTypeError\u001b[0m: can only concatenate tuple (not \"int\") to tuple"
     ]
    }
   ],
   "source": [
    "butukatta_x+1"
   ]
  },
  {
   "cell_type": "code",
   "execution_count": 78,
   "metadata": {},
   "outputs": [
    {
     "data": {
      "text/plain": [
       "array([0])"
      ]
     },
     "execution_count": 78,
     "metadata": {},
     "output_type": "execute_result"
    }
   ],
   "source": [
    "np.where(d_array == 0)[0]"
   ]
  },
  {
   "cell_type": "code",
   "execution_count": 85,
   "metadata": {},
   "outputs": [
    {
     "data": {
      "text/plain": [
       "array([1, 0, 1])"
      ]
     },
     "execution_count": 85,
     "metadata": {},
     "output_type": "execute_result"
    }
   ],
   "source": [
    "a = np.array([1,2,3])\n",
    "b = 2\n",
    "a % b"
   ]
  },
  {
   "cell_type": "code",
   "execution_count": null,
   "metadata": {
    "collapsed": true
   },
   "outputs": [],
   "source": []
  }
 ],
 "metadata": {
  "kernelspec": {
   "display_name": "Python 3",
   "language": "python",
   "name": "python3"
  },
  "language_info": {
   "codemirror_mode": {
    "name": "ipython",
    "version": 3
   },
   "file_extension": ".py",
   "mimetype": "text/x-python",
   "name": "python",
   "nbconvert_exporter": "python",
   "pygments_lexer": "ipython3",
   "version": "3.6.0"
  }
 },
 "nbformat": 4,
 "nbformat_minor": 2
}
