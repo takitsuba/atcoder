{
 "cells": [
  {
   "cell_type": "markdown",
   "metadata": {},
   "source": [
    "# C\n",
    "https://indeednow-finala-open.contest.atcoder.jp/tasks/indeednow_2015_finala_c"
   ]
  },
  {
   "cell_type": "code",
   "execution_count": 8,
   "metadata": {},
   "outputs": [
    {
     "name": "stdout",
     "output_type": "stream",
     "text": [
      "6\n",
      "8\n",
      "0\n",
      "3\n",
      "0\n",
      "8\n"
     ]
    }
   ],
   "source": [
    "N, M = map(int, input().split())\n",
    "n_list = []\n",
    "for _ in range(N):\n",
    "    n_list.append(list(map(int, input().split())))\n",
    "m_list = []\n",
    "for _ in range(M):\n",
    "    m_list.append(list(map(int, input().split())))\n",
    "\n",
    "s_dict = {}\n",
    "for m in m_list:\n",
    "    salary = 0\n",
    "    if s_dict in tuple(m):\n",
    "        print(s_dict[m])\n",
    "        continue\n",
    "    for n in n_list:\n",
    "        if m[0] >= n[0] and m[1] >= n[1] and m[2] >= n[2]:\n",
    "            salary = max(n[3], salary)\n",
    "    s_dict[tuple(m)] = salary\n",
    "    print(salary)"
   ]
  },
  {
   "cell_type": "code",
   "execution_count": null,
   "metadata": {},
   "outputs": [],
   "source": [
    "[1,2,3][]"
   ]
  },
  {
   "cell_type": "code",
   "execution_count": 34,
   "metadata": {},
   "outputs": [
    {
     "ename": "ValueError",
     "evalue": "max() arg is an empty sequence",
     "output_type": "error",
     "traceback": [
      "\u001b[0;31m---------------------------------------------------------------------------\u001b[0m",
      "\u001b[0;31mValueError\u001b[0m                                Traceback (most recent call last)",
      "\u001b[0;32m<ipython-input-34-dd98cdccf4b6>\u001b[0m in \u001b[0;36m<module>\u001b[0;34m()\u001b[0m\n\u001b[0;32m----> 1\u001b[0;31m \u001b[0ma\u001b[0m \u001b[0;34m=\u001b[0m \u001b[0mmax\u001b[0m\u001b[0;34m(\u001b[0m\u001b[0;34m[\u001b[0m\u001b[0;34m]\u001b[0m\u001b[0;34m)\u001b[0m\u001b[0;34m\u001b[0m\u001b[0m\n\u001b[0m",
      "\u001b[0;31mValueError\u001b[0m: max() arg is an empty sequence"
     ]
    }
   ],
   "source": [
    "a = max([])"
   ]
  },
  {
   "cell_type": "code",
   "execution_count": 39,
   "metadata": {},
   "outputs": [
    {
     "name": "stdout",
     "output_type": "stream",
     "text": [
      "3 6\n",
      "1 2 3 3\n",
      "3 3 3 6\n",
      "4 4 4 8\n",
      "3 4 3\n",
      "4 4 4\n",
      "100 100 1\n",
      "2 3 4\n",
      "0 0 0\n",
      "100 100 100\n",
      "6\n"
     ]
    },
    {
     "ename": "NameError",
     "evalue": "name 'nearest_idx' is not defined",
     "output_type": "error",
     "traceback": [
      "\u001b[0;31m---------------------------------------------------------------------------\u001b[0m",
      "\u001b[0;31mNameError\u001b[0m                                 Traceback (most recent call last)",
      "\u001b[0;32m<ipython-input-39-a064a80e4fd4>\u001b[0m in \u001b[0;36m<module>\u001b[0;34m()\u001b[0m\n\u001b[1;32m     22\u001b[0m                 \u001b[0mdict_012\u001b[0m\u001b[0;34m[\u001b[0m\u001b[0mi\u001b[0m\u001b[0;34m]\u001b[0m\u001b[0;34m[\u001b[0m\u001b[0mm\u001b[0m\u001b[0;34m[\u001b[0m\u001b[0mi\u001b[0m\u001b[0;34m]\u001b[0m\u001b[0;34m]\u001b[0m \u001b[0;34m=\u001b[0m \u001b[0;34m[\u001b[0m\u001b[0mj\u001b[0m \u001b[0;32mfor\u001b[0m \u001b[0mj\u001b[0m\u001b[0;34m,\u001b[0m \u001b[0mxyz\u001b[0m \u001b[0;32min\u001b[0m \u001b[0menumerate\u001b[0m\u001b[0;34m(\u001b[0m\u001b[0mn_list\u001b[0m\u001b[0;34m)\u001b[0m \u001b[0;32mif\u001b[0m \u001b[0mxyz\u001b[0m\u001b[0;34m[\u001b[0m\u001b[0mi\u001b[0m\u001b[0;34m]\u001b[0m\u001b[0;34m<=\u001b[0m\u001b[0mm\u001b[0m\u001b[0;34m[\u001b[0m\u001b[0mi\u001b[0m\u001b[0;34m]\u001b[0m\u001b[0;34m]\u001b[0m\u001b[0;34m\u001b[0m\u001b[0m\n\u001b[1;32m     23\u001b[0m             \u001b[0;32melse\u001b[0m\u001b[0;34m:\u001b[0m\u001b[0;34m\u001b[0m\u001b[0m\n\u001b[0;32m---> 24\u001b[0;31m                 \u001b[0mdict_012\u001b[0m\u001b[0;34m[\u001b[0m\u001b[0mi\u001b[0m\u001b[0;34m]\u001b[0m\u001b[0;34m[\u001b[0m\u001b[0mm\u001b[0m\u001b[0;34m[\u001b[0m\u001b[0mi\u001b[0m\u001b[0;34m]\u001b[0m\u001b[0;34m]\u001b[0m \u001b[0;34m=\u001b[0m \u001b[0;34m[\u001b[0m\u001b[0midx\u001b[0m \u001b[0;32mfor\u001b[0m \u001b[0midx\u001b[0m \u001b[0;32min\u001b[0m \u001b[0mnearest_idx\u001b[0m \u001b[0;32mif\u001b[0m \u001b[0mn_list\u001b[0m\u001b[0;34m[\u001b[0m\u001b[0midx\u001b[0m\u001b[0;34m]\u001b[0m\u001b[0;34m[\u001b[0m\u001b[0mi\u001b[0m\u001b[0;34m]\u001b[0m \u001b[0;34m<=\u001b[0m \u001b[0mm\u001b[0m\u001b[0;34m[\u001b[0m\u001b[0mi\u001b[0m\u001b[0;34m]\u001b[0m\u001b[0;34m]\u001b[0m\u001b[0;34m\u001b[0m\u001b[0m\n\u001b[0m\u001b[1;32m     25\u001b[0m             \u001b[0mn_list_012\u001b[0m\u001b[0;34m[\u001b[0m\u001b[0mi\u001b[0m\u001b[0;34m]\u001b[0m \u001b[0;34m=\u001b[0m \u001b[0mdict_012\u001b[0m\u001b[0;34m[\u001b[0m\u001b[0mi\u001b[0m\u001b[0;34m]\u001b[0m\u001b[0;34m[\u001b[0m\u001b[0mm\u001b[0m\u001b[0;34m[\u001b[0m\u001b[0mi\u001b[0m\u001b[0;34m]\u001b[0m\u001b[0;34m]\u001b[0m\u001b[0;34m\u001b[0m\u001b[0m\n\u001b[1;32m     26\u001b[0m \u001b[0;34m\u001b[0m\u001b[0m\n",
      "\u001b[0;31mNameError\u001b[0m: name 'nearest_idx' is not defined"
     ]
    }
   ],
   "source": [
    "N, M = map(int, input().split())\n",
    "n_list = []\n",
    "for _ in range(N):\n",
    "    n_list.append(list(map(int, input().split())))\n",
    "m_list = []\n",
    "for _ in range(M):\n",
    "    m_list.append(list(map(int, input().split())))\n",
    "\n",
    "s_dict = {}\n",
    "dict_012 = [dict(), dict(), dict()]\n",
    "for m in m_list:\n",
    "    if s_dict in tuple(m):\n",
    "        print(s_dict[m])\n",
    "        continue\n",
    "    n_list_012 = [list(),list(),list()]\n",
    "    for i, d in enumerate(dict_012):\n",
    "        if m[i] in dict_012[i]:\n",
    "            n_list_012[i] = dict_012[i][m[i]]\n",
    "        else:\n",
    "            nearest_idx_list = [x for x in dict_012[i].keys() if x < m[i]]\n",
    "            if len(nearest_idx_list)==0:\n",
    "                dict_012[i][m[i]] = [j for j, xyz in enumerate(n_list) if xyz[i]<=m[i]]\n",
    "            else:\n",
    "                dict_012[i][m[i]] = [idx for idx in nearest_idx_list if n_list[idx][i] <= m[i]]\n",
    "            n_list_012[i] = dict_012[i][m[i]]\n",
    "    \n",
    "    n_list_idx = list(set(n_list_012[0]) & set(n_list_012[1]) & set(n_list_012[2]))\n",
    "    salary = 0\n",
    "    for idx in n_list_idx:\n",
    "         salary = max(n_list[idx][3], salary)\n",
    "    s_dict[tuple(m)] = salary\n",
    "    print(salary)"
   ]
  },
  {
   "cell_type": "code",
   "execution_count": null,
   "metadata": {},
   "outputs": [],
   "source": []
  },
  {
   "cell_type": "markdown",
   "metadata": {},
   "source": [
    "# 解説呼んでから"
   ]
  },
  {
   "cell_type": "code",
   "execution_count": 32,
   "metadata": {},
   "outputs": [],
   "source": [
    "N, M = map(int, input().split())\n",
    "n_list = []\n",
    "for _ in range(N):\n",
    "    n_list.append(list(map(int, input().split())))\n",
    "m_list = []\n",
    "for _ in range(M):\n",
    "    m_list.append(list(map(int, input().split())))\n",
    "\n",
    "\n",
    "dp = [[[0]*102 for _ in range(102)] for _ in range(102)]\n",
    "\n",
    "n_dict_list = [[[None]*101 for _ in range(101)] for _ in range(101)]\n",
    "\n",
    "for a,b,c,w in n_list:\n",
    "    if n_dict_list[a][b][c]:\n",
    "        n_dict_list[a][b][c] = max(n_dict_list[a][b][c], w)\n",
    "    else:\n",
    "        n_dict_list[a][b][c] = w\n",
    "\n",
    "for x in range(101):\n",
    "    for y in range(101):\n",
    "        for z in range(101):\n",
    "            if n_dict_list[x][y][z]:\n",
    "                dp[x][y][z] = max(n_dict_list[x][y][z], dp[x-1][y][z],dp[x][y-1][z],dp[x][y][z-1])\n",
    "            else:\n",
    "                dp[x][y][z] = max(dp[x-1][y][z],dp[x][y-1][z],dp[x][y][z-1])                \n",
    "\n",
    "for x,y,z in m_list:\n",
    "    print(dp[x][y][z])"
   ]
  },
  {
   "cell_type": "code",
   "execution_count": 26,
   "metadata": {},
   "outputs": [
    {
     "data": {
      "text/plain": [
       "0"
      ]
     },
     "execution_count": 26,
     "metadata": {},
     "output_type": "execute_result"
    }
   ],
   "source": [
    "x"
   ]
  },
  {
   "cell_type": "code",
   "execution_count": 27,
   "metadata": {},
   "outputs": [
    {
     "data": {
      "text/plain": [
       "0"
      ]
     },
     "execution_count": 27,
     "metadata": {},
     "output_type": "execute_result"
    }
   ],
   "source": [
    "y"
   ]
  },
  {
   "cell_type": "code",
   "execution_count": 28,
   "metadata": {},
   "outputs": [
    {
     "data": {
      "text/plain": [
       "1"
      ]
     },
     "execution_count": 28,
     "metadata": {},
     "output_type": "execute_result"
    }
   ],
   "source": [
    "z"
   ]
  },
  {
   "cell_type": "code",
   "execution_count": 29,
   "metadata": {},
   "outputs": [],
   "source": [
    "dp[x-1][y][z]"
   ]
  },
  {
   "cell_type": "code",
   "execution_count": null,
   "metadata": {},
   "outputs": [],
   "source": []
  }
 ],
 "metadata": {
  "kernelspec": {
   "display_name": "Python 3",
   "language": "python",
   "name": "python3"
  },
  "language_info": {
   "codemirror_mode": {
    "name": "ipython",
    "version": 3
   },
   "file_extension": ".py",
   "mimetype": "text/x-python",
   "name": "python",
   "nbconvert_exporter": "python",
   "pygments_lexer": "ipython3",
   "version": "3.6.6"
  }
 },
 "nbformat": 4,
 "nbformat_minor": 2
}
