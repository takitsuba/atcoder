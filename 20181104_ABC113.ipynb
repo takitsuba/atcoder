{
 "cells": [
  {
   "cell_type": "markdown",
   "metadata": {},
   "source": [
    "# C"
   ]
  },
  {
   "cell_type": "code",
   "execution_count": 1,
   "metadata": {},
   "outputs": [
    {
     "data": {
      "application/vnd.jupyter.widget-view+json": {
       "model_id": "e069c29a93434a26881c1903d88be45f",
       "version_major": 2,
       "version_minor": 0
      },
      "text/plain": [
       "Textarea(value='')"
      ]
     },
     "metadata": {},
     "output_type": "display_data"
    }
   ],
   "source": [
    "from ipywidgets import Textarea\n",
    "import io\n",
    "\n",
    "if 'open' in globals():\n",
    "    del open\n",
    "if 'input' in globals():\n",
    "    del input\n",
    "\n",
    "original_open = open\n",
    "\n",
    "class custom_open():\n",
    "    def __init__(self):\n",
    "        self.text = ''\n",
    "\n",
    "    def __call__(self, file, *args, **kwargs):\n",
    "        if file == 0:\n",
    "            return io.StringIO(self.text)\n",
    "        return original_open(file, *args, **kwargs)\n",
    "\n",
    "    def updater(self, change):\n",
    "        self.text = change[\"new\"]\n",
    "\n",
    "class custom_input():\n",
    "    def __init__(self):\n",
    "        self.__sio = io.StringIO('')\n",
    "        self.shell = get_ipython()\n",
    "        if self.shell.events.callbacks['pre_run_cell'] != []:\n",
    "            self.shell.events.callbacks['pre_run_cell'] = []\n",
    "        self.shell.events.register('pre_run_cell', self.pre_run_cell)\n",
    "\n",
    "    def __call__(self):\n",
    "        return self.__sio.readline().strip()\n",
    "\n",
    "    def pre_run_cell(self, info):\n",
    "        text = self.shell.user_ns.get('text_area', None).value\n",
    "        self.__sio = io.StringIO(text)\n",
    "\n",
    "open = custom_open()\n",
    "input = custom_input()\n",
    "\n",
    "text_area = Textarea()\n",
    "text_area.observe(open.updater, names='value')\n",
    "display(text_area)"
   ]
  },
  {
   "cell_type": "code",
   "execution_count": 16,
   "metadata": {},
   "outputs": [],
   "source": [
    "N,M = map(int,input().split())\n",
    "pys = []\n",
    "for i in range(M):\n",
    "    pys.append(tuple(map(int,input().split())))\n",
    "\n",
    "year_of_p_dict = {}\n",
    "for py in pys:\n",
    "    p,y = py\n",
    "    if not p in year_of_p_dict:\n",
    "        year_of_p_dict[p] = []\n",
    "    year_of_p_dict[p].append(y)\n",
    "\n",
    "for p,ys in year_of_p_dict.items():\n",
    "    ys.sort()\n",
    "    ys_idx_dict = {}\n",
    "    for i,y in enumerate(ys):\n",
    "        ys_idx_dict[y] = i+1\n",
    "    year_of_p_dict[p] = ys_idx_dict\n",
    "\n",
    "for py in pys:\n",
    "    p,y = py\n",
    "    ans = str(p).zfill(6) + str(year_of_p_dict[p][y]).zfill(6)\n",
    "    print(ans)"
   ]
  },
  {
   "cell_type": "code",
   "execution_count": null,
   "metadata": {},
   "outputs": [],
   "source": []
  }
 ],
 "metadata": {
  "kernelspec": {
   "display_name": "Python 3",
   "language": "python",
   "name": "python3"
  },
  "language_info": {
   "codemirror_mode": {
    "name": "ipython",
    "version": 3
   },
   "file_extension": ".py",
   "mimetype": "text/x-python",
   "name": "python",
   "nbconvert_exporter": "python",
   "pygments_lexer": "ipython3",
   "version": "3.6.6"
  }
 },
 "nbformat": 4,
 "nbformat_minor": 2
}
