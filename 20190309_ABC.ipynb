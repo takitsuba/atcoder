{
 "cells": [
  {
   "cell_type": "markdown",
   "metadata": {},
   "source": [
    "# B"
   ]
  },
  {
   "cell_type": "code",
   "execution_count": 21,
   "metadata": {},
   "outputs": [
    {
     "name": "stdout",
     "output_type": "stream",
     "text": [
      "5 2 -4\n",
      "-2 5\n",
      "100 41\n",
      "100 40\n",
      "-3 0\n",
      "-6 -2\n",
      "18 -13\n",
      "2\n"
     ]
    }
   ],
   "source": [
    "N,M,C = map(int,input().split())\n",
    "b_list = list(map(int, input().split()))\n",
    "\n",
    "codes = [list(map(int, input().split())) for _ in range(N)]\n",
    "\n",
    "cnt = 0\n",
    "for code in codes:\n",
    "#     print(code,b_list)\n",
    "    result = C\n",
    "    for a,b in zip(code, b_list):\n",
    "        result += a*b\n",
    "#         print(result)\n",
    "    if result > 0:\n",
    "        cnt += 1\n",
    "        \n",
    "print(cnt)"
   ]
  },
  {
   "cell_type": "code",
   "execution_count": 20,
   "metadata": {},
   "outputs": [
    {
     "data": {
      "text/plain": [
       "1"
      ]
     },
     "execution_count": 20,
     "metadata": {},
     "output_type": "execute_result"
    }
   ],
   "source": [
    "cnt"
   ]
  },
  {
   "cell_type": "markdown",
   "metadata": {},
   "source": [
    "# C"
   ]
  },
  {
   "cell_type": "code",
   "execution_count": 24,
   "metadata": {},
   "outputs": [
    {
     "name": "stdout",
     "output_type": "stream",
     "text": [
      "10\n",
      "40\n",
      "130\n"
     ]
    }
   ],
   "source": [
    "N,M  = map(int, input().split())\n",
    "pc_list = []\n",
    "for i in range(N):\n",
    "    p, c = map(int,input().split())\n",
    "    pc_list.append([p,c])\n",
    "    \n",
    "\n",
    "pc_list.sort(key=lambda x:(x[0],x[1]))\n",
    "\n",
    "pc_list\n",
    "\n",
    "cnt = M\n",
    "sum_price = 0\n",
    "for p,c in pc_list:\n",
    "    \n",
    "    if c <= cnt:\n",
    "        sum_price += p*c\n",
    "        cnt -= c\n",
    "    else:\n",
    "        sum_price += p*cnt\n",
    "        break\n",
    "#     print(sum_price)\n",
    "print(sum_price)"
   ]
  },
  {
   "cell_type": "code",
   "execution_count": 14,
   "metadata": {},
   "outputs": [
    {
     "data": {
      "text/plain": [
       "1"
      ]
     },
     "execution_count": 14,
     "metadata": {},
     "output_type": "execute_result"
    }
   ],
   "source": [
    "M"
   ]
  },
  {
   "cell_type": "code",
   "execution_count": null,
   "metadata": {},
   "outputs": [],
   "source": []
  }
 ],
 "metadata": {
  "kernelspec": {
   "display_name": "Python 3",
   "language": "python",
   "name": "python3"
  },
  "language_info": {
   "codemirror_mode": {
    "name": "ipython",
    "version": 3
   },
   "file_extension": ".py",
   "mimetype": "text/x-python",
   "name": "python",
   "nbconvert_exporter": "python",
   "pygments_lexer": "ipython3",
   "version": "3.6.6"
  }
 },
 "nbformat": 4,
 "nbformat_minor": 2
}
