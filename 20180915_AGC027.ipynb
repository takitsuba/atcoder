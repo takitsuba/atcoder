{
 "cells": [
  {
   "cell_type": "markdown",
   "metadata": {},
   "source": [
    "# A"
   ]
  },
  {
   "cell_type": "code",
   "execution_count": 23,
   "metadata": {},
   "outputs": [
    {
     "data": {
      "text/plain": [
       "0"
      ]
     },
     "execution_count": 23,
     "metadata": {},
     "output_type": "execute_result"
    }
   ],
   "source": [
    "N, x = map(int, input().split())\n",
    "a_list = list(map(int,input().split()))\n",
    "\n",
    "a_list.sort()\n",
    "\n",
    "def func():\n",
    "    cnt = 0\n",
    "    global x\n",
    "    for a in a_list:\n",
    "        if x>=a:\n",
    "            x -= a\n",
    "            cnt += 1\n",
    "        else:\n",
    "            return cnt\n",
    "    if x==0:\n",
    "        return cnt\n",
    "    else:\n",
    "        return cnt-1\n",
    "\n",
    "print(func())"
   ]
  },
  {
   "cell_type": "code",
   "execution_count": null,
   "metadata": {},
   "outputs": [],
   "source": []
  }
 ],
 "metadata": {
  "kernelspec": {
   "display_name": "Python 3",
   "language": "python",
   "name": "python3"
  },
  "language_info": {
   "codemirror_mode": {
    "name": "ipython",
    "version": 3
   },
   "file_extension": ".py",
   "mimetype": "text/x-python",
   "name": "python",
   "nbconvert_exporter": "python",
   "pygments_lexer": "ipython3",
   "version": "3.6.6"
  }
 },
 "nbformat": 4,
 "nbformat_minor": 2
}
