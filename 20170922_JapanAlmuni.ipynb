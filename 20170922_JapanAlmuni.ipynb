{
 "cells": [
  {
   "cell_type": "markdown",
   "metadata": {},
   "source": [
    "# A"
   ]
  },
  {
   "cell_type": "code",
   "execution_count": null,
   "metadata": {
    "collapsed": true
   },
   "outputs": [],
   "source": []
  },
  {
   "cell_type": "markdown",
   "metadata": {},
   "source": [
    "# B"
   ]
  },
  {
   "cell_type": "code",
   "execution_count": 30,
   "metadata": {},
   "outputs": [
    {
     "name": "stdout",
     "output_type": "stream",
     "text": [
      "4\n",
      "0 1 2 3\n",
      "[0 1 2 3]\n",
      "[]\n",
      "[1 0 2 3]\n",
      "[[1, 0]]\n",
      "[2 1 0 3]\n",
      "[[1, 0], [2, 0], [2, 1]]\n",
      "[3 2 1 0]\n",
      "[[1, 0], [2, 0], [2, 1], [3, 0], [3, 1], [3, 2]]\n",
      "1\n"
     ]
    }
   ],
   "source": [
    "import numpy as np\n",
    "from collections import Counter\n",
    "\n",
    "n = int(input())\n",
    "a_list = [int(x) for x in input().split()]\n",
    "\n",
    "narabi = np.arange(n)\n",
    "either_kiri = []\n",
    "for i,a in enumerate(a_list):\n",
    "    if a > 0:\n",
    "        for j in range(a):\n",
    "            either_kiri.append([i,narabi[i-j-1]])\n",
    "        narabi= np.hstack((narabi[:i-a],narabi[i],narabi[i-a:i],narabi[i+1:]))\n",
    "#     print(narabi)\n",
    "#     print(either_kiri)\n",
    "\n",
    "ek_array = np.array(either_kiri)\n",
    "count = 0\n",
    "while len(ek_array)>0:\n",
    "    c = Counter(ek_array.flatten())\n",
    "    most_common_i = c.most_common()[0][0]\n",
    "    ek_array = np.delete(ek_array, np.where(ek_array==most_common_i)[0],0)\n",
    "    count += 1\n",
    "print(n-count)"
   ]
  },
  {
   "cell_type": "markdown",
   "metadata": {},
   "source": [
    "# 反省\n",
    "* 上記で提出したが、TLE。\n",
    "* 下記はそれを改善しようとしてるものだが、まだ途中。\n",
    "* どうすれば時間短縮できるんだろうか。whileとforをどうにかするのだとは思う。\n",
    "* 解説がないのが辛い。"
   ]
  },
  {
   "cell_type": "markdown",
   "metadata": {},
   "source": [
    "# B_2"
   ]
  },
  {
   "cell_type": "code",
   "execution_count": 31,
   "metadata": {},
   "outputs": [
    {
     "name": "stdout",
     "output_type": "stream",
     "text": [
      "7\n",
      "0 0 1 0 0 2 4\n"
     ]
    },
    {
     "ename": "KeyboardInterrupt",
     "evalue": "",
     "output_type": "error",
     "traceback": [
      "\u001b[0;31m---------------------------------------------------------------------------\u001b[0m",
      "\u001b[0;31mKeyboardInterrupt\u001b[0m                         Traceback (most recent call last)",
      "\u001b[0;32m<ipython-input-31-f1b9fa5264f0>\u001b[0m in \u001b[0;36m<module>\u001b[0;34m()\u001b[0m\n\u001b[1;32m     20\u001b[0m \u001b[0mcount\u001b[0m \u001b[0;34m=\u001b[0m \u001b[0;36m0\u001b[0m\u001b[0;34m\u001b[0m\u001b[0m\n\u001b[1;32m     21\u001b[0m \u001b[0;32mwhile\u001b[0m \u001b[0mlen\u001b[0m\u001b[0;34m(\u001b[0m\u001b[0mek_array\u001b[0m\u001b[0;34m)\u001b[0m\u001b[0;34m>\u001b[0m\u001b[0;36m0\u001b[0m\u001b[0;34m:\u001b[0m\u001b[0;34m\u001b[0m\u001b[0m\n\u001b[0;32m---> 22\u001b[0;31m     \u001b[0mmost_common_i\u001b[0m \u001b[0;34m=\u001b[0m \u001b[0mnp\u001b[0m\u001b[0;34m.\u001b[0m\u001b[0mwhere\u001b[0m\u001b[0;34m(\u001b[0m\u001b[0meither_kiri_count\u001b[0m\u001b[0;34m==\u001b[0m\u001b[0meither_kiri_count\u001b[0m\u001b[0;34m.\u001b[0m\u001b[0mmax\u001b[0m\u001b[0;34m(\u001b[0m\u001b[0;34m)\u001b[0m\u001b[0;34m)\u001b[0m\u001b[0;34m[\u001b[0m\u001b[0;36m0\u001b[0m\u001b[0;34m]\u001b[0m\u001b[0;34m\u001b[0m\u001b[0m\n\u001b[0m\u001b[1;32m     23\u001b[0m     \u001b[0mek_array\u001b[0m \u001b[0;34m=\u001b[0m \u001b[0mnp\u001b[0m\u001b[0;34m.\u001b[0m\u001b[0mdelete\u001b[0m\u001b[0;34m(\u001b[0m\u001b[0mek_array\u001b[0m\u001b[0;34m,\u001b[0m \u001b[0mnp\u001b[0m\u001b[0;34m.\u001b[0m\u001b[0mwhere\u001b[0m\u001b[0;34m(\u001b[0m\u001b[0mek_array\u001b[0m\u001b[0;34m==\u001b[0m\u001b[0mmost_common_i\u001b[0m\u001b[0;34m)\u001b[0m\u001b[0;34m[\u001b[0m\u001b[0;36m0\u001b[0m\u001b[0;34m]\u001b[0m\u001b[0;34m,\u001b[0m\u001b[0;36m0\u001b[0m\u001b[0;34m)\u001b[0m\u001b[0;34m\u001b[0m\u001b[0m\n\u001b[1;32m     24\u001b[0m     \u001b[0mcount\u001b[0m \u001b[0;34m+=\u001b[0m \u001b[0;36m1\u001b[0m\u001b[0;34m\u001b[0m\u001b[0m\n",
      "\u001b[0;31mKeyboardInterrupt\u001b[0m: "
     ]
    }
   ],
   "source": [
    "import numpy as np\n",
    "from collections import Counter\n",
    "\n",
    "n = int(input())\n",
    "a_list = [int(x) for x in input().split()]\n",
    "\n",
    "narabi = np.arange(n)\n",
    "either_kiri_count = np.zeros(n)\n",
    "for i,a in enumerate(a_list):\n",
    "    if a > 0:\n",
    "#         for j in range(a):\n",
    "#             either_kiri.append([i,narabi[i-j-1]])\n",
    "        either_kiri_count[i] += a\n",
    "        either_kiri_count[i-a:i] += 1\n",
    "        narabi= np.hstack((narabi[:i-a],narabi[i],narabi[i-a:i],narabi[i+1:]))\n",
    "#     print(narabi)\n",
    "#     print(either_kiri)\n",
    "\n",
    "ek_array = np.array(either_kiri)\n",
    "count = 0\n",
    "while len(ek_array)>0:\n",
    "    most_common_i = np.where(either_kiri_count==either_kiri_count.max())[0]\n",
    "    ek_array = np.delete(ek_array, np.where(ek_array==most_common_i)[0],0)\n",
    "    count += 1\n",
    "print(n-count)"
   ]
  },
  {
   "cell_type": "code",
   "execution_count": 28,
   "metadata": {
    "collapsed": true
   },
   "outputs": [],
   "source": []
  },
  {
   "cell_type": "code",
   "execution_count": 29,
   "metadata": {},
   "outputs": [
    {
     "name": "stdout",
     "output_type": "stream",
     "text": [
      "4\n"
     ]
    }
   ],
   "source": [
    "from collections import Counter\n",
    "count = 0\n",
    "while len(ek_array)>0:\n",
    "    c = Counter(ek_array.flatten())\n",
    "    most_common_i = c.most_common()[0][0]\n",
    "    ek_array = np.delete(ek_array, np.where(ek_array==most_common_i)[0],0)\n",
    "    count += 1\n",
    "print(n-count)"
   ]
  },
  {
   "cell_type": "code",
   "execution_count": 27,
   "metadata": {},
   "outputs": [
    {
     "data": {
      "text/plain": [
       "array([], shape=(0, 2), dtype=int64)"
      ]
     },
     "execution_count": 27,
     "metadata": {},
     "output_type": "execute_result"
    }
   ],
   "source": [
    "ek_array"
   ]
  },
  {
   "cell_type": "code",
   "execution_count": null,
   "metadata": {
    "collapsed": true
   },
   "outputs": [],
   "source": []
  },
  {
   "cell_type": "code",
   "execution_count": 21,
   "metadata": {},
   "outputs": [
    {
     "data": {
      "text/plain": [
       "array([[2, 1],\n",
       "       [5, 4],\n",
       "       [5, 3]])"
      ]
     },
     "execution_count": 21,
     "metadata": {},
     "output_type": "execute_result"
    }
   ],
   "source": [
    "ek_array = np.delete(ek_array, np.where(ek_array==6)[0],0)"
   ]
  },
  {
   "cell_type": "code",
   "execution_count": 22,
   "metadata": {},
   "outputs": [
    {
     "data": {
      "text/plain": [
       "array([[2, 1],\n",
       "       [5, 4],\n",
       "       [5, 3],\n",
       "       [6, 4],\n",
       "       [6, 3],\n",
       "       [6, 5],\n",
       "       [6, 1]])"
      ]
     },
     "execution_count": 22,
     "metadata": {},
     "output_type": "execute_result"
    }
   ],
   "source": [
    "ek_array"
   ]
  },
  {
   "cell_type": "code",
   "execution_count": null,
   "metadata": {
    "collapsed": true
   },
   "outputs": [],
   "source": []
  }
 ],
 "metadata": {
  "kernelspec": {
   "display_name": "Python 3",
   "language": "python",
   "name": "python3"
  },
  "language_info": {
   "codemirror_mode": {
    "name": "ipython",
    "version": 3
   },
   "file_extension": ".py",
   "mimetype": "text/x-python",
   "name": "python",
   "nbconvert_exporter": "python",
   "pygments_lexer": "ipython3",
   "version": "3.6.0"
  }
 },
 "nbformat": 4,
 "nbformat_minor": 2
}
