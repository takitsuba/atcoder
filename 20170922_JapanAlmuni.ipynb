{
 "cells": [
  {
   "cell_type": "markdown",
   "metadata": {},
   "source": [
    "# A"
   ]
  },
  {
   "cell_type": "code",
   "execution_count": null,
   "metadata": {
    "collapsed": true
   },
   "outputs": [],
   "source": []
  },
  {
   "cell_type": "markdown",
   "metadata": {},
   "source": [
    "# B"
   ]
  },
  {
   "cell_type": "code",
   "execution_count": 4,
   "metadata": {},
   "outputs": [
    {
     "name": "stdout",
     "output_type": "stream",
     "text": [
      "7\n",
      "0 0 1 0 0 2 4\n"
     ]
    }
   ],
   "source": [
    "import numpy as np\n",
    "n = int(input())\n",
    "a_list = [int(x) for x in input().split()]"
   ]
  },
  {
   "cell_type": "code",
   "execution_count": 11,
   "metadata": {},
   "outputs": [
    {
     "name": "stdout",
     "output_type": "stream",
     "text": [
      "[0 1 2 3 4 5 6]\n",
      "[]\n",
      "[0 1 2 3 4 5 6]\n",
      "[]\n",
      "[0 2 1 3 4 5 6]\n",
      "[(2, 1)]\n",
      "[0 2 1 3 4 5 6]\n",
      "[(2, 1)]\n",
      "[0 2 1 3 4 5 6]\n",
      "[(2, 1)]\n",
      "[0 2 1 5 3 4 6]\n",
      "[(2, 1), (5, 4), (5, 3)]\n",
      "[0 2 6 1 5 3 4]\n",
      "[(2, 1), (5, 4), (5, 3), (6, 4), (6, 3), (6, 5), (6, 1)]\n"
     ]
    }
   ],
   "source": [
    "narabi = np.arange(n)\n",
    "either_kiri = []\n",
    "for i,a in enumerate(a_list):\n",
    "    if a > 0:\n",
    "        for j in range(a):\n",
    "            either_kiri.append((i,narabi[i-j-1]))\n",
    "        narabi= np.hstack((narabi[:i-a],narabi[i],narabi[i-a:i],narabi[i+1:]))\n",
    "    print(narabi)\n",
    "    print(either_kiri)"
   ]
  },
  {
   "cell_type": "code",
   "execution_count": 14,
   "metadata": {},
   "outputs": [
    {
     "data": {
      "text/plain": [
       "Counter({(2, 1): 1,\n",
       "         (5, 3): 1,\n",
       "         (5, 4): 1,\n",
       "         (6, 1): 1,\n",
       "         (6, 3): 1,\n",
       "         (6, 4): 1,\n",
       "         (6, 5): 1})"
      ]
     },
     "execution_count": 14,
     "metadata": {},
     "output_type": "execute_result"
    }
   ],
   "source": [
    "from collections import Counter\n",
    "Counter(either_kiri)"
   ]
  },
  {
   "cell_type": "code",
   "execution_count": null,
   "metadata": {
    "collapsed": true
   },
   "outputs": [],
   "source": []
  }
 ],
 "metadata": {
  "kernelspec": {
   "display_name": "Python 3",
   "language": "python",
   "name": "python3"
  },
  "language_info": {
   "codemirror_mode": {
    "name": "ipython",
    "version": 3
   },
   "file_extension": ".py",
   "mimetype": "text/x-python",
   "name": "python",
   "nbconvert_exporter": "python",
   "pygments_lexer": "ipython3",
   "version": "3.6.0"
  }
 },
 "nbformat": 4,
 "nbformat_minor": 2
}
