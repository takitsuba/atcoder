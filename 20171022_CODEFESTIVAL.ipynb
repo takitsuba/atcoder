{
 "cells": [
  {
   "cell_type": "markdown",
   "metadata": {},
   "source": [
    "# A"
   ]
  },
  {
   "cell_type": "code",
   "execution_count": 5,
   "metadata": {},
   "outputs": [
    {
     "name": "stdout",
     "output_type": "stream",
     "text": [
      "ACACA\n",
      "Yes\n"
     ]
    }
   ],
   "source": [
    "s = input()\n",
    "count = 0\n",
    "for i in range(len(s)-1):\n",
    "    if s[i:i+2] == \"AC\":\n",
    "        count = 1\n",
    "        break\n",
    "if count == 1:\n",
    "    print(\"Yes\")\n",
    "else:\n",
    "    print(\"No\")"
   ]
  },
  {
   "cell_type": "markdown",
   "metadata": {},
   "source": [
    "# B"
   ]
  },
  {
   "cell_type": "code",
   "execution_count": 22,
   "metadata": {},
   "outputs": [
    {
     "name": "stdout",
     "output_type": "stream",
     "text": [
      "10\n",
      "90 52 56 71 44 8 13 30 57 84\n",
      "58921\n"
     ]
    }
   ],
   "source": [
    "n = int(input())\n",
    "a_list = input().split()\n",
    "a_list = [int(x) for x in a_list]\n",
    "\n",
    "zentori = 3**n\n",
    "\n",
    "a_list_2 = [x%2 for x in a_list]\n",
    "from collections import Counter\n",
    "\n",
    "counter = Counter(a_list_2)\n",
    "\n",
    "bad_tori = (2**counter[0])\n",
    "\n",
    "print(zentori-bad_tori)"
   ]
  },
  {
   "cell_type": "code",
   "execution_count": 12,
   "metadata": {},
   "outputs": [
    {
     "data": {
      "text/plain": [
       "[2, 3]"
      ]
     },
     "execution_count": 12,
     "metadata": {},
     "output_type": "execute_result"
    }
   ],
   "source": [
    "a_list"
   ]
  },
  {
   "cell_type": "code",
   "execution_count": 15,
   "metadata": {},
   "outputs": [],
   "source": []
  },
  {
   "cell_type": "code",
   "execution_count": 18,
   "metadata": {},
   "outputs": [
    {
     "data": {
      "text/plain": [
       "1"
      ]
     },
     "execution_count": 18,
     "metadata": {},
     "output_type": "execute_result"
    }
   ],
   "source": [
    "a_list_2\n",
    "\n"
   ]
  },
  {
   "cell_type": "code",
   "execution_count": 9,
   "metadata": {},
   "outputs": [
    {
     "data": {
      "text/plain": [
       "59049"
      ]
     },
     "execution_count": 9,
     "metadata": {},
     "output_type": "execute_result"
    }
   ],
   "source": [
    "243*243"
   ]
  },
  {
   "cell_type": "code",
   "execution_count": 10,
   "metadata": {},
   "outputs": [
    {
     "data": {
      "text/plain": [
       "128"
      ]
     },
     "execution_count": 10,
     "metadata": {},
     "output_type": "execute_result"
    }
   ],
   "source": [
    "2*2*2*1*2*2*1*2*1*2"
   ]
  },
  {
   "cell_type": "code",
   "execution_count": 11,
   "metadata": {},
   "outputs": [
    {
     "data": {
      "text/plain": [
       "58921"
      ]
     },
     "execution_count": 11,
     "metadata": {},
     "output_type": "execute_result"
    }
   ],
   "source": [
    "59049-128"
   ]
  },
  {
   "cell_type": "markdown",
   "metadata": {},
   "source": [
    "# C"
   ]
  },
  {
   "cell_type": "code",
   "execution_count": 95,
   "metadata": {},
   "outputs": [
    {
     "name": "stdout",
     "output_type": "stream",
     "text": [
      "oxxx\n"
     ]
    }
   ],
   "source": [
    "import numpy as np\n",
    "s = input()\n",
    "s_list = [i for i in s]\n",
    "s_without_x = [i for i in s_list if i != \"x\"]"
   ]
  },
  {
   "cell_type": "code",
   "execution_count": 108,
   "metadata": {},
   "outputs": [],
   "source": [
    "a = np.array(list(\"abc\"))"
   ]
  },
  {
   "cell_type": "code",
   "execution_count": 118,
   "metadata": {},
   "outputs": [
    {
     "name": "stdout",
     "output_type": "stream",
     "text": [
      "abb\n"
     ]
    }
   ],
   "source": [
    "import numpy as np\n",
    "s = input()\n",
    "s_list = list(s)\n",
    "s_array = np.array(s_list)\n",
    "s_without_x_ar = s_array[s_array != \"x\"]"
   ]
  },
  {
   "cell_type": "code",
   "execution_count": 120,
   "metadata": {},
   "outputs": [
    {
     "data": {
      "text/plain": [
       "3"
      ]
     },
     "execution_count": 120,
     "metadata": {},
     "output_type": "execute_result"
    }
   ],
   "source": [
    "len(s_without_x_ar)"
   ]
  },
  {
   "cell_type": "code",
   "execution_count": 188,
   "metadata": {},
   "outputs": [
    {
     "name": "stdout",
     "output_type": "stream",
     "text": [
      "sx\n",
      "1\n"
     ]
    }
   ],
   "source": [
    "import numpy as np\n",
    "s = input()\n",
    "s_list = list(s)\n",
    "s_array = np.array(s_list)\n",
    "s_without_x_ar = s_array[s_array != \"x\"]\n",
    "\n",
    "if (s_without_x_ar != s_without_x_ar[::-1]).any():\n",
    "    print(-1)\n",
    "else:\n",
    "    kw_count = len(s_without_x_ar)\n",
    "    if kw_count == 0:\n",
    "        print(0)\n",
    "    elif kw_count % 2 == 0:\n",
    "        half_s_wox_left = s_without_x_ar[:int(kw_count/2)]\n",
    "        lastw_count = len(half_s_wox_left[half_s_wox_left==half_s_wox_left[-1]])\n",
    "        check_last_idx = np.where(s_array == half_s_wox_left[-1])[0][lastw_count-1]\n",
    "        half_array = s_array[:check_last_idx+1]\n",
    "        \n",
    "        \n",
    "        a = np.where(half_array!=\"x\")[0]\n",
    "        a = np.insert(a,0,-1)\n",
    "        left_count_ar = a[1:] - a[:-1] - 1\n",
    "\n",
    "\n",
    "        # right\n",
    "        half_s_wox_right = s_without_x_ar[int(kw_count/2):]\n",
    "        half_s_wox_right_back = half_s_wox_right[::-1]\n",
    "        s_array_back = s_array[::-1]\n",
    "\n",
    "        lastw_count = len(half_s_wox_right_back[half_s_wox_right_back==half_s_wox_right_back[-1]])\n",
    "        check_last_idx = np.where(s_array_back == half_s_wox_right_back[-1])[0][lastw_count-1]\n",
    "\n",
    "        half_array = s_array_back[:check_last_idx+1]\n",
    "        \n",
    "        a = np.where(half_array!=\"x\")[0]\n",
    "        a = np.insert(a,0,-1)\n",
    "        right_count_ar = a[1:] - a[:-1] - 1\n",
    "        \n",
    "        print(np.abs(right_count_ar - left_count_ar).sum())\n",
    "        \n",
    "    else:\n",
    "        half_s_wox_left = s_without_x_ar[:int(kw_count//2+1)]\n",
    "        lastw_count = len(half_s_wox_left[half_s_wox_left==half_s_wox_left[-1]])\n",
    "        check_last_idx = np.where(s_array == half_s_wox_left[-1])[0][lastw_count-1]\n",
    "        half_array = s_array[:check_last_idx+1]\n",
    "        \n",
    "        \n",
    "        a = np.where(half_array!=\"x\")[0]\n",
    "        a = np.insert(a,0,-1)\n",
    "        left_count_ar = a[1:] - a[:-1] - 1\n",
    "\n",
    "\n",
    "        # right\n",
    "        half_s_wox_right = s_without_x_ar[int(kw_count//2):]\n",
    "        half_s_wox_right_back = half_s_wox_right[::-1]\n",
    "        s_array_back = s_array[::-1]\n",
    "\n",
    "        lastw_count = len(half_s_wox_right_back[half_s_wox_right_back==half_s_wox_right_back[-1]])\n",
    "        check_last_idx = np.where(s_array_back == half_s_wox_right_back[-1])[0][lastw_count-1]\n",
    "\n",
    "        half_array = s_array_back[:check_last_idx+1]\n",
    "        \n",
    "        a = np.where(half_array!=\"x\")[0]\n",
    "        a = np.insert(a,0,-1)\n",
    "        right_count_ar = a[1:] - a[:-1] - 1\n",
    "        \n",
    "        print(np.abs(right_count_ar - left_count_ar).sum())\n",
    "            \n",
    "        \n",
    "#         s_ar = np.array(s_list)\n",
    "        \n",
    "        \n",
    "        \n",
    "#         for i in range(len(half_s_wox_left)):\n",
    "#             count = np.min(np.where(s_ar == half_s_wox_left[i]))\n",
    "#             left_count_list.append(count)\n",
    "#             s_ar = s_ar[count+1:]\n",
    "            \n",
    "#         half_s_wox_right = s_without_x[int(kw_count/2):]\n",
    "#         s_ar_back = np.array(s_list[::-1])\n",
    "#         half_s_wox_right_back = half_s_wox_right[::-1]\n",
    "#         for i in range(len(half_s_wox_right_back)):\n",
    "#             count = np.min(np.where(s_ar_back == half_s_wox_right_back[i]))\n",
    "#             right_count_list.append(count)\n",
    "#             s_ar_back = s_ar_back[count+1:]\n",
    "            \n",
    "#         sousa_count = 0\n",
    "#         for i in range(len(left_count_list)):\n",
    "#             sousa_count += np.abs(left_count_list[i] - right_count_list[i])\n",
    "        \n",
    "#         print(sousa_count)\n",
    "#     else:\n",
    "#         half_s_wox_left = s_without_x[:int(kw_count//2+1)]\n",
    "#         s_ar = np.array(s_list)\n",
    "#         for i in range(len(half_s_wox_left)):\n",
    "#             count = np.min(np.where(s_ar == half_s_wox_left[i]))\n",
    "#             left_count_list.append(count)\n",
    "#             s_ar = s_ar[count+1:]\n",
    "            \n",
    "#         half_s_wox_right = s_without_x[int(kw_count//2):]\n",
    "#         s_ar_back = np.array(s_list[::-1])\n",
    "#         half_s_wox_right_back = half_s_wox_right[::-1]\n",
    "#         for i in range(len(half_s_wox_right_back)):\n",
    "#             count = np.min(np.where(s_ar_back == half_s_wox_right_back[i]))\n",
    "#             right_count_list.append(count)\n",
    "#             s_ar_back = s_ar_back[count+1:]\n",
    "            \n",
    "#         sousa_count = 0\n",
    "#         for i in range(len(left_count_list)):\n",
    "#             sousa_count += np.abs(left_count_list[i] - right_count_list[i])\n",
    "        \n",
    "#         print(sousa_count)"
   ]
  },
  {
   "cell_type": "code",
   "execution_count": 164,
   "metadata": {},
   "outputs": [
    {
     "data": {
      "text/plain": [
       "array([1, 0, 0])"
      ]
     },
     "execution_count": 164,
     "metadata": {},
     "output_type": "execute_result"
    }
   ],
   "source": [
    "left_count_ar - right_count_ar"
   ]
  },
  {
   "cell_type": "code",
   "execution_count": 167,
   "metadata": {},
   "outputs": [
    {
     "data": {
      "text/plain": [
       "1"
      ]
     },
     "execution_count": 167,
     "metadata": {},
     "output_type": "execute_result"
    }
   ],
   "source": [
    "np.abs(right_count_ar - left_count_ar).sum()"
   ]
  },
  {
   "cell_type": "code",
   "execution_count": 155,
   "metadata": {},
   "outputs": [],
   "source": [
    "a = np.where(half_array!=\"x\")[0]\n",
    "a = np.insert(a,0,-1)\n",
    "b = a[1:] - a[:-1] - 1"
   ]
  },
  {
   "cell_type": "code",
   "execution_count": 156,
   "metadata": {},
   "outputs": [
    {
     "data": {
      "text/plain": [
       "array([4, 5, 6])"
      ]
     },
     "execution_count": 156,
     "metadata": {},
     "output_type": "execute_result"
    }
   ],
   "source": [
    "a"
   ]
  },
  {
   "cell_type": "code",
   "execution_count": 157,
   "metadata": {},
   "outputs": [],
   "source": []
  },
  {
   "cell_type": "code",
   "execution_count": 158,
   "metadata": {},
   "outputs": [
    {
     "data": {
      "text/plain": [
       "array([-1,  4,  5,  6])"
      ]
     },
     "execution_count": 158,
     "metadata": {},
     "output_type": "execute_result"
    }
   ],
   "source": [
    "a"
   ]
  },
  {
   "cell_type": "code",
   "execution_count": 159,
   "metadata": {},
   "outputs": [],
   "source": []
  },
  {
   "cell_type": "code",
   "execution_count": 160,
   "metadata": {},
   "outputs": [
    {
     "data": {
      "text/plain": [
       "array([4, 0, 0])"
      ]
     },
     "execution_count": 160,
     "metadata": {},
     "output_type": "execute_result"
    }
   ],
   "source": [
    "b"
   ]
  },
  {
   "cell_type": "code",
   "execution_count": 141,
   "metadata": {},
   "outputs": [
    {
     "data": {
      "text/plain": [
       "(array([0, 1, 2, 3]),)"
      ]
     },
     "execution_count": 141,
     "metadata": {},
     "output_type": "execute_result"
    }
   ],
   "source": [
    "np.where(half_array==\"x\")"
   ]
  },
  {
   "cell_type": "code",
   "execution_count": null,
   "metadata": {
    "collapsed": true
   },
   "outputs": [],
   "source": []
  },
  {
   "cell_type": "code",
   "execution_count": 129,
   "metadata": {},
   "outputs": [
    {
     "data": {
      "text/plain": [
       "(array([2, 3, 4, 5]),)"
      ]
     },
     "execution_count": 129,
     "metadata": {},
     "output_type": "execute_result"
    }
   ],
   "source": [
    "np.where(s_array == half_s_wox_left[-1])#[0][lastw_count]"
   ]
  },
  {
   "cell_type": "code",
   "execution_count": 78,
   "metadata": {},
   "outputs": [
    {
     "data": {
      "text/plain": [
       "[0, 0]"
      ]
     },
     "execution_count": 78,
     "metadata": {},
     "output_type": "execute_result"
    }
   ],
   "source": [
    "right_count_list"
   ]
  },
  {
   "cell_type": "code",
   "execution_count": 57,
   "metadata": {},
   "outputs": [
    {
     "data": {
      "text/plain": [
       "[]"
      ]
     },
     "execution_count": 57,
     "metadata": {},
     "output_type": "execute_result"
    }
   ],
   "source": [
    "left_count_list"
   ]
  },
  {
   "cell_type": "code",
   "execution_count": 45,
   "metadata": {
    "collapsed": true
   },
   "outputs": [],
   "source": [
    "import numpy as np\n",
    "s_ar = np.array(s_list)"
   ]
  },
  {
   "cell_type": "code",
   "execution_count": 53,
   "metadata": {},
   "outputs": [
    {
     "data": {
      "text/plain": [
       "0"
      ]
     },
     "execution_count": 53,
     "metadata": {},
     "output_type": "execute_result"
    }
   ],
   "source": [
    "np.min(np.where(s_ar == \"a\"))"
   ]
  },
  {
   "cell_type": "code",
   "execution_count": 50,
   "metadata": {},
   "outputs": [
    {
     "data": {
      "text/plain": [
       "array(['a', 's', 'a'], \n",
       "      dtype='<U1')"
      ]
     },
     "execution_count": 50,
     "metadata": {},
     "output_type": "execute_result"
    }
   ],
   "source": [
    "s_ar"
   ]
  },
  {
   "cell_type": "code",
   "execution_count": 44,
   "metadata": {},
   "outputs": [
    {
     "data": {
      "text/plain": [
       "False"
      ]
     },
     "execution_count": 44,
     "metadata": {},
     "output_type": "execute_result"
    }
   ],
   "source": [
    "s_list\"a\""
   ]
  },
  {
   "cell_type": "code",
   "execution_count": 33,
   "metadata": {},
   "outputs": [
    {
     "data": {
      "text/plain": [
       "['s', 'd']"
      ]
     },
     "execution_count": 33,
     "metadata": {},
     "output_type": "execute_result"
    }
   ],
   "source": [
    "s"
   ]
  },
  {
   "cell_type": "markdown",
   "metadata": {},
   "source": [
    "# D"
   ]
  },
  {
   "cell_type": "code",
   "execution_count": 191,
   "metadata": {},
   "outputs": [
    {
     "name": "stdout",
     "output_type": "stream",
     "text": [
      "abcabcxabcx\n"
     ]
    }
   ],
   "source": [
    "import numpy as np\n",
    "from collections import Counter\n",
    "s = np.array(list(input()))\n",
    "\n"
   ]
  },
  {
   "cell_type": "code",
   "execution_count": 194,
   "metadata": {},
   "outputs": [],
   "source": [
    "unique_s = np.unique(s)"
   ]
  },
  {
   "cell_type": "code",
   "execution_count": 197,
   "metadata": {},
   "outputs": [],
   "source": [
    "eye = np.eye(len(unique_s))"
   ]
  },
  {
   "cell_type": "code",
   "execution_count": 202,
   "metadata": {},
   "outputs": [
    {
     "ename": "ValueError",
     "evalue": "shape mismatch: objects cannot be broadcast to a single shape",
     "output_type": "error",
     "traceback": [
      "\u001b[0;31m---------------------------------------------------------------------------\u001b[0m",
      "\u001b[0;31mValueError\u001b[0m                                Traceback (most recent call last)",
      "\u001b[0;32m<ipython-input-202-ebb424acb49f>\u001b[0m in \u001b[0;36m<module>\u001b[0;34m()\u001b[0m\n\u001b[0;32m----> 1\u001b[0;31m \u001b[0munique_s\u001b[0m\u001b[0;34m==\u001b[0m\u001b[0ms\u001b[0m\u001b[0;34m\u001b[0m\u001b[0m\n\u001b[0m",
      "\u001b[0;31mValueError\u001b[0m: shape mismatch: objects cannot be broadcast to a single shape"
     ]
    }
   ],
   "source": [
    "unique_s"
   ]
  },
  {
   "cell_type": "code",
   "execution_count": null,
   "metadata": {
    "collapsed": true
   },
   "outputs": [],
   "source": []
  }
 ],
 "metadata": {
  "kernelspec": {
   "display_name": "Python 3",
   "language": "python",
   "name": "python3"
  },
  "language_info": {
   "codemirror_mode": {
    "name": "ipython",
    "version": 3
   },
   "file_extension": ".py",
   "mimetype": "text/x-python",
   "name": "python",
   "nbconvert_exporter": "python",
   "pygments_lexer": "ipython3",
   "version": "3.6.3"
  }
 },
 "nbformat": 4,
 "nbformat_minor": 2
}
