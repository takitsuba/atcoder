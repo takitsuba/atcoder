{
 "cells": [
  {
   "cell_type": "markdown",
   "metadata": {},
   "source": [
    "# A"
   ]
  },
  {
   "cell_type": "code",
   "execution_count": 15,
   "metadata": {},
   "outputs": [
    {
     "name": "stdout",
     "output_type": "stream",
     "text": [
      "FREE\n",
      "No\n"
     ]
    }
   ],
   "source": [
    "S = list(input())\n",
    "\n",
    "d = {}\n",
    "for s in S:\n",
    "    if s in d:\n",
    "        d[s] += 1\n",
    "    else:\n",
    "        d[s] = 1\n",
    "\n",
    "def check(d):\n",
    "    for k,v in d.items():\n",
    "        if v != 2:\n",
    "            return False\n",
    "        \n",
    "    return True\n",
    "    \n",
    "\n",
    "if check(d):\n",
    "    print(\"Yes\")\n",
    "else:\n",
    "    print(\"No\")"
   ]
  },
  {
   "cell_type": "markdown",
   "metadata": {},
   "source": [
    "# B"
   ]
  },
  {
   "cell_type": "code",
   "execution_count": null,
   "metadata": {},
   "outputs": [],
   "source": [
    "n = int(input())\n",
    "p_list = list(map(int,input().split()))\n",
    "\n",
    "cnt = 0\n",
    "for i in range(n-2):\n",
    "    if (p_list[i]<p_list[i+1]<p_list[i+2]) or (p_list[i]>p_list[i+1]>p_list[i+2]):\n",
    "        cnt += 1\n",
    "\n",
    "print(cnt)"
   ]
  },
  {
   "cell_type": "code",
   "execution_count": 21,
   "metadata": {},
   "outputs": [
    {
     "data": {
      "text/plain": [
       "5"
      ]
     },
     "execution_count": 21,
     "metadata": {},
     "output_type": "execute_result"
    }
   ],
   "source": []
  },
  {
   "cell_type": "markdown",
   "metadata": {},
   "source": [
    "# C"
   ]
  },
  {
   "cell_type": "code",
   "execution_count": 41,
   "metadata": {},
   "outputs": [
    {
     "name": "stdout",
     "output_type": "stream",
     "text": [
      "2\n",
      "1 1\n",
      "0\n"
     ]
    }
   ],
   "source": [
    "N = int(input())\n",
    "d_list = list(map(int,input().split()))\n",
    "\n",
    "d_list.sort()\n",
    "\n",
    "\n",
    "print(d_list[int(N/2)] - d_list[int(N/2-1)])"
   ]
  },
  {
   "cell_type": "markdown",
   "metadata": {},
   "source": [
    "# D"
   ]
  },
  {
   "cell_type": "code",
   "execution_count": 42,
   "metadata": {},
   "outputs": [
    {
     "name": "stdout",
     "output_type": "stream",
     "text": [
      "5 3\n"
     ]
    }
   ],
   "source": [
    "N,K = map(int,input().split())"
   ]
  },
  {
   "cell_type": "code",
   "execution_count": 44,
   "metadata": {},
   "outputs": [],
   "source": [
    "BIGINT = 10**9+7"
   ]
  },
  {
   "cell_type": "code",
   "execution_count": 45,
   "metadata": {},
   "outputs": [
    {
     "data": {
      "text/plain": [
       "1000000007"
      ]
     },
     "execution_count": 45,
     "metadata": {},
     "output_type": "execute_result"
    }
   ],
   "source": [
    "BIGINT"
   ]
  },
  {
   "cell_type": "code",
   "execution_count": 62,
   "metadata": {},
   "outputs": [],
   "source": [
    "def comb(a,b):\n",
    "    if a-b < b:\n",
    "        b = a-b\n",
    "    cnt = 1\n",
    "    for i in range(a,a-b,-1):\n",
    "        cnt *= i\n",
    "    for i in range(b,1,-1):\n",
    "        cnt /=i\n",
    "    cnt %= BIGINT\n",
    "    return int(cnt)"
   ]
  },
  {
   "cell_type": "code",
   "execution_count": 75,
   "metadata": {},
   "outputs": [
    {
     "name": "stdout",
     "output_type": "stream",
     "text": [
      "i 0\n",
      "knai 0\n",
      "pattern1\n",
      "amari_r 2\n",
      "rbasyo 0 cnt 0\n",
      "pattern2,3\n",
      "amari_r 1\n",
      "rbasyo 1 cnt 2\n",
      "pattern4\n",
      "amari_r 0\n",
      "rbasyo 2 cnt 3\n",
      "3\n",
      "i 1\n",
      "knai 2\n",
      "pattern1\n",
      "amari_r 1\n",
      "rbasyo 2 cnt 2\n",
      "pattern2,3\n",
      "amari_r 0\n",
      "rbasyo 3 cnt 4\n",
      "pattern4\n",
      "4\n",
      "i 2\n",
      "knai 1\n",
      "pattern1\n",
      "amari_r 0\n",
      "rbasyo 1 cnt 1\n",
      "pattern2,3\n",
      "pattern4\n",
      "1\n"
     ]
    }
   ],
   "source": [
    "R = N-K\n",
    "for i in range(K):\n",
    "    print(\"i\",i)\n",
    "    cnt = 0\n",
    "    if i == 0:\n",
    "        knairbasyo = 0\n",
    "    else:\n",
    "        knairbasyo = comb(K-1,i)\n",
    "    print(\"knai\",knairbasyo)\n",
    "    #pattern1\n",
    "    print(\"pattern1\")\n",
    "    amari_r = R-i\n",
    "    if amari_r >= 0:\n",
    "        print(\"amari_r\",amari_r)\n",
    "        rbasyo = knairbasyo\n",
    "        if rbasyo-1 >= 0:\n",
    "            cnt += comb(amari_r+1,rbasyo-1)\n",
    "        \n",
    "        print(\"rbasyo\",rbasyo,\"cnt\",cnt)\n",
    "    #pattern2,pattern3 atode2kakeru\n",
    "    print(\"pattern2,3\")\n",
    "\n",
    "    amari_r = R-i-1\n",
    "    if amari_r >= 0:\n",
    "        print(\"amari_r\",amari_r)\n",
    "        rbasyo = knairbasyo+1\n",
    "        cnt += comb(amari_r+1,rbasyo-1) * 2\n",
    "        print(\"rbasyo\",rbasyo,\"cnt\",cnt)\n",
    "    \n",
    "    #pattern_4\n",
    "    print(\"pattern4\")\n",
    "    amari_r = R-i-2\n",
    "    if amari_r >= 0:\n",
    "        print(\"amari_r\",amari_r)\n",
    "        rbasyo = knairbasyo+2\n",
    "        cnt += comb(amari_r+1,rbasyo-1)    \n",
    "        print(\"rbasyo\",rbasyo,\"cnt\",cnt)\n",
    "\n",
    "    print(cnt % BIGINT)\n",
    "    "
   ]
  },
  {
   "cell_type": "code",
   "execution_count": 56,
   "metadata": {},
   "outputs": [],
   "source": [
    "def comb(a,b):\n",
    "    if a-b < b:\n",
    "        b = a-b\n",
    "    cnt = 1\n",
    "    for i in range(a,a-b,-1):\n",
    "        cnt *= i\n",
    "    for i in range(b,1,-1):\n",
    "        cnt /=i\n",
    "    cnt %= BIGINT\n",
    "    return int(cnt)"
   ]
  },
  {
   "cell_type": "code",
   "execution_count": 61,
   "metadata": {},
   "outputs": [
    {
     "data": {
      "text/plain": [
       "5"
      ]
     },
     "execution_count": 61,
     "metadata": {},
     "output_type": "execute_result"
    }
   ],
   "source": [
    "comb(5,1)"
   ]
  },
  {
   "cell_type": "code",
   "execution_count": 46,
   "metadata": {},
   "outputs": [
    {
     "name": "stdout",
     "output_type": "stream",
     "text": [
      "5\n",
      "4\n"
     ]
    }
   ],
   "source": [
    "for i in range(5, 3,-1):\n",
    "    print(i)"
   ]
  },
  {
   "cell_type": "code",
   "execution_count": null,
   "metadata": {},
   "outputs": [],
   "source": []
  }
 ],
 "metadata": {
  "kernelspec": {
   "display_name": "Python 3",
   "language": "python",
   "name": "python3"
  },
  "language_info": {
   "codemirror_mode": {
    "name": "ipython",
    "version": 3
   },
   "file_extension": ".py",
   "mimetype": "text/x-python",
   "name": "python",
   "nbconvert_exporter": "python",
   "pygments_lexer": "ipython3",
   "version": "3.6.6"
  }
 },
 "nbformat": 4,
 "nbformat_minor": 2
}
