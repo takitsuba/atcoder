{
 "cells": [
  {
   "cell_type": "markdown",
   "metadata": {},
   "source": [
    "# B"
   ]
  },
  {
   "cell_type": "code",
   "execution_count": 8,
   "metadata": {},
   "outputs": [
    {
     "name": "stdout",
     "output_type": "stream",
     "text": [
      "10\n",
      "1 8 10 5 8 12 34 100 11 3\n",
      "No\n"
     ]
    }
   ],
   "source": [
    "N = int(input())\n",
    "l_list = list(map(int, input().split()))\n",
    "\n",
    "goukei = sum(l_list)\n",
    "max_l = max(l_list)\n",
    "\n",
    "if max_l < goukei - max_l:\n",
    "    print(\"Yes\")\n",
    "else:\n",
    "    print(\"No\")"
   ]
  },
  {
   "cell_type": "markdown",
   "metadata": {},
   "source": [
    "# C"
   ]
  },
  {
   "cell_type": "code",
   "execution_count": null,
   "metadata": {},
   "outputs": [],
   "source": [
    "1 2 10 12 14\n",
    " 1 8  2  2\n",
    "    \n",
    "1 2 10 12 14 24\n",
    " 1 8  2  2  10\n",
    "    "
   ]
  },
  {
   "cell_type": "code",
   "execution_count": 41,
   "metadata": {},
   "outputs": [
    {
     "name": "stdout",
     "output_type": "stream",
     "text": [
      "3 7\n",
      "-10 -3 0 9 -100 2 17\n",
      "19\n"
     ]
    }
   ],
   "source": [
    "N,M = map(int,input().split())\n",
    "x_list = list(map(int,input().split()))\n",
    "\n",
    "if N >= M:\n",
    "    print(0)\n",
    "else:\n",
    "    x_list.sort()\n",
    "\n",
    "    diff_list = []\n",
    "    \n",
    "    for i in range(M-1):\n",
    "        diff_list.append(x_list[i+1]-x_list[i])\n",
    "\n",
    "    diff_list.sort(reverse=True)\n",
    "    ans = x_list[-1] - x_list[0]\n",
    "    for i in range(N-1):\n",
    "        ans -= diff_list[i]\n",
    "    print(ans)"
   ]
  },
  {
   "cell_type": "code",
   "execution_count": 34,
   "metadata": {},
   "outputs": [
    {
     "data": {
      "text/plain": [
       "[]"
      ]
     },
     "execution_count": 34,
     "metadata": {},
     "output_type": "execute_result"
    }
   ],
   "source": [
    "diff_list[:-(N-1)]"
   ]
  },
  {
   "cell_type": "code",
   "execution_count": 39,
   "metadata": {},
   "outputs": [
    {
     "data": {
      "text/plain": [
       "[]"
      ]
     },
     "execution_count": 39,
     "metadata": {},
     "output_type": "execute_result"
    }
   ],
   "source": [
    "diff_list[:-0]"
   ]
  },
  {
   "cell_type": "code",
   "execution_count": null,
   "metadata": {},
   "outputs": [],
   "source": []
  }
 ],
 "metadata": {
  "kernelspec": {
   "display_name": "Python 3",
   "language": "python",
   "name": "python3"
  },
  "language_info": {
   "codemirror_mode": {
    "name": "ipython",
    "version": 3
   },
   "file_extension": ".py",
   "mimetype": "text/x-python",
   "name": "python",
   "nbconvert_exporter": "python",
   "pygments_lexer": "ipython3",
   "version": "3.6.6"
  }
 },
 "nbformat": 4,
 "nbformat_minor": 2
}
