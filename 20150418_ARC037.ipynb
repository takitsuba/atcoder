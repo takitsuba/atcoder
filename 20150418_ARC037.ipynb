{
 "cells": [
  {
   "cell_type": "markdown",
   "metadata": {},
   "source": [
    "# C"
   ]
  },
  {
   "cell_type": "code",
   "execution_count": 65,
   "metadata": {},
   "outputs": [],
   "source": [
    "# 全然ダメ\n",
    "N,K = map(int,input().split())\n",
    "a_list = list(map(int,input().split()))\n",
    "b_list = list(map(int,input().split()))\n",
    "\n",
    "a_list.sort()\n",
    "b_list.sort()\n",
    "\n",
    "a_list\n",
    "\n",
    "# import bisect\n",
    "# ab_list = [a*b for a,b in zip(a_list,b_list)]\n",
    "\n",
    "def get_square():\n",
    "    for i in range(1,N+1):\n",
    "        if i**2 > K:\n",
    "            return i\n",
    "\n",
    "colrow = get_square()\n",
    "\n",
    "K -= (get_square()-1)**2\n",
    "\n",
    "square_list = []\n",
    "for a in a_list[:colrow]:\n",
    "    square_list.append(a*b_list[colrow-1])\n",
    "    \n",
    "for b in b_list[:colrow-1]:\n",
    "    square_list.append(b*a_list[colrow-1])\n",
    "\n",
    "K\n",
    "\n",
    "square_list.sort()\n",
    "\n",
    "square_list[K-1]"
   ]
  },
  {
   "cell_type": "code",
   "execution_count": 1,
   "metadata": {},
   "outputs": [
    {
     "data": {
      "application/vnd.jupyter.widget-view+json": {
       "model_id": "0ebbc5cb99fd4ab98f3bc5c02c06c44d",
       "version_major": 2,
       "version_minor": 0
      },
      "text/plain": [
       "Textarea(value='')"
      ]
     },
     "metadata": {},
     "output_type": "display_data"
    }
   ],
   "source": [
    "from ipywidgets import Textarea\n",
    "import io\n",
    "\n",
    "if 'open' in globals():\n",
    "    del open\n",
    "if 'input' in globals():\n",
    "    del input\n",
    "\n",
    "original_open = open\n",
    "\n",
    "class custom_open():\n",
    "    def __init__(self):\n",
    "        self.text = ''\n",
    "\n",
    "    def __call__(self, file, *args, **kwargs):\n",
    "        if file == 0:\n",
    "            return io.StringIO(self.text)\n",
    "        return original_open(file, *args, **kwargs)\n",
    "\n",
    "    def updater(self, change):\n",
    "        self.text = change['new']\n",
    "\n",
    "class custom_input():\n",
    "    def __init__(self):\n",
    "        self.__sio = io.StringIO('')\n",
    "        self.shell = get_ipython()\n",
    "        if self.shell.events.callbacks['pre_run_cell'] != []:\n",
    "            self.shell.events.callbacks['pre_run_cell'] = []\n",
    "        self.shell.events.register('pre_run_cell', self.pre_run_cell)\n",
    "\n",
    "    def __call__(self):\n",
    "        return self.__sio.readline().strip()\n",
    "\n",
    "    def pre_run_cell(self, info):\n",
    "        text = self.shell.user_ns.get('text_area', None).value\n",
    "        self.__sio = io.StringIO(text)\n",
    "\n",
    "open = custom_open()\n",
    "input = custom_input()\n",
    "\n",
    "text_area = Textarea()\n",
    "text_area.observe(open.updater, names='value')\n",
    "display(text_area)"
   ]
  },
  {
   "cell_type": "code",
   "execution_count": 79,
   "metadata": {},
   "outputs": [],
   "source": [
    "# https://atcoder.jp/contests/arc037/submissions/7032083\n",
    "N,K = map(int,input().split())\n",
    "a_list = list(map(int,input().split()))\n",
    "b_list = list(map(int,input().split()))\n",
    "\n",
    "a_list.sort()\n",
    "b_list.sort()\n",
    "\n",
    "from bisect import bisect_right\n",
    "\n",
    "def check_idx(mid):\n",
    "    idx = 0\n",
    "    \n",
    "    for i in range(N):\n",
    "        idx += bisect_right(b_list, mid//a_list[i])\n",
    "        \n",
    "    return idx\n",
    "\n",
    "def binary_search():\n",
    "    left, right = 1, 10**18+1\n",
    "    \n",
    "    while left <= right:\n",
    "        mid = (left + right) // 2\n",
    "        idx = check_idx(mid)\n",
    "        if idx >= K:\n",
    "            right = mid - 1\n",
    "        else:\n",
    "            left = mid + 1\n",
    "    \n",
    "    return left\n",
    "\n",
    "ans = binary_search()\n",
    "\n",
    "print(ans)"
   ]
  },
  {
   "cell_type": "code",
   "execution_count": null,
   "metadata": {},
   "outputs": [],
   "source": []
  }
 ],
 "metadata": {
  "kernelspec": {
   "display_name": "Python 3",
   "language": "python",
   "name": "python3"
  },
  "language_info": {
   "codemirror_mode": {
    "name": "ipython",
    "version": 3
   },
   "file_extension": ".py",
   "mimetype": "text/x-python",
   "name": "python",
   "nbconvert_exporter": "python",
   "pygments_lexer": "ipython3",
   "version": "3.6.6"
  }
 },
 "nbformat": 4,
 "nbformat_minor": 2
}
