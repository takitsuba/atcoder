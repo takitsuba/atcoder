{
 "cells": [
  {
   "cell_type": "markdown",
   "metadata": {},
   "source": [
    "# D\n",
    "https://atcoder.jp/contests/maximum-cup-2018/tasks/maximum_cup_2018_d"
   ]
  },
  {
   "cell_type": "code",
   "execution_count": 1,
   "metadata": {},
   "outputs": [
    {
     "name": "stdout",
     "output_type": "stream",
     "text": [
      "5 11 7 5\n",
      "1 4 5 8 9\n"
     ]
    }
   ],
   "source": [
    "N, M, L, X = map(int, input().split())\n",
    "a_list = list(map(int, input().split()))"
   ]
  },
  {
   "cell_type": "code",
   "execution_count": 3,
   "metadata": {},
   "outputs": [],
   "source": [
    "hoge = [1,2,3,4,5]"
   ]
  },
  {
   "cell_type": "code",
   "execution_count": 4,
   "metadata": {},
   "outputs": [],
   "source": [
    "del hoge[2]"
   ]
  },
  {
   "cell_type": "code",
   "execution_count": 5,
   "metadata": {},
   "outputs": [
    {
     "data": {
      "text/plain": [
       "[1, 2, 4, 5]"
      ]
     },
     "execution_count": 5,
     "metadata": {},
     "output_type": "execute_result"
    }
   ],
   "source": [
    "hoge"
   ]
  },
  {
   "cell_type": "markdown",
   "metadata": {},
   "source": [
    "- X週で上限が決まる\n",
    "- a_listの合計で燃料の上限も決まる\n",
    "\n",
    "複数のゴールがある。\n",
    "\n",
    "5 11 7 5\n",
    "のとき\n",
    "7、１８，２９，４０、51\n",
    "が出せれば良い。\n",
    "\n",
    "1,4,5,8,9\n",
    "で出せるか？\n",
    "\n",
    "2の1000０乗とかやると間に合わない。\n",
    "\n",
    "深さ優先探索でやれば、最適性は無いが早めに見つけられそう"
   ]
  },
  {
   "cell_type": "code",
   "execution_count": 16,
   "metadata": {},
   "outputs": [
    {
     "name": "stdout",
     "output_type": "stream",
     "text": [
      "1 1 1 1\n",
      "100\n",
      "Yes\n"
     ]
    }
   ],
   "source": [
    "import sys\n",
    "sys.setrecursionlimit(1000000)\n",
    " \n",
    "\n",
    "N, M, L, X = map(int, input().split())\n",
    "a_list = list(map(int, input().split()))\n",
    "\n",
    "\n",
    "\n",
    "def func(goukei, a_list):\n",
    "    if goukei / M > X:\n",
    "        return False\n",
    "    if (goukei-L) % M == 0:\n",
    "        return True\n",
    "\n",
    "    for i,a in enumerate(a_list):\n",
    "        if func(goukei+a, a_list[i+1:]):\n",
    "            return True\n",
    "    return False\n",
    "\n",
    "goukei = 0\n",
    "if func(goukei, a_list):\n",
    "    print(\"Yes\")\n",
    "else:\n",
    "    print(\"No\")"
   ]
  },
  {
   "cell_type": "markdown",
   "metadata": {},
   "source": [
    "↑うえだとTLEが１件発生してしまった。\n",
    "部分和問題は動的計画法を用いるのがいいらしい。\n"
   ]
  },
  {
   "cell_type": "code",
   "execution_count": 24,
   "metadata": {},
   "outputs": [
    {
     "name": "stdout",
     "output_type": "stream",
     "text": [
      "5 11 7 5\n",
      "1 4 5 8 9\n",
      "0 0\n",
      "1 1\n",
      "5 2\n",
      "10 3\n",
      "18 4\n",
      "Yes\n"
     ]
    }
   ],
   "source": [
    "import sys\n",
    "sys.setrecursionlimit(1000000)\n",
    " \n",
    "\n",
    "N, M, L, X = map(int, input().split())\n",
    "a_list = list(map(int, input().split()))\n",
    "\n",
    "memo = {}\n",
    "\n",
    "def func(goukei, now_i):\n",
    "#     print(goukei, now_i)\n",
    "    if (goukei, now_i) in memo:\n",
    "        return memo[(goukei, now_i)]\n",
    "    if goukei / M > X:\n",
    "        return False\n",
    "    if (goukei-L) % M == 0:\n",
    "        return True\n",
    "\n",
    "    for i in range(now_i,len(a_list)):\n",
    "        if func(goukei+a_list[i], i+1):\n",
    "            return True\n",
    "        \n",
    "    memo[(goukei, now_i)] = False\n",
    "    return False\n",
    "\n",
    "goukei = 0\n",
    "now_i = 0\n",
    "if func(goukei, now_i):\n",
    "    print(\"Yes\")\n",
    "else:\n",
    "    print(\"No\")"
   ]
  },
  {
   "cell_type": "markdown",
   "metadata": {},
   "source": [
    "↑メモを追加してもダメだった。DPでやり直す"
   ]
  },
  {
   "cell_type": "markdown",
   "metadata": {},
   "source": [
    "# DP"
   ]
  },
  {
   "cell_type": "code",
   "execution_count": null,
   "metadata": {},
   "outputs": [],
   "source": [
    "# from collections import defaultdict\n",
    "\n",
    "N, M, L, X = map(int, input().split())\n",
    "a_list = list(map(int, input().split()))\n",
    "\n",
    "# dp = [defaultdict(lambda:X+1) for _ in range(N+1)]\n",
    "dp = [[10001 for j in range(M)] for i in range(N + 1)]\n",
    "dp[0][0] = 1\n",
    "\n",
    "def dpfunc(i, j):\n",
    "    if j == 0:\n",
    "        dp[i+1][j] = 1\n",
    "    \n",
    "    if j+a_list[i] >= M:\n",
    "        dp[i+1][(j+a_list[i])%M] = min(dp[i][j]+(j+a_list[i])//M, dp[i][(j+a_list[i])%M])\n",
    "    else:\n",
    "        dp[i+1][j+a_list[i]] = min(dp[i][j], dp[i][j+a_list[i]])\n",
    "            \n",
    "\n",
    "for i in range(N):\n",
    "    for j in range(M):\n",
    "        dpfunc(i,j)\n",
    "        \n",
    "if dp[N][L] <= X:\n",
    "    print(\"Yes\")\n",
    "else:\n",
    "    print(\"No\")"
   ]
  },
  {
   "cell_type": "code",
   "execution_count": 40,
   "metadata": {},
   "outputs": [
    {
     "ename": "IndexError",
     "evalue": "list index out of range",
     "output_type": "error",
     "traceback": [
      "\u001b[0;31m---------------------------------------------------------------------------\u001b[0m",
      "\u001b[0;31mIndexError\u001b[0m                                Traceback (most recent call last)",
      "\u001b[0;32m<ipython-input-40-427060128c05>\u001b[0m in \u001b[0;36m<module>\u001b[0;34m()\u001b[0m\n\u001b[0;32m----> 1\u001b[0;31m \u001b[0mdp\u001b[0m\u001b[0;34m[\u001b[0m\u001b[0;36m5\u001b[0m\u001b[0;34m]\u001b[0m\u001b[0;34m[\u001b[0m\u001b[0;36m7\u001b[0m\u001b[0;34m]\u001b[0m\u001b[0;34m\u001b[0m\u001b[0m\n\u001b[0m",
      "\u001b[0;31mIndexError\u001b[0m: list index out of range"
     ]
    }
   ],
   "source": [
    "dp[5][7]"
   ]
  },
  {
   "cell_type": "code",
   "execution_count": null,
   "metadata": {},
   "outputs": [],
   "source": []
  }
 ],
 "metadata": {
  "kernelspec": {
   "display_name": "Python 3",
   "language": "python",
   "name": "python3"
  },
  "language_info": {
   "codemirror_mode": {
    "name": "ipython",
    "version": 3
   },
   "file_extension": ".py",
   "mimetype": "text/x-python",
   "name": "python",
   "nbconvert_exporter": "python",
   "pygments_lexer": "ipython3",
   "version": "3.6.6"
  }
 },
 "nbformat": 4,
 "nbformat_minor": 2
}
