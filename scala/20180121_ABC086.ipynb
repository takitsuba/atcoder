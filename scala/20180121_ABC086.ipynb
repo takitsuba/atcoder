{
 "cells": [
  {
   "cell_type": "markdown",
   "metadata": {},
   "source": [
    "# B"
   ]
  },
  {
   "cell_type": "code",
   "execution_count": 15,
   "metadata": {},
   "outputs": [
    {
     "name": "stdout",
     "output_type": "stream",
     "text": [
      "6 4\n",
      "Yes\n"
     ]
    },
    {
     "data": {
      "text/plain": [
       "\u001b[36mab\u001b[39m: \u001b[32mInt\u001b[39m = \u001b[32m64\u001b[39m\n",
       "\u001b[32mimport \u001b[39m\u001b[36mmath._\n",
       "\n",
       "\u001b[39m\n",
       "defined \u001b[32mfunction\u001b[39m \u001b[36mcheck\u001b[39m"
      ]
     },
     "execution_count": 15,
     "metadata": {},
     "output_type": "execute_result"
    }
   ],
   "source": [
    "object Main extends App{\n",
    "\n",
    "    val ab = scala.io.StdIn.readLine.replaceAll(\"\\\\s\",\"\").toInt\n",
    "\n",
    "    import math._\n",
    "\n",
    "    def check(ab: Int):Boolean = {\n",
    "        for (i<- 1 to ceil(sqrt(ab)).toInt) {\n",
    "          if (pow(i,2) == ab) return true\n",
    "        }\n",
    "        return false\n",
    "    }\n",
    "\n",
    "    if (check(ab)) println(\"Yes\") else println(\"No\")\n",
    "}"
   ]
  },
  {
   "cell_type": "markdown",
   "metadata": {},
   "source": [
    "# "
   ]
  }
 ],
 "metadata": {
  "kernelspec": {
   "display_name": "Scala",
   "language": "scala",
   "name": "scala"
  },
  "language_info": {
   "codemirror_mode": "text/x-scala",
   "file_extension": ".scala",
   "mimetype": "text/x-scala",
   "name": "scala",
   "nbconvert_exporter": "script",
   "version": "2.12.8"
  }
 },
 "nbformat": 4,
 "nbformat_minor": 2
}
