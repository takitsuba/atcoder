{
 "cells": [
  {
   "cell_type": "markdown",
   "metadata": {},
   "source": [
    "# A"
   ]
  },
  {
   "cell_type": "code",
   "execution_count": 62,
   "metadata": {},
   "outputs": [
    {
     "name": "stdout",
     "output_type": "stream",
     "text": [
      "Yes\n"
     ]
    }
   ],
   "source": [
    "N,A,B,C,D = map(int, input().split())\n",
    "A -= 1\n",
    "B -= 1\n",
    "C -= 1\n",
    "D -= 1\n",
    "\n",
    "S = list(input())\n",
    "\n",
    "iwa2 = []\n",
    "cnt = 0\n",
    "for i in range(len(S)-1):\n",
    "    if S[i] == S[i+1] == \"#\":\n",
    "#         iwa2.append(1)\n",
    "        cnt += 1\n",
    "#     else:\n",
    "#         iwa2.append(0)\n",
    "    iwa2.append(cnt)\n",
    "    \n",
    "#長さ揃える\n",
    "iwa2.append(cnt)        \n",
    "        \n",
    "def iwa2_check(s,g):\n",
    "    if iwa2[s] < iwa2[g]:\n",
    "        return True\n",
    "    return False\n",
    "\n",
    "# aki3は複数あったら、そのどれかに二人でたどり着ければ良い\n",
    "aki3 = [0]\n",
    "cnt = 0\n",
    "for i in range(1,len(S)-1):\n",
    "    if S[i-1] == S[i] == S[i+1] == \".\":\n",
    "        cnt += 1\n",
    "    aki3.append(cnt)\n",
    "aki3.append(cnt)\n",
    "\n",
    "def aki3_check(B,CORD):\n",
    "    # AさんがBさんと出会える（iwa2ない）\n",
    "#     if not iwa2(A,B):\n",
    "#         return False\n",
    "    # Bさんがaki3にたどり着ける（最寄りの2つを見るだけで良い）\n",
    "    # oBoのような状態でもOKなので-1\n",
    "    if aki3[B-1] < aki3[CORD]:\n",
    "        return True\n",
    "    return False\n",
    "\n",
    "# 順序が入れ替わらないとき\n",
    "def solve():\n",
    "    if iwa2_check(A,C) or iwa2_check(B,D):\n",
    "#         print(\"1\")\n",
    "        return False\n",
    "    if C<D:\n",
    "#         print(\"2\")\n",
    "        return True\n",
    "    else:\n",
    "        if aki3_check(B, D):\n",
    "#             print(\"3\")\n",
    "            return True\n",
    "        else:\n",
    "#             print(\"4\")\n",
    "            return False\n",
    "\n",
    "if solve():\n",
    "    print(\"Yes\")\n",
    "else:\n",
    "    print(\"No\")"
   ]
  },
  {
   "cell_type": "code",
   "execution_count": null,
   "metadata": {},
   "outputs": [],
   "source": []
  }
 ],
 "metadata": {
  "kernelspec": {
   "display_name": "Python 3",
   "language": "python",
   "name": "python3"
  },
  "language_info": {
   "codemirror_mode": {
    "name": "ipython",
    "version": 3
   },
   "file_extension": ".py",
   "mimetype": "text/x-python",
   "name": "python",
   "nbconvert_exporter": "python",
   "pygments_lexer": "ipython3",
   "version": "3.6.6"
  }
 },
 "nbformat": 4,
 "nbformat_minor": 2
}
