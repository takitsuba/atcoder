{
 "cells": [
  {
   "cell_type": "markdown",
   "metadata": {},
   "source": [
    "# A"
   ]
  },
  {
   "cell_type": "code",
   "execution_count": null,
   "metadata": {},
   "outputs": [],
   "source": [
    "object Main extends App {\n",
    "    val i = scala.io.StdIn.readLine().toInt\n",
    "\n",
    "    if (i == 1){\n",
    "      println(\"Hello World\")\n",
    "    } else {\n",
    "      val a = scala.io.StdIn.readLine().toInt\n",
    "      val b = scala.io.StdIn.readLine().toInt\n",
    "      println(a+b)\n",
    "    }\n",
    "}"
   ]
  },
  {
   "cell_type": "code",
   "execution_count": 5,
   "metadata": {},
   "outputs": [
    {
     "name": "stdout",
     "output_type": "stream",
     "text": [
      "3\n",
      "5\n",
      "8\n"
     ]
    }
   ],
   "source": [
    "val i = scala.io.StdIn.readLine().toInt\n",
    "\n",
    "if (i == 1){\n",
    "  println(\"Hello World\")\n",
    "} else {\n",
    "  val a = scala.io.StdIn.readLine().toInt\n",
    "  val b = scala.io.StdIn.readLine().toInt\n",
    "  println(a+b)\n",
    "}"
   ]
  },
  {
   "cell_type": "code",
   "execution_count": null,
   "metadata": {},
   "outputs": [],
   "source": []
  }
 ],
 "metadata": {
  "kernelspec": {
   "display_name": "Scala",
   "language": "scala",
   "name": "scala"
  },
  "language_info": {
   "codemirror_mode": "text/x-scala",
   "file_extension": ".scala",
   "mimetype": "text/x-scala",
   "name": "scala",
   "nbconvert_exporter": "script",
   "version": "2.12.8"
  }
 },
 "nbformat": 4,
 "nbformat_minor": 2
}
