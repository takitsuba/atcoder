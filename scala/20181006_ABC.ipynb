{
 "cells": [
  {
   "cell_type": "markdown",
   "metadata": {},
   "source": [
    "# A"
   ]
  },
  {
   "cell_type": "code",
   "execution_count": null,
   "metadata": {},
   "outputs": [],
   "source": [
    "object Main extends App {\n",
    "    val i = scala.io.StdIn.readLine().toInt\n",
    "\n",
    "    if (i == 1){\n",
    "      println(\"Hello World\")\n",
    "    } else {\n",
    "      val a = scala.io.StdIn.readLine().toInt\n",
    "      val b = scala.io.StdIn.readLine().toInt\n",
    "      println(a+b)\n",
    "    }\n",
    "}"
   ]
  },
  {
   "cell_type": "code",
   "execution_count": 5,
   "metadata": {},
   "outputs": [
    {
     "name": "stdout",
     "output_type": "stream",
     "text": [
      "3\n",
      "5\n",
      "8\n"
     ]
    }
   ],
   "source": [
    "val i = scala.io.StdIn.readLine().toInt\n",
    "\n",
    "if (i == 1){\n",
    "  println(\"Hello World\")\n",
    "} else {\n",
    "  val a = scala.io.StdIn.readLine().toInt\n",
    "  val b = scala.io.StdIn.readLine().toInt\n",
    "  println(a+b)\n",
    "}"
   ]
  },
  {
   "cell_type": "markdown",
   "metadata": {},
   "source": [
    "# B"
   ]
  },
  {
   "cell_type": "code",
   "execution_count": 6,
   "metadata": {},
   "outputs": [
    {
     "ename": "",
     "evalue": "",
     "output_type": "error",
     "traceback": [
      "Interrupted!\n  sun.misc.Unsafe.park(\u001b[32mNative Method\u001b[39m)\n  java.util.concurrent.locks.LockSupport.park(\u001b[32mLockSupport.java\u001b[39m:\u001b[32m175\u001b[39m)\n  java.util.concurrent.locks.AbstractQueuedSynchronizer.parkAndCheckInterrupt(\u001b[32mAbstractQueuedSynchronizer.java\u001b[39m:\u001b[32m836\u001b[39m)\n  java.util.concurrent.locks.AbstractQueuedSynchronizer.doAcquireSharedInterruptibly(\u001b[32mAbstractQueuedSynchronizer.java\u001b[39m:\u001b[32m997\u001b[39m)\n  java.util.concurrent.locks.AbstractQueuedSynchronizer.acquireSharedInterruptibly(\u001b[32mAbstractQueuedSynchronizer.java\u001b[39m:\u001b[32m1304\u001b[39m)\n  scala.concurrent.impl.Promise$DefaultPromise.tryAwait(\u001b[32mPromise.scala\u001b[39m:\u001b[32m242\u001b[39m)\n  scala.concurrent.impl.Promise$DefaultPromise.ready(\u001b[32mPromise.scala\u001b[39m:\u001b[32m258\u001b[39m)\n  scala.concurrent.impl.Promise$DefaultPromise.result(\u001b[32mPromise.scala\u001b[39m:\u001b[32m263\u001b[39m)\n  scala.concurrent.Await$.$anonfun$result$1(\u001b[32mpackage.scala\u001b[39m:\u001b[32m219\u001b[39m)\n  scala.concurrent.Await$$$Lambda$2488/157052806.apply(\u001b[32mUnknown Source\u001b[39m)\n  scala.concurrent.BlockContext$DefaultBlockContext$.blockOn(\u001b[32mBlockContext.scala\u001b[39m:\u001b[32m57\u001b[39m)\n  scala.concurrent.Await$.result(\u001b[32mpackage.scala\u001b[39m:\u001b[32m146\u001b[39m)\n  almond.ScalaInterpreter.$anonfun$input$2(\u001b[32mScalaInterpreter.scala\u001b[39m:\u001b[32m160\u001b[39m)\n  almond.ScalaInterpreter$$Lambda$2478/1154134968.apply(\u001b[32mUnknown Source\u001b[39m)\n  scala.Option.flatMap(\u001b[32mOption.scala\u001b[39m:\u001b[32m188\u001b[39m)\n  almond.ScalaInterpreter.$anonfun$input$1(\u001b[32mScalaInterpreter.scala\u001b[39m:\u001b[32m151\u001b[39m)\n  almond.ScalaInterpreter$$Lambda$120/1645547422.apply(\u001b[32mUnknown Source\u001b[39m)\n  almond.internals.FunctionInputStream.maybeFetchNewBuffer(\u001b[32mFunctionInputStream.scala\u001b[39m:\u001b[32m24\u001b[39m)\n  almond.internals.FunctionInputStream.read(\u001b[32mFunctionInputStream.scala\u001b[39m:\u001b[32m54\u001b[39m)\n  sun.nio.cs.StreamDecoder.readBytes(\u001b[32mStreamDecoder.java\u001b[39m:\u001b[32m284\u001b[39m)\n  sun.nio.cs.StreamDecoder.implRead(\u001b[32mStreamDecoder.java\u001b[39m:\u001b[32m326\u001b[39m)\n  sun.nio.cs.StreamDecoder.read(\u001b[32mStreamDecoder.java\u001b[39m:\u001b[32m178\u001b[39m)\n  java.io.InputStreamReader.read(\u001b[32mInputStreamReader.java\u001b[39m:\u001b[32m184\u001b[39m)\n  java.io.BufferedReader.fill(\u001b[32mBufferedReader.java\u001b[39m:\u001b[32m161\u001b[39m)\n  java.io.BufferedReader.readLine(\u001b[32mBufferedReader.java\u001b[39m:\u001b[32m324\u001b[39m)\n  java.io.BufferedReader.readLine(\u001b[32mBufferedReader.java\u001b[39m:\u001b[32m389\u001b[39m)\n  scala.io.StdIn.readLine(\u001b[32mStdIn.scala\u001b[39m:\u001b[32m30\u001b[39m)\n  scala.io.StdIn.readLine$(\u001b[32mStdIn.scala\u001b[39m:\u001b[32m30\u001b[39m)\n  scala.io.StdIn$.readLine(\u001b[32mStdIn.scala\u001b[39m:\u001b[32m241\u001b[39m)\n  ammonite.$sess.cmd5$Helper.<init>(\u001b[32mcmd5.sc\u001b[39m:\u001b[32m2\u001b[39m)\n  ammonite.$sess.cmd5$.<init>(\u001b[32mcmd5.sc\u001b[39m:\u001b[32m7\u001b[39m)\n  ammonite.$sess.cmd5$.<clinit>(\u001b[32mcmd5.sc\u001b[39m:\u001b[32m-1\u001b[39m)"
     ]
    }
   ],
   "source": [
    "import scala.io.StdIn._\n",
    "object Main extends App {\n",
    "    val Array(n, t) = readLine().split(\"\\\\s\").map(_.toInt)\n",
    "\n",
    "    var min_cost = 9999\n",
    "    for (_ <- 1 to n) {\n",
    "      val Array(c,ti) = readLine().split(\"\\\\s\").map(_.toInt)\n",
    "      if (ti<=t){\n",
    "        min_cost = List(min_cost,c).min\n",
    "      }\n",
    "    }\n",
    "    if (min_cost==9999){\n",
    "      println(\"TLE\")\n",
    "    } else{\n",
    "      println(min_cost)\n",
    "    }\n",
    "}"
   ]
  },
  {
   "cell_type": "markdown",
   "metadata": {},
   "source": [
    "# "
   ]
  }
 ],
 "metadata": {
  "kernelspec": {
   "display_name": "Scala",
   "language": "scala",
   "name": "scala"
  },
  "language_info": {
   "codemirror_mode": "text/x-scala",
   "file_extension": ".scala",
   "mimetype": "text/x-scala",
   "name": "scala",
   "nbconvert_exporter": "script",
   "version": "2.12.8"
  }
 },
 "nbformat": 4,
 "nbformat_minor": 2
}
