{
 "cells": [
  {
   "cell_type": "markdown",
   "metadata": {},
   "source": [
    "# B"
   ]
  },
  {
   "cell_type": "code",
   "execution_count": 8,
   "metadata": {},
   "outputs": [
    {
     "name": "stdout",
     "output_type": "stream",
     "text": [
      "213\n"
     ]
    },
    {
     "data": {
      "text/plain": [
       "\u001b[36mcnt\u001b[39m: \u001b[32mInt\u001b[39m = \u001b[32m213\u001b[39m"
      ]
     },
     "execution_count": 8,
     "metadata": {},
     "output_type": "execute_result"
    }
   ],
   "source": [
    "object Main extends App{\n",
    "import scala.io.StdIn.readInt\n",
    "val a = readInt()\n",
    "val b = readInt()\n",
    "val c = readInt()\n",
    "val x = readInt()\n",
    "\n",
    "var cnt = 0\n",
    "for (i <- 0 to a) {\n",
    "    for (j <- 0 to b){\n",
    "        for (k <- 0 to c){\n",
    "           if (x==500*i+100*j+50*k) cnt += 1\n",
    "        }\n",
    "    }\n",
    "}\n",
    "\n",
    "println(cnt)\n",
    "}"
   ]
  },
  {
   "cell_type": "code",
   "execution_count": null,
   "metadata": {},
   "outputs": [],
   "source": []
  }
 ],
 "metadata": {
  "kernelspec": {
   "display_name": "Scala",
   "language": "scala",
   "name": "scala"
  },
  "language_info": {
   "codemirror_mode": "text/x-scala",
   "file_extension": ".scala",
   "mimetype": "text/x-scala",
   "name": "scala",
   "nbconvert_exporter": "script",
   "version": "2.12.8"
  }
 },
 "nbformat": 4,
 "nbformat_minor": 2
}
