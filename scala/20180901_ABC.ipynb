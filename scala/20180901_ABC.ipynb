{
 "cells": [
  {
   "cell_type": "markdown",
   "metadata": {},
   "source": [
    "# A"
   ]
  },
  {
   "cell_type": "code",
   "execution_count": 2,
   "metadata": {},
   "outputs": [
    {
     "data": {
      "text/plain": [
       "\u001b[32mimport \u001b[39m\u001b[36mscala.math._\u001b[39m"
      ]
     },
     "execution_count": 2,
     "metadata": {},
     "output_type": "execute_result"
    }
   ],
   "source": [
    "object Main extends App {\n",
    "    import scala.math._\n",
    "\n",
    "    val k = scala.io.StdIn.readLine().toFloat\n",
    "\n",
    "    val kisuu  = ceil(k / 2)\n",
    "    val guusuu = floor(k / 2)\n",
    "    println((kisuu * guusuu).toInt)\n",
    "}"
   ]
  },
  {
   "cell_type": "markdown",
   "metadata": {},
   "source": [
    "# B"
   ]
  },
  {
   "cell_type": "code",
   "execution_count": 1,
   "metadata": {},
   "outputs": [
    {
     "name": "stdout",
     "output_type": "stream",
     "text": [
      "0 0 0 1\n"
     ]
    },
    {
     "data": {
      "text/plain": [
       "\u001b[36mx1\u001b[39m: \u001b[32mInt\u001b[39m = \u001b[32m0\u001b[39m\n",
       "\u001b[36my1\u001b[39m: \u001b[32mInt\u001b[39m = \u001b[32m0\u001b[39m\n",
       "\u001b[36mx2\u001b[39m: \u001b[32mInt\u001b[39m = \u001b[32m0\u001b[39m\n",
       "\u001b[36my2\u001b[39m: \u001b[32mInt\u001b[39m = \u001b[32m1\u001b[39m"
      ]
     },
     "execution_count": 1,
     "metadata": {},
     "output_type": "execute_result"
    }
   ],
   "source": [
    "// object Main extends App {\n",
    "//     val Array(x1,y1,x2,y2) = scala.io.StdIn.readLine().split(\"\\\\s\").map(_.toInt)\n",
    "\n",
    "//     val hen = ((x1-x2) + (y1-y2)).abs\n",
    "\n",
    "//     def point34(x1:Int,x2:Int,y1:Int,y2:Int): Array[Int] = {\n",
    "//         if (x1==x2) {\n",
    "//           if (y1<y2) {\n",
    "//             Array(x1-hen,y2,x1-hen,y1)\n",
    "//           } else {\n",
    "//             Array(x1+hen,y2,x1+hen,y1)\n",
    "//           }\n",
    "//         } else {\n",
    "//           if (x1<x2) {\n",
    "//             Array(x2,y2+hen,x1,y2+hen)\n",
    "//           } else {\n",
    "//             Array(x2,y2-hen,x1,y1-hen)\n",
    "//           }\n",
    "//         }\n",
    "//     }\n",
    "\n",
    "//     println(point34(x1,x2,y1,y2).map(_.toString).mkString(\" \"))\n",
    "// }"
   ]
  },
  {
   "cell_type": "code",
   "execution_count": 20,
   "metadata": {},
   "outputs": [
    {
     "data": {
      "text/plain": [
       "defined \u001b[32mfunction\u001b[39m \u001b[36mrotate\u001b[39m"
      ]
     },
     "execution_count": 20,
     "metadata": {},
     "output_type": "execute_result"
    }
   ],
   "source": [
    "object Main extends App {\n",
    "    val Array(x1,y1,x2,y2) = scala.io.StdIn.readLine().split(\"\\\\s\").map(_.toInt)\n",
    "\n",
    "    val v12 = Seq(x2-x1,y2-y1)\n",
    "\n",
    "    def rotate(v:Seq[Int]):Seq[Int] = {\n",
    "      val a = Seq(-v(1),v(0))\n",
    "      a\n",
    "    }\n",
    "\n",
    "    val v23 = rotate(v12)\n",
    "\n",
    "    val point2 = Seq(x2,y2)\n",
    "    val point3 = (point2 zip v23).map { case (x, y) => x + y }\n",
    "\n",
    "    val v34 = rotate(v23)\n",
    "    val point4 = (point3 zip v34).map { case (x, y) => x + y }\n",
    "\n",
    "    println((point3 ++ point4).map(_.toString).mkString(\" \"))\n",
    "}"
   ]
  },
  {
   "cell_type": "code",
   "execution_count": null,
   "metadata": {},
   "outputs": [],
   "source": []
  }
 ],
 "metadata": {
  "kernelspec": {
   "display_name": "Scala",
   "language": "scala",
   "name": "scala"
  },
  "language_info": {
   "codemirror_mode": "text/x-scala",
   "file_extension": ".scala",
   "mimetype": "text/x-scala",
   "name": "scala",
   "nbconvert_exporter": "script",
   "version": "2.12.8"
  }
 },
 "nbformat": 4,
 "nbformat_minor": 2
}
