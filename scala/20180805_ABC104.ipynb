{
 "cells": [
  {
   "cell_type": "markdown",
   "metadata": {},
   "source": [
    "# A"
   ]
  },
  {
   "cell_type": "code",
   "execution_count": 2,
   "metadata": {},
   "outputs": [
    {
     "name": "stdout",
     "output_type": "stream",
     "text": [
      "ABC\n"
     ]
    }
   ],
   "source": [
    "object Main extends App{\n",
    "\n",
    "val R = scala.io.StdIn.readLine().toInt\n",
    "\n",
    "if (R<1200) {\n",
    "    println(\"ABC\")\n",
    "} else if (R < 2800){\n",
    "    println(\"ARC\")\n",
    "} else {\n",
    "    println(\"AGC\")\n",
    "}\n",
    "}"
   ]
  },
  {
   "cell_type": "markdown",
   "metadata": {},
   "source": [
    "# B"
   ]
  },
  {
   "cell_type": "code",
   "execution_count": 25,
   "metadata": {},
   "outputs": [
    {
     "name": "stdout",
     "output_type": "stream",
     "text": [
      "Atcoder\n",
      "WA\n"
     ]
    },
    {
     "data": {
      "text/plain": [
       "\u001b[36ms_list\u001b[39m: \u001b[32mList\u001b[39m[\u001b[32mChar\u001b[39m] = \u001b[33mList\u001b[39m(\u001b[32m'A'\u001b[39m, \u001b[32m't'\u001b[39m, \u001b[32m'c'\u001b[39m, \u001b[32m'o'\u001b[39m, \u001b[32m'd'\u001b[39m, \u001b[32m'e'\u001b[39m, \u001b[32m'r'\u001b[39m)\n",
       "defined \u001b[32mfunction\u001b[39m \u001b[36mcheck\u001b[39m"
      ]
     },
     "execution_count": 25,
     "metadata": {},
     "output_type": "execute_result"
    }
   ],
   "source": [
    "object Main extends App {\n",
    "\n",
    "val s_list = scala.io.StdIn.readLine.toList\n",
    "\n",
    "def check(s_list:List[Char]):Boolean = {\n",
    "  if (s_list(0) != 'A') return false\n",
    "  val upper_c_idx = s_list.indexOfSlice(\"C\")\n",
    "  if (upper_c_idx != s_list.lastIndexOfSlice(\"C\")) return false\n",
    "  if ((upper_c_idx < 2) | (s_list.length-2 < upper_c_idx)) return false\n",
    "  var cnt:Int = s_list.filter(c => c >= 'A' && c <= 'Z').size\n",
    "  if (cnt > 2) return false\n",
    "  return true\n",
    "}\n",
    "\n",
    "if (check(s_list)) println(\"AC\") else println(\"WA\")\n",
    "}"
   ]
  },
  {
   "cell_type": "code",
   "execution_count": 18,
   "metadata": {},
   "outputs": [
    {
     "data": {
      "text/plain": [
       "\u001b[36mupper_c_idx\u001b[39m: \u001b[32mInt\u001b[39m = \u001b[32m2\u001b[39m\n",
       "\u001b[36mres17_1\u001b[39m: \u001b[32mAnyVal\u001b[39m = ()\n",
       "\u001b[36mres17_2\u001b[39m: \u001b[32mAnyVal\u001b[39m = ()"
      ]
     },
     "execution_count": 18,
     "metadata": {},
     "output_type": "execute_result"
    }
   ],
   "source": [
    "val upper_c_idx = s_list.indexOfSlice(\"C\")\n",
    "if (upper_c_idx != s_list.lastIndexOfSlice(\"C\")) 1\n",
    "if ((upper_c_idx < 2) | (s_list.length-2 < upper_c_idx)) 2"
   ]
  },
  {
   "cell_type": "code",
   "execution_count": 10,
   "metadata": {},
   "outputs": [
    {
     "data": {
      "text/plain": [
       "\u001b[36mres9\u001b[39m: \u001b[32mBoolean\u001b[39m = true"
      ]
     },
     "execution_count": 10,
     "metadata": {},
     "output_type": "execute_result"
    }
   ],
   "source": [
    "s_list(0) >= 'A'"
   ]
  },
  {
   "cell_type": "code",
   "execution_count": 8,
   "metadata": {},
   "outputs": [
    {
     "data": {
      "text/plain": [
       "\u001b[36mhoge\u001b[39m: \u001b[32mInt\u001b[39m = \u001b[32m2\u001b[39m"
      ]
     },
     "execution_count": 8,
     "metadata": {},
     "output_type": "execute_result"
    }
   ],
   "source": [
    "var hoge = s_list count { c => c >= 'A' && c <= 'Z'}"
   ]
  },
  {
   "cell_type": "code",
   "execution_count": 12,
   "metadata": {},
   "outputs": [
    {
     "data": {
      "text/plain": [
       "\u001b[36mres11\u001b[39m: \u001b[32mInt\u001b[39m = \u001b[32m2\u001b[39m"
      ]
     },
     "execution_count": 12,
     "metadata": {},
     "output_type": "execute_result"
    }
   ],
   "source": [
    "s_list.filter(c => c >= 'A' && c <= 'Z').size"
   ]
  },
  {
   "cell_type": "code",
   "execution_count": 6,
   "metadata": {},
   "outputs": [
    {
     "data": {
      "text/plain": [
       "\u001b[36mres5\u001b[39m: \u001b[32mInt\u001b[39m = \u001b[32m7\u001b[39m"
      ]
     },
     "execution_count": 6,
     "metadata": {},
     "output_type": "execute_result"
    }
   ],
   "source": [
    "s_list.length"
   ]
  },
  {
   "cell_type": "code",
   "execution_count": null,
   "metadata": {},
   "outputs": [],
   "source": []
  }
 ],
 "metadata": {
  "kernelspec": {
   "display_name": "Scala",
   "language": "scala",
   "name": "scala"
  },
  "language_info": {
   "codemirror_mode": "text/x-scala",
   "file_extension": ".scala",
   "mimetype": "text/x-scala",
   "name": "scala",
   "nbconvert_exporter": "script",
   "version": "2.12.8"
  }
 },
 "nbformat": 4,
 "nbformat_minor": 2
}
