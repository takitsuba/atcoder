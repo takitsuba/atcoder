{
 "cells": [
  {
   "cell_type": "markdown",
   "metadata": {},
   "source": [
    "# A"
   ]
  },
  {
   "cell_type": "code",
   "execution_count": 7,
   "metadata": {},
   "outputs": [
    {
     "name": "stdout",
     "output_type": "stream",
     "text": [
      "1 100 2 10\n"
     ]
    },
    {
     "data": {
      "text/plain": [
       "\u001b[36ma\u001b[39m: \u001b[32mInt\u001b[39m = \u001b[32m1\u001b[39m\n",
       "\u001b[36mb\u001b[39m: \u001b[32mInt\u001b[39m = \u001b[32m100\u001b[39m\n",
       "\u001b[36mc\u001b[39m: \u001b[32mInt\u001b[39m = \u001b[32m2\u001b[39m\n",
       "\u001b[36md\u001b[39m: \u001b[32mInt\u001b[39m = \u001b[32m10\u001b[39m"
      ]
     },
     "execution_count": 7,
     "metadata": {},
     "output_type": "execute_result"
    }
   ],
   "source": [
    "object Main extends App {\n",
    "    val Array(a,b,c,d) = scala.io.StdIn.readLine().split(\"\\\\s\").map(_.toInt)\n",
    "\n",
    "    if ((a-c).abs <= d || ((a-b).abs <= d && (b-c).abs<=d)) println(\"Yes\") else println(\"No\")\n",
    "}"
   ]
  },
  {
   "cell_type": "markdown",
   "metadata": {},
   "source": [
    "# B"
   ]
  },
  {
   "cell_type": "code",
   "execution_count": 44,
   "metadata": {},
   "outputs": [
    {
     "data": {
      "text/plain": [
       "\u001b[36mres43\u001b[39m: \u001b[32mDouble\u001b[39m = \u001b[32m2.9999999999999996\u001b[39m"
      ]
     },
     "execution_count": 44,
     "metadata": {},
     "output_type": "execute_result"
    }
   ],
   "source": [
    "(log(1000)/log(10))"
   ]
  },
  {
   "cell_type": "code",
   "execution_count": 40,
   "metadata": {},
   "outputs": [
    {
     "data": {
      "text/plain": [
       "\u001b[36mres39\u001b[39m: \u001b[32mDouble\u001b[39m = \u001b[32m8.0\u001b[39m"
      ]
     },
     "execution_count": 40,
     "metadata": {},
     "output_type": "execute_result"
    }
   ],
   "source": [
    "pow(2,3)"
   ]
  },
  {
   "cell_type": "code",
   "execution_count": 49,
   "metadata": {},
   "outputs": [
    {
     "name": "stdout",
     "output_type": "stream",
     "text": [
      "1000\n",
      "1000\n"
     ]
    },
    {
     "data": {
      "text/plain": [
       "\u001b[32mimport \u001b[39m\u001b[36mscala.math._\n",
       "\n",
       "\u001b[39m\n",
       "\u001b[36mx\u001b[39m: \u001b[32mInt\u001b[39m = \u001b[32m1000\u001b[39m\n",
       "\u001b[36mmax_b\u001b[39m: \u001b[32mDouble\u001b[39m = \u001b[32m1000.0\u001b[39m"
      ]
     },
     "execution_count": 49,
     "metadata": {},
     "output_type": "execute_result"
    }
   ],
   "source": [
    "import scala.math._\n",
    "\n",
    "val x = scala.io.StdIn.readInt()\n",
    "\n",
    "var max_b:Double = 0\n",
    "for (i<-1 to x) {\n",
    "  if (i==1){\n",
    "    max_b = max(max_b,1)\n",
    "  } else {\n",
    "      var tmp = i*i\n",
    "      while (tmp <= x){\n",
    "        max_b = max(max_b, tmp)\n",
    "        tmp *= i\n",
    "      }\n",
    "  }\n",
    "}\n",
    "println(max_b.toInt)"
   ]
  }
 ],
 "metadata": {
  "kernelspec": {
   "display_name": "Scala",
   "language": "scala",
   "name": "scala"
  },
  "language_info": {
   "codemirror_mode": "text/x-scala",
   "file_extension": ".scala",
   "mimetype": "text/x-scala",
   "name": "scala",
   "nbconvert_exporter": "script",
   "version": "2.12.8"
  }
 },
 "nbformat": 4,
 "nbformat_minor": 2
}
