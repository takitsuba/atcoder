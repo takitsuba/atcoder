{
 "cells": [
  {
   "cell_type": "markdown",
   "metadata": {},
   "source": [
    "# B"
   ]
  },
  {
   "cell_type": "code",
   "execution_count": 5,
   "metadata": {},
   "outputs": [
    {
     "name": "stdout",
     "output_type": "stream",
     "text": [
      "10 90 20 80\n",
      "60"
     ]
    },
    {
     "data": {
      "text/plain": [
       "\u001b[36ma\u001b[39m: \u001b[32mInt\u001b[39m = \u001b[32m10\u001b[39m\n",
       "\u001b[36mb\u001b[39m: \u001b[32mInt\u001b[39m = \u001b[32m90\u001b[39m\n",
       "\u001b[36mc\u001b[39m: \u001b[32mInt\u001b[39m = \u001b[32m20\u001b[39m\n",
       "\u001b[36md\u001b[39m: \u001b[32mInt\u001b[39m = \u001b[32m80\u001b[39m"
      ]
     },
     "execution_count": 5,
     "metadata": {},
     "output_type": "execute_result"
    }
   ],
   "source": [
    "object Main extends App{\n",
    "val Array(a,b,c,d) = scala.io.StdIn.readLine.split(\"\\\\s\").map(_.toInt)\n",
    "\n",
    "if (b<c || d<a){\n",
    "  println(0)\n",
    "} else {\n",
    "  print(List(b,d).min - List(a,c).max)\n",
    "}\n",
    "}"
   ]
  },
  {
   "cell_type": "code",
   "execution_count": 2,
   "metadata": {},
   "outputs": [
    {
     "name": "stderr",
     "output_type": "stream",
     "text": [
      "(console):4:1 expected end-of-input\n",
      "abcd  bcが一致してたら\n",
      "^"
     ]
    },
    {
     "ename": "",
     "evalue": "",
     "output_type": "error",
     "traceback": [
      "(console):4:1 expected end-of-input\nabcd  bcが一致してたら\n^"
     ]
    }
   ],
   "source": [
    "a    b\n",
    " c d\n",
    "\n",
    "abcd  bcが一致してたら\n",
    "acbd　cb\n",
    "acdb cd\n",
    "cabd ab\n",
    "cadb ad\n",
    "cdab da\n",
    "\n",
    "d<a\n",
    "b<c\n",
    "の時は0"
   ]
  },
  {
   "cell_type": "code",
   "execution_count": null,
   "metadata": {},
   "outputs": [],
   "source": []
  }
 ],
 "metadata": {
  "kernelspec": {
   "display_name": "Scala",
   "language": "scala",
   "name": "scala"
  },
  "language_info": {
   "codemirror_mode": "text/x-scala",
   "file_extension": ".scala",
   "mimetype": "text/x-scala",
   "name": "scala",
   "nbconvert_exporter": "script",
   "version": "2.12.8"
  }
 },
 "nbformat": 4,
 "nbformat_minor": 2
}
