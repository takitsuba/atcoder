{
 "cells": [
  {
   "cell_type": "markdown",
   "metadata": {},
   "source": [
    "# A"
   ]
  },
  {
   "cell_type": "code",
   "execution_count": 3,
   "metadata": {},
   "outputs": [
    {
     "name": "stdout",
     "output_type": "stream",
     "text": [
      "100 100\n",
      "0\n"
     ]
    },
    {
     "data": {
      "text/plain": [
       "\u001b[36mx\u001b[39m: \u001b[32mInt\u001b[39m = \u001b[32m100\u001b[39m\n",
       "\u001b[36mt\u001b[39m: \u001b[32mInt\u001b[39m = \u001b[32m100\u001b[39m"
      ]
     },
     "execution_count": 3,
     "metadata": {},
     "output_type": "execute_result"
    }
   ],
   "source": [
    "object Main extends App{\n",
    "val Array(x,t) = scala.io.StdIn.readLine.split(\"\\\\s\").map(_.toInt)\n",
    "\n",
    "println(math.max(x-t,0))\n",
    "}"
   ]
  },
  {
   "cell_type": "markdown",
   "metadata": {},
   "source": [
    "# B"
   ]
  },
  {
   "cell_type": "code",
   "execution_count": 97,
   "metadata": {},
   "outputs": [
    {
     "name": "stdout",
     "output_type": "stream",
     "text": [
      "z\n"
     ]
    },
    {
     "data": {
      "text/plain": [
       "\u001b[36ms\u001b[39m: \u001b[32mArray\u001b[39m[\u001b[32mString\u001b[39m] = \u001b[33mArray\u001b[39m(\u001b[32m\"z\"\u001b[39m)"
      ]
     },
     "execution_count": 97,
     "metadata": {},
     "output_type": "execute_result"
    }
   ],
   "source": [
    "val s = scala.io.StdIn.readLine.split(\"\")"
   ]
  },
  {
   "cell_type": "code",
   "execution_count": 99,
   "metadata": {},
   "outputs": [
    {
     "ename": "",
     "evalue": "",
     "output_type": "error",
     "traceback": [
      "\u001b[31mjava.lang.IndexOutOfBoundsException: 0\u001b[39m\n  scala.collection.LinearSeqOptimized.apply(\u001b[32mLinearSeqOptimized.scala\u001b[39m:\u001b[32m67\u001b[39m)\n  scala.collection.LinearSeqOptimized.apply$(\u001b[32mLinearSeqOptimized.scala\u001b[39m:\u001b[32m65\u001b[39m)\n  scala.collection.immutable.List.apply(\u001b[32mList.scala\u001b[39m:\u001b[32m89\u001b[39m)\n  ammonite.$sess.cmd98$Helper.<init>(\u001b[32mcmd98.sc\u001b[39m:\u001b[32m1\u001b[39m)\n  ammonite.$sess.cmd98$.<init>(\u001b[32mcmd98.sc\u001b[39m:\u001b[32m7\u001b[39m)\n  ammonite.$sess.cmd98$.<clinit>(\u001b[32mcmd98.sc\u001b[39m:\u001b[32m-1\u001b[39m)"
     ]
    }
   ],
   "source": [
    "s.tail.grouped(2).toList.transpose.apply(0)\n",
    "// (s.head +: s.tail.grouped(2).toList.transpose.apply(1)).foldLeft(\"\")(_+_)"
   ]
  },
  {
   "cell_type": "code",
   "execution_count": 100,
   "metadata": {},
   "outputs": [
    {
     "data": {
      "text/plain": [
       "\u001b[36mres99\u001b[39m: \u001b[32mString\u001b[39m = \u001b[32m\"z\"\u001b[39m"
      ]
     },
     "execution_count": 100,
     "metadata": {},
     "output_type": "execute_result"
    }
   ],
   "source": [
    "s.head"
   ]
  },
  {
   "cell_type": "code",
   "execution_count": 89,
   "metadata": {},
   "outputs": [
    {
     "name": "stdout",
     "output_type": "stream",
     "text": [
      "abcd\n"
     ]
    },
    {
     "data": {
      "text/plain": [
       "\u001b[36ms\u001b[39m: \u001b[32mArray\u001b[39m[\u001b[32mString\u001b[39m] = \u001b[33mArray\u001b[39m(\u001b[32m\"a\"\u001b[39m, \u001b[32m\"b\"\u001b[39m, \u001b[32m\"c\"\u001b[39m, \u001b[32m\"d\"\u001b[39m)"
      ]
     },
     "execution_count": 89,
     "metadata": {},
     "output_type": "execute_result"
    }
   ],
   "source": [
    "object Main extends App {\n",
    "val s = scala.io.StdIn.readLine.split(\"\")\n",
    "\n",
    "val result = if (s.length == 1) {\n",
    "  s(0)\n",
    "} else if (s.length % 2==0){\n",
    "  s.grouped(2).toList.transpose.head.foldLeft(\"\")(_+_)\n",
    "} else {\n",
    "  (s.head +: s.tail.grouped(2).toList.transpose.tail.head).foldLeft(\"\")(_+_)\n",
    "}\n",
    "println(result)\n",
    "}"
   ]
  },
  {
   "cell_type": "code",
   "execution_count": null,
   "metadata": {},
   "outputs": [],
   "source": []
  }
 ],
 "metadata": {
  "kernelspec": {
   "display_name": "Scala",
   "language": "scala",
   "name": "scala"
  },
  "language_info": {
   "codemirror_mode": "text/x-scala",
   "file_extension": ".scala",
   "mimetype": "text/x-scala",
   "name": "scala",
   "nbconvert_exporter": "script",
   "version": "2.12.8"
  }
 },
 "nbformat": 4,
 "nbformat_minor": 2
}
