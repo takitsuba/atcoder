{
 "cells": [
  {
   "cell_type": "markdown",
   "metadata": {},
   "source": [
    "# A"
   ]
  },
  {
   "cell_type": "code",
   "execution_count": 12,
   "metadata": {},
   "outputs": [
    {
     "name": "stdout",
     "output_type": "stream",
     "text": [
      "edu\n",
      "cat\n",
      "ion\n",
      "ean\n"
     ]
    },
    {
     "data": {
      "text/plain": [
       "\u001b[36mcs\u001b[39m: \u001b[32mcollection\u001b[39m.\u001b[32mimmutable\u001b[39m.\u001b[32mIndexedSeq\u001b[39m[\u001b[32mList\u001b[39m[\u001b[32mChar\u001b[39m]] = \u001b[33mVector\u001b[39m(\n",
       "  \u001b[33mList\u001b[39m(\u001b[32m'e'\u001b[39m, \u001b[32m'd'\u001b[39m, \u001b[32m'u'\u001b[39m),\n",
       "  \u001b[33mList\u001b[39m(\u001b[32m'c'\u001b[39m, \u001b[32m'a'\u001b[39m, \u001b[32m't'\u001b[39m),\n",
       "  \u001b[33mList\u001b[39m(\u001b[32m'i'\u001b[39m, \u001b[32m'o'\u001b[39m, \u001b[32m'n'\u001b[39m)\n",
       ")\n",
       "\u001b[36mresult\u001b[39m: \u001b[32mcollection\u001b[39m.\u001b[32mimmutable\u001b[39m.\u001b[32mIndexedSeq\u001b[39m[\u001b[32mChar\u001b[39m] = \u001b[33mVector\u001b[39m(\u001b[32m'e'\u001b[39m, \u001b[32m'a'\u001b[39m, \u001b[32m'n'\u001b[39m)"
      ]
     },
     "execution_count": 12,
     "metadata": {},
     "output_type": "execute_result"
    }
   ],
   "source": [
    "object Main extends App{\n",
    "val cs = for (i<-1 to 3) yield scala.io.StdIn.readLine().toList\n",
    "\n",
    "val result = for(i<-0 until 3) yield cs(i)(i)\n",
    "\n",
    "println(result.foldLeft(\"\")((a,b)=>a+b))\n",
    "}"
   ]
  },
  {
   "cell_type": "markdown",
   "metadata": {},
   "source": [
    "# B"
   ]
  },
  {
   "cell_type": "code",
   "execution_count": 5,
   "metadata": {},
   "outputs": [
    {
     "name": "stdout",
     "output_type": "stream",
     "text": [
      "31415 92653\n",
      "612\n"
     ]
    },
    {
     "data": {
      "text/plain": [
       "\u001b[36ma\u001b[39m: \u001b[32mInt\u001b[39m = \u001b[32m31415\u001b[39m\n",
       "\u001b[36mb\u001b[39m: \u001b[32mInt\u001b[39m = \u001b[32m92653\u001b[39m\n",
       "\u001b[36mcnt\u001b[39m: \u001b[32mInt\u001b[39m = \u001b[32m612\u001b[39m"
      ]
     },
     "execution_count": 5,
     "metadata": {},
     "output_type": "execute_result"
    }
   ],
   "source": [
    "object Main extends App{\n",
    "val Array(a,b) = scala.io.StdIn.readLine.split(\"\\\\s\").map(_.toInt)\n",
    "\n",
    "var cnt = 0\n",
    "(a to b).foreach {\n",
    "  i => if (i.toString == i.toString.reverse) cnt += 1\n",
    "}\n",
    "println(cnt)\n",
    "}"
   ]
  },
  {
   "cell_type": "code",
   "execution_count": 3,
   "metadata": {},
   "outputs": [
    {
     "data": {
      "text/plain": [
       "\u001b[36mres2\u001b[39m: \u001b[32mString\u001b[39m = \u001b[32m\"435\"\u001b[39m"
      ]
     },
     "execution_count": 3,
     "metadata": {},
     "output_type": "execute_result"
    }
   ],
   "source": [
    "534.toString.reverse"
   ]
  },
  {
   "cell_type": "code",
   "execution_count": null,
   "metadata": {},
   "outputs": [],
   "source": [
    "\"\""
   ]
  }
 ],
 "metadata": {
  "kernelspec": {
   "display_name": "Scala",
   "language": "scala",
   "name": "scala"
  },
  "language_info": {
   "codemirror_mode": "text/x-scala",
   "file_extension": ".scala",
   "mimetype": "text/x-scala",
   "name": "scala",
   "nbconvert_exporter": "script",
   "version": "2.12.8"
  }
 },
 "nbformat": 4,
 "nbformat_minor": 2
}
