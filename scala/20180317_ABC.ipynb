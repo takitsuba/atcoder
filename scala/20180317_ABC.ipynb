{
 "cells": [
  {
   "cell_type": "markdown",
   "metadata": {},
   "source": [
    "# A"
   ]
  },
  {
   "cell_type": "code",
   "execution_count": 2,
   "metadata": {},
   "outputs": [
    {
     "name": "stdout",
     "output_type": "stream",
     "text": [
      "Yes\n"
     ]
    }
   ],
   "source": [
    "object Main extends App {\n",
    "val Array(a,b,c) = scala.io.StdIn.readLine.split(\"\\\\s\").map(_.toInt)\n",
    "\n",
    "if (a+b>=c) println(\"Yes\") else println(\"No\")\n",
    "}"
   ]
  },
  {
   "cell_type": "markdown",
   "metadata": {},
   "source": [
    "# B"
   ]
  },
  {
   "cell_type": "code",
   "execution_count": 10,
   "metadata": {},
   "outputs": [
    {
     "data": {
      "text/plain": [
       "defined \u001b[32mobject\u001b[39m \u001b[36mMain\u001b[39m"
      ]
     },
     "execution_count": 10,
     "metadata": {},
     "output_type": "execute_result"
    }
   ],
   "source": [
    "object Main extends App{\n",
    "import scala.collection.mutable\n",
    "import scala.io.StdIn._\n",
    "\n",
    "val map = mutable.Map.empty[String, Int]\n",
    "val n = readInt()\n",
    "\n",
    "Iterator.continually(readLine)\n",
    "    .take(n)\n",
    "    .foreach(s => {\n",
    "      if (map.contains(s)) map.put(s, map(s)+1) else map += s->1\n",
    "    })\n",
    "\n",
    "val m = readInt()\n",
    "Iterator.continually(readLine)\n",
    "    .take(m)\n",
    "    .foreach(s => {\n",
    "      if (map.contains(s)) map.put(s, map(s)-1)\n",
    "    })\n",
    "\n",
    "println(List(0,map.values.max).max)\n",
    "}"
   ]
  },
  {
   "cell_type": "code",
   "execution_count": null,
   "metadata": {},
   "outputs": [],
   "source": []
  }
 ],
 "metadata": {
  "kernelspec": {
   "display_name": "Scala",
   "language": "scala",
   "name": "scala"
  },
  "language_info": {
   "codemirror_mode": "text/x-scala",
   "file_extension": ".scala",
   "mimetype": "text/x-scala",
   "name": "scala",
   "nbconvert_exporter": "script",
   "version": "2.12.8"
  }
 },
 "nbformat": 4,
 "nbformat_minor": 2
}
