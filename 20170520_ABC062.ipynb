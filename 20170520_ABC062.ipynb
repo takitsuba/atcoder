{
 "cells": [
  {
   "cell_type": "markdown",
   "metadata": {},
   "source": [
    "# C"
   ]
  },
  {
   "cell_type": "code",
   "execution_count": 2,
   "metadata": {},
   "outputs": [
    {
     "data": {
      "application/vnd.jupyter.widget-view+json": {
       "model_id": "677faaef94fd428aad28822c2fe73283",
       "version_major": 2,
       "version_minor": 0
      },
      "text/plain": [
       "Textarea(value='')"
      ]
     },
     "metadata": {},
     "output_type": "display_data"
    }
   ],
   "source": [
    "from ipywidgets import Textarea\n",
    "import io\n",
    "\n",
    "if 'open' in globals():\n",
    "    del open\n",
    "if 'input' in globals():\n",
    "    del input\n",
    "\n",
    "original_open = open\n",
    "\n",
    "class custom_open():\n",
    "    def __init__(self):\n",
    "        self.text = ''\n",
    "\n",
    "    def __call__(self, file, *args, **kwargs):\n",
    "        if file == 0:\n",
    "            return io.StringIO(self.text)\n",
    "        return original_open(file, *args, **kwargs)\n",
    "\n",
    "    def updater(self, change):\n",
    "        self.text = change['new']\n",
    "\n",
    "class custom_input():\n",
    "    def __init__(self):\n",
    "        self.__sio = io.StringIO('')\n",
    "        self.shell = get_ipython()\n",
    "        if self.shell.events.callbacks['pre_run_cell'] != []:\n",
    "            self.shell.events.callbacks['pre_run_cell'] = []\n",
    "        self.shell.events.register('pre_run_cell', self.pre_run_cell)\n",
    "\n",
    "    def __call__(self):\n",
    "        return self.__sio.readline().strip()\n",
    "\n",
    "    def pre_run_cell(self, info):\n",
    "        text = self.shell.user_ns.get('text_area', None).value\n",
    "        self.__sio = io.StringIO(text)\n",
    "\n",
    "open = custom_open()\n",
    "input = custom_input()\n",
    "\n",
    "text_area = Textarea()\n",
    "text_area.observe(open.updater, names='value')\n",
    "display(text_area)"
   ]
  },
  {
   "cell_type": "code",
   "execution_count": 1,
   "metadata": {},
   "outputs": [
    {
     "ename": "SyntaxError",
     "evalue": "invalid character in identifier (<ipython-input-1-18bc6602a4ca>, line 1)",
     "output_type": "error",
     "traceback": [
      "\u001b[0;36m  File \u001b[0;32m\"<ipython-input-1-18bc6602a4ca>\"\u001b[0;36m, line \u001b[0;32m1\u001b[0m\n\u001b[0;31m    2階目の切り方には大きく4種類ある。\u001b[0m\n\u001b[0m                     ^\u001b[0m\n\u001b[0;31mSyntaxError\u001b[0m\u001b[0;31m:\u001b[0m invalid character in identifier\n"
     ]
    }
   ],
   "source": [
    "2階目の切り方には大きく4種類ある。\n",
    "1）1回目縦。2回目縦。\n",
    "2）1回目横。2回目横。\n",
    "3）1回目縦。2回目横。\n",
    "4）1回目横。2回目縦。\n",
    "\n",
    "1と3だけ考えて、2、4についてはH,Wを入れ替えたものを考えれば良い。\n",
    "\n",
    "1の場合は、3棟分に成るように切れば良い。\n",
    "3の場合は、縦のカットを3分の1、横を半分になるように切れば良い。\n",
    "\n",
    "Wが3で割り切れる時、3で割り切った数にすれば良い？（その場合twiceの方でゼロになるから考えなくて良い）\n",
    "\n",
    "Wが3で割り切れない時、\n",
    "・1あまりの時\n",
    "左にそのあまりがあると、右が等しく切れなかった時twiceに負ける。ので考えなくて良い\n",
    "左にそのあまりがない場合、いい感じに切れるとtwiceに勝つ\n",
    "\n",
    "・2あまりの時\n",
    "左にそのあまり分がないと、右が等しく切れなかった時twiceに負ける。ので考えなくて良い\n",
    "左にそのあまりが1つあり、右がいい感じに切れると、twiceに勝つ。なので、これだけ考えれば良い。\n",
    "\n"
   ]
  },
  {
   "cell_type": "code",
   "execution_count": 20,
   "metadata": {},
   "outputs": [
    {
     "name": "stdout",
     "output_type": "stream",
     "text": [
      "50000\n"
     ]
    }
   ],
   "source": [
    "H,W = map(int,input().split())\n",
    "\n",
    "anss = []\n",
    "\n",
    "def vertical_twice(H,W):\n",
    "    if W % 3 == 0:\n",
    "        return 0\n",
    "    else:\n",
    "        return H\n",
    "\n",
    "def vertical_horizontal(H,W):\n",
    "    if W % 3 != 2:\n",
    "        left_width = W//3\n",
    "        left_area = H*left_width\n",
    "        right_width = W - left_width\n",
    "        if H % 2 == 0:\n",
    "            right_upper_area = H//2*right_width\n",
    "            right_lower_area = H//2*right_width\n",
    "#             return left_area - right_upper_area\n",
    "        else:\n",
    "            right_upper_area = (H//2+1)*right_width\n",
    "            right_lower_area = H//2*right_width\n",
    "#             return max(left_area,right_upper_area) - right_lower_area\n",
    "    \n",
    "    if W % 3 == 2:\n",
    "        left_width = W//3+1\n",
    "        left_area = H*left_width\n",
    "        right_width = W - left_width\n",
    "        if H % 2 == 0:\n",
    "            right_upper_area = H//2*right_width\n",
    "            right_lower_area = H//2*right_width\n",
    "#             return left_area - right_upper_area\n",
    "        else:\n",
    "            right_upper_area = (H//2+1)*right_width\n",
    "            right_lower_area = H//2*right_width\n",
    "#             return max(left_area,right_upper_area) - right_lower_area\n",
    "    return (max([left_area,right_upper_area, right_lower_area])-\n",
    "            min([left_area,right_upper_area, right_lower_area]))\n",
    "            \n",
    "anss.append(vertical_twice(H,W))\n",
    "anss.append(vertical_twice(W,H))\n",
    "anss.append(vertical_horizontal(H,W))\n",
    "anss.append(vertical_horizontal(W,H))\n",
    "\n",
    "print(min(anss))"
   ]
  },
  {
   "cell_type": "code",
   "execution_count": null,
   "metadata": {},
   "outputs": [],
   "source": [
    "3334 3333"
   ]
  }
 ],
 "metadata": {
  "kernelspec": {
   "display_name": "Python 3",
   "language": "python",
   "name": "python3"
  },
  "language_info": {
   "codemirror_mode": {
    "name": "ipython",
    "version": 3
   },
   "file_extension": ".py",
   "mimetype": "text/x-python",
   "name": "python",
   "nbconvert_exporter": "python",
   "pygments_lexer": "ipython3",
   "version": "3.6.6"
  }
 },
 "nbformat": 4,
 "nbformat_minor": 2
}
