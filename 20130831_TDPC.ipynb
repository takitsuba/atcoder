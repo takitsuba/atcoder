{
 "cells": [
  {
   "cell_type": "markdown",
   "metadata": {},
   "source": [
    "# A"
   ]
  },
  {
   "cell_type": "code",
   "execution_count": 17,
   "metadata": {},
   "outputs": [
    {
     "name": "stdout",
     "output_type": "stream",
     "text": [
      "10\n",
      "1 1 1 1 1 1 1 1 1 1 \n",
      "11\n"
     ]
    }
   ],
   "source": [
    "N = int(input())\n",
    "p_list = [int(x) for x in input().split()]\n",
    "\n",
    "tmp_dict = {}\n",
    "\n",
    "def func(i):\n",
    "    if i == 0:\n",
    "        return [p_list[0], 0]\n",
    "    \n",
    "    if i in tmp_dict:\n",
    "        return tmp_dict[i]\n",
    "    else:\n",
    "        i_result = list(set([p_list[i] + x for x in func(i-1)] + func(i-1)))\n",
    "        tmp_dict[i] = i_result\n",
    "    \n",
    "    return i_result\n",
    "        \n",
    "print(len(func(N-1)))"
   ]
  },
  {
   "cell_type": "code",
   "execution_count": null,
   "metadata": {},
   "outputs": [],
   "source": []
  }
 ],
 "metadata": {
  "kernelspec": {
   "display_name": "Python 3",
   "language": "python",
   "name": "python3"
  },
  "language_info": {
   "codemirror_mode": {
    "name": "ipython",
    "version": 3
   },
   "file_extension": ".py",
   "mimetype": "text/x-python",
   "name": "python",
   "nbconvert_exporter": "python",
   "pygments_lexer": "ipython3",
   "version": "3.6.6"
  }
 },
 "nbformat": 4,
 "nbformat_minor": 2
}
