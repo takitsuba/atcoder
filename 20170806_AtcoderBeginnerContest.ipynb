{
 "cells": [
  {
   "cell_type": "code",
   "execution_count": 1,
   "metadata": {
    "collapsed": true
   },
   "outputs": [],
   "source": [
    "import numpy as np\n",
    "import itertools\n",
    "from scipy.special import comb"
   ]
  },
  {
   "cell_type": "markdown",
   "metadata": {},
   "source": [
    "# A"
   ]
  },
  {
   "cell_type": "code",
   "execution_count": 6,
   "metadata": {},
   "outputs": [
    {
     "name": "stdout",
     "output_type": "stream",
     "text": [
      "2 2\n",
      "1\n"
     ]
    }
   ],
   "source": [
    "n,m = input().split()\n",
    "n = int(n)\n",
    "m = int(m)\n",
    "\n",
    "print((n-1)*(m-1))"
   ]
  },
  {
   "cell_type": "markdown",
   "metadata": {},
   "source": [
    "# B"
   ]
  },
  {
   "cell_type": "code",
   "execution_count": 9,
   "metadata": {},
   "outputs": [
    {
     "name": "stdout",
     "output_type": "stream",
     "text": [
      "xyz\n",
      "x1z\n"
     ]
    }
   ],
   "source": [
    "s = input()\n",
    "print(s[0]+str(len(s)-2)+s[-1])"
   ]
  },
  {
   "cell_type": "markdown",
   "metadata": {},
   "source": [
    "# C"
   ]
  },
  {
   "cell_type": "code",
   "execution_count": 17,
   "metadata": {},
   "outputs": [
    {
     "name": "stdout",
     "output_type": "stream",
     "text": [
      "6\n",
      "2 7 1 8 2 8\n",
      "Yes\n"
     ]
    }
   ],
   "source": [
    "n = input()\n",
    "a_list = input().split()\n",
    "a_list = [int(a) for a in a_list]\n",
    "\n",
    "fours = 0\n",
    "twos = 0\n",
    "others = 0\n",
    "\n",
    "for a in a_list:\n",
    "    if a % 4 ==0:\n",
    "        fours += 1\n",
    "    elif a % 2 == 0:\n",
    "        twos += 1\n",
    "    else:\n",
    "        others += 1\n",
    "\n",
    "if others <= fours:\n",
    "    print(\"Yes\")\n",
    "elif others-1 == fours and twos==0:\n",
    "    print(\"Yes\")\n",
    "else:\n",
    "    print(\"No\")\n"
   ]
  },
  {
   "cell_type": "code",
   "execution_count": 11,
   "metadata": {},
   "outputs": [
    {
     "data": {
      "text/plain": [
       "[1, 2, 2]"
      ]
     },
     "execution_count": 11,
     "metadata": {},
     "output_type": "execute_result"
    }
   ],
   "source": [
    "a_list"
   ]
  },
  {
   "cell_type": "markdown",
   "metadata": {},
   "source": [
    "# D"
   ]
  },
  {
   "cell_type": "code",
   "execution_count": 47,
   "metadata": {},
   "outputs": [
    {
     "name": "stdout",
     "output_type": "stream",
     "text": [
      "1 1\n",
      "1\n",
      "1\n",
      "1\n"
     ]
    }
   ],
   "source": [
    "h,w = input().split()\n",
    "h = int(h)\n",
    "w = int(w)\n",
    "n = int(input())\n",
    "a_list = input().split()\n",
    "a_list = [int(a) for a in a_list]\n",
    "\n",
    "c_list = []\n",
    "for i,a in enumerate(a_list):\n",
    "    for j in range(a):\n",
    "        c_list.append(i+1)\n",
    "        \n",
    "for i in range(h):\n",
    "    p_list = c_list[w*i:w*(i+1)]\n",
    "    p_list = [str(p) for p in p_list]\n",
    "    if i % 2 == 0:\n",
    "        print(\" \".join(p_list))\n",
    "    else:\n",
    "        print(\" \".join(p_list[::-1]))"
   ]
  },
  {
   "cell_type": "code",
   "execution_count": 44,
   "metadata": {},
   "outputs": [
    {
     "data": {
      "text/plain": [
       "[1, 2, 3, 4, 5]"
      ]
     },
     "execution_count": 44,
     "metadata": {},
     "output_type": "execute_result"
    }
   ],
   "source": [
    "a_list"
   ]
  },
  {
   "cell_type": "code",
   "execution_count": 29,
   "metadata": {},
   "outputs": [],
   "source": [
    "c_list = []\n",
    "for i,a in enumerate(a_list):\n",
    "    for j in range(a):\n",
    "        c_list.append(i+1)\n",
    "        \n",
    "for i in range(h):\n",
    "    p_list = c_list[h*i:h*i+w]\n",
    "    p_list = [str(p) for p in p_list]\n",
    "    if i % 2 == 0:\n",
    "        print(\" \".join(p_list))\n",
    "    else:\n",
    "        print(\" \".join(p_list[::-1]))\n",
    "\n",
    "    "
   ]
  },
  {
   "cell_type": "code",
   "execution_count": 41,
   "metadata": {},
   "outputs": [
    {
     "name": "stdout",
     "output_type": "stream",
     "text": [
      "1 1\n",
      "3 2\n"
     ]
    }
   ],
   "source": [
    "for i in range(h):\n",
    "    p_list = c_list[h*i:h*i+w]\n",
    "    p_list = [str(p) for p in p_list]\n",
    "    if i % 2 == 0:\n",
    "        print(\" \".join(p_list))\n",
    "    else:\n",
    "        print(\" \".join(p_list[::-1]))\n",
    "\n",
    "    "
   ]
  },
  {
   "cell_type": "code",
   "execution_count": 39,
   "metadata": {},
   "outputs": [
    {
     "data": {
      "text/plain": [
       "'2 3 4 4'"
      ]
     },
     "execution_count": 39,
     "metadata": {},
     "output_type": "execute_result"
    }
   ],
   "source": [
    "test_list = [2,3,4,4]\n",
    "test_list = [str(t) for t in test_list]\n",
    "\" \".join(test_list)"
   ]
  },
  {
   "cell_type": "code",
   "execution_count": null,
   "metadata": {
    "collapsed": true
   },
   "outputs": [],
   "source": []
  }
 ],
 "metadata": {
  "kernelspec": {
   "display_name": "Python 3",
   "language": "python",
   "name": "python3"
  },
  "language_info": {
   "codemirror_mode": {
    "name": "ipython",
    "version": 3
   },
   "file_extension": ".py",
   "mimetype": "text/x-python",
   "name": "python",
   "nbconvert_exporter": "python",
   "pygments_lexer": "ipython3",
   "version": "3.6.0"
  }
 },
 "nbformat": 4,
 "nbformat_minor": 2
}
