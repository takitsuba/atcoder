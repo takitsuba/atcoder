{
 "cells": [
  {
   "cell_type": "markdown",
   "metadata": {},
   "source": [
    "# A"
   ]
  },
  {
   "cell_type": "code",
   "execution_count": 12,
   "metadata": {},
   "outputs": [],
   "source": [
    "# ダメな例\n",
    "import sys\n",
    "sys.setrecursionlimit(1000000)\n",
    "N = int(input())\n",
    "h_list = list(map(int,input().split()))\n",
    "\n",
    "def func(stone_num):\n",
    "    if stone_num == 0:\n",
    "        return 0\n",
    "    if stone_num == 1:\n",
    "        return func(stone_num-1) + abs(h_list[stone_num-1] - h_list[stone_num])\n",
    "    return min(\n",
    "        func(stone_num-1) + abs(h_list[stone_num-1] - h_list[stone_num]),\n",
    "        func(stone_num-2) + abs(h_list[stone_num-2] - h_list[stone_num])\n",
    "    )\n",
    "\n",
    "print(func(N-1))"
   ]
  },
  {
   "cell_type": "code",
   "execution_count": 16,
   "metadata": {},
   "outputs": [],
   "source": [
    "N = int(input())\n",
    "h_list = list(map(int,input().split()))\n",
    "\n",
    "costs = [None for _ in range(N)]\n",
    "\n",
    "for i in range(N):\n",
    "    if i == 0:\n",
    "        cost = 0\n",
    "    elif i == 1:\n",
    "        cost = costs[i-1] + abs(h_list[i-1] - h_list[i])\n",
    "    else:\n",
    "        cost = min(\n",
    "            costs[i-1] + abs(h_list[i-1] - h_list[i]),\n",
    "            costs[i-2] + abs(h_list[i-2] - h_list[i])\n",
    "        )\n",
    "    costs[i] = cost\n",
    "\n",
    "print(costs[-1])"
   ]
  },
  {
   "cell_type": "markdown",
   "metadata": {},
   "source": [
    "# B"
   ]
  },
  {
   "cell_type": "code",
   "execution_count": 32,
   "metadata": {},
   "outputs": [
    {
     "name": "stdout",
     "output_type": "stream",
     "text": [
      "40\n"
     ]
    }
   ],
   "source": [
    "N,K = map(int,input().split())\n",
    "h_list = list(map(int,input().split()))\n",
    "\n",
    "costs = [float(\"inf\") for _ in range(N+K) ]\n",
    "costs[0] = 0\n",
    "h_list += [0 for _ in range(K)]\n",
    "\n",
    "for i in range(N):\n",
    "    for j in range(i+1,i+K+1):\n",
    "        cost = abs(h_list[i] - h_list[j])\n",
    "        costs[j] = min(costs[i]+cost, costs[j])\n",
    "\n",
    "print(costs[N-1])"
   ]
  },
  {
   "cell_type": "code",
   "execution_count": null,
   "metadata": {},
   "outputs": [],
   "source": []
  },
  {
   "cell_type": "markdown",
   "metadata": {},
   "source": [
    "# C"
   ]
  },
  {
   "cell_type": "code",
   "execution_count": 48,
   "metadata": {},
   "outputs": [
    {
     "name": "stdout",
     "output_type": "stream",
     "text": [
      "46\n"
     ]
    }
   ],
   "source": [
    "N = int(input())\n",
    "a_list = []\n",
    "b_list = []\n",
    "c_list = []\n",
    "for i in range(N):\n",
    "    a,b,c = map(int,input().split())\n",
    "    a_list.append(a)\n",
    "    b_list.append(b)\n",
    "    c_list.append(c)\n",
    "    \n",
    "abc_list = [a_list,b_list,c_list]\n",
    "\n",
    "three_hpnses = [[0 for _ in range(N+1)] for _ in range(3)]\n",
    "\n",
    "for i in range(N):\n",
    "    for pre_play in range(3):\n",
    "        now_hpns = three_hpnses[pre_play][i]\n",
    "        for j in range(1,3):\n",
    "            next_play = (pre_play+j)%3\n",
    "            next_hpns = now_hpns + abc_list[next_play][i]\n",
    "            three_hpnses[next_play][i+1] = max(three_hpnses[next_play][i+1], next_hpns)\n",
    "\n",
    "print(max([hpnses[-1] for hpnses in three_hpnses]))"
   ]
  },
  {
   "cell_type": "markdown",
   "metadata": {},
   "source": [
    "# D"
   ]
  },
  {
   "cell_type": "code",
   "execution_count": 60,
   "metadata": {},
   "outputs": [
    {
     "name": "stdout",
     "output_type": "stream",
     "text": [
      "17\n"
     ]
    }
   ],
   "source": [
    "# ダメな例\n",
    "\n",
    "N,W = map(int,input().split())\n",
    "# wv_list = [tuple(map(int,input().split())) for _ in range(N)]\n",
    "w_list = []\n",
    "v_list = []\n",
    "for i in range(N):\n",
    "    w,v = map(int,input().split())\n",
    "    w_list.append(w)\n",
    "    v_list.append(v)\n",
    "\n",
    "memo = [[None  for _ in range(W+1)] for _ in range(N+1)]\n",
    "\n",
    "def rec(check_item,residual_w):\n",
    "    if memo[check_item][residual_w]:\n",
    "        return memo[check_item][residual_w]    \n",
    "    if check_item == N:\n",
    "        res = 0\n",
    "    elif residual_w < w_list[check_item]:\n",
    "        res = rec(check_item+1, residual_w)\n",
    "    else:\n",
    "#         print(check_item,residual_w)\n",
    "        res = max(rec(check_item+1,residual_w),\n",
    "                  rec(check_item+1,residual_w-w_list[check_item])+v_list[check_item])\n",
    "    memo[check_item][residual_w] = res\n",
    "    \n",
    "    return res\n",
    "\n",
    "print(rec(0,W))"
   ]
  },
  {
   "cell_type": "code",
   "execution_count": 59,
   "metadata": {},
   "outputs": [
    {
     "name": "stdout",
     "output_type": "stream",
     "text": [
      "17\n"
     ]
    }
   ],
   "source": [
    "N,W = map(int,input().split())\n",
    "wv_list = [tuple(map(int,input().split())) for _ in range(N)]\n",
    "\n",
    "memo = [0  for _ in range(W+1)]\n",
    "\n",
    "for weight,value in wv_list:\n",
    "    for w in range(W+1)[::-1]:\n",
    "        if w  >= weight:\n",
    "            memo[w] = max(memo[w], memo[w-weight]+value)\n",
    "            \n",
    "print(memo[W])"
   ]
  },
  {
   "cell_type": "markdown",
   "metadata": {},
   "source": [
    "# E"
   ]
  },
  {
   "cell_type": "code",
   "execution_count": 13,
   "metadata": {},
   "outputs": [
    {
     "name": "stdout",
     "output_type": "stream",
     "text": [
      "10\n"
     ]
    }
   ],
   "source": [
    "N,W = map(int,input().split())\n",
    "wv_list = [tuple(map(int,input().split())) for _ in range(N)]\n",
    "\n",
    "v_max = 10**3 * 10**2\n",
    "memo = [float(\"inf\") for _ in range(v_max+1)]\n",
    "memo[0] = 0\n",
    "\n",
    "for weight,value in wv_list:\n",
    "    for v in range(v_max+1-value)[::-1]:\n",
    "#         if memo[v]:\n",
    "        memo[v+value] = min(memo[v]+weight, memo[v+value])\n",
    "\n",
    "ans = 0\n",
    "\n",
    "for i,m in enumerate(memo):\n",
    "    if m <= W:\n",
    "        ans = i\n",
    "\n",
    "print(ans)"
   ]
  },
  {
   "cell_type": "code",
   "execution_count": null,
   "metadata": {},
   "outputs": [],
   "source": []
  },
  {
   "cell_type": "code",
   "execution_count": null,
   "metadata": {},
   "outputs": [],
   "source": []
  },
  {
   "cell_type": "code",
   "execution_count": 1,
   "metadata": {},
   "outputs": [
    {
     "data": {
      "application/vnd.jupyter.widget-view+json": {
       "model_id": "351035ea34b8480bb7ef5141b13ecf02",
       "version_major": 2,
       "version_minor": 0
      },
      "text/plain": [
       "Textarea(value='')"
      ]
     },
     "metadata": {},
     "output_type": "display_data"
    }
   ],
   "source": [
    "from ipywidgets import Textarea\n",
    "import io\n",
    "\n",
    "if 'open' in globals():\n",
    "    del open\n",
    "if 'input' in globals():\n",
    "    del input\n",
    "\n",
    "original_open = open\n",
    "\n",
    "class custom_open():\n",
    "    def __init__(self):\n",
    "        self.text = ''\n",
    "\n",
    "    def __call__(self, file, *args, **kwargs):\n",
    "        if file == 0:\n",
    "            return io.StringIO(self.text)\n",
    "        return original_open(file, *args, **kwargs)\n",
    "\n",
    "    def updater(self, change):\n",
    "        self.text = change['new']\n",
    "\n",
    "class custom_input():\n",
    "    def __init__(self):\n",
    "        self.__sio = io.StringIO('')\n",
    "        self.shell = get_ipython()\n",
    "        if self.shell.events.callbacks['pre_run_cell'] != []:\n",
    "            self.shell.events.callbacks['pre_run_cell'] = []\n",
    "        self.shell.events.register('pre_run_cell', self.pre_run_cell)\n",
    "\n",
    "    def __call__(self):\n",
    "        return self.__sio.readline().strip()\n",
    "\n",
    "    def pre_run_cell(self, info):\n",
    "        text = self.shell.user_ns.get('text_area', None).value\n",
    "        self.__sio = io.StringIO(text)\n",
    "\n",
    "open = custom_open()\n",
    "input = custom_input()\n",
    "\n",
    "text_area = Textarea()\n",
    "text_area.observe(open.updater, names='value')\n",
    "display(text_area)"
   ]
  },
  {
   "cell_type": "markdown",
   "metadata": {},
   "source": [
    "# F"
   ]
  },
  {
   "cell_type": "code",
   "execution_count": null,
   "metadata": {},
   "outputs": [],
   "source": [
    "https://qiita.com/drken/items/03c7db44ccd27820ea0d"
   ]
  },
  {
   "cell_type": "code",
   "execution_count": 48,
   "metadata": {},
   "outputs": [
    {
     "ename": "IndexError",
     "evalue": "tuple index out of range",
     "output_type": "error",
     "traceback": [
      "\u001b[0;31m---------------------------------------------------------------------------\u001b[0m",
      "\u001b[0;31mIndexError\u001b[0m                                Traceback (most recent call last)",
      "\u001b[0;32m<ipython-input-48-e788e2ca1173>\u001b[0m in \u001b[0;36m<module>\u001b[0;34m()\u001b[0m\n\u001b[1;32m     30\u001b[0m \u001b[0;31m#                 memos[i][j] = (memos[i+1][j][0],memos[i+1][j][1])\u001b[0m\u001b[0;34m\u001b[0m\u001b[0;34m\u001b[0m\u001b[0m\n\u001b[1;32m     31\u001b[0m \u001b[0;31m#         else:\u001b[0m\u001b[0;34m\u001b[0m\u001b[0;34m\u001b[0m\u001b[0m\n\u001b[0;32m---> 32\u001b[0;31m         \u001b[0mflagj\u001b[0m \u001b[0;34m=\u001b[0m \u001b[0mmemos\u001b[0m\u001b[0;34m[\u001b[0m\u001b[0mi\u001b[0m\u001b[0;34m]\u001b[0m\u001b[0;34m[\u001b[0m\u001b[0mj\u001b[0m\u001b[0;34m+\u001b[0m\u001b[0;36m1\u001b[0m\u001b[0;34m]\u001b[0m\u001b[0;34m[\u001b[0m\u001b[0;36m2\u001b[0m\u001b[0;34m]\u001b[0m\u001b[0;34m\u001b[0m\u001b[0m\n\u001b[0m\u001b[1;32m     33\u001b[0m         \u001b[0mflagi\u001b[0m \u001b[0;34m=\u001b[0m \u001b[0mmemos\u001b[0m\u001b[0;34m[\u001b[0m\u001b[0mi\u001b[0m\u001b[0;34m+\u001b[0m\u001b[0;36m1\u001b[0m\u001b[0;34m]\u001b[0m\u001b[0;34m[\u001b[0m\u001b[0mj\u001b[0m\u001b[0;34m]\u001b[0m\u001b[0;34m[\u001b[0m\u001b[0;36m3\u001b[0m\u001b[0;34m]\u001b[0m\u001b[0;34m\u001b[0m\u001b[0m\n\u001b[1;32m     34\u001b[0m         \u001b[0;32mif\u001b[0m \u001b[0mflagj\u001b[0m\u001b[0;34m:\u001b[0m\u001b[0;34m\u001b[0m\u001b[0m\n",
      "\u001b[0;31mIndexError\u001b[0m: tuple index out of range"
     ]
    }
   ],
   "source": [
    "S = list(input())\n",
    "T = list(input())\n",
    "\n",
    "memos = ([[None for _ in range(len(T))] + [((0,\"\"),(0,0))] for _ in range(len(S))] +\n",
    "         [[(0,\"\",0,0) for _ in range(len(T)+1)]])\n",
    "\n",
    "flags = [[0 for _ in range(len(T)+1)] for _ in range(len(S)+1)]\n",
    "\n",
    "def match_char(i,j):\n",
    "    if S[i] == T[j]:\n",
    "        return S[i]\n",
    "    return \"\"\n",
    "\n",
    "for i in range(len(S))[::-1]:\n",
    "    for j in range(len(T))[::-1]:\n",
    "#         if i == len(S)-1 and j == len(T)-1:\n",
    "#             if match_char(i,j):\n",
    "#                 memos[i][j] = (1,match_char(i,j))\n",
    "#             else:\n",
    "#                 memos[i][j] = (0,\"\")\n",
    "#         elif i == len(S)-1:\n",
    "#             if match_char(i,j):\n",
    "#                 memos[i][j] = (memos[i][j+1][0]+1,match_char(i,j) + memos[i][j+1][1])\n",
    "#             else:\n",
    "#                 memos[i][j] = (memos[i][j+1][0], memos[i][j+1][1])\n",
    "#         elif j == len(T)-1:\n",
    "#             if match_char(i,j):\n",
    "#                 memos[i][j] = (memos[i+1][j][0]+1,match_char(i,j) + memos[i+1][j][1])\n",
    "#             else:\n",
    "#                 memos[i][j] = (memos[i+1][j][0],memos[i+1][j][1])\n",
    "#         else:\n",
    "        flagj = memos[i][j+1][2]\n",
    "        flagi = memos[i+1][j][3]\n",
    "        if flagj:\n",
    "            cnt, substr,flagj,flagi = max(memos[i+1][j],memos[i][j+1])\n",
    "            memos[i][j] = (cnt, substr, 1, )\n",
    "        elif match_char(i,j):\n",
    "            cnt, substr,flag = max(memos[i+1][j],memos[i][j+1])\n",
    "            memos[i][j] = (cnt+1, match_char(i,j)+substr, 1)\n",
    "        else:\n",
    "            cnt, substr,flag = max(memos[i+1][j],memos[i][j+1])\n",
    "            memos[i][j] = (cnt, match_char(i,j)+substr,0)\n",
    "        \n",
    "#         print(i,j)\n",
    "#         for m in memos:\n",
    "#             print(m)\n",
    "print(memos[0][0][1])"
   ]
  },
  {
   "cell_type": "code",
   "execution_count": 47,
   "metadata": {},
   "outputs": [
    {
     "name": "stdout",
     "output_type": "stream",
     "text": [
      "raaaa\n"
     ]
    }
   ],
   "source": [
    "S = list(input())\n",
    "T = list(input())\n",
    "\n",
    "memos = ([[None for _ in range(len(T))] + [((0,\"\"),(0,0))] for _ in range(len(S))] +\n",
    "         [[(0,\"\",0,0) for _ in range(len(T)+1)]])\n",
    "\n",
    "flags = [[0 for _ in range(len(T)+1)] for _ in range(len(S)+1)]\n",
    "\n",
    "def match_char(i,j):\n",
    "    if S[i] == T[j]:\n",
    "        return S[i]\n",
    "    return \"\"\n",
    "\n",
    "for i in range(len(S))[::-1]:\n",
    "    for j in range(len(T))[::-1]:\n",
    "#         if i == len(S)-1 and j == len(T)-1:\n",
    "#             if match_char(i,j):\n",
    "#                 memos[i][j] = (1,match_char(i,j))\n",
    "#             else:\n",
    "#                 memos[i][j] = (0,\"\")\n",
    "#         elif i == len(S)-1:\n",
    "#             if match_char(i,j):\n",
    "#                 memos[i][j] = (memos[i][j+1][0]+1,match_char(i,j) + memos[i][j+1][1])\n",
    "#             else:\n",
    "#                 memos[i][j] = (memos[i][j+1][0], memos[i][j+1][1])\n",
    "#         elif j == len(T)-1:\n",
    "#             if match_char(i,j):\n",
    "#                 memos[i][j] = (memos[i+1][j][0]+1,match_char(i,j) + memos[i+1][j][1])\n",
    "#             else:\n",
    "#                 memos[i][j] = (memos[i+1][j][0],memos[i+1][j][1])\n",
    "#         else:\n",
    "        flagj = memos[i][j+1][2]\n",
    "        flagi = memos[i+1][j][3]\n",
    "        if flagj:\n",
    "            cnt, substr,flagj,flagi = max(memos[i+1][j],memos[i][j+1])\n",
    "            memos[i][j] = (cnt, substr, 1, )\n",
    "        elif match_char(i,j):\n",
    "            cnt, substr,flag = max(memos[i+1][j],memos[i][j+1])\n",
    "            memos[i][j] = (cnt+1, match_char(i,j)+substr, 1)\n",
    "        else:\n",
    "            cnt, substr,flag = max(memos[i+1][j],memos[i][j+1])\n",
    "            memos[i][j] = (cnt, match_char(i,j)+substr,0)\n",
    "        \n",
    "#         print(i,j)\n",
    "#         for m in memos:\n",
    "#             print(m)\n",
    "print(memos[0][0][1])"
   ]
  },
  {
   "cell_type": "markdown",
   "metadata": {},
   "source": [
    "# G"
   ]
  },
  {
   "cell_type": "code",
   "execution_count": null,
   "metadata": {},
   "outputs": [],
   "source": []
  }
 ],
 "metadata": {
  "kernelspec": {
   "display_name": "Python 3",
   "language": "python",
   "name": "python3"
  },
  "language_info": {
   "codemirror_mode": {
    "name": "ipython",
    "version": 3
   },
   "file_extension": ".py",
   "mimetype": "text/x-python",
   "name": "python",
   "nbconvert_exporter": "python",
   "pygments_lexer": "ipython3",
   "version": "3.6.6"
  }
 },
 "nbformat": 4,
 "nbformat_minor": 2
}
