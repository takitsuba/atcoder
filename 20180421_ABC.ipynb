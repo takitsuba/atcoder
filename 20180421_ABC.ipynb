{
 "cells": [
  {
   "cell_type": "markdown",
   "metadata": {},
   "source": [
    "# A"
   ]
  },
  {
   "cell_type": "code",
   "execution_count": 9,
   "metadata": {},
   "outputs": [
    {
     "name": "stdout",
     "output_type": "stream",
     "text": [
      "oxo\n",
      "900\n"
     ]
    }
   ],
   "source": [
    "S = input()\n",
    "S_list = list(S)\n",
    "\n",
    "p = 700\n",
    "\n",
    "for s in S_list:\n",
    "    if s == 'o':\n",
    "        p += 100\n",
    "        \n",
    "print(p)"
   ]
  },
  {
   "cell_type": "markdown",
   "metadata": {},
   "source": [
    "# B"
   ]
  },
  {
   "cell_type": "code",
   "execution_count": 6,
   "metadata": {},
   "outputs": [
    {
     "name": "stdout",
     "output_type": "stream",
     "text": [
      "5 3000\n",
      "150\n",
      "130\n",
      "150\n",
      "130\n",
      "110\n",
      "26\n"
     ]
    }
   ],
   "source": [
    "n, x = input().split()\n",
    "n = int(n)\n",
    "x = int(x)\n",
    "\n",
    "m_sum = 0\n",
    "m_min = 1000\n",
    "for i in range(n):\n",
    "    m = int(input())\n",
    "    m_sum += m\n",
    "    if m < m_min:\n",
    "        m_min = m\n",
    "\n",
    "cnt = 0\n",
    "cnt += n\n",
    "\n",
    "x -= m_sum\n",
    "\n",
    "cnt += int(x // m_min)\n",
    "\n",
    "print(cnt)"
   ]
  },
  {
   "cell_type": "markdown",
   "metadata": {
    "collapsed": true
   },
   "source": [
    "# C"
   ]
  },
  {
   "cell_type": "code",
   "execution_count": 6,
   "metadata": {},
   "outputs": [
    {
     "name": "stdout",
     "output_type": "stream",
     "text": [
      "1500 2000 500 90000 100000\n",
      "100000000\n"
     ]
    }
   ],
   "source": [
    "A,B,C,X,Y = list(map(int,input().split()))\n",
    "min_xy = min(X, Y)\n",
    "cost = 0\n",
    "if A + B > C * 2:\n",
    "    cost += C * 2 * min_xy\n",
    "    X -= min_xy\n",
    "    Y -= min_xy\n",
    "\n",
    "if A > C*2:\n",
    "    cost += C*2*X\n",
    "else:\n",
    "    cost += A*X\n",
    "    \n",
    "if B > C*2:\n",
    "    cost += C*2*Y\n",
    "else:\n",
    "    cost += B*Y\n",
    "    \n",
    "print(cost)"
   ]
  },
  {
   "cell_type": "markdown",
   "metadata": {
    "collapsed": true
   },
   "source": [
    "# D"
   ]
  },
  {
   "cell_type": "code",
   "execution_count": 2,
   "metadata": {},
   "outputs": [
    {
     "name": "stdout",
     "output_type": "stream",
     "text": [
      "3 20\n",
      "2 80\n",
      "9 120\n",
      "16 1\n"
     ]
    }
   ],
   "source": [
    "N, C = list(map(int,input().split()))\n",
    "x_list = [0]\n",
    "v_list = []\n",
    "for i in range(N):\n",
    "    x, v = list(map(int,input().split()))\n",
    "    x_list.append(x)\n",
    "    v_list.append(v)\n"
   ]
  },
  {
   "cell_type": "code",
   "execution_count": 3,
   "metadata": {},
   "outputs": [
    {
     "data": {
      "text/plain": [
       "[2, 9, 16]"
      ]
     },
     "execution_count": 3,
     "metadata": {},
     "output_type": "execute_result"
    }
   ],
   "source": [
    "x_list"
   ]
  },
  {
   "cell_type": "code",
   "execution_count": 7,
   "metadata": {},
   "outputs": [
    {
     "ename": "NameError",
     "evalue": "name 'copy' is not defined",
     "output_type": "error",
     "traceback": [
      "\u001b[0;31m---------------------------------------------------------------------------\u001b[0m",
      "\u001b[0;31mNameError\u001b[0m                                 Traceback (most recent call last)",
      "\u001b[0;32m<ipython-input-7-1526c86eeb8e>\u001b[0m in \u001b[0;36m<module>\u001b[0;34m()\u001b[0m\n\u001b[0;32m----> 1\u001b[0;31m \u001b[0msum\u001b[0m\u001b[0;34m(\u001b[0m\u001b[0mx_list\u001b[0m\u001b[0;34m[\u001b[0m\u001b[0;34m:\u001b[0m\u001b[0;36m2\u001b[0m\u001b[0;34m]\u001b[0m\u001b[0;34m,\u001b[0m\u001b[0mcopy\u001b[0m\u001b[0;34m(\u001b[0m\u001b[0;34m)\u001b[0m\u001b[0;34m)\u001b[0m\u001b[0;34m\u001b[0m\u001b[0m\n\u001b[0m",
      "\u001b[0;31mNameError\u001b[0m: name 'copy' is not defined"
     ]
    }
   ],
   "source": [
    "sum(x_list[:2])"
   ]
  },
  {
   "cell_type": "code",
   "execution_count": 31,
   "metadata": {},
   "outputs": [
    {
     "name": "stdout",
     "output_type": "stream",
     "text": [
      "3 20\n",
      "2 80\n",
      "9 120\n",
      "16 1\n"
     ]
    }
   ],
   "source": [
    "N, C = list(map(int,input().split()))\n",
    "x_list = [0]\n",
    "v_list = []\n",
    "for i in range(N):\n",
    "    x, v = list(map(int,input().split()))\n",
    "    x_list.append(x)\n",
    "    v_list.append(v)\n",
    "\n",
    "\n",
    "max_c = 0\n",
    "\n",
    "for i in range(N):\n",
    "    c = 0\n",
    "    x_tmp = x_list.copy()\n",
    "    v_tmp = v_list.copy()\n",
    "    for j in range(i):\n",
    "        c += v_tmp[j]\n",
    "        c -= x_tmp[j+1] - x_tmp[j]\n",
    "        \n",
    "        if max_c < c:\n",
    "            max_c = c\n",
    "    \n",
    "    x_tmp = x_tmp[i:]\n",
    "    v_tmp = v_tmp[i:]\n",
    "    \n",
    "    v_tmp = x_tmp[::-1]\n",
    "    \n",
    "    x_tmp = [C - x for x in x_tmp]\n",
    "    x_tmp = [x_tmp[0]] + x_tmp[1:][::-1]\n",
    "    \n",
    "    for j in range(N - i):\n",
    "        c += v_tmp[j]\n",
    "        c -= x_tmp[j+1] - x_tmp[j]\n",
    "        \n",
    "        if max_c < c:\n",
    "            max_c = c\n",
    "\n",
    "    \n",
    "        \n",
    "    "
   ]
  },
  {
   "cell_type": "code",
   "execution_count": 32,
   "metadata": {},
   "outputs": [
    {
     "data": {
      "text/plain": [
       "214"
      ]
     },
     "execution_count": 32,
     "metadata": {},
     "output_type": "execute_result"
    }
   ],
   "source": [
    "max_c\n"
   ]
  },
  {
   "cell_type": "code",
   "execution_count": 23,
   "metadata": {},
   "outputs": [],
   "source": [
    "b = a.copy()"
   ]
  },
  {
   "cell_type": "code",
   "execution_count": 24,
   "metadata": {},
   "outputs": [
    {
     "data": {
      "text/plain": [
       "1"
      ]
     },
     "execution_count": 24,
     "metadata": {},
     "output_type": "execute_result"
    }
   ],
   "source": [
    "b.pop()"
   ]
  },
  {
   "cell_type": "code",
   "execution_count": 25,
   "metadata": {},
   "outputs": [
    {
     "data": {
      "text/plain": [
       "[]"
      ]
     },
     "execution_count": 25,
     "metadata": {},
     "output_type": "execute_result"
    }
   ],
   "source": [
    "b"
   ]
  },
  {
   "cell_type": "code",
   "execution_count": 26,
   "metadata": {},
   "outputs": [
    {
     "data": {
      "text/plain": [
       "[1]"
      ]
     },
     "execution_count": 26,
     "metadata": {},
     "output_type": "execute_result"
    }
   ],
   "source": [
    "a"
   ]
  },
  {
   "cell_type": "code",
   "execution_count": null,
   "metadata": {},
   "outputs": [],
   "source": []
  }
 ],
 "metadata": {
  "kernelspec": {
   "display_name": "Python 3",
   "language": "python",
   "name": "python3"
  },
  "language_info": {
   "codemirror_mode": {
    "name": "ipython",
    "version": 3
   },
   "file_extension": ".py",
   "mimetype": "text/x-python",
   "name": "python",
   "nbconvert_exporter": "python",
   "pygments_lexer": "ipython3",
   "version": "3.6.4"
  }
 },
 "nbformat": 4,
 "nbformat_minor": 2
}
