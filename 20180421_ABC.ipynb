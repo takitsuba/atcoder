{
 "cells": [
  {
   "cell_type": "markdown",
   "metadata": {},
   "source": [
    "# A"
   ]
  },
  {
   "cell_type": "code",
   "execution_count": 9,
   "metadata": {},
   "outputs": [
    {
     "name": "stdout",
     "output_type": "stream",
     "text": [
      "oxo\n",
      "900\n"
     ]
    }
   ],
   "source": [
    "S = input()\n",
    "S_list = list(S)\n",
    "\n",
    "p = 700\n",
    "\n",
    "for s in S_list:\n",
    "    if s == 'o':\n",
    "        p += 100\n",
    "        \n",
    "print(p)"
   ]
  },
  {
   "cell_type": "markdown",
   "metadata": {},
   "source": [
    "# B"
   ]
  },
  {
   "cell_type": "code",
   "execution_count": 6,
   "metadata": {},
   "outputs": [
    {
     "name": "stdout",
     "output_type": "stream",
     "text": [
      "5 3000\n",
      "150\n",
      "130\n",
      "150\n",
      "130\n",
      "110\n",
      "26\n"
     ]
    }
   ],
   "source": [
    "n, x = input().split()\n",
    "n = int(n)\n",
    "x = int(x)\n",
    "\n",
    "m_sum = 0\n",
    "m_min = 1000\n",
    "for i in range(n):\n",
    "    m = int(input())\n",
    "    m_sum += m\n",
    "    if m < m_min:\n",
    "        m_min = m\n",
    "\n",
    "cnt = 0\n",
    "cnt += n\n",
    "\n",
    "x -= m_sum\n",
    "\n",
    "cnt += int(x // m_min)\n",
    "\n",
    "print(cnt)"
   ]
  },
  {
   "cell_type": "markdown",
   "metadata": {
    "collapsed": true
   },
   "source": [
    "# C"
   ]
  },
  {
   "cell_type": "code",
   "execution_count": 6,
   "metadata": {},
   "outputs": [
    {
     "name": "stdout",
     "output_type": "stream",
     "text": [
      "1500 2000 500 90000 100000\n",
      "100000000\n"
     ]
    }
   ],
   "source": [
    "A,B,C,X,Y = list(map(int,input().split()))\n",
    "min_xy = min(X, Y)\n",
    "cost = 0\n",
    "if A + B > C * 2:\n",
    "    cost += C * 2 * min_xy\n",
    "    X -= min_xy\n",
    "    Y -= min_xy\n",
    "\n",
    "if A > C*2:\n",
    "    cost += C*2*X\n",
    "else:\n",
    "    cost += A*X\n",
    "    \n",
    "if B > C*2:\n",
    "    cost += C*2*Y\n",
    "else:\n",
    "    cost += B*Y\n",
    "    \n",
    "print(cost)"
   ]
  },
  {
   "cell_type": "code",
   "execution_count": null,
   "metadata": {
    "collapsed": true
   },
   "outputs": [],
   "source": []
  }
 ],
 "metadata": {
  "kernelspec": {
   "display_name": "Python 3",
   "language": "python",
   "name": "python3"
  },
  "language_info": {
   "codemirror_mode": {
    "name": "ipython",
    "version": 3
   },
   "file_extension": ".py",
   "mimetype": "text/x-python",
   "name": "python",
   "nbconvert_exporter": "python",
   "pygments_lexer": "ipython3",
   "version": "3.6.3"
  }
 },
 "nbformat": 4,
 "nbformat_minor": 2
}
