{
 "cells": [
  {
   "cell_type": "markdown",
   "metadata": {},
   "source": [
    "# A"
   ]
  },
  {
   "cell_type": "code",
   "execution_count": null,
   "metadata": {},
   "outputs": [],
   "source": [
    "11222\n",
    "13232\n",
    "\n",
    "1112222\n",
    "1312323\n",
    "\n",
    "11122222\n",
    "13123232\n",
    "\n",
    "1 2 2 3 3 3 4 4 4 4 1 2 3 4\n",
    "x x o x o x x o x o x x x x"
   ]
  },
  {
   "cell_type": "code",
   "execution_count": 14,
   "metadata": {},
   "outputs": [],
   "source": [
    "N = int(input())\n",
    "a_list = list(map(int,input().split()))\n",
    "\n",
    "cnt = 0\n",
    "tmp_cnt = 0\n",
    "tmp_a = 0\n",
    "for a in a_list:\n",
    "    if a == tmp_a:\n",
    "        tmp_cnt += 1\n",
    "        if tmp_cnt % 2 == 0:\n",
    "            cnt += 1\n",
    "    else:\n",
    "        tmp_a = a\n",
    "        tmp_cnt = 1\n",
    "        \n",
    "print(cnt)"
   ]
  },
  {
   "cell_type": "code",
   "execution_count": 15,
   "metadata": {},
   "outputs": [
    {
     "data": {
      "text/plain": [
       "2"
      ]
     },
     "execution_count": 15,
     "metadata": {},
     "output_type": "execute_result"
    }
   ],
   "source": [
    "cnt"
   ]
  },
  {
   "cell_type": "code",
   "execution_count": null,
   "metadata": {},
   "outputs": [],
   "source": []
  }
 ],
 "metadata": {
  "kernelspec": {
   "display_name": "Python 3",
   "language": "python",
   "name": "python3"
  },
  "language_info": {
   "codemirror_mode": {
    "name": "ipython",
    "version": 3
   },
   "file_extension": ".py",
   "mimetype": "text/x-python",
   "name": "python",
   "nbconvert_exporter": "python",
   "pygments_lexer": "ipython3",
   "version": "3.6.6"
  }
 },
 "nbformat": 4,
 "nbformat_minor": 2
}
