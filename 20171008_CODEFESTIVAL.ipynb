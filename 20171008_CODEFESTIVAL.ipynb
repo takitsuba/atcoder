{
 "cells": [
  {
   "cell_type": "code",
   "execution_count": null,
   "metadata": {},
   "outputs": [],
   "source": [
    "S = input()\n",
    "\n",
    "print(S[:-8])"
   ]
  },
  {
   "cell_type": "markdown",
   "metadata": {},
   "source": [
    "# B"
   ]
  },
  {
   "cell_type": "code",
   "execution_count": null,
   "metadata": {},
   "outputs": [],
   "source": [
    "n = int(input())\n",
    "d_list = input().split()\n",
    "d_list = [int(x) for x in d_list]\n",
    "\n",
    "m = int(input())\n",
    "t_list = input().split()\n",
    "t_list = [int(x) for x in t_list]\n",
    "\n",
    "from collections import Counter\n",
    "\n",
    "count_d = Counter(d_list)\n",
    "count_t = Counter(t_list)\n",
    "\n",
    "check = 0\n",
    "for key, value in count_t.items():\n",
    "    if count_d[key] < value:\n",
    "        check = 1\n",
    "        break\n",
    "\n",
    "if check == 0:\n",
    "    print(\"YES\")\n",
    "else:\n",
    "    print(\"NO\")\n",
    "    "
   ]
  },
  {
   "cell_type": "code",
   "execution_count": null,
   "metadata": {},
   "outputs": [],
   "source": [
    "7\n",
    "100 200 500 700 1200 1600 2000\n",
    "6\n",
    "100 200 500 700 1600 1600"
   ]
  },
  {
   "cell_type": "code",
   "execution_count": null,
   "metadata": {},
   "outputs": [],
   "source": [
    "1\n",
    "800\n",
    "5\n",
    "100 100 100 100 100"
   ]
  },
  {
   "cell_type": "code",
   "execution_count": null,
   "metadata": {},
   "outputs": [],
   "source": [
    "15\n",
    "1 2 2 3 3 3 4 4 4 4 5 5 5 5 5\n",
    "9\n",
    "5 4 3 2 1 2 3 4 5"
   ]
  },
  {
   "cell_type": "code",
   "execution_count": null,
   "metadata": {},
   "outputs": [],
   "source": [
    "from collections import Counter\n",
    "\n",
    "count_d = Counter(d_list)\n",
    "count_t = Counter(t_list)"
   ]
  },
  {
   "cell_type": "code",
   "execution_count": null,
   "metadata": {},
   "outputs": [],
   "source": [
    "check = 0\n",
    "for key, value in count_t.items():\n",
    "    if count_d[key] < value:\n",
    "        check = 1\n",
    "        break\n",
    "\n",
    "if check == 0:\n",
    "    print(\"YES\")\n",
    "else:\n",
    "    print(\"NO\")\n",
    "    "
   ]
  },
  {
   "cell_type": "code",
   "execution_count": null,
   "metadata": {},
   "outputs": [],
   "source": [
    "count_d[1]"
   ]
  },
  {
   "cell_type": "code",
   "execution_count": null,
   "metadata": {},
   "outputs": [],
   "source": []
  },
  {
   "cell_type": "markdown",
   "metadata": {},
   "source": [
    "# C"
   ]
  },
  {
   "cell_type": "code",
   "execution_count": 9,
   "metadata": {},
   "outputs": [
    {
     "name": "stdout",
     "output_type": "stream",
     "text": [
      "6 5\n",
      "1 2\n",
      "2 3\n",
      "3 4\n",
      "4 5\n",
      "5 6\n",
      "4\n"
     ]
    }
   ],
   "source": [
    "from collections import Counter\n",
    "import sys\n",
    "sys.setrecursionlimit(1000000)\n",
    "N,M = map(int, input().split())\n",
    " \n",
    "# 隣接リスト\n",
    "l = [[] for i in range(N+1)] \n",
    "for i in range(M):\n",
    "    a, b = list(map(int, input().split()))\n",
    "    l[a].append(b)\n",
    "    l[b].append(a)\n",
    "\n",
    "nodes_color = {node:0 for node in range(1, N+1)}#set([a for ab in ab_list for a in ab])}\n",
    "\n",
    "nibu = True\n",
    "stack = [1]\n",
    "\n",
    "nodes_color[1] = 1\n",
    "\n",
    "while stack:\n",
    "    node = stack.pop()\n",
    "    for next_node in l[node]:\n",
    "        if nodes_color[next_node]==0:\n",
    "            stack.append(next_node)\n",
    "            nodes_color[next_node] = - nodes_color[node]\n",
    "        else:\n",
    "            if nodes_color[next_node]==nodes_color[node]:\n",
    "                nibu = False\n",
    "                break\n",
    "    if not nibu:\n",
    "        break\n",
    "\n",
    "if nibu:\n",
    "    b,w = Counter(nodes_color.values()).values()\n",
    "    print(int(b*w-M))\n",
    "else:\n",
    "    print(int(N*(N-1)/2-M))"
   ]
  },
  {
   "cell_type": "code",
   "execution_count": 4,
   "metadata": {},
   "outputs": [
    {
     "name": "stdout",
     "output_type": "stream",
     "text": [
      "6 5\n",
      "1 2\n",
      "2 3\n",
      "3 4\n",
      "4 5\n",
      "5 6\n",
      "1 1\n",
      "2 -1\n",
      "3 1\n",
      "4 -1\n",
      "5 1\n",
      "6 -1\n",
      "4\n"
     ]
    }
   ],
   "source": [
    "# from collections import Counter\n",
    "# import sys\n",
    "# sys.setrecursionlimit(1000000)\n",
    "# N,M = map(int, input().split())\n",
    " \n",
    "# # 隣接リスト\n",
    "# l = [[] for i in range(N+1)] \n",
    "# for i in range(M):\n",
    "#     ab = list(map(int, input().split()))\n",
    "#     a = min(ab)\n",
    "#     b = max(ab)\n",
    "#     l[a].append(b)\n",
    "\n",
    "# nodes_color = {node:0 for node in range(1, N+1)}#set([a for ab in ab_list for a in ab])}\n",
    "\n",
    "# def func(v,c):\n",
    "#     if nodes_color[v] == c:\n",
    "#         return True\n",
    "#     if nodes_color[v] == -c:\n",
    "#         return False\n",
    "    \n",
    "#     if nodes_color[v] == 0:\n",
    "#         nodes_color[v] = c\n",
    "#     for node in l[v]:\n",
    "#         if not func(node, -c):\n",
    "#             return False\n",
    "    \n",
    "#     return True\n",
    "\n",
    "# # 連結なので下記は不用。\n",
    "# def bipartite_graph_check():\n",
    "#     while True:\n",
    "#         for i in range(1,N+1):\n",
    "#             if nodes_color[i] == 0:\n",
    "#                 if not func(i,1):\n",
    "#                     return False\n",
    "#     return True\n",
    "\n",
    "# if bipartite_graph_check():\n",
    "#     b,w = Counter(nodes_color.values()).values()\n",
    "#     print(int(b*w-M))\n",
    "# else:\n",
    "#     print(int(N*(N-1)/2-M))"
   ]
  },
  {
   "cell_type": "code",
   "execution_count": 5,
   "metadata": {},
   "outputs": [],
   "source": [
    "def hoge():\n",
    "    while True:\n",
    "        return False"
   ]
  },
  {
   "cell_type": "code",
   "execution_count": 6,
   "metadata": {},
   "outputs": [
    {
     "data": {
      "text/plain": [
       "False"
      ]
     },
     "execution_count": 6,
     "metadata": {},
     "output_type": "execute_result"
    }
   ],
   "source": [
    "hoge()"
   ]
  },
  {
   "cell_type": "code",
   "execution_count": null,
   "metadata": {},
   "outputs": [],
   "source": [
    "nodes_color[1]==0"
   ]
  },
  {
   "cell_type": "code",
   "execution_count": null,
   "metadata": {},
   "outputs": [],
   "source": [
    "nodes_color"
   ]
  },
  {
   "cell_type": "markdown",
   "metadata": {},
   "source": [
    "### "
   ]
  },
  {
   "cell_type": "code",
   "execution_count": null,
   "metadata": {},
   "outputs": [],
   "source": [
    "n,m = map(int, input().split())\n",
    " \n",
    "# 隣接リスト\n",
    "l = [[] for i in range(n)]\n",
    "for i in range(m):\n",
    "    a,b = map(int, input().split())\n",
    "    a-=1\n",
    "    b-=1\n",
    "    l[a].append(b)\n",
    "    l[b].append(a)\n",
    "\n",
    "# 二部グラフ判定\n",
    "nibu = True\n",
    "stack = [0]\n",
    "col = [-1 for i in range(n)]\n",
    "col[0]=0\n",
    "while stack:\n",
    "    p = stack.pop()\n",
    "    for x in l[p]:\n",
    "        if col[x]==-1:\n",
    "            stack.append(x)\n",
    "            if col[p]==0:\n",
    "                col[x]=1\n",
    "            else:\n",
    "                col[x]=0\n",
    "        else:\n",
    "            if col[x]==col[p]:\n",
    "                nibu = False\n",
    "                break\n",
    "    if not nibu:\n",
    "        break\n",
    " \n",
    "if nibu:\n",
    "    print(col.count(1)*col.count(0)-m)\n",
    "else:\n",
    "    print(n*(n-1)//2-m)"
   ]
  },
  {
   "cell_type": "code",
   "execution_count": null,
   "metadata": {},
   "outputs": [],
   "source": []
  },
  {
   "cell_type": "code",
   "execution_count": null,
   "metadata": {},
   "outputs": [],
   "source": [
    "from collections import Counter\n",
    "import sys\n",
    "sys.setrecursionlimit(1000000)\n",
    "\n",
    "N, M = map(int, input().split())\n",
    "ab_list = []\n",
    "for _ in range(M):\n",
    "    a, b = map(int, input().split())\n",
    "    ab_list.append([a,b])\n",
    "\n",
    "nodes_color = {node:0 for node in range(1, N+1)}#set([a for ab in ab_list for a in ab])}\n",
    "def func(v,c):\n",
    "    if nodes_color[v] == 0:\n",
    "        nodes_color[v] = c\n",
    "    elif nodes_color[v] == -c:\n",
    "        return False\n",
    "    else:\n",
    "        return True\n",
    "    \n",
    "    for ab in ab_list:\n",
    "        if v in ab:\n",
    "            for a in ab:\n",
    "                if a==v:\n",
    "                    continue\n",
    "                if not func(a, -c):\n",
    "                    return False\n",
    "    return True\n",
    "\n",
    "# 連結なので下記は不用。\n",
    "# def bipartite_graph_check():\n",
    "#     for i in range(1,N+1):\n",
    "#         if nodes_color[i] == 0:\n",
    "#             if not func(i,1):\n",
    "# #                 print(\"Not Bipartite graph\")\n",
    "#                 return False\n",
    "#     return True\n",
    "\n",
    "if func(1,1):\n",
    "    b,w = Counter(nodes_color.values()).values()\n",
    "    print(int(b*w-M))\n",
    "else:\n",
    "    print(int(N*(N-1)/2-M))\n"
   ]
  },
  {
   "cell_type": "code",
   "execution_count": null,
   "metadata": {},
   "outputs": [],
   "source": [
    "w"
   ]
  },
  {
   "cell_type": "code",
   "execution_count": null,
   "metadata": {},
   "outputs": [],
   "source": [
    "6 5\n",
    "1 2\n",
    "2 3\n",
    "3 4\n",
    "4 5\n",
    "5 6"
   ]
  },
  {
   "cell_type": "code",
   "execution_count": null,
   "metadata": {},
   "outputs": [],
   "source": []
  },
  {
   "cell_type": "code",
   "execution_count": null,
   "metadata": {},
   "outputs": [],
   "source": []
  },
  {
   "cell_type": "code",
   "execution_count": null,
   "metadata": {},
   "outputs": [],
   "source": []
  },
  {
   "cell_type": "code",
   "execution_count": null,
   "metadata": {},
   "outputs": [],
   "source": []
  },
  {
   "cell_type": "markdown",
   "metadata": {},
   "source": [
    "# D"
   ]
  },
  {
   "cell_type": "code",
   "execution_count": null,
   "metadata": {},
   "outputs": [],
   "source": [
    "n = int(input())\n",
    "s = input()"
   ]
  },
  {
   "cell_type": "code",
   "execution_count": null,
   "metadata": {},
   "outputs": [],
   "source": []
  },
  {
   "cell_type": "code",
   "execution_count": null,
   "metadata": {},
   "outputs": [],
   "source": [
    "\n"
   ]
  },
  {
   "cell_type": "code",
   "execution_count": null,
   "metadata": {},
   "outputs": [],
   "source": [
    "s = [int(x) for x in s]\n",
    "l = len(s)\n",
    "import numpy as np\n",
    "ar_1 = np.array(s[:-2]).reshape([l-2,1])\n",
    "ar_2 = np.array(s[1:-1]).reshape([l-2,1])\n",
    "ar_3 = np.array(s[2:]).reshape([l-2,1])\n",
    "ar = np.hstack((ar_1,ar_2,ar_3))\n",
    "check_ar = (ar == [1,0,1]).all(axis=1)\n",
    "check_index = np.where(check_ar==True)[0]"
   ]
  },
  {
   "cell_type": "code",
   "execution_count": null,
   "metadata": {},
   "outputs": [],
   "source": [
    "check_index "
   ]
  },
  {
   "cell_type": "code",
   "execution_count": null,
   "metadata": {},
   "outputs": [],
   "source": []
  },
  {
   "cell_type": "code",
   "execution_count": null,
   "metadata": {},
   "outputs": [],
   "source": []
  },
  {
   "cell_type": "code",
   "execution_count": null,
   "metadata": {},
   "outputs": [],
   "source": []
  },
  {
   "cell_type": "code",
   "execution_count": null,
   "metadata": {},
   "outputs": [],
   "source": []
  },
  {
   "cell_type": "code",
   "execution_count": null,
   "metadata": {},
   "outputs": [],
   "source": []
  },
  {
   "cell_type": "code",
   "execution_count": null,
   "metadata": {},
   "outputs": [],
   "source": [
    "s = [int(x) for x in s]\n",
    "l = len(s)\n",
    "import numpy as np\n",
    "\n",
    "\n",
    "\n",
    "count = 0\n",
    "while 1>0:\n",
    "    ar_1 = np.array(s[:-2]).reshape([l-2,1])\n",
    "    ar_2 = np.array(s[1:-1]).reshape([l-2,1])\n",
    "    ar_3 = np.array(s[2:]).reshape([l-2,1])\n",
    "    ar = np.hstack((ar_1,ar_2,ar_3))\n",
    "    check_ar = (ar == [1,0,1]).all(axis=1)\n",
    "    check_index = np.where(check_ar==True)[0]\n",
    "    if len(check_index)>0:\n",
    "        if min(check_index) <= l - max(check_index) - 1:\n",
    "            s[min(check_index):min(check_index)+3] = [0,1,0]\n",
    "            print(min(check_index))\n",
    "        else:\n",
    "            s[max(check_index):max(check_index)+3] = [0,1,0]\n",
    "            print(max(check_index))\n",
    "        count += 1\n",
    "#         print()\n",
    "    else:\n",
    "        break\n",
    "\n",
    "print(count)\n"
   ]
  },
  {
   "cell_type": "code",
   "execution_count": null,
   "metadata": {},
   "outputs": [],
   "source": [
    "10101000010011011110001001111110000101010111100110"
   ]
  },
  {
   "cell_type": "code",
   "execution_count": null,
   "metadata": {},
   "outputs": [],
   "source": [
    "# for i in range(l-2):\n",
    "#     if s[i:i+3] == [1,0,1]:\n",
    "#         check_list.append(1)\n",
    "#     else:\n",
    "#         check_list.append(0)\n"
   ]
  },
  {
   "cell_type": "code",
   "execution_count": null,
   "metadata": {},
   "outputs": [],
   "source": [
    "ar_1 = np.array(s[:-2]).reshape([l-2,1])\n",
    "ar_2 = np.array(s[1:-1]).reshape([l-2,1])\n",
    "ar_3 = np.array(s[2:]).reshape([l-2,1])\n",
    "ar = np.hstack((ar_1,ar_2,ar_3))\n",
    "check_ar = (ar == [1,0,1]).all(axis=1)\n",
    "check_index = np.where(check_ar==True)\n",
    "if len(check_index)>0:\n",
    "    if min(check_index) <= l - max(check_index) - 1:\n",
    "        ar[min(check_index)] = [0,1,0]\n",
    "    else:\n",
    "        ar[max(check_index)] = [0,1,0]\n",
    "    count += 1\n",
    "else:\n",
    "    break\n",
    "\n",
    "print(count)\n"
   ]
  },
  {
   "cell_type": "code",
   "execution_count": null,
   "metadata": {},
   "outputs": [],
   "source": [
    "ar = np.hstack((ar_1,ar_2,ar_3))\n",
    "check_ar = (ar == [1,0,1]).all(axis=1)\n",
    "check_index = np.where(check_ar==True)\n",
    "if len(check_index)>0:\n",
    "    if min(check_index) <= l - max(check_index) - 1:\n",
    "        ar[min(check_index)] = [0,1,0]\n",
    "    else:\n",
    "        ar[max(check_index)] = [0,1,0]\n",
    "    count += 1\n",
    "else:\n",
    "    break\n",
    "\n",
    "print(count)\n"
   ]
  },
  {
   "cell_type": "code",
   "execution_count": null,
   "metadata": {},
   "outputs": [],
   "source": [
    "ar == [1,0,1]"
   ]
  },
  {
   "cell_type": "code",
   "execution_count": null,
   "metadata": {},
   "outputs": [],
   "source": [
    "check_ar = (ar == [1,0,1]).all(axis=1)\n",
    "check_index = np.where(check_ar==True)\n",
    "if len(check_index)>0:\n",
    "    if min(check_index) <= l - max(check_index) - 1:\n",
    "        ar[min(check_index)] = [0,1,0]\n",
    "    else:\n",
    "        ar[max(check_index)] = [0,1,0]\n",
    "    count += 1\n",
    "else:\n",
    "    break\n",
    "\n",
    "print(count)\n"
   ]
  },
  {
   "cell_type": "code",
   "execution_count": null,
   "metadata": {},
   "outputs": [],
   "source": [
    "check_ar"
   ]
  },
  {
   "cell_type": "code",
   "execution_count": null,
   "metadata": {},
   "outputs": [],
   "source": [
    "check_index = np.where(check_ar==True)\n",
    "if len(check_index)>0:\n",
    "    if min(check_index) <= l - max(check_index) - 1:\n",
    "        ar[min(check_index)] = [0,1,0]\n",
    "    else:\n",
    "        ar[max(check_index)] = [0,1,0]\n",
    "    count += 1\n",
    "else:\n",
    "    break\n",
    "\n",
    "print(count)\n"
   ]
  },
  {
   "cell_type": "code",
   "execution_count": null,
   "metadata": {},
   "outputs": [],
   "source": [
    "if len(check_index)>0:\n",
    "    if min(check_index) <= l - max(check_index) - 1:\n",
    "        ar[min(check_index)] = [0,1,0]\n",
    "    else:\n",
    "        ar[max(check_index)] = [0,1,0]\n",
    "    count += 1\n",
    "else:\n",
    "    break\n",
    "\n",
    "print(count)\n"
   ]
  },
  {
   "cell_type": "code",
   "execution_count": null,
   "metadata": {},
   "outputs": [],
   "source": [
    "np.array([s[:-2],s[1:-1],s[2:]]).reshape()"
   ]
  },
  {
   "cell_type": "code",
   "execution_count": null,
   "metadata": {},
   "outputs": [],
   "source": [
    "len(check_list)"
   ]
  },
  {
   "cell_type": "code",
   "execution_count": null,
   "metadata": {},
   "outputs": [],
   "source": [
    "i = 0\n",
    "while i>=0:\n",
    "    i += 1\n",
    "    print(i)\n",
    "    if i>10:\n",
    "        break"
   ]
  },
  {
   "cell_type": "markdown",
   "metadata": {},
   "source": [
    "# 反省\n",
    "* A,Bしか終えられなかった。\n",
    "* Cはグラフの問題で、少し考えたがわからなそうだったので、スルーしてDに挑む。\n",
    "* しかしDも解けず。はじめに、「両側から徐々に101の組みを探すだけでいいのでは」と見積もり、numpyに若干苦戦しながら進め、時間を無駄にした。(上記のコードは無駄コード)\n",
    "* その後、101と隣接する1が重要である、ということはわかったが、どのようにロジックを組めばいいかわからず、終了。\n",
    "* 解説を見ても、よくわからない。改めてみる。"
   ]
  },
  {
   "cell_type": "code",
   "execution_count": null,
   "metadata": {},
   "outputs": [],
   "source": []
  }
 ],
 "metadata": {
  "kernelspec": {
   "display_name": "Python 3",
   "language": "python",
   "name": "python3"
  },
  "language_info": {
   "codemirror_mode": {
    "name": "ipython",
    "version": 3
   },
   "file_extension": ".py",
   "mimetype": "text/x-python",
   "name": "python",
   "nbconvert_exporter": "python",
   "pygments_lexer": "ipython3",
   "version": "3.6.6"
  }
 },
 "nbformat": 4,
 "nbformat_minor": 2
}
