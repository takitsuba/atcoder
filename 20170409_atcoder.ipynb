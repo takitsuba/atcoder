{
 "cells": [
  {
   "cell_type": "code",
   "execution_count": 27,
   "metadata": {
    "scrolled": true
   },
   "outputs": [
    {
     "name": "stdout",
     "output_type": "stream",
     "text": [
      "2\n",
      "?o?r?s?\n",
      "?et?\n",
      "e\n",
      "1 2 3\n",
      "\n",
      "\n"
     ]
    }
   ],
   "source": [
    "n = int(input())\n",
    "s_list = list()\n",
    "for i in range(n):\n",
    "    s_list.append(input())\n",
    "t = input()\n",
    "\n",
    "s_list_a = [s.replace(\"?\",\"a\") for s in s_list]\n",
    "s_list_a.append(t)\n",
    "s_list_a.sort()\n",
    "index_a = [i+1 for i,x in enumerate(s_list_a) if x == t]\n",
    "\n",
    "s_list_z = [s.replace(\"?\",\"z\") for s in s_list]\n",
    "s_list_z.append(t)\n",
    "s_list_z.sort()\n",
    "index_z = [i+1 for i,x in enumerate(s_list_z) if x == t]\n",
    "\n",
    "indexes = [str(i) for i in range(index_z[0],index_a[-1]+1)]\n",
    "\n",
    "answer = ' '.join(indexes)\n",
    "\n",
    "print(answer)"
   ]
  },
  {
   "cell_type": "code",
   "execution_count": 22,
   "metadata": {},
   "outputs": [
    {
     "data": {
      "text/plain": [
       "[1]"
      ]
     },
     "execution_count": 22,
     "metadata": {},
     "output_type": "execute_result"
    }
   ],
   "source": [
    "2\n",
    "?o?r?s?\n",
    "?et?\n",
    "e\n"
   ]
  },
  {
   "cell_type": "code",
   "execution_count": 23,
   "metadata": {},
   "outputs": [
    {
     "data": {
      "text/plain": [
       "[5]"
      ]
     },
     "execution_count": 23,
     "metadata": {},
     "output_type": "execute_result"
    }
   ],
   "source": [
    "index_a"
   ]
  },
  {
   "cell_type": "code",
   "execution_count": 9,
   "metadata": {
    "collapsed": true
   },
   "outputs": [],
   "source": [
    "b = [\"?pple\",\"?b?\",\"c?c\"]\n",
    "test = [tikan.replace(\"?\",\"a\") for tikan in b]"
   ]
  },
  {
   "cell_type": "code",
   "execution_count": 10,
   "metadata": {},
   "outputs": [
    {
     "data": {
      "text/plain": [
       "['apple', 'aba', 'cac']"
      ]
     },
     "execution_count": 10,
     "metadata": {},
     "output_type": "execute_result"
    }
   ],
   "source": [
    "test"
   ]
  },
  {
   "cell_type": "markdown",
   "metadata": {},
   "source": [
    "# 2"
   ]
  },
  {
   "cell_type": "code",
   "execution_count": 37,
   "metadata": {},
   "outputs": [
    {
     "name": "stdout",
     "output_type": "stream",
     "text": [
      "5 3\n",
      "7 4 2 6 4\n",
      "22\n"
     ]
    }
   ],
   "source": [
    "n,k = input().split()\n",
    "a_list = input().split()\n",
    "\n",
    "n = int(n)\n",
    "k = int(k)\n",
    "\n",
    "a_list = [int(a) for a in a_list]\n",
    "\n",
    "money = 0\n",
    "left = a_list[0]\n",
    "for i,a in enumerate(a_list[1:]):\n",
    "    if a_list[i] >= a:\n",
    "        money += a_list[i]-a+1\n",
    "        a_list[i+1] = a_list[i]+1\n",
    "print(money)"
   ]
  },
  {
   "cell_type": "code",
   "execution_count": 32,
   "metadata": {},
   "outputs": [
    {
     "data": {
      "text/plain": [
       "[3, 5, 6]"
      ]
     },
     "execution_count": 32,
     "metadata": {},
     "output_type": "execute_result"
    }
   ],
   "source": [
    "a_list"
   ]
  },
  {
   "cell_type": "code",
   "execution_count": 30,
   "metadata": {},
   "outputs": [
    {
     "data": {
      "text/plain": [
       "'4'"
      ]
     },
     "execution_count": 30,
     "metadata": {},
     "output_type": "execute_result"
    }
   ],
   "source": [
    "k"
   ]
  },
  {
   "cell_type": "markdown",
   "metadata": {},
   "source": [
    "# 3"
   ]
  },
  {
   "cell_type": "code",
   "execution_count": null,
   "metadata": {
    "collapsed": true
   },
   "outputs": [],
   "source": []
  },
  {
   "cell_type": "markdown",
   "metadata": {},
   "source": [
    "# 4"
   ]
  },
  {
   "cell_type": "code",
   "execution_count": null,
   "metadata": {
    "collapsed": true
   },
   "outputs": [],
   "source": []
  }
 ],
 "metadata": {
  "kernelspec": {
   "display_name": "Python 3",
   "language": "python",
   "name": "python3"
  },
  "language_info": {
   "codemirror_mode": {
    "name": "ipython",
    "version": 3
   },
   "file_extension": ".py",
   "mimetype": "text/x-python",
   "name": "python",
   "nbconvert_exporter": "python",
   "pygments_lexer": "ipython3",
   "version": "3.6.0"
  }
 },
 "nbformat": 4,
 "nbformat_minor": 2
}
