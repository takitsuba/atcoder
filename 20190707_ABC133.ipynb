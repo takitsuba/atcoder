{
 "cells": [
  {
   "cell_type": "markdown",
   "metadata": {},
   "source": [
    "# A"
   ]
  },
  {
   "cell_type": "code",
   "execution_count": null,
   "metadata": {},
   "outputs": [],
   "source": [
    "n,a,b = map(int,input().split())\n",
    "\n",
    "d = n*a\n",
    "t = b\n",
    "print(min(d,t))"
   ]
  },
  {
   "cell_type": "markdown",
   "metadata": {},
   "source": [
    "# B"
   ]
  },
  {
   "cell_type": "code",
   "execution_count": null,
   "metadata": {},
   "outputs": [],
   "source": [
    "N,D = map(int,input().split())\n",
    "xs = [list(map(int,input().split())) for _ in range(N)]\n",
    "\n",
    "cnt = 0\n",
    "zizyou = [x**2 for x in range(128)]\n",
    "\n",
    "for i in range(len(xs)-1):\n",
    "    for j in range(i+1,len(xs)):\n",
    "        s = 0\n",
    "        for d in range(D):\n",
    "            s += (xs[i][d]-xs[j][d])**2\n",
    "        \n",
    "        if s in zizyou:\n",
    "#             print(i,j,s)\n",
    "            cnt+=1\n",
    "\n",
    "print(cnt)"
   ]
  },
  {
   "cell_type": "markdown",
   "metadata": {},
   "source": [
    "# C"
   ]
  },
  {
   "cell_type": "code",
   "execution_count": 101,
   "metadata": {},
   "outputs": [
    {
     "name": "stdout",
     "output_type": "stream",
     "text": [
      "2015 2016\n",
      "12\n"
     ]
    }
   ],
   "source": [
    "L,R = map(int,input().split())\n",
    "\n",
    "circle = (R- L)/ 2019\n",
    "if circle >=2:\n",
    "    R = L+2019*2+10\n",
    "# print(R)\n",
    "\n",
    "mod_list = []\n",
    "for i in range(L,R+1):\n",
    "    mod_list.append(i%2019)\n",
    "\n",
    "mod_list.sort()\n",
    "\n",
    "result_list = []\n",
    "for i in range(len(mod_list)-1):\n",
    "    for j in range(i+1, len(mod_list)):\n",
    "        result_list.append((mod_list[i]*mod_list[j])%2019)\n",
    "print(min(result_list))"
   ]
  },
  {
   "cell_type": "code",
   "execution_count": 99,
   "metadata": {},
   "outputs": [
    {
     "data": {
      "text/plain": [
       "12"
      ]
     },
     "execution_count": 99,
     "metadata": {},
     "output_type": "execute_result"
    }
   ],
   "source": [
    "2015*2016%2019"
   ]
  },
  {
   "cell_type": "code",
   "execution_count": 91,
   "metadata": {},
   "outputs": [
    {
     "data": {
      "text/plain": [
       "4.952947003467063"
      ]
     },
     "execution_count": 91,
     "metadata": {},
     "output_type": "execute_result"
    }
   ],
   "source": [
    "10000/2019h"
   ]
  },
  {
   "cell_type": "markdown",
   "metadata": {},
   "source": [
    "## "
   ]
  },
  {
   "cell_type": "code",
   "execution_count": null,
   "metadata": {},
   "outputs": [],
   "source": [
    "a = [1,4,3]"
   ]
  },
  {
   "cell_type": "code",
   "execution_count": null,
   "metadata": {},
   "outputs": [],
   "source": [
    "a.sort()"
   ]
  },
  {
   "cell_type": "code",
   "execution_count": null,
   "metadata": {},
   "outputs": [],
   "source": [
    "a"
   ]
  },
  {
   "cell_type": "code",
   "execution_count": null,
   "metadata": {},
   "outputs": [],
   "source": [
    "round((R-L)a / 2019)"
   ]
  },
  {
   "cell_type": "markdown",
   "metadata": {},
   "source": [
    "# D"
   ]
  },
  {
   "cell_type": "code",
   "execution_count": 70,
   "metadata": {},
   "outputs": [
    {
     "name": "stdout",
     "output_type": "stream",
     "text": [
      "5\n",
      "3 8 7 5 5\n",
      "2 4 12 2 8\n"
     ]
    }
   ],
   "source": [
    "N = int(input())\n",
    "dum_list = list(map(int, input().split()))\n",
    "\n",
    "goukei = sum(dum_list)\n",
    "\n",
    "last_yama = int(goukei/2 - sum([a for i,a in enumerate(dum_list[:-1]) if i%2==0] ))\n",
    "start_yama = dum_list[-1] - last_yama\n",
    "\n",
    "yama_small = [start_yama,]\n",
    "for d in dum_list[:-1]:\n",
    "    yama_small.append(d-yama_small[-1])\n",
    "\n",
    "print(\" \".join(map(str,[int(y*2) for y in yama_small])))"
   ]
  },
  {
   "cell_type": "code",
   "execution_count": null,
   "metadata": {},
   "outputs": [],
   "source": []
  },
  {
   "cell_type": "code",
   "execution_count": null,
   "metadata": {},
   "outputs": [],
   "source": []
  },
  {
   "cell_type": "code",
   "execution_count": null,
   "metadata": {},
   "outputs": [],
   "source": [
    "y = last_yama\n",
    "for i in range(N):\n",
    "    "
   ]
  },
  {
   "cell_type": "code",
   "execution_count": null,
   "metadata": {},
   "outputs": [],
   "source": [
    "last_yama"
   ]
  },
  {
   "cell_type": "code",
   "execution_count": null,
   "metadata": {},
   "outputs": [],
   "source": [
    "# 0startなので、偶数の時\n",
    "[a for i,a in enumerate(a_list) if i%2==0]"
   ]
  },
  {
   "cell_type": "code",
   "execution_count": null,
   "metadata": {},
   "outputs": [],
   "source": [
    "last_yama"
   ]
  },
  {
   "cell_type": "code",
   "execution_count": null,
   "metadata": {},
   "outputs": [],
   "source": [
    "a_list"
   ]
  },
  {
   "cell_type": "markdown",
   "metadata": {},
   "source": [
    "# E"
   ]
  },
  {
   "cell_type": "code",
   "execution_count": null,
   "metadata": {},
   "outputs": [],
   "source": [
    "N,K = map(int,input().split())\n",
    "for "
   ]
  },
  {
   "cell_type": "code",
   "execution_count": 108,
   "metadata": {},
   "outputs": [
    {
     "name": "stdout",
     "output_type": "stream",
     "text": [
      "5 4\n",
      "4 5\n",
      "1 4\n",
      "1 3\n",
      "1 2\n"
     ]
    }
   ],
   "source": [
    "from collections import defaultdict, deque\n",
    "\n",
    "v, k = map(int, input().split())\n",
    "n = v-1\n",
    "es = [[int(x) for x in input().split()] for _ in range(n)]\n",
    "\n",
    "outs = defaultdict(list)\n",
    "ins = defaultdict(int)\n",
    "for v1, v2 in es:\n",
    "    outs[v1].append(v2)\n",
    "    ins[v2] += 1\n",
    "\n",
    "q = deque(v1 for v1 in range(v) if ins[v1] == 0)\n",
    "res = []\n",
    "while q:\n",
    "    v1 = q.popleft()\n",
    "    res.append(v1)\n",
    "    for v2 in outs[v1]:\n",
    "        ins[v2] -= 1\n",
    "        if ins[v2] == 0:\n",
    "            q.append(v2)\n",
    "\n",
    "# print(', '.join(res))"
   ]
  },
  {
   "cell_type": "code",
   "execution_count": 111,
   "metadata": {},
   "outputs": [
    {
     "name": "stdout",
     "output_type": "stream",
     "text": [
      "5 4\n",
      "1 2\n",
      "1 3\n",
      "1 4\n",
      "4 5\n"
     ]
    }
   ],
   "source": [
    "v, k = map(int, input().split())\n",
    "n = v-1\n",
    "es = [[int(x) for x in input().split()] for _ in range(n)]"
   ]
  },
  {
   "cell_type": "code",
   "execution_count": null,
   "metadata": {},
   "outputs": [],
   "source": []
  },
  {
   "cell_type": "code",
   "execution_count": 112,
   "metadata": {},
   "outputs": [
    {
     "data": {
      "text/plain": [
       "[[1, 2], [1, 3], [1, 4], [4, 5]]"
      ]
     },
     "execution_count": 112,
     "metadata": {},
     "output_type": "execute_result"
    }
   ],
   "source": [
    "result = 1\n",
    "\n",
    "def df(v, k, mae, ue):\n",
    "    result *= (k-mae-ue)\n",
    "    \n",
    "    for "
   ]
  },
  {
   "cell_type": "code",
   "execution_count": 109,
   "metadata": {},
   "outputs": [
    {
     "data": {
      "text/plain": [
       "deque([])"
      ]
     },
     "execution_count": 109,
     "metadata": {},
     "output_type": "execute_result"
    }
   ],
   "source": [
    "q"
   ]
  },
  {
   "cell_type": "code",
   "execution_count": 110,
   "metadata": {},
   "outputs": [
    {
     "data": {
      "text/plain": [
       "[0, 1, 4, 3, 2, 5]"
      ]
     },
     "execution_count": 110,
     "metadata": {},
     "output_type": "execute_result"
    }
   ],
   "source": [
    "res"
   ]
  },
  {
   "cell_type": "code",
   "execution_count": null,
   "metadata": {},
   "outputs": [],
   "source": []
  }
 ],
 "metadata": {
  "kernelspec": {
   "display_name": "Python 3",
   "language": "python",
   "name": "python3"
  },
  "language_info": {
   "codemirror_mode": {
    "name": "ipython",
    "version": 3
   },
   "file_extension": ".py",
   "mimetype": "text/x-python",
   "name": "python",
   "nbconvert_exporter": "python",
   "pygments_lexer": "ipython3",
   "version": "3.6.6"
  }
 },
 "nbformat": 4,
 "nbformat_minor": 2
}
