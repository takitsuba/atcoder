{
 "cells": [
  {
   "cell_type": "code",
   "execution_count": 4,
   "metadata": {},
   "outputs": [
    {
     "name": "stdout",
     "output_type": "stream",
     "text": [
      "1 1 7\n",
      "7\n"
     ]
    }
   ],
   "source": [
    "a,b,c = input().split()\n",
    "a = int(a)\n",
    "b = int(b)\n",
    "c= int(c)\n",
    "\n",
    "if a == b:\n",
    "    print(c)\n",
    "elif b == c:\n",
    "    print(a)\n",
    "else:\n",
    "    print(b)"
   ]
  },
  {
   "cell_type": "code",
   "execution_count": 6,
   "metadata": {},
   "outputs": [
    {
     "data": {
      "text/plain": [
       "['1123']"
      ]
     },
     "execution_count": 6,
     "metadata": {},
     "output_type": "execute_result"
    }
   ],
   "source": []
  },
  {
   "cell_type": "code",
   "execution_count": 50,
   "metadata": {},
   "outputs": [
    {
     "name": "stdout",
     "output_type": "stream",
     "text": [
      "6 6\n",
      "#####.\n",
      "#.#.##\n",
      "####.#\n",
      ".#..#.\n",
      "#.##..\n",
      "#.#...\n",
      "#####3\n",
      "#8#7##\n",
      "####5#\n",
      "4#65#2\n",
      "#5##21\n",
      "#4#310\n"
     ]
    }
   ],
   "source": [
    "h,w = input().split()\n",
    "h = int(h)\n",
    "w = int(w)\n",
    "s_list = []\n",
    "for _ in range(h):\n",
    "    s = input()\n",
    "    s_chars =[]\n",
    "    for char in s:\n",
    "        s_chars.append(char)\n",
    "    s_list.append(s_chars)\n",
    "\n",
    "import numpy as np\n",
    "ar = np.array(s_list)\n",
    "ar = np.insert(ar,0,[[\".\"]*w],axis=0)\n",
    "ar = np.insert(ar,h+1,[[\".\"]*w],axis=0)\n",
    "ar = np.insert(ar,0,[[\".\"]*(h+2)],axis=1)\n",
    "ar = np.insert(ar,w+1,[[\".\"]*(h+2)],axis=1)\n",
    "answer_list = []\n",
    "for i in range(1,h+1):\n",
    "    syoukei = \"\"\n",
    "    for j in range(1,w+1):\n",
    "        if ar[i,j] == \".\":\n",
    "            count = 0\n",
    "            for k in range(i-1,i+2):\n",
    "                for l in range(j-1,j+2):\n",
    "                    if ar[k,l] == \"#\":\n",
    "                        count += 1\n",
    "            syoukei += str(count)\n",
    "        else:\n",
    "            syoukei += \"#\"\n",
    "    answer_list.append(syoukei)\n",
    "\n",
    "for ans in answer_list:\n",
    "    print(ans)"
   ]
  },
  {
   "cell_type": "code",
   "execution_count": null,
   "metadata": {
    "collapsed": true
   },
   "outputs": [],
   "source": [
    "6 6\n",
    "#####.\n",
    "#.#.##\n",
    "####.#\n",
    ".#..#.\n",
    "#.##..\n",
    "#.#..."
   ]
  },
  {
   "cell_type": "code",
   "execution_count": 40,
   "metadata": {},
   "outputs": [],
   "source": [
    "import numpy as np\n",
    "ar = np.array(s_list)\n",
    "ar = np.insert(ar,0,[[\".\"]*w],axis=0)\n",
    "ar = np.insert(ar,h+1,[[\".\"]*w],axis=0)\n",
    "ar = np.insert(ar,0,[[\".\"]*(h+2)],axis=1)\n",
    "ar = np.insert(ar,w+1,[[\".\"]*(h+2)],axis=1)\n",
    "answer_list = []\n",
    "for i in range(1,h+1):\n",
    "    syoukei = \"\"\n",
    "    for j in range(1,w+1):\n",
    "        if ar[i,j] == \".\":\n",
    "            count = 0\n",
    "            for k in range(i-1,i+2):\n",
    "                for l in range(j-1,j+2):\n",
    "                    if ar[k,l] == \"#\":\n",
    "                        count += 1\n",
    "            syoukei += str(count)\n",
    "        else:\n",
    "            syoukei += \"#\"\n",
    "    answer_list.append(syoukei)\n",
    "    "
   ]
  },
  {
   "cell_type": "code",
   "execution_count": 41,
   "metadata": {},
   "outputs": [],
   "source": [
    "ar = np.insert(ar,0,[[\".\"]*w],axis=0)\n",
    "ar = np.insert(ar,h+1,[[\".\"]*w],axis=0)\n",
    "ar = np.insert(ar,0,[[\".\"]*(h+2)],axis=1)\n",
    "ar = np.insert(ar,w+1,[[\".\"]*(h+2)],axis=1)\n",
    "answer_list = []\n",
    "for i in range(1,h+1):\n",
    "    syoukei = \"\"\n",
    "    for j in range(1,w+1):\n",
    "        if ar[i,j] == \".\":\n",
    "            count = 0\n",
    "            for k in range(i-1,i+2):\n",
    "                for l in range(j-1,j+2):\n",
    "                    if ar[k,l] == \"#\":\n",
    "                        count += 1\n",
    "            syoukei += str(count)\n",
    "        else:\n",
    "            syoukei += \"#\"\n",
    "    answer_list.append(syoukei)\n",
    "    "
   ]
  },
  {
   "cell_type": "code",
   "execution_count": 42,
   "metadata": {},
   "outputs": [],
   "source": [
    "ar = np.insert(ar,0,[[\".\"]*(h+2)],axis=1)\n",
    "ar = np.insert(ar,w+1,[[\".\"]*(h+2)],axis=1)\n",
    "answer_list = []\n",
    "for i in range(1,h+1):\n",
    "    syoukei = \"\"\n",
    "    for j in range(1,w+1):\n",
    "        if ar[i,j] == \".\":\n",
    "            count = 0\n",
    "            for k in range(i-1,i+2):\n",
    "                for l in range(j-1,j+2):\n",
    "                    if ar[k,l] == \"#\":\n",
    "                        count += 1\n",
    "            syoukei += str(count)\n",
    "        else:\n",
    "            syoukei += \"#\"\n",
    "    answer_list.append(syoukei)\n",
    "    "
   ]
  },
  {
   "cell_type": "code",
   "execution_count": 43,
   "metadata": {},
   "outputs": [
    {
     "data": {
      "text/plain": [
       "array([['.', '.', '.', '.', '.', '.', '.'],\n",
       "       ['.', '.', '.', '.', '.', '.', '.'],\n",
       "       ['.', '.', '#', '.', '#', '.', '.'],\n",
       "       ['.', '.', '.', '.', '.', '.', '.'],\n",
       "       ['.', '.', '.', '.', '.', '.', '.']], \n",
       "      dtype='<U1')"
      ]
     },
     "execution_count": 43,
     "metadata": {},
     "output_type": "execute_result"
    }
   ],
   "source": [
    "ar"
   ]
  },
  {
   "cell_type": "code",
   "execution_count": 44,
   "metadata": {
    "collapsed": true
   },
   "outputs": [],
   "source": [
    "answer_list = []\n",
    "for i in range(1,h+1):\n",
    "    syoukei = \"\"\n",
    "    for j in range(1,w+1):\n",
    "        if ar[i,j] == \".\":\n",
    "            count = 0\n",
    "            for k in range(i-1,i+2):\n",
    "                for l in range(j-1,j+2):\n",
    "                    if ar[k,l] == \"#\":\n",
    "                        count += 1\n",
    "            syoukei += str(count)\n",
    "        else:\n",
    "            syoukei += \"#\"\n",
    "    answer_list.append(syoukei)\n",
    "    "
   ]
  },
  {
   "cell_type": "code",
   "execution_count": 45,
   "metadata": {},
   "outputs": [
    {
     "data": {
      "text/plain": [
       "[['.', '.', '.', '.', '.'],\n",
       " ['.', '#', '.', '#', '.'],\n",
       " ['.', '.', '.', '.', '.']]"
      ]
     },
     "execution_count": 45,
     "metadata": {},
     "output_type": "execute_result"
    }
   ],
   "source": [
    "s_list"
   ]
  },
  {
   "cell_type": "code",
   "execution_count": 46,
   "metadata": {},
   "outputs": [
    {
     "data": {
      "text/plain": [
       "'.'"
      ]
     },
     "execution_count": 46,
     "metadata": {},
     "output_type": "execute_result"
    }
   ],
   "source": [
    "ar[1,1]"
   ]
  },
  {
   "cell_type": "code",
   "execution_count": 47,
   "metadata": {},
   "outputs": [],
   "source": [
    "for i in range(1,h+1):\n",
    "    syoukei = \"\"\n",
    "    for j in range(1,w+1):\n",
    "        if ar[i,j] == \".\":\n",
    "            count = 0\n",
    "            for k in range(i-1,i+2):\n",
    "                for l in range(j-1,j+2):\n",
    "                    if ar[k,l] == \"#\":\n",
    "                        count += 1\n",
    "            syoukei += str(count)\n",
    "        else:\n",
    "            syoukei += \"#\"\n",
    "    answer_list.append(syoukei)\n",
    "    "
   ]
  },
  {
   "cell_type": "code",
   "execution_count": 48,
   "metadata": {},
   "outputs": [
    {
     "data": {
      "text/plain": [
       "['11211', '1#2#1', '11211']"
      ]
     },
     "execution_count": 48,
     "metadata": {},
     "output_type": "execute_result"
    }
   ],
   "source": [
    "answer_list"
   ]
  },
  {
   "cell_type": "markdown",
   "metadata": {},
   "source": [
    "# C"
   ]
  },
  {
   "cell_type": "code",
   "execution_count": 51,
   "metadata": {},
   "outputs": [
    {
     "name": "stdout",
     "output_type": "stream",
     "text": [
      "7 7\n",
      "1 3\n",
      "2 7\n",
      "3 4\n",
      "4 5\n",
      "4 6\n",
      "5 6\n",
      "6 7\n"
     ]
    }
   ],
   "source": [
    "n,m = input().split()\n",
    "n = int(n)\n",
    "m = int(m)\n",
    "ab_list = []\n",
    "for i in range(m):\n",
    "    a,b = input().split()\n",
    "    a = int(a)\n",
    "    b = int(b)\n",
    "    ab_list.append([a,b])\n"
   ]
  },
  {
   "cell_type": "code",
   "execution_count": 52,
   "metadata": {},
   "outputs": [
    {
     "data": {
      "text/plain": [
       "[[1, 3], [2, 7], [3, 4], [4, 5], [4, 6], [5, 6], [6, 7]]"
      ]
     },
     "execution_count": 52,
     "metadata": {},
     "output_type": "execute_result"
    }
   ],
   "source": [
    "ab_list"
   ]
  },
  {
   "cell_type": "code",
   "execution_count": 53,
   "metadata": {
    "collapsed": true
   },
   "outputs": [],
   "source": [
    "\n",
    "# D"
   ]
  },
  {
   "cell_type": "code",
   "execution_count": 92,
   "metadata": {},
   "outputs": [
    {
     "name": "stdout",
     "output_type": "stream",
     "text": [
      "4 3\n",
      "-1000000000 -1000000000\n",
      "1000000000 1000000000\n",
      "-999999999 999999999\n",
      "999999999 -999999999\n",
      "3999999996000000001\n"
     ]
    }
   ],
   "source": [
    "import numpy as np\n",
    "\n",
    "n,k = input().split()\n",
    "n = int(n)\n",
    "k = int(k)\n",
    "xy_list = []\n",
    "for i in range(n):\n",
    "    x,y = input().split()\n",
    "    x = int(x)\n",
    "    y = int(y)\n",
    "    xy_list.append([x,y])\n",
    "    \n",
    "ar = np.array(xy_list)\n",
    "\n",
    "def menseki_all(ar):\n",
    "    max_x = ar[:,0].max()\n",
    "    min_x = ar[:,0].min()\n",
    "    max_y = ar[:,1].max()\n",
    "    min_y = ar[:,1].min()\n",
    "    return (max_x-min_x)*(max_y-min_y)\n",
    "\n",
    "k_ar = np.ones(len(ar),dtype=bool)\n",
    "while k_ar.sum() > k:\n",
    "    max_x_idx = np.argmax(ar[:,0])\n",
    "    min_x_idx = np.argmin(ar[:,0])\n",
    "    max_y_idx = np.argmax(ar[:,1])\n",
    "    min_y_idx = np.argmin(ar[:,1])\n",
    "    \n",
    "    max_min_xy_idx = [max_x_idx,min_x_idx,max_y_idx,min_y_idx]\n",
    "    menseki_list = []\n",
    "    \n",
    "    for i in max_min_xy_idx:\n",
    "        tmp_k_ar = k_ar.copy()\n",
    "        tmp_k_ar[i] = False\n",
    "        menseki_list.append(menseki_all(ar[tmp_k_ar]))\n",
    "    \n",
    "    ar_menseki = np.array(menseki_list)\n",
    "    delete_idx = max_min_xy_idx[ar_menseki.argmin()]\n",
    "    \n",
    "    ar = np.delete(ar,delete_idx,0)\n",
    "    k_ar = np.ones(len(ar),dtype=bool)\n",
    "\n",
    "print(menseki_all(ar))"
   ]
  },
  {
   "cell_type": "code",
   "execution_count": 117,
   "metadata": {},
   "outputs": [
    {
     "name": "stdout",
     "output_type": "stream",
     "text": [
      "4 3\n",
      "-1000000000 -1000000000\n",
      "1000000000 1000000000\n",
      "-999999999 999999999\n",
      "999999999 -999999999\n",
      "[[-1000000000 -1000000000]\n",
      " [ 1000000000  1000000000]\n",
      " [ -999999999   999999999]\n",
      " [  999999999  -999999999]] [0 2 3 1]\n",
      "3999999996000000001\n"
     ]
    }
   ],
   "source": [
    "import numpy as np\n",
    "\n",
    "n,m = input().split()\n",
    "n = int(n)\n",
    "m = int(m)\n",
    "xy_list = []\n",
    "for i in range(n):\n",
    "    x,y = input().split()\n",
    "    x = int(x)\n",
    "    y = int(y)\n",
    "    xy_list.append([x,y])\n",
    "    \n",
    "ar = np.array(xy_list)\n",
    "\n",
    "def menseki_all(ar):\n",
    "    max_x = ar[:,0].max()\n",
    "    min_x = ar[:,0].min()\n",
    "    max_y = ar[:,1].max()\n",
    "    min_y = ar[:,1].min()\n",
    "    return (max_x-min_x)*(max_y-min_y)\n",
    "\n",
    "menseki = -1\n",
    "for i in range(n-m):\n",
    "    tmp_i_ar = ar.copy()\n",
    "    i_idx = np.argsort(tmp_i_ar[:,0])[:n-i]\n",
    "    print(tmp_i_ar,i_idx)\n",
    "    for j in range(n-m-i):\n",
    "        tmp_j_ar = tmp_i_ar[i_idx].copy()\n",
    "        j_idx = np.argsort(tmp_j_ar[:,1])[:n-i-j]\n",
    "        for k in range(n-m-i-j):\n",
    "            tmp_k_ar = tmp_j_ar[j_idx].copy()\n",
    "            k_idx = np.argsort(tmp_k_ar[:,0])[k:]\n",
    "            l = n-m-i-j-k\n",
    "            tmp_l_ar = tmp_k_ar[k_idx].copy()\n",
    "            l_idx = np.argsort(tmp_l_ar[:,0])[l:]\n",
    "            tmp_ar = tmp_l_ar[l_idx]\n",
    "            tmp_menseki = menseki_all(tmp_ar)\n",
    "            if menseki == -1:\n",
    "                menseki = tmp_menseki\n",
    "            elif menseki > tmp_menseki:\n",
    "                menseki = tmp_menseki\n",
    "if menseki == -1:\n",
    "    menseki = menseki_all(ar)\n",
    "print(menseki)"
   ]
  },
  {
   "cell_type": "code",
   "execution_count": 115,
   "metadata": {},
   "outputs": [
    {
     "data": {
      "text/plain": [
       "[]"
      ]
     },
     "execution_count": 115,
     "metadata": {},
     "output_type": "execute_result"
    }
   ],
   "source": [
    "4 3\n",
    "-1000000000 -1000000000\n",
    "1000000000 1000000000\n",
    "-999999999 999999999\n",
    "999999999 -999999999"
   ]
  },
  {
   "cell_type": "code",
   "execution_count": 100,
   "metadata": {},
   "outputs": [
    {
     "data": {
      "text/plain": [
       "array([0, 1, 2])"
      ]
     },
     "execution_count": 100,
     "metadata": {},
     "output_type": "execute_result"
    }
   ],
   "source": [
    "np.argsort(ar[:,0])"
   ]
  },
  {
   "cell_type": "code",
   "execution_count": 98,
   "metadata": {
    "collapsed": true
   },
   "outputs": [],
   "source": [
    "for i in range(0):\n",
    "    print(\"a\")"
   ]
  },
  {
   "cell_type": "code",
   "execution_count": null,
   "metadata": {
    "collapsed": true
   },
   "outputs": [],
   "source": []
  },
  {
   "cell_type": "code",
   "execution_count": null,
   "metadata": {
    "collapsed": true
   },
   "outputs": [],
   "source": []
  },
  {
   "cell_type": "code",
   "execution_count": null,
   "metadata": {
    "collapsed": true
   },
   "outputs": [],
   "source": [
    "4 3\n",
    "-1000000000 -1000000000\n",
    "1000000000 1000000000\n",
    "-999999999 999999999\n",
    "999999999 -999999999"
   ]
  },
  {
   "cell_type": "code",
   "execution_count": 55,
   "metadata": {},
   "outputs": [
    {
     "data": {
      "text/plain": [
       "[[1, 4], [3, 3], [6, 2], [8, 1]]"
      ]
     },
     "execution_count": 55,
     "metadata": {},
     "output_type": "execute_result"
    }
   ],
   "source": [
    "xy_list"
   ]
  },
  {
   "cell_type": "code",
   "execution_count": 56,
   "metadata": {
    "collapsed": true
   },
   "outputs": [],
   "source": [
    "ar = np.array(xy_list)\n",
    "\n",
    "def menseki_all(ar):\n",
    "    max_x = ar[:,0].max()\n",
    "    min_x = ar[:,0].min()\n",
    "    max_y = ar[:,1].max()\n",
    "    min_y = ar[:,1].min()\n",
    "    return (max_x-min_x)*(max_y-min_y)\n",
    "\n",
    "k_ar = np.ones(len(ar),dtype=bool)\n",
    "while k_ar.sum() <= k:\n",
    "    max_x_idx = np.argmax(ar[:,0])\n",
    "    min_x_idx = np.argmin(ar[:,0])\n",
    "    max_y_idx = np.argmax(ar[:,1])\n",
    "    min_y_idx = np.argmin(ar[:,1])\n",
    "    \n",
    "    max_min_xy_idx = [max_x_idx,min_x_idx,max_y_idx,min_y_idx]\n",
    "    menseki_list = []\n",
    "    \n",
    "    for i in max_min_xy_idx:\n",
    "        tmp_k_ar = k_ar.copy()\n",
    "        tmp_k_ar[i] = False\n",
    "        menseki_list.append(menseki_all(ar[tmp_k_ar]))\n",
    "    \n",
    "    ar_menseki = np.array(menseki_list)\n",
    "    delete_idx = max_min_xy_idx[ar_menseki.argmin()]\n",
    "    \n",
    "    ar = np.delete(ar,delete_idx,0)\n",
    "    k_ar = np.ones(len(ar),dtype=bool)"
   ]
  },
  {
   "cell_type": "code",
   "execution_count": 68,
   "metadata": {},
   "outputs": [],
   "source": [
    "def menseki_all(ar):\n",
    "    max_x = ar[:,0].max()\n",
    "    min_x = ar[:,0].min()\n",
    "    max_y = ar[:,1].max()\n",
    "    min_y = ar[:,1].min()\n",
    "    return (max_x-min_x)*(max_y-min_y)\n",
    "\n",
    "k_ar = np.ones(len(ar),dtype=bool)\n",
    "while k_ar.sum() <= k:\n",
    "    max_x_idx = np.argmax(ar[:,0])\n",
    "    min_x_idx = np.argmin(ar[:,0])\n",
    "    max_y_idx = np.argmax(ar[:,1])\n",
    "    min_y_idx = np.argmin(ar[:,1])\n",
    "    \n",
    "    max_min_xy_idx = [max_x_idx,min_x_idx,max_y_idx,min_y_idx]\n",
    "    menseki_list = []\n",
    "    \n",
    "    for i in max_min_xy_idx:\n",
    "        tmp_k_ar = k_ar.copy()\n",
    "        tmp_k_ar[i] = False\n",
    "        menseki_list.append(menseki_all(ar[tmp_k_ar]))\n",
    "    \n",
    "    ar_menseki = np.array(menseki_list)\n",
    "    delete_idx = max_min_xy_idx[ar_menseki.argmin()]\n",
    "    \n",
    "    ar = np.delete(ar,delete_idx,0)\n",
    "    k_ar = np.ones(len(ar),dtype=bool)"
   ]
  },
  {
   "cell_type": "code",
   "execution_count": 69,
   "metadata": {},
   "outputs": [
    {
     "data": {
      "text/plain": [
       "21"
      ]
     },
     "execution_count": 69,
     "metadata": {},
     "output_type": "execute_result"
    }
   ],
   "source": [
    "menseki_all(ar)"
   ]
  },
  {
   "cell_type": "code",
   "execution_count": 86,
   "metadata": {},
   "outputs": [
    {
     "data": {
      "text/plain": [
       "array([[1, 4]])"
      ]
     },
     "execution_count": 86,
     "metadata": {},
     "output_type": "execute_result"
    }
   ],
   "source": [
    "ar"
   ]
  },
  {
   "cell_type": "code",
   "execution_count": 85,
   "metadata": {},
   "outputs": [
    {
     "ename": "ValueError",
     "evalue": "zero-size array to reduction operation maximum which has no identity",
     "output_type": "error",
     "traceback": [
      "\u001b[0;31m---------------------------------------------------------------------------\u001b[0m",
      "\u001b[0;31mValueError\u001b[0m                                Traceback (most recent call last)",
      "\u001b[0;32m<ipython-input-85-1a792faafd9f>\u001b[0m in \u001b[0;36m<module>\u001b[0;34m()\u001b[0m\n\u001b[1;32m     12\u001b[0m         \u001b[0mtmp_k_ar\u001b[0m \u001b[0;34m=\u001b[0m \u001b[0mk_ar\u001b[0m\u001b[0;34m.\u001b[0m\u001b[0mcopy\u001b[0m\u001b[0;34m(\u001b[0m\u001b[0;34m)\u001b[0m\u001b[0;34m\u001b[0m\u001b[0m\n\u001b[1;32m     13\u001b[0m         \u001b[0mtmp_k_ar\u001b[0m\u001b[0;34m[\u001b[0m\u001b[0mi\u001b[0m\u001b[0;34m]\u001b[0m \u001b[0;34m=\u001b[0m \u001b[0;32mFalse\u001b[0m\u001b[0;34m\u001b[0m\u001b[0m\n\u001b[0;32m---> 14\u001b[0;31m         \u001b[0mmenseki_list\u001b[0m\u001b[0;34m.\u001b[0m\u001b[0mappend\u001b[0m\u001b[0;34m(\u001b[0m\u001b[0mmenseki_all\u001b[0m\u001b[0;34m(\u001b[0m\u001b[0mar\u001b[0m\u001b[0;34m[\u001b[0m\u001b[0mtmp_k_ar\u001b[0m\u001b[0;34m]\u001b[0m\u001b[0;34m)\u001b[0m\u001b[0;34m)\u001b[0m\u001b[0;34m\u001b[0m\u001b[0m\n\u001b[0m\u001b[1;32m     15\u001b[0m \u001b[0;34m\u001b[0m\u001b[0m\n\u001b[1;32m     16\u001b[0m     \u001b[0mar_menseki\u001b[0m \u001b[0;34m=\u001b[0m \u001b[0mnp\u001b[0m\u001b[0;34m.\u001b[0m\u001b[0marray\u001b[0m\u001b[0;34m(\u001b[0m\u001b[0mmenseki_list\u001b[0m\u001b[0;34m)\u001b[0m\u001b[0;34m\u001b[0m\u001b[0m\n",
      "\u001b[0;32m<ipython-input-68-812c5505ddb2>\u001b[0m in \u001b[0;36mmenseki_all\u001b[0;34m(ar)\u001b[0m\n\u001b[1;32m      1\u001b[0m \u001b[0;32mdef\u001b[0m \u001b[0mmenseki_all\u001b[0m\u001b[0;34m(\u001b[0m\u001b[0mar\u001b[0m\u001b[0;34m)\u001b[0m\u001b[0;34m:\u001b[0m\u001b[0;34m\u001b[0m\u001b[0m\n\u001b[0;32m----> 2\u001b[0;31m     \u001b[0mmax_x\u001b[0m \u001b[0;34m=\u001b[0m \u001b[0mar\u001b[0m\u001b[0;34m[\u001b[0m\u001b[0;34m:\u001b[0m\u001b[0;34m,\u001b[0m\u001b[0;36m0\u001b[0m\u001b[0;34m]\u001b[0m\u001b[0;34m.\u001b[0m\u001b[0mmax\u001b[0m\u001b[0;34m(\u001b[0m\u001b[0;34m)\u001b[0m\u001b[0;34m\u001b[0m\u001b[0m\n\u001b[0m\u001b[1;32m      3\u001b[0m     \u001b[0mmin_x\u001b[0m \u001b[0;34m=\u001b[0m \u001b[0mar\u001b[0m\u001b[0;34m[\u001b[0m\u001b[0;34m:\u001b[0m\u001b[0;34m,\u001b[0m\u001b[0;36m0\u001b[0m\u001b[0;34m]\u001b[0m\u001b[0;34m.\u001b[0m\u001b[0mmin\u001b[0m\u001b[0;34m(\u001b[0m\u001b[0;34m)\u001b[0m\u001b[0;34m\u001b[0m\u001b[0m\n\u001b[1;32m      4\u001b[0m     \u001b[0mmax_y\u001b[0m \u001b[0;34m=\u001b[0m \u001b[0mar\u001b[0m\u001b[0;34m[\u001b[0m\u001b[0;34m:\u001b[0m\u001b[0;34m,\u001b[0m\u001b[0;36m1\u001b[0m\u001b[0;34m]\u001b[0m\u001b[0;34m.\u001b[0m\u001b[0mmax\u001b[0m\u001b[0;34m(\u001b[0m\u001b[0;34m)\u001b[0m\u001b[0;34m\u001b[0m\u001b[0m\n\u001b[1;32m      5\u001b[0m     \u001b[0mmin_y\u001b[0m \u001b[0;34m=\u001b[0m \u001b[0mar\u001b[0m\u001b[0;34m[\u001b[0m\u001b[0;34m:\u001b[0m\u001b[0;34m,\u001b[0m\u001b[0;36m1\u001b[0m\u001b[0;34m]\u001b[0m\u001b[0;34m.\u001b[0m\u001b[0mmin\u001b[0m\u001b[0;34m(\u001b[0m\u001b[0;34m)\u001b[0m\u001b[0;34m\u001b[0m\u001b[0m\n",
      "\u001b[0;32m/Users/takizawa/dev/python/atcoder/lib/python3.6/site-packages/numpy/core/_methods.py\u001b[0m in \u001b[0;36m_amax\u001b[0;34m(a, axis, out, keepdims)\u001b[0m\n\u001b[1;32m     24\u001b[0m \u001b[0;31m# small reductions\u001b[0m\u001b[0;34m\u001b[0m\u001b[0;34m\u001b[0m\u001b[0m\n\u001b[1;32m     25\u001b[0m \u001b[0;32mdef\u001b[0m \u001b[0m_amax\u001b[0m\u001b[0;34m(\u001b[0m\u001b[0ma\u001b[0m\u001b[0;34m,\u001b[0m \u001b[0maxis\u001b[0m\u001b[0;34m=\u001b[0m\u001b[0;32mNone\u001b[0m\u001b[0;34m,\u001b[0m \u001b[0mout\u001b[0m\u001b[0;34m=\u001b[0m\u001b[0;32mNone\u001b[0m\u001b[0;34m,\u001b[0m \u001b[0mkeepdims\u001b[0m\u001b[0;34m=\u001b[0m\u001b[0;32mFalse\u001b[0m\u001b[0;34m)\u001b[0m\u001b[0;34m:\u001b[0m\u001b[0;34m\u001b[0m\u001b[0m\n\u001b[0;32m---> 26\u001b[0;31m     \u001b[0;32mreturn\u001b[0m \u001b[0mumr_maximum\u001b[0m\u001b[0;34m(\u001b[0m\u001b[0ma\u001b[0m\u001b[0;34m,\u001b[0m \u001b[0maxis\u001b[0m\u001b[0;34m,\u001b[0m \u001b[0;32mNone\u001b[0m\u001b[0;34m,\u001b[0m \u001b[0mout\u001b[0m\u001b[0;34m,\u001b[0m \u001b[0mkeepdims\u001b[0m\u001b[0;34m)\u001b[0m\u001b[0;34m\u001b[0m\u001b[0m\n\u001b[0m\u001b[1;32m     27\u001b[0m \u001b[0;34m\u001b[0m\u001b[0m\n\u001b[1;32m     28\u001b[0m \u001b[0;32mdef\u001b[0m \u001b[0m_amin\u001b[0m\u001b[0;34m(\u001b[0m\u001b[0ma\u001b[0m\u001b[0;34m,\u001b[0m \u001b[0maxis\u001b[0m\u001b[0;34m=\u001b[0m\u001b[0;32mNone\u001b[0m\u001b[0;34m,\u001b[0m \u001b[0mout\u001b[0m\u001b[0;34m=\u001b[0m\u001b[0;32mNone\u001b[0m\u001b[0;34m,\u001b[0m \u001b[0mkeepdims\u001b[0m\u001b[0;34m=\u001b[0m\u001b[0;32mFalse\u001b[0m\u001b[0;34m)\u001b[0m\u001b[0;34m:\u001b[0m\u001b[0;34m\u001b[0m\u001b[0m\n",
      "\u001b[0;31mValueError\u001b[0m: zero-size array to reduction operation maximum which has no identity"
     ]
    }
   ],
   "source": [
    "k_ar = np.ones(len(ar),dtype=bool)\n",
    "while k_ar.sum() <= k:\n",
    "    max_x_idx = np.argmax(ar[:,0])\n",
    "    min_x_idx = np.argmin(ar[:,0])\n",
    "    max_y_idx = np.argmax(ar[:,1])\n",
    "    min_y_idx = np.argmin(ar[:,1])\n",
    "    \n",
    "    max_min_xy_idx = [max_x_idx,min_x_idx,max_y_idx,min_y_idx]\n",
    "    menseki_list = []\n",
    "    \n",
    "    for i in max_min_xy_idx:\n",
    "        tmp_k_ar = k_ar.copy()\n",
    "        tmp_k_ar[i] = False\n",
    "        menseki_list.append(menseki_all(ar[tmp_k_ar]))\n",
    "    \n",
    "    ar_menseki = np.array(menseki_list)\n",
    "    delete_idx = max_min_xy_idx[ar_menseki.argmin()]\n",
    "    \n",
    "    ar = np.delete(ar,delete_idx,0)\n",
    "    k_ar = np.ones(len(ar),dtype=bool)"
   ]
  },
  {
   "cell_type": "code",
   "execution_count": null,
   "metadata": {
    "collapsed": true
   },
   "outputs": [],
   "source": [
    "menseki_all(ar)"
   ]
  },
  {
   "cell_type": "code",
   "execution_count": 71,
   "metadata": {
    "collapsed": true
   },
   "outputs": [],
   "source": [
    "min_x_idx = np.argmin(ar[:,0])"
   ]
  },
  {
   "cell_type": "code",
   "execution_count": 76,
   "metadata": {},
   "outputs": [],
   "source": [
    "k_ar = np.ones(len(ar),dtype=bool)"
   ]
  },
  {
   "cell_type": "code",
   "execution_count": 80,
   "metadata": {},
   "outputs": [
    {
     "data": {
      "text/plain": [
       "3"
      ]
     },
     "execution_count": 80,
     "metadata": {},
     "output_type": "execute_result"
    }
   ],
   "source": [
    "k_ar.sum()"
   ]
  },
  {
   "cell_type": "code",
   "execution_count": 79,
   "metadata": {
    "collapsed": true
   },
   "outputs": [],
   "source": [
    "k_ar[2]=False"
   ]
  },
  {
   "cell_type": "code",
   "execution_count": 81,
   "metadata": {},
   "outputs": [
    {
     "data": {
      "text/plain": [
       "array([ True,  True, False,  True], dtype=bool)"
      ]
     },
     "execution_count": 81,
     "metadata": {},
     "output_type": "execute_result"
    }
   ],
   "source": [
    "k_ar\n"
   ]
  },
  {
   "cell_type": "code",
   "execution_count": 84,
   "metadata": {},
   "outputs": [
    {
     "data": {
      "text/plain": [
       "2"
      ]
     },
     "execution_count": 84,
     "metadata": {},
     "output_type": "execute_result"
    }
   ],
   "source": [
    "np.argmax(ar[k_ar][:,0])"
   ]
  },
  {
   "cell_type": "code",
   "execution_count": null,
   "metadata": {
    "collapsed": true
   },
   "outputs": [],
   "source": []
  }
 ],
 "metadata": {
  "kernelspec": {
   "display_name": "Python 3",
   "language": "python",
   "name": "python3"
  },
  "language_info": {
   "codemirror_mode": {
    "name": "ipython",
    "version": 3
   },
   "file_extension": ".py",
   "mimetype": "text/x-python",
   "name": "python",
   "nbconvert_exporter": "python",
   "pygments_lexer": "ipython3",
   "version": "3.6.3"
  }
 },
 "nbformat": 4,
 "nbformat_minor": 2
}
