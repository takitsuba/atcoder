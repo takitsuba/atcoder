{
 "cells": [
  {
   "cell_type": "markdown",
   "metadata": {},
   "source": [
    "# A"
   ]
  },
  {
   "cell_type": "code",
   "execution_count": 4,
   "metadata": {},
   "outputs": [
    {
     "name": "stdout",
     "output_type": "stream",
     "text": [
      "10\n",
      "0\n",
      "100\n"
     ]
    }
   ],
   "source": [
    "n = input()\n",
    "a = input()\n",
    "n = int(n)\n",
    "a = int(a)\n",
    "\n",
    "print(n**2-a)"
   ]
  },
  {
   "cell_type": "markdown",
   "metadata": {},
   "source": [
    "# B"
   ]
  },
  {
   "cell_type": "code",
   "execution_count": 8,
   "metadata": {},
   "outputs": [
    {
     "name": "stdout",
     "output_type": "stream",
     "text": [
      "5\n",
      "20\n",
      "11 12 9 17 12\n",
      "74\n"
     ]
    }
   ],
   "source": [
    "n = int(input())\n",
    "k = int(input())\n",
    "x_list = input().split()\n",
    "x_list = [int(x) for x in x_list]\n",
    "\n",
    "goukei = 0\n",
    "for x in x_list:\n",
    "    if abs(0-x) > abs(k-x):\n",
    "        goukei += 2*abs(k-x)\n",
    "    else:\n",
    "        goukei += 2*abs(x)\n",
    "\n",
    "print(goukei)"
   ]
  },
  {
   "cell_type": "markdown",
   "metadata": {},
   "source": [
    "# C"
   ]
  },
  {
   "cell_type": "code",
   "execution_count": 37,
   "metadata": {
    "scrolled": false
   },
   "outputs": [
    {
     "name": "stdout",
     "output_type": "stream",
     "text": [
      "1 2 1000 10000 10 100\n",
      "100 0\n"
     ]
    }
   ],
   "source": [
    "x_list = input().split()\n",
    "a = 100*int(x_list[0])\n",
    "b = 100*int(x_list[1])\n",
    "c = int(x_list[2])\n",
    "d = int(x_list[3])\n",
    "e = int(x_list[4])\n",
    "f = int(x_list[5])\n",
    "\n",
    "max_sato = e*f/100//1\n",
    "max_mizu = f\n",
    "\n",
    "def all_pattern(a,b,c):\n",
    "    max_a = int(c//a)\n",
    "    all_list = []\n",
    "    for i in range(max_a+1):\n",
    "        goukei = 0\n",
    "        goukei += a*i\n",
    "        j = 0\n",
    "        while goukei <= c:\n",
    "            if not goukei in all_list:\n",
    "                all_list.append(goukei)\n",
    "            goukei += b\n",
    "    return all_list\n",
    "\n",
    "mizu_pattern = all_pattern(a,b,max_mizu)\n",
    "sato_pattern = all_pattern(c,d,max_sato)\n",
    "\n",
    "satosui_situryo = 0\n",
    "sato_situryo = 0\n",
    "max_noudo = 0\n",
    "\n",
    "for mizu in mizu_pattern:\n",
    "    for sato in sato_pattern:\n",
    "#         print(sato,mizu)\n",
    "        if sato + mizu > 0:\n",
    "            tmp_noudo = sato/(sato+mizu)*100\n",
    "#             print(tmp_noudo)\n",
    "            if max_noudo < tmp_noudo and tmp_noudo <= e/(100+e)*100 and mizu+sato <= f:\n",
    "                max_noudo = tmp_noudo\n",
    "                satosui_situryo = mizu + sato\n",
    "                sato_situryo = sato\n",
    "#                 print(\"a:\",max_noudo,satosui_situryo,sato_situryo)\n",
    "\n",
    "if satosui_situryo == 0:\n",
    "    satosui_situryo += a\n",
    "\n",
    "print(satosui_situryo,sato_situryo)\n",
    "        \n",
    "            \n",
    "        "
   ]
  },
  {
   "cell_type": "code",
   "execution_count": 11,
   "metadata": {},
   "outputs": [],
   "source": [
    "def all_pattern(a,b,c):\n",
    "    max_a = c//a\n",
    "    all_list = []\n",
    "    for i in range(max_a+1):\n",
    "        goukei = 0\n",
    "        goukei += a*i\n",
    "        j = 0\n",
    "        while goukei <= c:\n",
    "            if not goukei in all_list:\n",
    "                all_list.append(goukei)\n",
    "            goukei += b\n",
    "    return all_list"
   ]
  },
  {
   "cell_type": "code",
   "execution_count": 12,
   "metadata": {},
   "outputs": [
    {
     "data": {
      "text/plain": [
       "[0, 3, 6, 9, 2, 5, 8, 4, 7, 10]"
      ]
     },
     "execution_count": 12,
     "metadata": {},
     "output_type": "execute_result"
    }
   ],
   "source": [
    "all_pattern(2,3,10)"
   ]
  },
  {
   "cell_type": "code",
   "execution_count": 14,
   "metadata": {},
   "outputs": [
    {
     "data": {
      "text/plain": [
       "3.0"
      ]
     },
     "execution_count": 14,
     "metadata": {},
     "output_type": "execute_result"
    }
   ],
   "source": [
    "3.6//1"
   ]
  },
  {
   "cell_type": "markdown",
   "metadata": {},
   "source": [
    "# D"
   ]
  },
  {
   "cell_type": "code",
   "execution_count": 60,
   "metadata": {},
   "outputs": [
    {
     "name": "stdout",
     "output_type": "stream",
     "text": [
      "3\n",
      "0 1000000000 1000000000\n",
      "1000000000 0 1000000000\n",
      "1000000000 1000000000 0\n",
      "3000000000\n"
     ]
    }
   ],
   "source": [
    "import numpy as np\n",
    "\n",
    "n = int(input())\n",
    "a_all = []\n",
    "for i in range(n):\n",
    "    a_list = input().split()\n",
    "    a_list = [int(a) for a in a_list]\n",
    "    a_all.append(a_list)\n",
    "\n",
    "a_array = np.array(a_all)\n",
    "# for i in range(n):\n",
    "#     a_array[i][:i] = 0\n",
    "\n",
    "a_goukeiyou = np.copy(a_array)\n",
    "    \n",
    "huseiritsu = 0\n",
    "for i in range(n-2):\n",
    "    for j in range(i+1,n-1):\n",
    "        for k in range(j+1,n):\n",
    "            hen1 = a_array[i][j]\n",
    "            hen2 = a_array[j][k]\n",
    "            hen3 = a_array[i][k]\n",
    "            if hen1 <= hen2 + hen3 and hen2 <= hen1+hen3 and hen3 <= hen1 + hen2:\n",
    "                if hen1 == hen2 + hen3:\n",
    "                    a_goukeiyou[i][j]=0\n",
    "                    a_goukeiyou[j][i]=0\n",
    "                elif hen2 == hen3 + hen1:\n",
    "                    a_goukeiyou[j][k]=0\n",
    "                    a_goukeiyou[k][j]=0\n",
    "                elif hen3 == hen1 + hen2:\n",
    "                    a_goukeiyou[i][k]=0\n",
    "                    a_goukeiyou[k][i]=0\n",
    "            else:\n",
    "                huseiritsu = 1\n",
    "                break\n",
    "        if huseiritsu ==1:\n",
    "            break\n",
    "    if huseiritsu == 1:\n",
    "        break\n",
    "\n",
    "if huseiritsu == 1:\n",
    "    print(\"-1\")\n",
    "else:\n",
    "    print(a_goukeiyou.sum()/2)\n",
    "                \n",
    "                    "
   ]
  },
  {
   "cell_type": "code",
   "execution_count": 56,
   "metadata": {},
   "outputs": [
    {
     "data": {
      "text/plain": [
       "array([[0, 1, 0],\n",
       "       [0, 0, 2],\n",
       "       [0, 0, 0]])"
      ]
     },
     "execution_count": 56,
     "metadata": {},
     "output_type": "execute_result"
    }
   ],
   "source": [
    "3\n",
    "0 1000000000 1000000000\n",
    "1000000000 0 1000000000\n",
    "1000000000 1000000000 0"
   ]
  },
  {
   "cell_type": "code",
   "execution_count": 57,
   "metadata": {},
   "outputs": [
    {
     "data": {
      "text/plain": [
       "array([[0, 1, 3],\n",
       "       [0, 0, 2],\n",
       "       [0, 0, 0]])"
      ]
     },
     "execution_count": 57,
     "metadata": {},
     "output_type": "execute_result"
    }
   ],
   "source": [
    "a_array"
   ]
  },
  {
   "cell_type": "code",
   "execution_count": 53,
   "metadata": {},
   "outputs": [
    {
     "name": "stdout",
     "output_type": "stream",
     "text": [
      "0\n"
     ]
    }
   ],
   "source": [
    "for i in range(1):\n",
    "    print(i)"
   ]
  },
  {
   "cell_type": "code",
   "execution_count": 48,
   "metadata": {},
   "outputs": [
    {
     "data": {
      "text/plain": [
       "array([[0, 1, 3],\n",
       "       [0, 0, 2],\n",
       "       [0, 0, 0]])"
      ]
     },
     "execution_count": 48,
     "metadata": {},
     "output_type": "execute_result"
    }
   ],
   "source": [
    "a_array"
   ]
  },
  {
   "cell_type": "code",
   "execution_count": 40,
   "metadata": {},
   "outputs": [
    {
     "data": {
      "text/plain": [
       "range(2, 4)"
      ]
     },
     "execution_count": 40,
     "metadata": {},
     "output_type": "execute_result"
    }
   ],
   "source": [
    "range(2,4)"
   ]
  },
  {
   "cell_type": "code",
   "execution_count": 61,
   "metadata": {},
   "outputs": [
    {
     "name": "stdout",
     "output_type": "stream",
     "text": [
      "0 0\n",
      "0 1\n",
      "0 2\n",
      "0 3\n",
      "0 4\n",
      "0 5\n",
      "1 0\n",
      "1 1\n",
      "1 2\n",
      "1 3\n",
      "1 4\n",
      "1 5\n",
      "2 0\n",
      "2 1\n",
      "2 2\n",
      "2 3\n",
      "2 4\n",
      "2 5\n",
      "3 0\n",
      "3 1\n",
      "3 2\n",
      "3 3\n",
      "3 4\n",
      "3 5\n",
      "4 0\n",
      "4 1\n",
      "4 2\n",
      "4 3\n",
      "4 4\n",
      "4 5\n",
      "5 0\n",
      "5 1\n",
      "5 2\n",
      "5 3\n",
      "5 4\n",
      "5 5\n",
      "6 0\n",
      "6 1\n",
      "6 2\n",
      "6 3\n",
      "6 4\n",
      "6 5\n",
      "7 0\n",
      "7 1\n",
      "7 2\n",
      "7 3\n",
      "7 4\n",
      "7 5\n",
      "8 0\n",
      "8 1\n",
      "8 2\n",
      "8 3\n",
      "8 4\n",
      "8 5\n",
      "9 0\n",
      "9 1\n",
      "9 2\n",
      "9 3\n",
      "9 4\n",
      "9 5\n"
     ]
    }
   ],
   "source": [
    "for i in range(10):\n",
    "    for j in range(10):\n",
    "        print(i,j)\n",
    "        if j == 5:\n",
    "            break"
   ]
  },
  {
   "cell_type": "code",
   "execution_count": 63,
   "metadata": {},
   "outputs": [
    {
     "data": {
      "text/plain": [
       "1000000000"
      ]
     },
     "execution_count": 63,
     "metadata": {},
     "output_type": "execute_result"
    }
   ],
   "source": [
    "a_array[1][2]"
   ]
  },
  {
   "cell_type": "code",
   "execution_count": null,
   "metadata": {
    "collapsed": true
   },
   "outputs": [],
   "source": []
  }
 ],
 "metadata": {
  "kernelspec": {
   "display_name": "Python 3",
   "language": "python",
   "name": "python3"
  },
  "language_info": {
   "codemirror_mode": {
    "name": "ipython",
    "version": 3
   },
   "file_extension": ".py",
   "mimetype": "text/x-python",
   "name": "python",
   "nbconvert_exporter": "python",
   "pygments_lexer": "ipython3",
   "version": "3.6.0"
  }
 },
 "nbformat": 4,
 "nbformat_minor": 2
}
