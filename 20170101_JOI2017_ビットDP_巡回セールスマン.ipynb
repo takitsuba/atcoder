{
 "cells": [
  {
   "cell_type": "markdown",
   "metadata": {},
   "source": [
    "# D"
   ]
  },
  {
   "cell_type": "code",
   "execution_count": 2,
   "metadata": {},
   "outputs": [
    {
     "data": {
      "application/vnd.jupyter.widget-view+json": {
       "model_id": "a1b5a50f3bc74c899ee9981e24963f55",
       "version_major": 2,
       "version_minor": 0
      },
      "text/plain": [
       "Textarea(value='')"
      ]
     },
     "metadata": {},
     "output_type": "display_data"
    }
   ],
   "source": [
    "from ipywidgets import Textarea\n",
    "import io\n",
    "\n",
    "if 'open' in globals():\n",
    "    del open\n",
    "if 'input' in globals():\n",
    "    del input\n",
    "\n",
    "original_open = open\n",
    "\n",
    "class custom_open():\n",
    "    def __init__(self):\n",
    "        self.text = ''\n",
    "\n",
    "    def __call__(self, file, *args, **kwargs):\n",
    "        if file == 0:\n",
    "            return io.StringIO(self.text)\n",
    "        return original_open(file, *args, **kwargs)\n",
    "\n",
    "    def updater(self, change):\n",
    "        self.text = change['new']\n",
    "\n",
    "class custom_input():\n",
    "    def __init__(self):\n",
    "        self.__sio = io.StringIO('')\n",
    "        self.shell = get_ipython()\n",
    "        if self.shell.events.callbacks['pre_run_cell'] != []:\n",
    "            self.shell.events.callbacks['pre_run_cell'] = []\n",
    "        self.shell.events.register('pre_run_cell', self.pre_run_cell)\n",
    "\n",
    "    def __call__(self):\n",
    "        return self.__sio.readline().strip()\n",
    "\n",
    "    def pre_run_cell(self, info):\n",
    "        text = self.shell.user_ns.get('text_area', None).value\n",
    "        self.__sio = io.StringIO(text)\n",
    "\n",
    "open = custom_open()\n",
    "input = custom_input()\n",
    "\n",
    "text_area = Textarea()\n",
    "text_area.observe(open.updater, names='value')\n",
    "display(text_area)"
   ]
  },
  {
   "cell_type": "code",
   "execution_count": null,
   "metadata": {},
   "outputs": [],
   "source": [
    "1111とやったときのコストを保存\n",
    "1111の次に222とやった時のコストを保存（残りが3、4、5の時の最小のコスト）\n",
    "\n",
    "逆に考えると\n",
    "（1、2、3、4）で最後に4がきた時、そのコストは\n",
    "（1、2、3）で最後に3がきた時、そのコストの最小は、"
   ]
  },
  {
   "cell_type": "code",
   "execution_count": null,
   "metadata": {},
   "outputs": [],
   "source": [
    "1\n",
    "2 \n",
    "3 \n",
    "4 5\n",
    "5 4"
   ]
  },
  {
   "cell_type": "code",
   "execution_count": 102,
   "metadata": {},
   "outputs": [],
   "source": [
    "# てんでダメ\n",
    "N, M = map(int,input().split())\n",
    "m_list = [int(input()) for _ in range(N)]\n",
    "\n",
    "from collections import Counter\n",
    "\n",
    "m_cnt = Counter(m_list)\n",
    "\n",
    "dp = [[-1] * N for i in range(1<<N)]\n",
    "\n",
    "dp_cost = [[-1]*(N+1) for _ in range(M+1)]\n",
    "\n",
    "def place_cost(right_idx,spec, dp_cost):\n",
    "    if dp_cost[spec][right_idx]>0:\n",
    "        return dp_cost[spec][right_idx]\n",
    "    cnt = 0\n",
    "    for i in range(right_idx-m_cnt[spec],right_idx):\n",
    "        if m_list[i] != spec:\n",
    "            cnt += 1\n",
    "    \n",
    "    dp_cost[spec][right_idx] = cnt\n",
    "    \n",
    "    return dp_cost\n",
    "\n",
    "#訪れた集合がs、今いる点がvの時０に戻る最短経路\n",
    "def rec(s,v,dp,right_idx,dp_cost):\n",
    "    if dp[s][v] >= 0:\n",
    "        return dp[s][v]\n",
    "        \n",
    "    if s == (1<<N)-1 and v == 0:\n",
    "        #全ての頂点を訪れた(s = 11...11 and v = 0)\n",
    "        dp[s][v] = 0\n",
    "        return 0\n",
    "    \n",
    "    res = float(\"inf\")\n",
    "    # nは頂点の数。\n",
    "    # 全ての頂点について試している。もしその頂点が到達済みならif文で飛ばされる。\n",
    "    for u in range(1,M+1):\n",
    "        # sを頂点の番号回数右シフトしている。\n",
    "        # そのため、右シフト終了後の1の位にはその頂点が来訪済みであれば1、してなければ0になる。\n",
    "        # 積集合を取れば、到達済みの場合は1,してなければ0が帰る。\n",
    "        if (s>>u&1) == 0:\n",
    "            #uに訪れていない時(uの箇所が0の時),次はuとすると\n",
    "            # 1<<uで頂点uだけフラグが立ったような数字になる。\n",
    "            # それをsと和集合とる。そうするとsにuが追加された訪問済みの頂点集合になる。\n",
    "            # recの返り値とv→uの距離を足す。\n",
    "            dp_cost = place_cost(right_idx,u,dp_cost)\n",
    "            res = min(res,rec(s|(1<<u),u,dp,right_idx+m_cnt[u],dp_cost)+dp_cost[u][right_idx])\n",
    "            \n",
    "    dp[s][v] = res\n",
    "    return res\n",
    "\n",
    "print(rec(0,0,dp,0,dp_cost))"
   ]
  },
  {
   "cell_type": "markdown",
   "metadata": {},
   "source": [
    "### 見かけた解答例1"
   ]
  },
  {
   "cell_type": "code",
   "execution_count": 16,
   "metadata": {},
   "outputs": [],
   "source": [
    "from collections import Counter\n",
    "N,M = map(int,input().split())\n",
    "A = [int(input()) for i in range(N)]\n",
    "counter = Counter(A)"
   ]
  },
  {
   "cell_type": "code",
   "execution_count": 17,
   "metadata": {},
   "outputs": [
    {
     "data": {
      "text/plain": [
       "Counter({1: 4, 3: 3, 2: 3, 4: 2})"
      ]
     },
     "execution_count": 17,
     "metadata": {},
     "output_type": "execute_result"
    }
   ],
   "source": [
    "counter"
   ]
  },
  {
   "cell_type": "code",
   "execution_count": 5,
   "metadata": {},
   "outputs": [
    {
     "data": {
      "text/plain": [
       "[1, 3, 2, 4, 2, 1, 2, 3, 1, 1, 3, 4]"
      ]
     },
     "execution_count": 5,
     "metadata": {},
     "output_type": "execute_result"
    }
   ],
   "source": [
    "A"
   ]
  },
  {
   "cell_type": "code",
   "execution_count": 10,
   "metadata": {},
   "outputs": [],
   "source": [
    "# 累積和\n",
    "cums = [[0 for _ in range(N+1)] for _ in range(M+1)]\n",
    "\n",
    "for m in range(1,M+1):\n",
    "    for i,a in enumerate(A):\n",
    "        if m == a:\n",
    "            cums[m][i+1] = cums[m][i]+1\n",
    "        else:\n",
    "            cums[m][i+1] = cums[m][i]\n",
    "\n",
    "# for a in A:\n",
    "#     for i in range(M):\n",
    "#         cums[i].append(cums[i][-1] + int(i+1!=a))"
   ]
  },
  {
   "cell_type": "code",
   "execution_count": 12,
   "metadata": {},
   "outputs": [
    {
     "data": {
      "text/plain": [
       "[[0, 0, 0, 0, 0, 0, 0, 0, 0, 0, 0, 0, 0],\n",
       " [0, 1, 1, 1, 1, 1, 2, 2, 2, 3, 4, 4, 4],\n",
       " [0, 0, 0, 1, 1, 2, 2, 3, 3, 3, 3, 3, 3],\n",
       " [0, 0, 1, 1, 1, 1, 1, 1, 2, 2, 2, 3, 3],\n",
       " [0, 0, 0, 0, 1, 1, 1, 1, 1, 1, 1, 1, 2]]"
      ]
     },
     "execution_count": 12,
     "metadata": {},
     "output_type": "execute_result"
    }
   ],
   "source": [
    "cums"
   ]
  },
  {
   "cell_type": "code",
   "execution_count": null,
   "metadata": {},
   "outputs": [],
   "source": [
    "def pick"
   ]
  },
  {
   "cell_type": "code",
   "execution_count": 13,
   "metadata": {},
   "outputs": [],
   "source": [
    "dp = [N] * (1<<M)\n",
    "dp[0] = 0\n",
    "toys = [None] * (1<<M)\n",
    "toys[0] = 0"
   ]
  },
  {
   "cell_type": "code",
   "execution_count": 14,
   "metadata": {},
   "outputs": [
    {
     "data": {
      "text/plain": [
       "[0, 12, 12, 12, 12, 12, 12, 12, 12, 12, 12, 12, 12, 12, 12, 12]"
      ]
     },
     "execution_count": 14,
     "metadata": {},
     "output_type": "execute_result"
    }
   ],
   "source": [
    "dp"
   ]
  },
  {
   "cell_type": "code",
   "execution_count": 15,
   "metadata": {},
   "outputs": [
    {
     "data": {
      "text/plain": [
       "[0,\n",
       " None,\n",
       " None,\n",
       " None,\n",
       " None,\n",
       " None,\n",
       " None,\n",
       " None,\n",
       " None,\n",
       " None,\n",
       " None,\n",
       " None,\n",
       " None,\n",
       " None,\n",
       " None,\n",
       " None]"
      ]
     },
     "execution_count": 15,
     "metadata": {},
     "output_type": "execute_result"
    }
   ],
   "source": [
    "toys"
   ]
  },
  {
   "cell_type": "code",
   "execution_count": null,
   "metadata": {},
   "outputs": [],
   "source": [
    "for b in range(1,1<<M):\n",
    "    for k in range(M):\n",
    "        if b&(1<<k):\n",
    "            pb = b^(1<<k)\n",
    "            if toys[b] is None:\n",
    "                toys[b] = toys[pb] + counter[k+1]\n",
    "            s = toys[pb]\n",
    "            dp[b] = min(dp[b], dp[pb] + cums[k][s+counter[k+1]] - cums[k][s])\n",
    "        elif (1<<k) > b:\n",
    "            break            "
   ]
  },
  {
   "cell_type": "code",
   "execution_count": 101,
   "metadata": {},
   "outputs": [
    {
     "data": {
      "text/plain": [
       "[[-1, -1, -1, -1, -1, -1, -1, -1, -1, -1, -1, -1, -1],\n",
       " [2, -1, 3, 3, -1, 4, 3, -1, 3, -1, -1, -1, -1],\n",
       " [3, -1, 3, 2, 2, 1, 2, 1, -1, 2, -1, -1, 3],\n",
       " [2, -1, 2, 2, 2, 3, 3, 3, -1, 2, -1, -1, -1],\n",
       " [1, -1, -1, 2, 1, -1, 2, 2, -1, -1, 2, -1, -1]]"
      ]
     },
     "execution_count": 101,
     "metadata": {},
     "output_type": "execute_result"
    }
   ],
   "source": [
    "print(dp[-1])"
   ]
  },
  {
   "cell_type": "markdown",
   "metadata": {},
   "source": [
    "### 見かけた解答例2\n",
    "https://atcoder.jp/contests/joi2017yo/submissions/3071033"
   ]
  },
  {
   "cell_type": "code",
   "execution_count": 19,
   "metadata": {},
   "outputs": [],
   "source": [
    "N, M = map(int, input().split())\n",
    "# 累積和\n",
    "sum_d = [[0] for _ in range(M)]\n",
    "for _ in range(N):\n",
    "    #人形の種類は1~Mのため、-1して0〜M-1にしている。\n",
    "    x = int(input()) - 1\n",
    "    for i in range(M):\n",
    "        sum_d[i].append(sum_d[i][-1] + int(x == i))"
   ]
  },
  {
   "cell_type": "code",
   "execution_count": 20,
   "metadata": {},
   "outputs": [
    {
     "data": {
      "text/plain": [
       "[[0, 1, 1, 1, 1, 1, 2, 2, 2, 3, 4, 4, 4],\n",
       " [0, 0, 0, 1, 1, 2, 2, 3, 3, 3, 3, 3, 3],\n",
       " [0, 0, 1, 1, 1, 1, 1, 1, 2, 2, 2, 3, 3],\n",
       " [0, 0, 0, 0, 1, 1, 1, 1, 1, 1, 1, 1, 2]]"
      ]
     },
     "execution_count": 20,
     "metadata": {},
     "output_type": "execute_result"
    }
   ],
   "source": [
    "sum_d"
   ]
  },
  {
   "cell_type": "code",
   "execution_count": 18,
   "metadata": {},
   "outputs": [
    {
     "name": "stdout",
     "output_type": "stream",
     "text": [
      "7\n"
     ]
    }
   ],
   "source": [
    "inf = 10 ** 9\n",
    "# dp[msk]: 取り出す個数の最小値\n",
    "dp = [inf] * (1 << M)\n",
    "dp[0] = 0\n",
    "for msk in range(1 << M):\n",
    "    # 置くべき範囲を求める\n",
    "    l = 0\n",
    "    for i in range(M):\n",
    "        if msk & 1 << i:\n",
    "            l += sum_d[i][-1]\n",
    "    for j in range(M):\n",
    "        if msk & 1 << j:\n",
    "            continue\n",
    "        r = l + sum_d[j][-1]\n",
    "        # 違うぬいぐるみの数\n",
    "        total = sum_d[j][-1] - (sum_d[j][r] - sum_d[j][l])\n",
    "        dp[msk | 1 << j] = min(dp[msk | 1 << j], dp[msk] + total)\n",
    "\n",
    "print(dp[-1])"
   ]
  },
  {
   "cell_type": "markdown",
   "metadata": {},
   "source": [
    "# アリ本巡回セールスマン問題"
   ]
  },
  {
   "cell_type": "code",
   "execution_count": 5,
   "metadata": {},
   "outputs": [],
   "source": [
    "n,w = map(int,input().split())\n",
    "\n",
    "#d[i][j]:i→jへの距離\n",
    "d = [[float(\"inf\")]*n for i in range(n)]\n",
    "for i in range(w):\n",
    "    x,y,z = map(int,input().split())\n",
    "    d[x][y] = z "
   ]
  },
  {
   "cell_type": "code",
   "execution_count": 6,
   "metadata": {},
   "outputs": [
    {
     "data": {
      "text/plain": [
       "[[inf, 3, inf, 4, inf],\n",
       " [inf, inf, 5, inf, inf],\n",
       " [4, inf, inf, 5, inf],\n",
       " [inf, inf, inf, inf, 3],\n",
       " [7, 6, inf, inf, inf]]"
      ]
     },
     "execution_count": 6,
     "metadata": {},
     "output_type": "execute_result"
    }
   ],
   "source": [
    "d"
   ]
  },
  {
   "cell_type": "code",
   "execution_count": 10,
   "metadata": {},
   "outputs": [],
   "source": [
    "#1<<nは左シフトをn回している。\n",
    "# 左シフト1回につき2倍のため、2**5＝32\n",
    "# 5つの頂点があり、その頂点が踏まれた状況の数だけメモは必要だから。\n",
    "# -1は未到達\n",
    "dp = [[-1] * n for i in range(1<<n)]"
   ]
  },
  {
   "cell_type": "code",
   "execution_count": 33,
   "metadata": {},
   "outputs": [
    {
     "name": "stdout",
     "output_type": "stream",
     "text": [
      "22\n"
     ]
    }
   ],
   "source": [
    "#訪れた集合がs、今いる点がvの時０に戻る最短経路\n",
    "def rec(s,v,dp):\n",
    "    if dp[s][v] >= 0:\n",
    "        return dp[s][v]\n",
    "        \n",
    "    if s == (1<<n)-1 and v == 0:\n",
    "        #全ての頂点を訪れた(s = 11...11 and v = 0)\n",
    "        dp[s][v] = 0\n",
    "        return 0\n",
    "    \n",
    "    res = float(\"inf\")\n",
    "    # nは頂点の数。\n",
    "    # 全ての頂点について試している。もしその頂点が到達済みならif文で飛ばされる。\n",
    "    for u in range(n):\n",
    "        # sを頂点の番号回数右シフトしている。\n",
    "        # そのため、右シフト終了後の1の位にはその頂点が来訪済みであれば1、してなければ0になる。\n",
    "        # 積集合を取れば、到達済みの場合は1,してなければ0が帰る。\n",
    "        if (s>>u&1) == 0:\n",
    "            #uに訪れていない時(uの箇所が0の時),次はuとすると\n",
    "            # 1<<uで頂点uだけフラグが立ったような数字になる。\n",
    "            # それをsと和集合とる。そうするとsにuが追加された訪問済みの頂点集合になる。\n",
    "            # recの返り値とv→uの距離を足す。\n",
    "            res = min(res,rec(s|(1<<u),u,dp)+d[v][u])\n",
    "            \n",
    "    dp[s][v] = res\n",
    "    return res\n",
    "print(rec(0,0,dp))"
   ]
  },
  {
   "cell_type": "code",
   "execution_count": null,
   "metadata": {},
   "outputs": [],
   "source": []
  },
  {
   "cell_type": "code",
   "execution_count": 24,
   "metadata": {},
   "outputs": [
    {
     "data": {
      "text/plain": [
       "15"
      ]
     },
     "execution_count": 24,
     "metadata": {},
     "output_type": "execute_result"
    }
   ],
   "source": [
    "11 | 12"
   ]
  },
  {
   "cell_type": "code",
   "execution_count": 26,
   "metadata": {},
   "outputs": [
    {
     "data": {
      "text/plain": [
       "6"
      ]
     },
     "execution_count": 26,
     "metadata": {},
     "output_type": "execute_result"
    }
   ],
   "source": [
    "# 010 | 100 → 110\n",
    "2 | 4"
   ]
  },
  {
   "cell_type": "code",
   "execution_count": 29,
   "metadata": {},
   "outputs": [
    {
     "data": {
      "text/plain": [
       "1"
      ]
     },
     "execution_count": 29,
     "metadata": {},
     "output_type": "execute_result"
    }
   ],
   "source": [
    "# 2：010 0未到達、1到達　\n",
    "2>>1"
   ]
  },
  {
   "cell_type": "code",
   "execution_count": 32,
   "metadata": {},
   "outputs": [
    {
     "data": {
      "text/plain": [
       "0"
      ]
     },
     "execution_count": 32,
     "metadata": {},
     "output_type": "execute_result"
    }
   ],
   "source": [
    "# 2:010を0回右ビットする。\n",
    "# それと001の積集合が空集合か確認している\n",
    "2>>0&1"
   ]
  },
  {
   "cell_type": "code",
   "execution_count": 17,
   "metadata": {},
   "outputs": [
    {
     "data": {
      "text/plain": [
       "0"
      ]
     },
     "execution_count": 17,
     "metadata": {},
     "output_type": "execute_result"
    }
   ],
   "source": [
    "1>>2"
   ]
  },
  {
   "cell_type": "code",
   "execution_count": 18,
   "metadata": {},
   "outputs": [
    {
     "data": {
      "text/plain": [
       "0"
      ]
     },
     "execution_count": 18,
     "metadata": {},
     "output_type": "execute_result"
    }
   ],
   "source": [
    "2>>2"
   ]
  },
  {
   "cell_type": "code",
   "execution_count": 19,
   "metadata": {},
   "outputs": [
    {
     "data": {
      "text/plain": [
       "0"
      ]
     },
     "execution_count": 19,
     "metadata": {},
     "output_type": "execute_result"
    }
   ],
   "source": [
    "3>>2"
   ]
  },
  {
   "cell_type": "code",
   "execution_count": 20,
   "metadata": {},
   "outputs": [
    {
     "data": {
      "text/plain": [
       "1"
      ]
     },
     "execution_count": 20,
     "metadata": {},
     "output_type": "execute_result"
    }
   ],
   "source": [
    "4>>2"
   ]
  },
  {
   "cell_type": "code",
   "execution_count": 21,
   "metadata": {},
   "outputs": [
    {
     "data": {
      "text/plain": [
       "1"
      ]
     },
     "execution_count": 21,
     "metadata": {},
     "output_type": "execute_result"
    }
   ],
   "source": [
    "5>>2"
   ]
  },
  {
   "cell_type": "code",
   "execution_count": 22,
   "metadata": {},
   "outputs": [
    {
     "data": {
      "text/plain": [
       "1"
      ]
     },
     "execution_count": 22,
     "metadata": {},
     "output_type": "execute_result"
    }
   ],
   "source": [
    "1&1"
   ]
  },
  {
   "cell_type": "code",
   "execution_count": 23,
   "metadata": {},
   "outputs": [
    {
     "data": {
      "text/plain": [
       "0"
      ]
     },
     "execution_count": 23,
     "metadata": {},
     "output_type": "execute_result"
    }
   ],
   "source": [
    "0&1"
   ]
  },
  {
   "cell_type": "code",
   "execution_count": 16,
   "metadata": {},
   "outputs": [
    {
     "data": {
      "text/plain": [
       "1"
      ]
     },
     "execution_count": 16,
     "metadata": {},
     "output_type": "execute_result"
    }
   ],
   "source": [
    "32>>5a"
   ]
  },
  {
   "cell_type": "code",
   "execution_count": null,
   "metadata": {},
   "outputs": [],
   "source": []
  }
 ],
 "metadata": {
  "kernelspec": {
   "display_name": "Python 3",
   "language": "python",
   "name": "python3"
  },
  "language_info": {
   "codemirror_mode": {
    "name": "ipython",
    "version": 3
   },
   "file_extension": ".py",
   "mimetype": "text/x-python",
   "name": "python",
   "nbconvert_exporter": "python",
   "pygments_lexer": "ipython3",
   "version": "3.6.6"
  }
 },
 "nbformat": 4,
 "nbformat_minor": 2
}
