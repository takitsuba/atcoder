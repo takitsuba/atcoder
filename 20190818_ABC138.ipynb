{
 "cells": [
  {
   "cell_type": "markdown",
   "metadata": {},
   "source": [
    "# A"
   ]
  },
  {
   "cell_type": "code",
   "execution_count": null,
   "metadata": {},
   "outputs": [],
   "source": [
    "a = int(input())\n",
    "s = input()\n",
    "if a >= 3200:\n",
    "    print(s)\n",
    "else:\n",
    "    print(\"red\")"
   ]
  },
  {
   "cell_type": "code",
   "execution_count": null,
   "metadata": {},
   "outputs": [],
   "source": []
  },
  {
   "cell_type": "markdown",
   "metadata": {},
   "source": [
    "# B"
   ]
  },
  {
   "cell_type": "code",
   "execution_count": null,
   "metadata": {},
   "outputs": [],
   "source": [
    "N = input()\n",
    "a_list = list(map(int,input().split()))\n",
    "\n",
    "bunbo = 0\n",
    "for a in a_list:\n",
    "    bunbo += 1/a\n",
    "\n",
    "print(1/bunbo)"
   ]
  },
  {
   "cell_type": "markdown",
   "metadata": {},
   "source": [
    "# C"
   ]
  },
  {
   "cell_type": "code",
   "execution_count": null,
   "metadata": {},
   "outputs": [],
   "source": [
    "N = int(input())\n",
    "v_list = list(map(int,input().split()))\n",
    "\n",
    "v_list.sort()\n",
    "\n",
    "value = v_list[0]\n",
    "# print(value)\n",
    "for i in v_list[1:]:\n",
    "    value = (value + i)/2\n",
    "#     print(value)\n",
    "print(value)"
   ]
  },
  {
   "cell_type": "markdown",
   "metadata": {},
   "source": [
    "# D"
   ]
  },
  {
   "cell_type": "code",
   "execution_count": 1,
   "metadata": {},
   "outputs": [
    {
     "data": {
      "application/vnd.jupyter.widget-view+json": {
       "model_id": "4e7030643a0b446b92a046d2df84e922",
       "version_major": 2,
       "version_minor": 0
      },
      "text/plain": [
       "Textarea(value='')"
      ]
     },
     "metadata": {},
     "output_type": "display_data"
    }
   ],
   "source": [
    "from ipywidgets import Textarea\n",
    "import io\n",
    "\n",
    "if 'open' in globals():\n",
    "    del open\n",
    "if 'input' in globals():\n",
    "    del input\n",
    "\n",
    "original_open = open\n",
    "\n",
    "class custom_open():\n",
    "    def __init__(self):\n",
    "        self.text = ''\n",
    "\n",
    "    def __call__(self, file, *args, **kwargs):\n",
    "        if file == 0:\n",
    "            return io.StringIO(self.text)\n",
    "        return original_open(file, *args, **kwargs)\n",
    "\n",
    "    def updater(self, change):\n",
    "        self.text = change['new']\n",
    "\n",
    "class custom_input():\n",
    "    def __init__(self):\n",
    "        self.__sio = io.StringIO('')\n",
    "        self.shell = get_ipython()\n",
    "        if self.shell.events.callbacks['pre_run_cell'] != []:\n",
    "            self.shell.events.callbacks['pre_run_cell'] = []\n",
    "        self.shell.events.register('pre_run_cell', self.pre_run_cell)\n",
    "\n",
    "    def __call__(self):\n",
    "        return self.__sio.readline().strip()\n",
    "\n",
    "    def pre_run_cell(self, info):\n",
    "        text = self.shell.user_ns.get('text_area', None).value\n",
    "        self.__sio = io.StringIO(text)\n",
    "\n",
    "open = custom_open()\n",
    "input = custom_input()\n",
    "\n",
    "text_area = Textarea()\n",
    "text_area.observe(open.updater, names='value')\n",
    "display(text_area)"
   ]
  },
  {
   "cell_type": "code",
   "execution_count": 6,
   "metadata": {},
   "outputs": [
    {
     "name": "stdout",
     "output_type": "stream",
     "text": [
      "20 20 20 20 20 20\n"
     ]
    }
   ],
   "source": [
    "import sys\n",
    "# input = sys.stdin.readline\n",
    "sys.setrecursionlimit(1000000)\n",
    "\n",
    "N,Q = map(int,input().split())\n",
    "ab_list = [tuple(map(int,input().split())) for _ in range(N-1)]\n",
    "px_list = [tuple(map(int,input().split())) for _ in range(Q)]\n",
    "\n",
    "px_dict = {}\n",
    "for i in range(N+1):\n",
    "    px_dict[i] = 0\n",
    "\n",
    "for p, x in px_list:\n",
    "    px_dict[p] += x\n",
    "\n",
    "ab_dict = {}\n",
    "for i in range(N+1):\n",
    "    ab_dict[i] = []\n",
    "\n",
    "for a,b in ab_list:\n",
    "    ab_dict[a].append(b)\n",
    "    ab_dict[b].append(a)\n",
    "    \n",
    "passed = [0 for _ in range(N+1)]\n",
    "\n",
    "scores = [0 for _ in range(N+1)] # 1子おおい\n",
    "\n",
    "def add_cnt(v, score):\n",
    "    passed[v] = 1\n",
    "    # pxdictから持ってきてスコアを足す\n",
    "    score += px_dict[v]\n",
    "\n",
    "    #今いる頂点に現在のスコアをめも\n",
    "    scores[v] = score\n",
    "    \n",
    "    # 繋がっている頂点に今のスコアを投げる\n",
    "    for b in ab_dict[v]:\n",
    "        if passed[b] == 0:\n",
    "            add_cnt(b,score)\n",
    "\n",
    "add_cnt(1,0)\n",
    "\n",
    "print(\" \".join(list(map(str,scores[1:]))))"
   ]
  },
  {
   "cell_type": "markdown",
   "metadata": {},
   "source": [
    "# E"
   ]
  },
  {
   "cell_type": "code",
   "execution_count": 27,
   "metadata": {},
   "outputs": [],
   "source": [
    "s = input()\n",
    "t = input()\n",
    "\n",
    "memo = {}"
   ]
  },
  {
   "cell_type": "code",
   "execution_count": 29,
   "metadata": {},
   "outputs": [],
   "source": [
    "sd = {}\n",
    "for i in set(s):\n",
    "    sd[i] = \n",
    "\n",
    "for i,a in enumerate(s):\n",
    "    sd[a].append(i)"
   ]
  },
  {
   "cell_type": "code",
   "execution_count": 30,
   "metadata": {},
   "outputs": [
    {
     "data": {
      "text/plain": [
       "{'n': [2], 't': [3, 6], 'c': [0], 'e': [4], 'o': [1], 's': [5]}"
      ]
     },
     "execution_count": 30,
     "metadata": {},
     "output_type": "execute_result"
    }
   ],
   "source": [
    "sd"
   ]
  },
  {
   "cell_type": "code",
   "execution_count": 31,
   "metadata": {},
   "outputs": [],
   "source": [
    "import bisect"
   ]
  },
  {
   "cell_type": "code",
   "execution_count": null,
   "metadata": {},
   "outputs": [],
   "source": [
    "nowidx = 0\n",
    "loop = 0\n",
    "\n",
    "for tt in t:\n",
    "    sidx = sd[tt]\n",
    "    "
   ]
  }
 ],
 "metadata": {
  "kernelspec": {
   "display_name": "Python 3",
   "language": "python",
   "name": "python3"
  },
  "language_info": {
   "codemirror_mode": {
    "name": "ipython",
    "version": 3
   },
   "file_extension": ".py",
   "mimetype": "text/x-python",
   "name": "python",
   "nbconvert_exporter": "python",
   "pygments_lexer": "ipython3",
   "version": "3.6.6"
  }
 },
 "nbformat": 4,
 "nbformat_minor": 2
}
