{
 "cells": [
  {
   "cell_type": "markdown",
   "metadata": {},
   "source": [
    "# A"
   ]
  },
  {
   "cell_type": "code",
   "execution_count": null,
   "metadata": {},
   "outputs": [],
   "source": [
    "N = int(input())\n",
    "if N%2 == 1:\n",
    "    print(((N+1)//2)/N)\n",
    "else:\n",
    "    print(N//2/N)"
   ]
  },
  {
   "cell_type": "code",
   "execution_count": null,
   "metadata": {},
   "outputs": [],
   "source": []
  },
  {
   "cell_type": "markdown",
   "metadata": {},
   "source": [
    "# B"
   ]
  },
  {
   "cell_type": "code",
   "execution_count": null,
   "metadata": {},
   "outputs": [],
   "source": [
    "N, K = map(int,input().split())\n",
    "h_list = list(map(int,input().split()))\n",
    "\n",
    "cnt = 0\n",
    "for h in h_list:\n",
    "    if h >= K:\n",
    "        cnt += 1\n",
    "\n",
    "print(cnt)"
   ]
  },
  {
   "cell_type": "code",
   "execution_count": null,
   "metadata": {},
   "outputs": [],
   "source": []
  },
  {
   "cell_type": "markdown",
   "metadata": {},
   "source": [
    "# C"
   ]
  },
  {
   "cell_type": "code",
   "execution_count": null,
   "metadata": {},
   "outputs": [],
   "source": [
    "N = int(input())\n",
    "a_list = list(map(int,input().split()))\n",
    "\n",
    "zyunban_hito = [(a,i) for i,a in enumerate(a_list)]\n",
    "\n",
    "zyunban_hito.sort()\n",
    "\n",
    "result = [str(hito+1) for _,hito in zyunban_hito]\n",
    "\n",
    "print(\" \".join(result))"
   ]
  },
  {
   "cell_type": "markdown",
   "metadata": {},
   "source": [
    "# D"
   ]
  },
  {
   "cell_type": "code",
   "execution_count": null,
   "metadata": {},
   "outputs": [],
   "source": []
  },
  {
   "cell_type": "code",
   "execution_count": null,
   "metadata": {},
   "outputs": [],
   "source": [
    "def gcd(a,b):\n",
    "    if b==0:\n",
    "        return a\n",
    "    return gcd(b,a%b)\n",
    "\n",
    "A,B = map(int,input().split())\n",
    "\n",
    "def count_(upper_num):\n",
    "    data = [2] + list(range(3,upper_num+1,2))\n",
    "    idx = 0\n",
    "    length = len(data)\n",
    "    while idx < length:\n",
    "        prime = data[idx]\n",
    "        data = [d for d in data if (d==prime or d % prime != 0)]\n",
    "        idx += 1\n",
    "        length = len(data)\n",
    "    \n",
    "    return data\n",
    "\n",
    "def make_divisors(n):\n",
    "    divisors = [1]\n",
    "    i = 2 \n",
    "    max_int = int(n**0.5)+1\n",
    "    while n >1:\n",
    "#         print(n)\n",
    "        if i >= max_int:\n",
    "#             print(\"max\")\n",
    "            divisors.append(n)\n",
    "            break\n",
    "        # nを合う数字で割り切れたら、その割った数と商をリストに追加する。\n",
    "        # nが平方数のとき、同じ数字が2回追加されてしまうので3行したのif文がある\n",
    "        if n % i == 0:\n",
    "            divisors.append(i)\n",
    "            max_int = int((n//i)**0.5)+1\n",
    "            while n%i == 0:\n",
    "                n = n//i\n",
    "                \n",
    "        i += 1\n",
    "\n",
    "    divisors = list(set(divisors))\n",
    "#     divisors.sort()\n",
    "    return divisors\n",
    "\n",
    "print(len(make_divisors(gcd(A,B))))"
   ]
  },
  {
   "cell_type": "code",
   "execution_count": null,
   "metadata": {},
   "outputs": [],
   "source": [
    "make_divisors(60)"
   ]
  },
  {
   "cell_type": "code",
   "execution_count": null,
   "metadata": {},
   "outputs": [],
   "source": [
    "4884/37"
   ]
  },
  {
   "cell_type": "code",
   "execution_count": null,
   "metadata": {},
   "outputs": [],
   "source": []
  },
  {
   "cell_type": "code",
   "execution_count": 2,
   "metadata": {},
   "outputs": [
    {
     "data": {
      "application/vnd.jupyter.widget-view+json": {
       "model_id": "eb9cf8ccc0e642ea829adc4a0040627d",
       "version_major": 2,
       "version_minor": 0
      },
      "text/plain": [
       "Textarea(value='')"
      ]
     },
     "metadata": {},
     "output_type": "display_data"
    }
   ],
   "source": [
    "from ipywidgets import Textarea\n",
    "import io\n",
    "\n",
    "if 'open' in globals():\n",
    "    del open\n",
    "if 'input' in globals():\n",
    "    del input\n",
    "\n",
    "original_open = open\n",
    "\n",
    "class custom_open():\n",
    "    def __init__(self):\n",
    "        self.text = ''\n",
    "\n",
    "    def __call__(self, file, *args, **kwargs):\n",
    "        if file == 0:\n",
    "            return io.StringIO(self.text)\n",
    "        return original_open(file, *args, **kwargs)\n",
    "\n",
    "    def updater(self, change):\n",
    "        self.text = change['new']\n",
    "\n",
    "class custom_input():\n",
    "    def __init__(self):\n",
    "        self.__sio = io.StringIO('')\n",
    "        self.shell = get_ipython()\n",
    "        if self.shell.events.callbacks['pre_run_cell'] != []:\n",
    "            self.shell.events.callbacks['pre_run_cell'] = []\n",
    "        self.shell.events.register('pre_run_cell', self.pre_run_cell)\n",
    "\n",
    "    def __call__(self):\n",
    "        return self.__sio.readline().strip()\n",
    "\n",
    "    def pre_run_cell(self, info):\n",
    "        text = self.shell.user_ns.get('text_area', None).value\n",
    "        self.__sio = io.StringIO(text)\n",
    "\n",
    "open = custom_open()\n",
    "input = custom_input()\n",
    "\n",
    "text_area = Textarea()\n",
    "text_area.observe(open.updater, names='value')\n",
    "display(text_area)"
   ]
  },
  {
   "cell_type": "code",
   "execution_count": 3,
   "metadata": {},
   "outputs": [],
   "source": [
    "N,M = map(int,input().split())\n",
    "a_list = []\n",
    "b_list = []\n",
    "c_list = []\n",
    "for _ in range(M):\n",
    "    a, b = map(int,input().split())\n",
    "    c = list(map(int,input().split()))\n",
    "    c = [cc-1 for cc in c]\n",
    "    a_list.append(a)\n",
    "    b_list.append(b)\n",
    "    c_list.append(c)"
   ]
  },
  {
   "cell_type": "code",
   "execution_count": 3,
   "metadata": {},
   "outputs": [
    {
     "ename": "TypeError",
     "evalue": "'int' object is not iterable",
     "output_type": "error",
     "traceback": [
      "\u001b[0;31m---------------------------------------------------------------------------\u001b[0m",
      "\u001b[0;31mTypeError\u001b[0m                                 Traceback (most recent call last)",
      "\u001b[0;32m<ipython-input-3-7fadc33b36d4>\u001b[0m in \u001b[0;36m<module>\u001b[0;34m()\u001b[0m\n\u001b[1;32m     44\u001b[0m     \u001b[0mprint\u001b[0m\u001b[0;34m(\u001b[0m\u001b[0;34m-\u001b[0m\u001b[0;36m1\u001b[0m\u001b[0;34m)\u001b[0m\u001b[0;34m\u001b[0m\u001b[0m\n\u001b[1;32m     45\u001b[0m \u001b[0;32melse\u001b[0m\u001b[0;34m:\u001b[0m\u001b[0;34m\u001b[0m\u001b[0m\n\u001b[0;32m---> 46\u001b[0;31m     \u001b[0mprint\u001b[0m\u001b[0;34m(\u001b[0m\u001b[0mdp\u001b[0m\u001b[0;34m(\u001b[0m\u001b[0;34m[\u001b[0m\u001b[0;36m0\u001b[0m \u001b[0;32mfor\u001b[0m \u001b[0m_\u001b[0m \u001b[0;32min\u001b[0m \u001b[0mrange\u001b[0m\u001b[0;34m(\u001b[0m\u001b[0mN\u001b[0m\u001b[0;34m)\u001b[0m\u001b[0;34m]\u001b[0m\u001b[0;34m,\u001b[0m\u001b[0;36m0\u001b[0m\u001b[0;34m)\u001b[0m\u001b[0;34m)\u001b[0m\u001b[0;34m\u001b[0m\u001b[0m\n\u001b[0m",
      "\u001b[0;32m<ipython-input-3-7fadc33b36d4>\u001b[0m in \u001b[0;36mdp\u001b[0;34m(memos, cost)\u001b[0m\n\u001b[1;32m     28\u001b[0m         \u001b[0;32mif\u001b[0m \u001b[0mmemo\u001b[0m \u001b[0;34m==\u001b[0m \u001b[0;36m0\u001b[0m\u001b[0;34m:\u001b[0m\u001b[0;34m\u001b[0m\u001b[0m\n\u001b[1;32m     29\u001b[0m             \u001b[0mnext_keys\u001b[0m \u001b[0;34m=\u001b[0m \u001b[0mtakara_keys\u001b[0m\u001b[0;34m[\u001b[0m\u001b[0mtakara\u001b[0m\u001b[0;34m]\u001b[0m\u001b[0;34m\u001b[0m\u001b[0m\n\u001b[0;32m---> 30\u001b[0;31m             \u001b[0;32mfor\u001b[0m \u001b[0mkey\u001b[0m \u001b[0;32min\u001b[0m \u001b[0mnext_keys\u001b[0m\u001b[0;34m[\u001b[0m\u001b[0;36m0\u001b[0m\u001b[0;34m]\u001b[0m\u001b[0;34m:\u001b[0m\u001b[0;34m\u001b[0m\u001b[0m\n\u001b[0m\u001b[1;32m     31\u001b[0m                 \u001b[0mtmp_memos\u001b[0m \u001b[0;34m=\u001b[0m \u001b[0mmemos\u001b[0m\u001b[0;34m[\u001b[0m\u001b[0;34m:\u001b[0m\u001b[0;34m]\u001b[0m\u001b[0;34m\u001b[0m\u001b[0m\n\u001b[1;32m     32\u001b[0m                 \u001b[0;32mfor\u001b[0m \u001b[0mtakara_idx\u001b[0m \u001b[0;32min\u001b[0m \u001b[0mc_list\u001b[0m\u001b[0;34m[\u001b[0m\u001b[0mkey\u001b[0m\u001b[0;34m]\u001b[0m\u001b[0;34m:\u001b[0m\u001b[0;34m\u001b[0m\u001b[0m\n",
      "\u001b[0;31mTypeError\u001b[0m: 'int' object is not iterable"
     ]
    }
   ],
   "source": [
    "takara_keys = {}\n",
    "for i in range(N):\n",
    "    takara = []\n",
    "    for idx, c in enumerate(c_list):\n",
    "        if i in c:\n",
    "            takara.append(idx)\n",
    "    takara_keys[i] = takara\n",
    "\n",
    "clear = [1 for _ in range(N)]\n",
    "def dp(memos, cost):\n",
    "    if memos == clear:\n",
    "        return cost\n",
    "    costs = [10**9]\n",
    "    for takara, memo in enumerate(memos):\n",
    "        hoge_flg = 0\n",
    "        if memo == 0:\n",
    "            hoge_flg = 1\n",
    "            next_keys = takara_keys[takara]\n",
    "            for key in next_keys:\n",
    "                tmp_memos = memos[:]\n",
    "                for takara_idx in c_list[key]:\n",
    "                    tmp_memos[takara_idx] = 1\n",
    "                tmp_cost = cost + a_list[key]\n",
    "                costs.append(dp(tmp_memos,tmp_cost))\n",
    "        if hoge_flg == 1:\n",
    "            break\n",
    "    return min(costs)\n",
    "\n",
    "length_0_flag = False\n",
    "for v in takara_keys.values():\n",
    "    if len(v)==0:\n",
    "        length_0_flag = True\n",
    "\n",
    "if length_0_flag:\n",
    "    print(-1)\n",
    "else:\n",
    "    print(dp([0 for _ in range(N)],0))"
   ]
  },
  {
   "cell_type": "code",
   "execution_count": 11,
   "metadata": {},
   "outputs": [],
   "source": [
    "#https://atcoder.jp/contests/abc142/submissions/7786740"
   ]
  },
  {
   "cell_type": "code",
   "execution_count": 37,
   "metadata": {},
   "outputs": [],
   "source": [
    "#解説放送見てからの書き直し\n",
    "import sys\n",
    "import os\n",
    "INF = 10**12\n",
    "ans = INF\n",
    "N, M = map(int,input().split())\n",
    "A = [0 for _ in range(M)]\n",
    "B = [0 for _ in range(M)]\n",
    "C = []\n",
    "for i in range(M):\n",
    "    a, b = map(int,input().split())\n",
    "    A[i] = a  #鍵の金額\n",
    "    B[i] = b  #開けられる宝箱の種類数\n",
    "    tmp = list((map(int,input().split())))\n",
    "    s = 0\n",
    "    for j in range(b):\n",
    "        t = tmp.pop(0)-1\n",
    "        s |= 1 << t\n",
    "    C.append(s)\n",
    "    "
   ]
  },
  {
   "cell_type": "code",
   "execution_count": 38,
   "metadata": {},
   "outputs": [],
   "source": [
    "dp = [INF]*(1<<N) #2^N"
   ]
  },
  {
   "cell_type": "code",
   "execution_count": 39,
   "metadata": {},
   "outputs": [
    {
     "data": {
      "text/plain": [
       "[1000000000000,\n",
       " 1000000000000,\n",
       " 1000000000000,\n",
       " 1000000000000,\n",
       " 1000000000000,\n",
       " 1000000000000,\n",
       " 1000000000000,\n",
       " 1000000000000,\n",
       " 1000000000000,\n",
       " 1000000000000,\n",
       " 1000000000000,\n",
       " 1000000000000,\n",
       " 1000000000000,\n",
       " 1000000000000,\n",
       " 1000000000000,\n",
       " 1000000000000]"
      ]
     },
     "execution_count": 39,
     "metadata": {},
     "output_type": "execute_result"
    }
   ],
   "source": [
    "dp"
   ]
  },
  {
   "cell_type": "code",
   "execution_count": 41,
   "metadata": {},
   "outputs": [
    {
     "data": {
      "text/plain": [
       "[13, 2, 14, 14, 2, 4]"
      ]
     },
     "execution_count": 41,
     "metadata": {},
     "output_type": "execute_result"
    }
   ],
   "source": [
    "C"
   ]
  },
  {
   "cell_type": "code",
   "execution_count": 14,
   "metadata": {},
   "outputs": [],
   "source": [
    "# ビットにすると、それぞれの鍵がどの宝箱を開けるかがわかる\n",
    "# 13→0b1101。つまり4個目、3個目、1個目の宝箱を開けることができる鍵\n",
    "# 2→0b10つまり2個目の宝箱のみ。"
   ]
  },
  {
   "cell_type": "code",
   "execution_count": 15,
   "metadata": {},
   "outputs": [],
   "source": [
    "dp[0] = 0 #0 = 0b0000の時、スコアは0（まだ1つも鍵を購入してないので）"
   ]
  },
  {
   "cell_type": "code",
   "execution_count": null,
   "metadata": {},
   "outputs": [],
   "source": [
    "for s in range(1<<N): #1<<Nは2^N。つまりどの宝箱が開くかの全ての状態\n",
    "    for j in range(M): # 全ての鍵について見ていく\n",
    "        t = s | C[j] # 論理和。sには現在どの宝箱が開けられるかの状態、\n",
    "                     # C[j]にはその新たな鍵が開ける宝箱。\n",
    "                     # その論理和はこれまでの鍵と新たな鍵でどの宝箱が開けられるか\n",
    "        cost = dp[s] + A[j] # その鍵を買った時のコスト\n",
    "        dp[t] = min(dp[t],cost) #新たな宝箱の状態について、コストがより低くなるようなら保存する。\n",
    "ans = dp[-1] #dp[-1]、つまり0b1111。宝箱が全て開けられる状態。\n",
    "if ans == INF: #もし0b1111がINFのまま（最初から変わってない）ということはそこにたどり着けなかったということ。\n",
    "               #つまり、全ての鍵を使っても宝箱を開けられなかった。\n",
    "    ans = -1\n",
    "print(ans)"
   ]
  }
 ],
 "metadata": {
  "kernelspec": {
   "display_name": "Python 3",
   "language": "python",
   "name": "python3"
  },
  "language_info": {
   "codemirror_mode": {
    "name": "ipython",
    "version": 3
   },
   "file_extension": ".py",
   "mimetype": "text/x-python",
   "name": "python",
   "nbconvert_exporter": "python",
   "pygments_lexer": "ipython3",
   "version": "3.6.6"
  }
 },
 "nbformat": 4,
 "nbformat_minor": 2
}
