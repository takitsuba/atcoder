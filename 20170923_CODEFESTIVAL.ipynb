{
 "cells": [
  {
   "cell_type": "markdown",
   "metadata": {},
   "source": [
    "# A"
   ]
  },
  {
   "cell_type": "code",
   "execution_count": null,
   "metadata": {
    "collapsed": true
   },
   "outputs": [],
   "source": [
    "S = input()\n",
    "\n",
    "if S[:4] == \"YAKI\":\n",
    "    print(\"Yes\")\n",
    "else:\n",
    "    print(\"No\")"
   ]
  },
  {
   "cell_type": "code",
   "execution_count": null,
   "metadata": {},
   "outputs": [],
   "source": [
    "x"
   ]
  },
  {
   "cell_type": "markdown",
   "metadata": {},
   "source": [
    "# B"
   ]
  },
  {
   "cell_type": "code",
   "execution_count": null,
   "metadata": {},
   "outputs": [],
   "source": [
    "nmk = input().split()\n",
    "n = int(nmk[0])\n",
    "m = int(nmk[1])\n",
    "k = int(nmk[2])\n",
    "\n",
    "message = \"No\"\n",
    "for i in range(m):\n",
    "    x = int(i)\n",
    "    if m-2*x == 0:\n",
    "        y=-1\n",
    "    else:\n",
    "        y = (-n*x+k)/(m-2*x)\n",
    "#         print(y)\n",
    "    if y >= 0 and y <= n and y%1 == 0:\n",
    "        message=\"Yes\"\n",
    "        break\n",
    "\n",
    "print(message)"
   ]
  },
  {
   "cell_type": "markdown",
   "metadata": {},
   "source": [
    "# C"
   ]
  },
  {
   "cell_type": "code",
   "execution_count": null,
   "metadata": {},
   "outputs": [],
   "source": [
    "from collections import Counter\n",
    "import numpy as np\n",
    "\n",
    "hw = input().split()\n",
    "h = int(hw[0])\n",
    "w = int(hw[1])\n",
    "\n",
    "# print(h,w)\n",
    "a_all = \"\"\n",
    "for i in range(h):\n",
    "    a_all += input()\n",
    "    \n",
    "count = Counter(a_all)\n",
    "\n",
    "four_num = (w//2) * (h//2)\n",
    "two_num = (w%2) * (h//2) + (h%2) * (w//2)\n",
    "one_num = (w%2) * (h%2)\n",
    "\n",
    "# print(\"test:\",four_num,two_num,one_num)\n",
    "nums = list(count.values())\n",
    "\n",
    "nums_array = np.array(nums)\n",
    "\n",
    "check=0\n",
    "\n",
    "# print(nums_array)\n",
    "for i in range(four_num):\n",
    "    if len(nums_array[nums_array>=4])>=1:\n",
    "        nums_array[np.where(nums_array>=4)[0][0]] -= 4\n",
    "#         print(nums_array)\n",
    "    else:\n",
    "        check = 1\n",
    "        break\n",
    "\n",
    "for i in range(two_num):\n",
    "    if len(nums_array[nums_array>=2])>=1:\n",
    "        nums_array[np.where(nums_array>=2)[0][0]] -= 2\n",
    "#         print(nums_array)\n",
    "    else:\n",
    "        check = 1\n",
    "        break\n",
    "\n",
    "if check == 1:\n",
    "    print(\"No\")\n",
    "else:\n",
    "    print(\"Yes\")"
   ]
  },
  {
   "cell_type": "code",
   "execution_count": null,
   "metadata": {},
   "outputs": [],
   "source": [
    "np.where(nums_array>=4)[0][0]"
   ]
  },
  {
   "cell_type": "code",
   "execution_count": null,
   "metadata": {},
   "outputs": [],
   "source": [
    "h//2 * w//2"
   ]
  },
  {
   "cell_type": "code",
   "execution_count": null,
   "metadata": {},
   "outputs": [],
   "source": [
    "nums_array"
   ]
  },
  {
   "cell_type": "code",
   "execution_count": null,
   "metadata": {},
   "outputs": [],
   "source": [
    "        break\n",
    "    for j in range(len(nums)):\n",
    "        if nums[j]>=4:\n",
    "            nums[j] -= 4\n",
    "            break\n",
    "    \n"
   ]
  },
  {
   "cell_type": "code",
   "execution_count": null,
   "metadata": {},
   "outputs": [],
   "source": [
    "from collections import Counter\n",
    "count = Counter(\"abbccc\")\n",
    "print(count)"
   ]
  },
  {
   "cell_type": "code",
   "execution_count": null,
   "metadata": {},
   "outputs": [],
   "source": [
    "a_list = list(count.values())"
   ]
  },
  {
   "cell_type": "code",
   "execution_count": null,
   "metadata": {},
   "outputs": [],
   "source": [
    "a_list.sort(reverse=True)"
   ]
  },
  {
   "cell_type": "code",
   "execution_count": null,
   "metadata": {},
   "outputs": [],
   "source": [
    "import numpy as np\n",
    "a_array = np.array(a_list)"
   ]
  },
  {
   "cell_type": "code",
   "execution_count": null,
   "metadata": {},
   "outputs": [],
   "source": [
    "len(a_array[a_array>=2])"
   ]
  },
  {
   "cell_type": "code",
   "execution_count": null,
   "metadata": {
    "collapsed": true
   },
   "outputs": [],
   "source": []
  },
  {
   "cell_type": "code",
   "execution_count": null,
   "metadata": {},
   "outputs": [],
   "source": [
    "a_list"
   ]
  },
  {
   "cell_type": "code",
   "execution_count": null,
   "metadata": {},
   "outputs": [],
   "source": [
    "\"\" + \"ss\""
   ]
  },
  {
   "cell_type": "markdown",
   "metadata": {},
   "source": [
    "# D"
   ]
  },
  {
   "cell_type": "code",
   "execution_count": 2,
   "metadata": {},
   "outputs": [
    {
     "name": "stdout",
     "output_type": "stream",
     "text": [
      "2 3 2\n",
      "RRY\n",
      "YGG\n"
     ]
    }
   ],
   "source": [
    "import numpy as np\n",
    "hwd = input().split()\n",
    "h = int(hwd[0])\n",
    "w = int(hwd[1])\n",
    "d = int(hwd[2])\n",
    "\n",
    "hyou = np.zeros((h,w),dtype=int)\n",
    "\n",
    "for i in range(h):\n",
    "    for j in range(w):\n",
    "        dame_list = []\n",
    "        for a in range(1,d+1):\n",
    "            b = d - a\n",
    "            if j-b >= 0:\n",
    "                dame_list.append(hyou[i-a,j-b])\n",
    "            if j+b < w:\n",
    "                dame_list.append(hyou[i-a,j+b])\n",
    "        if j-d >=0:\n",
    "            dame_list.append(hyou[i,j-d])\n",
    "        dame_set = set(dame_list)\n",
    "        if 1 in dame_set:\n",
    "            if 2 in dame_set:\n",
    "                if 3 in dame_set:\n",
    "                    hyou[i,j] = 4\n",
    "                else:\n",
    "                    hyou[i,j] = 3\n",
    "            else:\n",
    "                hyou[i,j] = 2\n",
    "        else:\n",
    "            hyou[i,j] = 1   \n",
    "\n",
    "teisyutu = hyou.tolist()\n",
    "tikan_dict = [\"R\",\"Y\",\"G\",\"B\"]\n",
    "for i in hyou:\n",
    "    iro_str = \"\"\n",
    "    for j in i:\n",
    "        iro_str += tikan_dict[j-1]\n",
    "    print(iro_str)\n"
   ]
  },
  {
   "cell_type": "markdown",
   "metadata": {},
   "source": [
    "# 結果\n",
    "* 時間内にはCまでしか解けなかった。\n",
    "* Dは時間内に描ききることができなかった。\n",
    "* 書いたものを提出して見たものの、Runtime errorとTLEが出て通らず。\n",
    "* 諦めた。"
   ]
  },
  {
   "cell_type": "markdown",
   "metadata": {},
   "source": [
    "# 反省\n",
    "* 問題Bでは、手元で計算した時にマイナスの符号を忘れていたのが原因で時間がかかった。計算に慣れ直す必要。\n",
    "* 問題Cの、(w//2) * (h//2)について、カッコをつける場合とつけない場合とで挙動が変わることに気づくのに時間がかかった。切り捨ての割り算の場合には、カッコをつける。\n",
    "* 問題Dでの距離はマンハッタン距離といい、こういう場合は座標系を45度回転すると見通しが良くなることが多いらしい。そしてチェビシェフ距離をとると、いいらしい。よくわかってない。\n",
    "* collectionsのCounterは便利。\n",
    "* np.whereも便利。\n",
    "* 辞書型はkeys()、values()で値をとる。これいつも忘れる。"
   ]
  }
 ],
 "metadata": {
  "kernelspec": {
   "display_name": "Python 3",
   "language": "python",
   "name": "python3"
  },
  "language_info": {
   "codemirror_mode": {
    "name": "ipython",
    "version": 3
   },
   "file_extension": ".py",
   "mimetype": "text/x-python",
   "name": "python",
   "nbconvert_exporter": "python",
   "pygments_lexer": "ipython3",
   "version": "3.6.0"
  }
 },
 "nbformat": 4,
 "nbformat_minor": 2
}
