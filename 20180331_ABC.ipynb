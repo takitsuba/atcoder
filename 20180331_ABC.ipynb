{
 "cells": [
  {
   "cell_type": "markdown",
   "metadata": {},
   "source": [
    "# C"
   ]
  },
  {
   "cell_type": "code",
   "execution_count": 28,
   "metadata": {},
   "outputs": [
    {
     "name": "stdout",
     "output_type": "stream",
     "text": [
      "5\n",
      "1 1 1 2 0\n",
      "4\n",
      "4\n",
      "4\n",
      "2\n",
      "4\n"
     ]
    }
   ],
   "source": [
    "n = int(input())\n",
    "a_list = list(map(int,input().split()))\n",
    "a_list = [0] + a_list + [0]\n",
    "s = 0\n",
    "for i in range(len(a_list)-1):\n",
    "    s += abs(a_list[i+1]-a_list[i])\n",
    "    \n",
    "for i in range(0,len(a_list)-2):\n",
    "    p = s - abs(a_list[i+1] - a_list[i]) - abs(a_list[i+2] - a_list[i+1]) + abs(a_list[i+2] - a_list[i])\n",
    "    print(p)"
   ]
  }
 ],
 "metadata": {
  "kernelspec": {
   "display_name": "Python 3",
   "language": "python",
   "name": "python3"
  },
  "language_info": {
   "codemirror_mode": {
    "name": "ipython",
    "version": 3
   },
   "file_extension": ".py",
   "mimetype": "text/x-python",
   "name": "python",
   "nbconvert_exporter": "python",
   "pygments_lexer": "ipython3",
   "version": "3.6.4"
  }
 },
 "nbformat": 4,
 "nbformat_minor": 2
}
