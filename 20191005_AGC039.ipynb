{
 "cells": [
  {
   "cell_type": "markdown",
   "metadata": {},
   "source": [
    "# A"
   ]
  },
  {
   "cell_type": "code",
   "execution_count": 1,
   "metadata": {},
   "outputs": [
    {
     "data": {
      "application/vnd.jupyter.widget-view+json": {
       "model_id": "26b64dd5133a4a949dee6902b863664d",
       "version_major": 2,
       "version_minor": 0
      },
      "text/plain": [
       "Textarea(value='')"
      ]
     },
     "metadata": {},
     "output_type": "display_data"
    }
   ],
   "source": [
    "from ipywidgets import Textarea\n",
    "import io\n",
    "\n",
    "if 'open' in globals():\n",
    "    del open\n",
    "if 'input' in globals():\n",
    "    del input\n",
    "\n",
    "original_open = open\n",
    "\n",
    "class custom_open():\n",
    "    def __init__(self):\n",
    "        self.text = ''\n",
    "\n",
    "    def __call__(self, file, *args, **kwargs):\n",
    "        if file == 0:\n",
    "            return io.StringIO(self.text)\n",
    "        return original_open(file, *args, **kwargs)\n",
    "\n",
    "    def updater(self, change):\n",
    "        self.text = change['new']\n",
    "\n",
    "class custom_input():\n",
    "    def __init__(self):\n",
    "        self.__sio = io.StringIO('')\n",
    "        self.shell = get_ipython()\n",
    "        if self.shell.events.callbacks['pre_run_cell'] != []:\n",
    "            self.shell.events.callbacks['pre_run_cell'] = []\n",
    "        self.shell.events.register('pre_run_cell', self.pre_run_cell)\n",
    "\n",
    "    def __call__(self):\n",
    "        return self.__sio.readline().strip()\n",
    "\n",
    "    def pre_run_cell(self, info):\n",
    "        text = self.shell.user_ns.get('text_area', None).value\n",
    "        self.__sio = io.StringIO(text)\n",
    "\n",
    "open = custom_open()\n",
    "input = custom_input()\n",
    "\n",
    "text_area = Textarea()\n",
    "text_area.observe(open.updater, names='value')\n",
    "display(text_area)"
   ]
  },
  {
   "cell_type": "code",
   "execution_count": null,
   "metadata": {},
   "outputs": [],
   "source": []
  },
  {
   "cell_type": "code",
   "execution_count": null,
   "metadata": {},
   "outputs": [],
   "source": [
    "# head body tail head body tail\n",
    "# 2文字連結したら後ろを変えていく\n",
    "# それをやった上でtailとheadが一緒だったらtailを変える\n",
    "# 最後のtailは更新しなくて良い\n",
    "\n",
    "# 1文字の時は2文字ごとに変更していく\n",
    "# そのためK//2\n",
    "\n",
    "# 2回結合したものを元に考える?\n",
    "#"
   ]
  },
  {
   "cell_type": "code",
   "execution_count": null,
   "metadata": {},
   "outputs": [],
   "source": [
    "S = input()\n",
    "K = int(input())\n",
    "\n",
    "s_list = list(S)\n",
    "\n",
    "modified = \"mdf\"\n",
    "\n",
    "def solve():\n",
    "    if len(s_list) == 1:\n",
    "        return K//2\n",
    "    \n",
    "    result = 0\n",
    "    double_cnt = 0\n",
    "    tmp_s = s_list[0]\n",
    "    for s in s_list[1:]:\n",
    "        if tmp_s == s:\n",
    "            double_cnt += 1\n",
    "            tmp_s = modified\n",
    "        else:\n",
    "            tmp_s = s\n",
    "            \n",
    "    result += double_cnt * K\n",
    "    \n",
    "    # 最後の文字と最初の文字が一緒なら、K-1回足す\n",
    "    if tmp_s == s_list[0]:\n",
    "        result += (K-1)\n",
    "        \n",
    "    return result\n",
    "\n",
    "result = solve()\n",
    "\n",
    "print(result)"
   ]
  },
  {
   "cell_type": "code",
   "execution_count": null,
   "metadata": {},
   "outputs": [],
   "source": [
    "aaaba aaaba\n",
    " x    x x"
   ]
  },
  {
   "cell_type": "code",
   "execution_count": null,
   "metadata": {},
   "outputs": [],
   "source": [
    "aaa aaa aaa aaa\n",
    " xx  xx  xx  x"
   ]
  },
  {
   "cell_type": "code",
   "execution_count": null,
   "metadata": {},
   "outputs": [],
   "source": [
    "aaba aaba aaba aaba\n",
    " x   s    s    x\n",
    "同じ文字しかなければ、文字の個数の//2\n",
    "\n",
    "違う文字が含まれるならそこで区切る？\n",
    "\n",
    "aabaaaba\n",
    "2 1 3 1 1\n",
    "2:1回のみ\n",
    "1:K回\n",
    "3:K-1回\n",
    "最後の1：1回のみ"
   ]
  },
  {
   "cell_type": "code",
   "execution_count": null,
   "metadata": {},
   "outputs": [],
   "source": [
    "sum([])"
   ]
  },
  {
   "cell_type": "code",
   "execution_count": 5,
   "metadata": {},
   "outputs": [
    {
     "name": "stdout",
     "output_type": "stream",
     "text": [
      "8999939997\n"
     ]
    }
   ],
   "source": [
    "S = input()\n",
    "K = int(input())\n",
    "\n",
    "s_list = list(S)\n",
    "\n",
    "modified = \"mdf\"\n",
    "\n",
    "def solve():\n",
    "    # その単語に1種類の文字しかなければ、合計の文字数を2で割捨てした数\n",
    "    if len(set(s_list)) == 1:\n",
    "        return (len(s_list)*K)//2\n",
    "    \n",
    "    cnt = 1\n",
    "    cnt_list = []\n",
    "    for i in range(len(s_list)-1):\n",
    "        if s_list[i] == s_list[i+1]:\n",
    "            cnt += 1\n",
    "        else:\n",
    "            cnt_list.append(cnt)\n",
    "            cnt = 1\n",
    "    \n",
    "    # 最後の対応\n",
    "    # cnt = 1の時、最後は1文字だけ\n",
    "    # cnt >= 2の時、最後は同じ文字が続いてる\n",
    "    cnt_list.append(cnt)\n",
    "    \n",
    "    # 最初と最後が同じ時は最初と最後を足したやつを作る必要。\n",
    "    head = cnt_list[0]\n",
    "    tail = cnt_list[-1]\n",
    "    body = cnt_list[1:-1]\n",
    "    \n",
    "    def body_change_cnt(body):\n",
    "        cnt = 0\n",
    "        for b in body:\n",
    "            cnt += b//2\n",
    "        return cnt\n",
    "    \n",
    "    if s_list[0] == s_list[-1]:\n",
    "        head_tail = cnt_list[0] + cnt_list[-1]\n",
    "        return head//2 + tail//2 + body_change_cnt(body)*K + (head_tail//2)*(K-1)\n",
    "    else:\n",
    "        return (head//2 + tail//2 + body_change_cnt(body)) * K\n",
    "\n",
    "result = solve()\n",
    "\n",
    "print(result)"
   ]
  },
  {
   "cell_type": "code",
   "execution_count": 6,
   "metadata": {},
   "outputs": [
    {
     "ename": "SyntaxError",
     "evalue": "invalid syntax (<ipython-input-6-fed3062ef8b3>, line 1)",
     "output_type": "error",
     "traceback": [
      "\u001b[0;36m  File \u001b[0;32m\"<ipython-input-6-fed3062ef8b3>\"\u001b[0;36m, line \u001b[0;32m1\u001b[0m\n\u001b[0;31m    zzzyzz zzzyzz zzzyzz\u001b[0m\n\u001b[0m                ^\u001b[0m\n\u001b[0;31mSyntaxError\u001b[0m\u001b[0;31m:\u001b[0m invalid syntax\n"
     ]
    }
   ],
   "source": [
    "zzzyzzz zzzyzzz zzzyzzz zzzyzzz\n",
    " x   x  x x  x  x x  x  x x  x\n",
    "\n",
    "a=3\n",
    "b=3\n",
    "Sに対する答えは 3//2 + 1//2+ 3//2 = 2\n",
    "その3倍だから2＊4= 8\n",
    "そこから\n",
    "(3//2 + 3//2 - (6)//2)*(K-1) = -K + 1 を引いたもの "
   ]
  },
  {
   "cell_type": "code",
   "execution_count": null,
   "metadata": {},
   "outputs": [],
   "source": []
  },
  {
   "cell_type": "code",
   "execution_count": 4,
   "metadata": {},
   "outputs": [
    {
     "ename": "NameError",
     "evalue": "name 'tail' is not defined",
     "output_type": "error",
     "traceback": [
      "\u001b[0;31m---------------------------------------------------------------------------\u001b[0m",
      "\u001b[0;31mNameError\u001b[0m                                 Traceback (most recent call last)",
      "\u001b[0;32m<ipython-input-4-622469897a63>\u001b[0m in \u001b[0;36m<module>\u001b[0;34m()\u001b[0m\n\u001b[0;32m----> 1\u001b[0;31m \u001b[0mtail\u001b[0m\u001b[0;34m\u001b[0m\u001b[0m\n\u001b[0m",
      "\u001b[0;31mNameError\u001b[0m: name 'tail' is not defined"
     ]
    }
   ],
   "source": [
    "tail"
   ]
  },
  {
   "cell_type": "code",
   "execution_count": null,
   "metadata": {},
   "outputs": [],
   "source": []
  }
 ],
 "metadata": {
  "kernelspec": {
   "display_name": "Python 3",
   "language": "python",
   "name": "python3"
  },
  "language_info": {
   "codemirror_mode": {
    "name": "ipython",
    "version": 3
   },
   "file_extension": ".py",
   "mimetype": "text/x-python",
   "name": "python",
   "nbconvert_exporter": "python",
   "pygments_lexer": "ipython3",
   "version": "3.6.6"
  }
 },
 "nbformat": 4,
 "nbformat_minor": 2
}
