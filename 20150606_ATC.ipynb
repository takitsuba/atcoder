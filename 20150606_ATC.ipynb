{
 "cells": [
  {
   "cell_type": "markdown",
   "metadata": {},
   "source": [
    "# A"
   ]
  },
  {
   "cell_type": "code",
   "execution_count": null,
   "metadata": {},
   "outputs": [],
   "source": [
    "a = [[False]*10 for _ in range(20)]"
   ]
  },
  {
   "cell_type": "code",
   "execution_count": null,
   "metadata": {},
   "outputs": [],
   "source": [
    "a"
   ]
  },
  {
   "cell_type": "code",
   "execution_count": null,
   "metadata": {},
   "outputs": [],
   "source": [
    "a[2][2] =True\n",
    "a"
   ]
  },
  {
   "cell_type": "code",
   "execution_count": null,
   "metadata": {},
   "outputs": [],
   "source": [
    "def split_input():\n",
    "    _input = input().split()\n",
    "    # 手元でまとめてテキストをアップする場合\n",
    "    if len(_input)>=3:\n",
    "        Y, X = map(int, _input[:2])\n",
    "        table = []\n",
    "        \n",
    "        for i in _input[2:]:\n",
    "            tmp_x = [\"#\"] + list(i) + [\"#\"]\n",
    "            table.append(tmp_x)\n",
    "    \n",
    "    # 提出用\n",
    "    else:\n",
    "        Y,X = map(int, _input)\n",
    "        table = []\n",
    "\n",
    "        for i in range(Y):\n",
    "            tmp_x = [\"#\"] + list(input()) + [\"#\"]\n",
    "            table.append(tmp_x)\n",
    "\n",
    "    wall_ns = [\"#\" for _ in range(X+2)]\n",
    "    table = [wall_ns] + table + [wall_ns]\n",
    "    \n",
    "    return Y,X,table\n",
    "    \n",
    "Y, X, table = split_input()\n",
    "print(table)\n",
    "def start_s(table):\n",
    "    s_y = 0\n",
    "    s_x = 0\n",
    "    for s_y, x in enumerate(table):\n",
    "        for s_x, c in enumerate(x):\n",
    "            if c == \"s\":\n",
    "                return (s_y,s_x)\n",
    "\n",
    "s_y , s_x = start_s(table)\n",
    "# from  copy import deepcopy as dc\n",
    "def func(table,s_y,s_x):\n",
    "#     print(s_y, s_x)\n",
    "    if table[s_y][s_x] == \"g\":\n",
    "        return True\n",
    "#     table = dc(table)\n",
    "    table[s_y][s_x] = \"#\"\n",
    "    for ny, nx in [(-1,0),(1,0),(0,-1),(0,1)]:\n",
    "        if table[s_y+ny][s_x+nx] != \"#\":\n",
    "            if func(table, s_y+ny, s_x+nx):\n",
    "                return True\n",
    "    return False\n",
    "\n",
    "check = func(table, s_y, s_x)\n",
    "if check:\n",
    "    print(\"Yes\")\n",
    "else:\n",
    "    print(\"No\")"
   ]
  },
  {
   "cell_type": "code",
   "execution_count": 3,
   "metadata": {},
   "outputs": [
    {
     "name": "stdout",
     "output_type": "stream",
     "text": [
      "2 5\n",
      "s....\n",
      "####g\n",
      "Yes\n"
     ]
    }
   ],
   "source": [
    "import sys\n",
    "sys.setrecursionlimit(1000000)\n",
    "\n",
    "\n",
    "def split_input():\n",
    "    Y,X = map(int, input().split())\n",
    "    table = []\n",
    "\n",
    "    for _ in range(Y):\n",
    "        # 東西に壁をつくる\n",
    "        tmp_x = [\"#\"] + list(input()) + [\"#\"]\n",
    "        table.append(tmp_x)\n",
    "\n",
    "    # 南北に壁を作る\n",
    "    wall_ns = [\"#\" for _ in range(X+2)]\n",
    "    table = [wall_ns] + table + [wall_ns]\n",
    "    \n",
    "    return Y,X,table\n",
    "    \n",
    "Y, X, table = split_input()\n",
    "\n",
    "def start_s(table):\n",
    "    for s_y, x in enumerate(table):\n",
    "        for s_x, c in enumerate(x):\n",
    "            if c == \"s\":\n",
    "                return s_y, s_x\n",
    "\n",
    "s_y, s_x = start_s(table)\n",
    "\n",
    "def func(table, s_y, s_x):\n",
    "    if table[s_y][s_x] == \"g\":\n",
    "        return True\n",
    "    table[s_y][s_x] = \"#\"\n",
    "    for ny, nx in [(-1,0),(1,0),(0,-1),(0,1)]:\n",
    "        if table[s_y+ny][s_x+nx] != \"#\":\n",
    "            if func(table, s_y+ny, s_x+nx):\n",
    "                return True\n",
    "    return False\n",
    "\n",
    "check = func(table, s_y, s_x)\n",
    "\n",
    "if check:\n",
    "    print(\"Yes\")\n",
    "else:\n",
    "    print(\"No\")"
   ]
  },
  {
   "cell_type": "code",
   "execution_count": 4,
   "metadata": {},
   "outputs": [
    {
     "name": "stdout",
     "output_type": "stream",
     "text": [
      "0 1\n",
      "1 2\n",
      "2 3\n",
      "3 4\n",
      "4 5\n"
     ]
    }
   ],
   "source": [
    "for i,j in enumerate([1,2,3,4,5]):\n",
    "    print(i,j)"
   ]
  },
  {
   "cell_type": "code",
   "execution_count": null,
   "metadata": {},
   "outputs": [],
   "source": [
    "func(table,1,1)"
   ]
  },
  {
   "cell_type": "code",
   "execution_count": null,
   "metadata": {},
   "outputs": [],
   "source": [
    "list(\"hogehoge\")"
   ]
  },
  {
   "cell_type": "code",
   "execution_count": null,
   "metadata": {},
   "outputs": [],
   "source": []
  },
  {
   "cell_type": "code",
   "execution_count": null,
   "metadata": {},
   "outputs": [],
   "source": []
  },
  {
   "cell_type": "code",
   "execution_count": null,
   "metadata": {},
   "outputs": [],
   "source": []
  },
  {
   "cell_type": "code",
   "execution_count": null,
   "metadata": {},
   "outputs": [],
   "source": []
  },
  {
   "cell_type": "code",
   "execution_count": null,
   "metadata": {},
   "outputs": [],
   "source": []
  },
  {
   "cell_type": "code",
   "execution_count": null,
   "metadata": {},
   "outputs": [],
   "source": []
  },
  {
   "cell_type": "code",
   "execution_count": null,
   "metadata": {},
   "outputs": [],
   "source": []
  },
  {
   "cell_type": "code",
   "execution_count": null,
   "metadata": {},
   "outputs": [],
   "source": []
  },
  {
   "cell_type": "markdown",
   "metadata": {},
   "source": [
    "# B\n",
    "- Union Find"
   ]
  },
  {
   "cell_type": "code",
   "execution_count": null,
   "metadata": {},
   "outputs": [],
   "source": [
    "N, Q = [int(x) for x in input().split()]\n",
    "p_list = []\n",
    "a_list = []\n",
    "b_list = []\n",
    "\n",
    "for i in range(Q):\n",
    "    p, a, b = [int(x) for x in input().split()]\n",
    "    \n",
    "    p_list.append(p)\n",
    "    a_list.append(a)\n",
    "    b_list.append(b)\n",
    "\n",
    "def root_func(k):\n",
    "    if not k in root_dict:\n",
    "        root_dict[k] = k\n",
    "        rank_dict[k] = 1\n",
    "        return k\n",
    "    \n",
    "    if root_dict[k] == k:\n",
    "        return k\n",
    "    else:\n",
    "        return root_func(root_dict[k])\n",
    "\n",
    "def same_bool(x, y):\n",
    "    return root_func(x)==root_func(y)\n",
    "\n",
    "def connect(x, y):\n",
    "    root_x = root_func(x)\n",
    "    root_y = root_func(y)\n",
    "    if not root_x == root_y:\n",
    "        if rank_dict[root_x] >= rank_dict[root_y]:\n",
    "            # 短い方の根を長い方の根にする\n",
    "            # 等しいときはxにくっつける\n",
    "            root_dict[y] = root_x\n",
    "        else:\n",
    "            root_dict[x] = root_y\n",
    "\n",
    "        if rank_dict[root_x]==rank_dict[root_y]:\n",
    "            # 等しいときxにくっつけると、xのランクが1増える\n",
    "            rank_dict[x] += 1\n",
    "\n",
    "root_dict = {}\n",
    "rank_dict = {}\n",
    "for p,a,b in zip(p_list, a_list ,b_list):\n",
    "#     print(p,a,b)\n",
    "    if p == 0:\n",
    "        connect(a, b)\n",
    "\n",
    "    if p == 1:\n",
    "        if same_bool(a, b):\n",
    "            print(\"Yes\")\n",
    "        else:\n",
    "            print(\"No\")\n",
    "            \n",
    "#     print(\"root\",root_dict)\n",
    "#     print(\"rank\",rank_dict)"
   ]
  },
  {
   "cell_type": "code",
   "execution_count": null,
   "metadata": {},
   "outputs": [],
   "source": []
  }
 ],
 "metadata": {
  "kernelspec": {
   "display_name": "Python 3",
   "language": "python",
   "name": "python3"
  },
  "language_info": {
   "codemirror_mode": {
    "name": "ipython",
    "version": 3
   },
   "file_extension": ".py",
   "mimetype": "text/x-python",
   "name": "python",
   "nbconvert_exporter": "python",
   "pygments_lexer": "ipython3",
   "version": "3.6.6"
  }
 },
 "nbformat": 4,
 "nbformat_minor": 2
}
