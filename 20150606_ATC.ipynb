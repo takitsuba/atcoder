{
 "cells": [
  {
   "cell_type": "markdown",
   "metadata": {},
   "source": [
    "# B\n",
    "- Union Find"
   ]
  },
  {
   "cell_type": "code",
   "execution_count": 1,
   "metadata": {},
   "outputs": [
    {
     "name": "stdout",
     "output_type": "stream",
     "text": [
      "8 9\n",
      "0 1 2\n",
      "0 3 2\n",
      "1 1 3\n",
      "1 1 4\n",
      "0 2 4\n",
      "1 4 1\n",
      "0 4 2\n",
      "0 0 0\n",
      "1 0 0\n",
      "Yes\n",
      "No\n",
      "Yes\n",
      "Yes\n"
     ]
    }
   ],
   "source": [
    "N, Q = [int(x) for x in input().split()]\n",
    "p_list = []\n",
    "a_list = []\n",
    "b_list = []\n",
    "\n",
    "for i in range(Q):\n",
    "    p, a, b = [int(x) for x in input().split()]\n",
    "    \n",
    "    p_list.append(p)\n",
    "    a_list.append(a)\n",
    "    b_list.append(b)\n",
    "\n",
    "def root_func(k):\n",
    "    if not k in root_dict:\n",
    "        root_dict[k] = k\n",
    "        rank_dict[k] = 1\n",
    "        return k\n",
    "    \n",
    "    if root_dict[k] == k:\n",
    "        return k\n",
    "    else:\n",
    "        return root_func(root_dict[k])\n",
    "\n",
    "def same_bool(x, y):\n",
    "    return root_func(x)==root_func(y)\n",
    "\n",
    "def connect(x, y):\n",
    "    root_x = root_func(x)\n",
    "    root_y = root_func(y)\n",
    "    if not root_x == root_y:\n",
    "        if rank_dict[root_x] >= rank_dict[root_y]:\n",
    "            # 短い方の根を長い方の根にする\n",
    "            # 等しいときはxにくっつける\n",
    "            root_dict[y] = root_x\n",
    "        else:\n",
    "            root_dict[x] = root_y\n",
    "\n",
    "        if rank_dict[root_x]==rank_dict[root_y]:\n",
    "            # 等しいときxにくっつけると、xのランクが1増える\n",
    "            rank_dict[x] += 1\n",
    "\n",
    "root_dict = {}\n",
    "rank_dict = {}\n",
    "for p,a,b in zip(p_list, a_list ,b_list):\n",
    "#     print(p,a,b)\n",
    "    if p == 0:\n",
    "        connect(a, b)\n",
    "\n",
    "    if p == 1:\n",
    "        if same_bool(a, b):\n",
    "            print(\"Yes\")\n",
    "        else:\n",
    "            print(\"No\")\n",
    "            \n",
    "#     print(\"root\",root_dict)\n",
    "#     print(\"rank\",rank_dict)"
   ]
  },
  {
   "cell_type": "code",
   "execution_count": null,
   "metadata": {},
   "outputs": [],
   "source": []
  }
 ],
 "metadata": {
  "kernelspec": {
   "display_name": "Python 3",
   "language": "python",
   "name": "python3"
  },
  "language_info": {
   "codemirror_mode": {
    "name": "ipython",
    "version": 3
   },
   "file_extension": ".py",
   "mimetype": "text/x-python",
   "name": "python",
   "nbconvert_exporter": "python",
   "pygments_lexer": "ipython3",
   "version": "3.6.6"
  }
 },
 "nbformat": 4,
 "nbformat_minor": 2
}
