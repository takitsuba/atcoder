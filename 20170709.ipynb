{
 "cells": [
  {
   "cell_type": "code",
   "execution_count": 28,
   "metadata": {},
   "outputs": [],
   "source": [
    "import numpy as np\n",
    "import itertools\n",
    "from scipy.special import comb"
   ]
  },
  {
   "cell_type": "code",
   "execution_count": 33,
   "metadata": {},
   "outputs": [
    {
     "name": "stdout",
     "output_type": "stream",
     "text": [
      "1 1\n",
      "50\n",
      "1\n"
     ]
    }
   ],
   "source": [
    "import numpy as np\n",
    "import itertools\n",
    "# from scipy.special import comb\n",
    "\n",
    "n,p =input().split()\n",
    "n = int(n)\n",
    "p = int(p)\n",
    "\n",
    "a_list = input().split()\n",
    "a_list = [int(x) for x in a_list]\n",
    "a_array = np.array(a_list)\n",
    "\n",
    "amari = a_array % 2\n",
    "\n",
    "zero_count = np.sum(amari == 0)\n",
    "one_count = np.sum(amari == 1)\n",
    "\n",
    "zero_pattern = 2**zero_count\n",
    "one_pattern = 2**one_count/2\n",
    "if p == 0:\n",
    "    if one_count >= 2:\n",
    "        i = 1\n",
    "        one_pattern = 1\n",
    "        \n",
    "#         while i*2 <= one_count:\n",
    "# #             one_pattern  += len(list(itertools.combinations(np.arange(one_count),i*2)))\n",
    "#             one_pattern += comb(one_count,i*2)\n",
    "#             i += 1\n",
    "    else:\n",
    "        one_pattern = 1\n",
    "else:\n",
    "    if one_count >= 1:\n",
    "        i = 1\n",
    "        one_pattern = 0\n",
    "        while i*2 - 1 <= one_count:\n",
    "#             one_pattern  += len(list(itertools.combinations(np.arange(one_count),i*2-1)))\n",
    "            one_pattern += comb(one_count,i*2-1)\n",
    "            i += 1\n",
    "    if one_count < 1:\n",
    "        one_pattern = 0\n",
    "        \n",
    "print(int(zero_pattern * one_pattern))"
   ]
  },
  {
   "cell_type": "code",
   "execution_count": 30,
   "metadata": {},
   "outputs": [
    {
     "name": "stdout",
     "output_type": "stream",
     "text": [
      "17592186044416\n"
     ]
    }
   ],
   "source": [
    "print(int(zero_pattern * one_pattern))"
   ]
  },
  {
   "cell_type": "code",
   "execution_count": null,
   "metadata": {
    "collapsed": true
   },
   "outputs": [],
   "source": [
    "45 1\n",
    "17 55 85 55 74 20 90 67 40 70 39 89 91 50 16 24 14 43 24 66 25 9 89 71 41 16 53 13 61 15 85 72 62 67 42 26 36 66 4 87 59 91 4 25 26"
   ]
  },
  {
   "cell_type": "code",
   "execution_count": 22,
   "metadata": {},
   "outputs": [
    {
     "name": "stdout",
     "output_type": "stream",
     "text": [
      "4\n"
     ]
    }
   ],
   "source": [
    "amari = a_array % 2\n",
    "\n",
    "zero_count = np.sum(amari == 0)\n",
    "one_count = np.sum(amari == 1)\n",
    "\n",
    "zero_pattern = 2**zero_count\n",
    "\n",
    "if p == 0:\n",
    "    if one_count >= 2:\n",
    "        i = 1\n",
    "        one_pattern = 1\n",
    "        while i*2 <= one_count:\n",
    "            one_pattern  += len(list(itertools.combinations(np.arange(one_count),i*2)))\n",
    "            i += 1\n",
    "    else:\n",
    "        one_pattern = 1\n",
    "else:\n",
    "    if one_count >= 1:\n",
    "        i = 1\n",
    "        one_pattern = 0\n",
    "        while i*2 - 1 <= one_count:\n",
    "            one_pattern  += len(list(itertools.combinations(np.arange(one_count),i*2-1)))\n",
    "            i += 1\n",
    "    if one_count < 1:\n",
    "        one_pattern = 0\n",
    "        \n",
    "print(zero_pattern * one_pattern)"
   ]
  },
  {
   "cell_type": "code",
   "execution_count": 20,
   "metadata": {},
   "outputs": [
    {
     "data": {
      "text/plain": [
       "1"
      ]
     },
     "execution_count": 20,
     "metadata": {},
     "output_type": "execute_result"
    }
   ],
   "source": [
    "zero_pattern"
   ]
  },
  {
   "cell_type": "code",
   "execution_count": 21,
   "metadata": {},
   "outputs": [
    {
     "data": {
      "text/plain": [
       "3"
      ]
     },
     "execution_count": 21,
     "metadata": {},
     "output_type": "execute_result"
    }
   ],
   "source": [
    "one_pattern"
   ]
  },
  {
   "cell_type": "code",
   "execution_count": 10,
   "metadata": {},
   "outputs": [
    {
     "data": {
      "text/plain": [
       "array([1, 1, 1])"
      ]
     },
     "execution_count": 10,
     "metadata": {},
     "output_type": "execute_result"
    }
   ],
   "source": [
    "amari"
   ]
  },
  {
   "cell_type": "code",
   "execution_count": 15,
   "metadata": {},
   "outputs": [
    {
     "data": {
      "text/plain": [
       "0"
      ]
     },
     "execution_count": 15,
     "metadata": {},
     "output_type": "execute_result"
    }
   ],
   "source": [
    "zero_count = np.sum(amari == 0)\n",
    "one_count = np.sum(amari == 1)"
   ]
  },
  {
   "cell_type": "code",
   "execution_count": 16,
   "metadata": {},
   "outputs": [
    {
     "data": {
      "text/plain": [
       "3"
      ]
     },
     "execution_count": 16,
     "metadata": {},
     "output_type": "execute_result"
    }
   ],
   "source": []
  },
  {
   "cell_type": "markdown",
   "metadata": {},
   "source": [
    "# B"
   ]
  },
  {
   "cell_type": "code",
   "execution_count": null,
   "metadata": {
    "collapsed": true
   },
   "outputs": [],
   "source": [
    "import numpy as np\n",
    "import itertools\n",
    "\n",
    "n,a,b,c,d = input().split()\n",
    "n = int(n)\n",
    "a = int(a)\n",
    "b = int(b)\n",
    "c = int(c)\n",
    "d = int(d)\n",
    "\n",
    "diff = np.sqrt((a-b)**2)\n",
    "diff_amari = diff % d\n",
    "c_amari = c % d\n"
   ]
  },
  {
   "cell_type": "markdown",
   "metadata": {},
   "source": [
    "# C"
   ]
  },
  {
   "cell_type": "code",
   "execution_count": 32,
   "metadata": {},
   "outputs": [
    {
     "name": "stdout",
     "output_type": "stream",
     "text": [
      "5 3\n",
      "1 1 3 4 5\n",
      "1 2\n",
      "2 5\n",
      "5 4\n"
     ]
    }
   ],
   "source": [
    "import numpy as np\n",
    "import itertools\n",
    "\n",
    "n,m = input().split()\n",
    "n = int(n)\n",
    "m = int(m)\n",
    "\n",
    "a_list = input().split()\n",
    "a_list = [int(x) for x in a_list]\n",
    "\n",
    "x_list =list()\n",
    "y_list = list()\n",
    "for _ in range(m):\n",
    "    x,y = input().split()\n",
    "    x_list.append(int(x))\n",
    "    y_list.append(int(y))"
   ]
  },
  {
   "cell_type": "code",
   "execution_count": null,
   "metadata": {
    "collapsed": true
   },
   "outputs": [],
   "source": [
    "for i in range(m):\n",
    "    a_list[x_list[i]] = y_list[i]\n",
    "    "
   ]
  },
  {
   "cell_type": "code",
   "execution_count": 34,
   "metadata": {
    "collapsed": true
   },
   "outputs": [],
   "source": [
    "## A"
   ]
  },
  {
   "cell_type": "code",
   "execution_count": 37,
   "metadata": {},
   "outputs": [
    {
     "name": "stdout",
     "output_type": "stream",
     "text": [
      "45 1\n",
      "17 55 85 55 74 20 90 67 40 70 39 89 91 50 16 24 14 43 24 66 25 9 89 71 41 16 53 13 61 15 85 72 62 67 42 26 36 66 4 87 59 91 4 25 26\n",
      "17592186044416\n"
     ]
    }
   ],
   "source": [
    "import numpy as np\n",
    "import itertools\n",
    "\n",
    "n,p =input().split()\n",
    "n = int(n)\n",
    "p = int(p)\n",
    "\n",
    "a_list = input().split()\n",
    "a_list = [int(x) for x in a_list]\n",
    "a_array = np.array(a_list)\n",
    "\n",
    "amari = a_array % 2\n",
    "\n",
    "zero_count = np.sum(amari == 0)\n",
    "one_count = np.sum(amari == 1)\n",
    "\n",
    "zero_pattern = 2**zero_count\n",
    "if p == 0:\n",
    "    if one_count >= 2:\n",
    "        one_pattern = 2**one_count/2\n",
    "    else:\n",
    "        one_pattern = 1\n",
    "else:\n",
    "    if one_count >= 1:\n",
    "        one_pattern = 2**one_count/2\n",
    "    if one_count < 1:\n",
    "        one_pattern = 0\n",
    "        \n",
    "print(int(zero_pattern * one_pattern))"
   ]
  },
  {
   "cell_type": "code",
   "execution_count": null,
   "metadata": {
    "collapsed": true
   },
   "outputs": [],
   "source": [
    "45 1\n",
    "17 55 85 55 74 20 90 67 40 70 39 89 91 50 16 24 14 43 24 66 25 9 89 71 41 16 53 13 61 15 85 72 62 67 42 26 36 66 4 87 59 91 4 25 26"
   ]
  }
 ],
 "metadata": {
  "kernelspec": {
   "display_name": "Python 3",
   "language": "python",
   "name": "python3"
  },
  "language_info": {
   "codemirror_mode": {
    "name": "ipython",
    "version": 3
   },
   "file_extension": ".py",
   "mimetype": "text/x-python",
   "name": "python",
   "nbconvert_exporter": "python",
   "pygments_lexer": "ipython3",
   "version": "3.6.0"
  }
 },
 "nbformat": 4,
 "nbformat_minor": 2
}
