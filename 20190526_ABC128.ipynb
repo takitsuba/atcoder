{
 "cells": [
  {
   "cell_type": "markdown",
   "metadata": {},
   "source": [
    "# A"
   ]
  },
  {
   "cell_type": "code",
   "execution_count": null,
   "metadata": {},
   "outputs": [],
   "source": [
    "A, P = map(int,input().split())\n",
    "\n",
    "print((A*3 + P)//2)"
   ]
  },
  {
   "cell_type": "markdown",
   "metadata": {},
   "source": [
    "# B"
   ]
  },
  {
   "cell_type": "code",
   "execution_count": null,
   "metadata": {},
   "outputs": [],
   "source": [
    "N = int(input())\n",
    "\n",
    "sp_list = []\n",
    "for i in range(N):\n",
    "    S,P = input().split()\n",
    "    P = int(P)    \n",
    "    sp_list.append([S,P])\n",
    "\n",
    "city_dict = {}\n",
    "for i,sp in enumerate(sp_list):\n",
    "    s = sp[0]\n",
    "    p = sp[1]\n",
    "    if s in city_dict:\n",
    "        city_dict[s] = city_dict[s]+[[p,i+1]]\n",
    "    else:\n",
    "#         print()\n",
    "        city_dict[s] = [[p,i+1]]\n",
    "\n",
    "from operator import itemgetter\n",
    "for k, v in sorted(city_dict.items()):\n",
    "#     print(k,v)\n",
    "    v.sort(key=itemgetter(0))\n",
    "    for v0,v1 in v[::-1]:\n",
    "        print(v1)\n",
    "    "
   ]
  },
  {
   "cell_type": "code",
   "execution_count": null,
   "metadata": {},
   "outputs": [],
   "source": [
    "k"
   ]
  },
  {
   "cell_type": "code",
   "execution_count": null,
   "metadata": {},
   "outputs": [],
   "source": [
    "city_dict"
   ]
  },
  {
   "cell_type": "markdown",
   "metadata": {},
   "source": [
    "# C"
   ]
  },
  {
   "cell_type": "code",
   "execution_count": null,
   "metadata": {},
   "outputs": [],
   "source": [
    "N, M = map(int,input().split())\n",
    "s_list = []\n",
    "for i in range(M):\n",
    "    KS = list(map(int,input().split()))\n",
    "    s_list.append(KS[1:])\n",
    "p_list = list(map(int,input().split()))\n",
    "\n",
    "patterns = []\n",
    "for i in range(2**N):\n",
    "    l = list(map(int,list(format(bin(i)[2:]))))\n",
    "    l = [0 for _ in range(N-len(l))] + l\n",
    "    patterns.append(l)\n",
    "\n",
    "for i in range(M):\n",
    "    tmp_patterns = []\n",
    "    for pat in patterns:\n",
    "        tmp_sum = 0\n",
    "        for s in s_list[i]:\n",
    "            tmp_sum += pat[s-1]\n",
    "        if tmp_sum%2 == p_list[i]:\n",
    "            tmp_patterns.append(pat)\n",
    "    patterns = tmp_patterns\n",
    "\n",
    "print(len(patterns))"
   ]
  },
  {
   "cell_type": "markdown",
   "metadata": {},
   "source": [
    "# D"
   ]
  },
  {
   "cell_type": "code",
   "execution_count": 16,
   "metadata": {},
   "outputs": [
    {
     "name": "stdout",
     "output_type": "stream",
     "text": [
      "6 4\n",
      "-10 8 2 1 2 6\n",
      "0\n",
      "6\n",
      "6\n",
      "8\n",
      "8\n",
      "8\n",
      "9\n",
      "9\n",
      "11\n",
      "-10\n",
      "0\n",
      "-4\n",
      "6\n",
      "6\n",
      "-2\n",
      "8\n",
      "-1\n",
      "-2\n",
      "8\n",
      "8\n",
      "4\n",
      "14\n",
      "6\n",
      "0\n",
      "10\n",
      "6\n",
      "1\n"
     ]
    }
   ],
   "source": [
    "N,K = map(int, input().split())\n",
    "v_list = list(map(int,input().split()))\n",
    "\n",
    "\n",
    "def func(n):\n",
    "    lri = []\n",
    "    for l in range(n+1):\n",
    "        for r in range(n-l+1):\n",
    "            for i in range(n-l-r+1):\n",
    "                if i>l+r:\n",
    "                    continue\n",
    "                if l+r >N:\n",
    "                    continue\n",
    "                lri.append([l,r,i])\n",
    "    return lri\n",
    "\n",
    "lri_list = func(K)\n",
    "\n",
    "result = 0\n",
    "for l,r,i in lri_list:\n",
    "#     print(l,r,i)\n",
    "    if r>0:\n",
    "        tmp_v = v_list[:l] + v_list[-r:]\n",
    "    else:\n",
    "        tmp_v = v_list[:l]\n",
    "#     print(tmp_v)\n",
    "    tmp_v = sorted(tmp_v)\n",
    "#     print(tmp_v)\n",
    "    \n",
    "    tmp_sum = sum(tmp_v)\n",
    "    \n",
    "    for v in tmp_v:\n",
    "        if i<=0:\n",
    "            break\n",
    "        if v<0:\n",
    "            tmp_sum += -v\n",
    "            i -= 1\n",
    "    if result < tmp_sum:\n",
    "        result = tmp_sum\n",
    "#     print(tmp_sum)\n",
    "print(result)"
   ]
  },
  {
   "cell_type": "code",
   "execution_count": null,
   "metadata": {},
   "outputs": [],
   "source": [
    "result"
   ]
  },
  {
   "cell_type": "code",
   "execution_count": null,
   "metadata": {},
   "outputs": [],
   "source": []
  }
 ],
 "metadata": {
  "kernelspec": {
   "display_name": "Python 3",
   "language": "python",
   "name": "python3"
  },
  "language_info": {
   "codemirror_mode": {
    "name": "ipython",
    "version": 3
   },
   "file_extension": ".py",
   "mimetype": "text/x-python",
   "name": "python",
   "nbconvert_exporter": "python",
   "pygments_lexer": "ipython3",
   "version": "3.6.6"
  }
 },
 "nbformat": 4,
 "nbformat_minor": 2
}
