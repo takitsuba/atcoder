{
 "cells": [
  {
   "cell_type": "markdown",
   "metadata": {},
   "source": [
    "# A"
   ]
  },
  {
   "cell_type": "markdown",
   "metadata": {},
   "source": [
    "a\n",
    "ab abc\n",
    "bc bca\n",
    "bef befa\n",
    "\n",
    "使ってない文字があるなら、それのうちもっともaに近い文字をくっつける\n",
    "使ってない文字がないなら、\n",
    "abcd___xyz abcd___xz\n",
    "abcd___xzy abcd___y abcd___yx abcd___yxz abcd___yz abcd___yzx\n",
    "\n"
   ]
  },
  {
   "cell_type": "code",
   "execution_count": null,
   "metadata": {},
   "outputs": [],
   "source": [
    "1,2,3,4,....25,26 24,26\n",
    "\n",
    "25,26,24,23,....4.3.2.1 26"
   ]
  },
  {
   "cell_type": "code",
   "execution_count": null,
   "metadata": {},
   "outputs": [],
   "source": [
    "...24,22,25,23,21"
   ]
  },
  {
   "cell_type": "code",
   "execution_count": 54,
   "metadata": {},
   "outputs": [
    {
     "name": "stdout",
     "output_type": "stream",
     "text": [
      "abcdefghijklmnopqrstuvwzyx\n",
      "abcdefghijklmnopqrstuvx\n"
     ]
    }
   ],
   "source": [
    "S = input()\n",
    "\n",
    "alpha2num = lambda c: ord(c) - ord('a') + 1\n",
    "num2alpha = lambda c: chr(c+96)\n",
    "\n",
    "snum = list(map(alpha2num, list(S)))\n",
    "\n",
    "def next_snum(snum):\n",
    "    if len(snum) <26:\n",
    "        for i in range(1,27):\n",
    "            if not i in snum:\n",
    "                snum.append(i)\n",
    "                return snum\n",
    "    else:\n",
    "        for i in range(25,0,-1):\n",
    "#             print(\"hoge\")\n",
    "            # 後ろから見ていき、左より右が大きいことがあれば、\n",
    "            if snum[i-1] < snum[i]:\n",
    "                # i-1番目は消す。i番目以降で、i-1より大きく、もっとも小さい数を足す\n",
    "                # snum[i]は必ず該当するので、そのようなminnumが1つ以上存在する\n",
    "                minnum = 27\n",
    "                for nxt in snum[i:]:\n",
    "                    if minnum > nxt and nxt > snum[i-1]:\n",
    "                        minnum = nxt\n",
    "                        \n",
    "#                 print(\"nxt:\",nxt)\n",
    "                snum = snum[:i-1] + [minnum]\n",
    "#                 print(snum)\n",
    "                return snum\n",
    "        # 1つも上記のようなものがなければ、次のSは存在しない\n",
    "        return -1\n",
    "\n",
    "result_num = next_snum(snum)\n",
    "\n",
    "if result_num == -1:\n",
    "    print(-1)\n",
    "else:\n",
    "    print(\"\".join(list(map(num2alpha,result_num))))"
   ]
  },
  {
   "cell_type": "code",
   "execution_count": null,
   "metadata": {},
   "outputs": [],
   "source": []
  }
 ],
 "metadata": {
  "kernelspec": {
   "display_name": "Python 3",
   "language": "python",
   "name": "python3"
  },
  "language_info": {
   "codemirror_mode": {
    "name": "ipython",
    "version": 3
   },
   "file_extension": ".py",
   "mimetype": "text/x-python",
   "name": "python",
   "nbconvert_exporter": "python",
   "pygments_lexer": "ipython3",
   "version": "3.6.6"
  }
 },
 "nbformat": 4,
 "nbformat_minor": 2
}
