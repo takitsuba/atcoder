{
 "cells": [
  {
   "cell_type": "markdown",
   "metadata": {},
   "source": [
    "# A"
   ]
  },
  {
   "cell_type": "code",
   "execution_count": 8,
   "metadata": {},
   "outputs": [
    {
     "name": "stdout",
     "output_type": "stream",
     "text": [
      "101\n"
     ]
    }
   ],
   "source": [
    "s = list(input())\n",
    "s = list(map(lambda x:int(x),s))\n",
    "count = len(list(filter(lambda x: x==1, s)))\n",
    "print(count)"
   ]
  },
  {
   "cell_type": "markdown",
   "metadata": {},
   "source": [
    "# B"
   ]
  },
  {
   "cell_type": "code",
   "execution_count": 14,
   "metadata": {},
   "outputs": [
    {
     "name": "stdout",
     "output_type": "stream",
     "text": [
      "3\n",
      "8 12 40\n"
     ]
    }
   ],
   "source": [
    "n = int(input())\n",
    "a = list(map(lambda x: int(x), input().split()))"
   ]
  },
  {
   "cell_type": "code",
   "execution_count": 19,
   "metadata": {},
   "outputs": [
    {
     "name": "stdout",
     "output_type": "stream",
     "text": [
      "6\n",
      "382253568 723152896 37802240 379425024 404894720 471526144\n",
      "8\n"
     ]
    }
   ],
   "source": [
    "n = int(input())\n",
    "a = list(map(lambda x: int(x), input().split()))\n",
    "\n",
    "count = 0\n",
    "i = 2\n",
    "while True:\n",
    "    if len(a) == len(list(filter(lambda x: x%i==0, a))):\n",
    "        count += 1\n",
    "        i *= 2\n",
    "    else:\n",
    "        print(count)\n",
    "        break"
   ]
  },
  {
   "cell_type": "code",
   "execution_count": 23,
   "metadata": {},
   "outputs": [
    {
     "data": {
      "text/plain": [
       "0"
      ]
     },
     "execution_count": 23,
     "metadata": {},
     "output_type": "execute_result"
    }
   ],
   "source": [
    "a.count(2)"
   ]
  },
  {
   "cell_type": "code",
   "execution_count": null,
   "metadata": {
    "collapsed": true
   },
   "outputs": [],
   "source": []
  },
  {
   "cell_type": "code",
   "execution_count": null,
   "metadata": {
    "collapsed": true
   },
   "outputs": [],
   "source": []
  },
  {
   "cell_type": "markdown",
   "metadata": {},
   "source": [
    "# C"
   ]
  },
  {
   "cell_type": "code",
   "execution_count": 50,
   "metadata": {},
   "outputs": [
    {
     "name": "stdout",
     "output_type": "stream",
     "text": [
      "10 3\n",
      "5 1 3 2 4 1 1 2 3 4\n",
      "3\n"
     ]
    }
   ],
   "source": [
    "from collections import Counter\n",
    "import numpy as np\n",
    "\n",
    "n,k = input().split()\n",
    "n = int(n)\n",
    "k = int(k)\n",
    "a_list = input().split()\n",
    "count = np.array(list(Counter(a_list).values()))\n",
    "count.sort()\n",
    "count = count[::-1]\n",
    "print(count[k:].sum())"
   ]
  },
  {
   "cell_type": "code",
   "execution_count": null,
   "metadata": {
    "collapsed": true
   },
   "outputs": [],
   "source": []
  },
  {
   "cell_type": "markdown",
   "metadata": {},
   "source": [
    "## 2回目"
   ]
  },
  {
   "cell_type": "code",
   "execution_count": 56,
   "metadata": {},
   "outputs": [
    {
     "name": "stdout",
     "output_type": "stream",
     "text": [
      "10 3\n",
      "5 1 3 2 4 1 1 2 3 4\n",
      "3\n"
     ]
    }
   ],
   "source": [
    "from collections import Counter\n",
    "\n",
    "n,k = list(map(lambda x: int(x),input().split()))\n",
    "a   = list(map(lambda x: int(x),input().split()))\n",
    "\n",
    "print(sum(sorted(list(Counter(a).values()),reverse=True)[k:]))"
   ]
  },
  {
   "cell_type": "code",
   "execution_count": null,
   "metadata": {
    "collapsed": true
   },
   "outputs": [],
   "source": []
  },
  {
   "cell_type": "markdown",
   "metadata": {},
   "source": [
    "# 参考回答\n",
    "* https://beta.atcoder.jp/contests/arc086/submissions/1858992"
   ]
  },
  {
   "cell_type": "code",
   "execution_count": 51,
   "metadata": {},
   "outputs": [
    {
     "name": "stdout",
     "output_type": "stream",
     "text": [
      "5 2\n",
      "1 1 2 2 5\n",
      "1\n"
     ]
    }
   ],
   "source": [
    "from collections import Counter\n",
    "\n",
    "N, K = map(int, input().split())\n",
    "As = list(map(int, input().split()))\n",
    "\n",
    "cnt = list(Counter(As).values())\n",
    "cnt.sort(reverse=True)\n",
    "\n",
    "print(sum(cnt[K:]))"
   ]
  },
  {
   "cell_type": "markdown",
   "metadata": {},
   "source": [
    "* map関数を使った方がシンプルにまとまる\n",
    "* 僕はnumpyに頼りすぎているように感じる。"
   ]
  },
  {
   "cell_type": "code",
   "execution_count": null,
   "metadata": {
    "collapsed": true
   },
   "outputs": [],
   "source": []
  },
  {
   "cell_type": "code",
   "execution_count": null,
   "metadata": {
    "collapsed": true
   },
   "outputs": [],
   "source": []
  },
  {
   "cell_type": "markdown",
   "metadata": {},
   "source": [
    "# D"
   ]
  },
  {
   "cell_type": "code",
   "execution_count": 57,
   "metadata": {},
   "outputs": [
    {
     "name": "stdout",
     "output_type": "stream",
     "text": [
      "3\n",
      "-2 5 -1\n"
     ]
    }
   ],
   "source": [
    "n = int(input())\n",
    "a = list(map(lambda x: int(x),input().split()))"
   ]
  },
  {
   "cell_type": "code",
   "execution_count": 71,
   "metadata": {
    "collapsed": true
   },
   "outputs": [],
   "source": [
    "# 失敗\n",
    "count = 0\n",
    "for i in range(n-1):\n",
    "    if a[i]<=a[i+1]:\n",
    "        pass\n",
    "    else:\n",
    "        diff = a[i+1] - a[i]\n",
    "        while diff < 0:\n",
    "            b = sorted(list(set(a)),reverse=True)\n",
    "            if b[0] < 0:\n",
    "                minus_under_diff = list(filter(lambda x: x <= diff, b))\n",
    "                if len(minus_under_diff) == 0:\n",
    "                    add_num = b[-1]\n",
    "                else:\n",
    "                    add_num = minus_under_diff[0]\n",
    "                for j in range(i+1):\n",
    "                    a[j] += add_num\n",
    "            else:\n",
    "                plus_over_diff = list(filter(lambda x: x >= -diff, b))\n",
    "                if len(plus_over_diff) > 0:\n",
    "                    add_num = plus_over_diff[-1]\n",
    "                    a[i+1] += add_num\n",
    "                    break\n",
    "                else:\n",
    "                    add_num = b[0]\n",
    "                    a[i+1] += add_num\n",
    "                    diff = a[i+1] - a[i]\n",
    "                    b = sorted(list(set(a)),reverse=True)\n",
    "\n",
    "        "
   ]
  },
  {
   "cell_type": "markdown",
   "metadata": {},
   "source": [
    "## 解説を読んで"
   ]
  },
  {
   "cell_type": "code",
   "execution_count": 67,
   "metadata": {},
   "outputs": [
    {
     "data": {
      "text/plain": [
       "1"
      ]
     },
     "execution_count": 67,
     "metadata": {},
     "output_type": "execute_result"
    }
   ],
   "source": [
    "[3,5,6].index(5)"
   ]
  },
  {
   "cell_type": "code",
   "execution_count": 70,
   "metadata": {},
   "outputs": [
    {
     "name": "stdout",
     "output_type": "stream",
     "text": [
      "3\n",
      "-2 5 -1\n",
      "5\n",
      "1 0\n",
      "1 1\n",
      "1 2\n",
      "0 1\n",
      "1 2\n",
      "\n"
     ]
    }
   ],
   "source": [
    "n = int(input())\n",
    "a = list(map(lambda x: int(x),input().split()))\n",
    "\n",
    "count = 0\n",
    "ans = \"\"\n",
    "\n",
    "max_num = max(a)\n",
    "max_idx = a.index(max_num)\n",
    "min_num = min(a)\n",
    "min_idx = a.index(min_num)\n",
    "\n",
    "if abs(max_num) >= abs(min_num):\n",
    "    for i in range(len(a)):\n",
    "        a[i] += max_num\n",
    "        ans += \"{} {}\\n\".format(max_idx+1, i+1)\n",
    "        count += 1\n",
    "    for i in range(len(a)-1):\n",
    "        a[i+1] += a[i]\n",
    "        ans += \"{} {}\\n\".format(i+1, i+1+1)\n",
    "        count += 1\n",
    "else:\n",
    "    for i in range(len(a)):\n",
    "        a[i] += min_num\n",
    "        ans += \"{} {}\\n\".format(min_idx+1, i+1)\n",
    "        count += 1\n",
    "    for i in range(len(a)-1):\n",
    "        a[len(a)-(i+2)] += a[len(a)-(i+1)]\n",
    "        ans += \"{} {}\\n\".format(len(a)-(i+1)+1, len(a)-(i+2)+1)\n",
    "        count += 1\n",
    "print(count)\n",
    "print(ans)"
   ]
  },
  {
   "cell_type": "code",
   "execution_count": null,
   "metadata": {
    "collapsed": true
   },
   "outputs": [],
   "source": []
  }
 ],
 "metadata": {
  "kernelspec": {
   "display_name": "Python 3",
   "language": "python",
   "name": "python3"
  },
  "language_info": {
   "codemirror_mode": {
    "name": "ipython",
    "version": 3
   },
   "file_extension": ".py",
   "mimetype": "text/x-python",
   "name": "python",
   "nbconvert_exporter": "python",
   "pygments_lexer": "ipython3",
   "version": "3.6.3"
  }
 },
 "nbformat": 4,
 "nbformat_minor": 2
}
