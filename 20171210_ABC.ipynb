{
 "cells": [
  {
   "cell_type": "markdown",
   "metadata": {},
   "source": [
    "# C"
   ]
  },
  {
   "cell_type": "code",
   "execution_count": 50,
   "metadata": {},
   "outputs": [
    {
     "name": "stdout",
     "output_type": "stream",
     "text": [
      "10 3\n",
      "5 1 3 2 4 1 1 2 3 4\n",
      "3\n"
     ]
    }
   ],
   "source": [
    "from collections import Counter\n",
    "import numpy as np\n",
    "\n",
    "n,k = input().split()\n",
    "n = int(n)\n",
    "k = int(k)\n",
    "a_list = input().split()\n",
    "count = np.array(list(Counter(a_list).values()))\n",
    "count.sort()\n",
    "count = count[::-1]\n",
    "print(count[k:].sum())"
   ]
  },
  {
   "cell_type": "markdown",
   "metadata": {},
   "source": [
    "# 参考回答\n",
    "* https://beta.atcoder.jp/contests/arc086/submissions/1858992"
   ]
  },
  {
   "cell_type": "code",
   "execution_count": 51,
   "metadata": {},
   "outputs": [
    {
     "name": "stdout",
     "output_type": "stream",
     "text": [
      "5 2\n",
      "1 1 2 2 5\n",
      "1\n"
     ]
    }
   ],
   "source": [
    "from collections import Counter\n",
    "\n",
    "N, K = map(int, input().split())\n",
    "As = list(map(int, input().split()))\n",
    "\n",
    "cnt = list(Counter(As).values())\n",
    "cnt.sort(reverse=True)\n",
    "\n",
    "print(sum(cnt[K:]))"
   ]
  },
  {
   "cell_type": "markdown",
   "metadata": {},
   "source": [
    "* map関数を使った方がシンプルにまとまる\n",
    "* 僕はnumpyに頼りすぎているように感じる。"
   ]
  }
 ],
 "metadata": {
  "kernelspec": {
   "display_name": "Python 3",
   "language": "python",
   "name": "python3"
  },
  "language_info": {
   "codemirror_mode": {
    "name": "ipython",
    "version": 3
   },
   "file_extension": ".py",
   "mimetype": "text/x-python",
   "name": "python",
   "nbconvert_exporter": "python",
   "pygments_lexer": "ipython3",
   "version": "3.6.3"
  }
 },
 "nbformat": 4,
 "nbformat_minor": 2
}
