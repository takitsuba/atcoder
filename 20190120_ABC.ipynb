{
 "cells": [
  {
   "cell_type": "markdown",
   "metadata": {},
   "source": [
    "# A"
   ]
  },
  {
   "cell_type": "code",
   "execution_count": 9,
   "metadata": {},
   "outputs": [
    {
     "name": "stdout",
     "output_type": "stream",
     "text": [
      "45 28 53\n",
      "630\n"
     ]
    }
   ],
   "source": [
    "a,b,c = input().split()\n",
    "a = int(a)\n",
    "b = int(b)\n",
    "c = int(c)\n",
    "\n",
    "print(int(a * b / 2))"
   ]
  },
  {
   "cell_type": "code",
   "execution_count": 7,
   "metadata": {},
   "outputs": [
    {
     "data": {
      "text/plain": [
       "3"
      ]
     },
     "execution_count": 7,
     "metadata": {},
     "output_type": "execute_result"
    }
   ],
   "source": [
    "a\n"
   ]
  },
  {
   "cell_type": "markdown",
   "metadata": {},
   "source": [
    "# B"
   ]
  },
  {
   "cell_type": "code",
   "execution_count": 15,
   "metadata": {},
   "outputs": [
    {
     "name": "stdout",
     "output_type": "stream",
     "text": [
      "1\n",
      "4\n"
     ]
    }
   ],
   "source": [
    "s = int(input())\n",
    "\n",
    "a = s\n",
    "\n",
    "a_list = [a]\n",
    "\n",
    "while True:\n",
    "    if a %2 == 0:\n",
    "        a = a/2\n",
    "    else:\n",
    "        a = 3*a + 1\n",
    "        \n",
    "    if a in a_list:\n",
    "        break\n",
    "    \n",
    "    a_list += [a]\n",
    "\n",
    "print(len(a_list) + 1)"
   ]
  },
  {
   "cell_type": "markdown",
   "metadata": {},
   "source": [
    "# C\n"
   ]
  },
  {
   "cell_type": "code",
   "execution_count": 23,
   "metadata": {},
   "outputs": [
    {
     "name": "stdout",
     "output_type": "stream",
     "text": [
      "8\n",
      "4 23 75 0 23 96 50 100\n",
      "221\n"
     ]
    }
   ],
   "source": [
    "n = int(input())\n",
    "h_list = list(map(int,input().split()))\n",
    "\n",
    "mizu = 0\n",
    "\n",
    "for i in range(len(h_list)-1):\n",
    "    if h_list[i] > h_list[i+1]:\n",
    "        mizu += h_list[i] - h_list[i+1]\n",
    "        \n",
    "mizu += h_list[-1]\n",
    "\n",
    "print(mizu)"
   ]
  },
  {
   "cell_type": "markdown",
   "metadata": {},
   "source": [
    "# D"
   ]
  },
  {
   "cell_type": "code",
   "execution_count": 28,
   "metadata": {},
   "outputs": [
    {
     "name": "stdout",
     "output_type": "stream",
     "text": [
      "7 4\n",
      "1 1\n",
      "2 1\n",
      "3 1\n",
      "4 6\n",
      "4 5\n",
      "4 5\n",
      "4 5\n"
     ]
    }
   ],
   "source": [
    "import numpy as np\n",
    "\n",
    "n,k = map(int, input().split())\n",
    "\n",
    "l =[]\n",
    "for i in range(n):\n",
    "    l += [list(map(int,input().split()))]"
   ]
  },
  {
   "cell_type": "code",
   "execution_count": 110,
   "metadata": {},
   "outputs": [],
   "source": [
    "ar = np.array(l)\n",
    "ar = ar[np.argsort(ar[:,1])][::-1]\n",
    "ar = np.concatenate([ar, np.zeros([ar.shape[0],1])],1)\n",
    "\n",
    "l = ar[np.argsort(ar[:,1])][::-1].tolist()"
   ]
  },
  {
   "cell_type": "code",
   "execution_count": 111,
   "metadata": {},
   "outputs": [
    {
     "data": {
      "text/plain": [
       "[[4.0, 6.0, 0.0, 0.0],\n",
       " [4.0, 5.0, 0.0, 0.0],\n",
       " [4.0, 5.0, 0.0, 0.0],\n",
       " [4.0, 5.0, 0.0, 0.0],\n",
       " [3.0, 1.0, 0.0, 0.0],\n",
       " [2.0, 1.0, 0.0, 0.0],\n",
       " [1.0, 1.0, 0.0, 0.0]]"
      ]
     },
     "execution_count": 111,
     "metadata": {},
     "output_type": "execute_result"
    }
   ],
   "source": [
    "l"
   ]
  },
  {
   "cell_type": "code",
   "execution_count": 106,
   "metadata": {},
   "outputs": [
    {
     "data": {
      "text/plain": [
       "[[4, 6], [4, 5], [4, 5], [4, 5], [3, 1], [2, 1], [1, 1]]"
      ]
     },
     "execution_count": 106,
     "metadata": {},
     "output_type": "execute_result"
    }
   ],
   "source": [
    "t_list = []\n",
    "for r in l:\n",
    "    "
   ]
  },
  {
   "cell_type": "code",
   "execution_count": null,
   "metadata": {},
   "outputs": [],
   "source": []
  },
  {
   "cell_type": "code",
   "execution_count": 57,
   "metadata": {},
   "outputs": [
    {
     "data": {
      "text/plain": [
       "array([[1., 1., 0.],\n",
       "       [2., 1., 0.],\n",
       "       [3., 1., 0.],\n",
       "       [4., 6., 0.],\n",
       "       [4., 5., 0.],\n",
       "       [4., 5., 0.],\n",
       "       [4., 5., 0.]])"
      ]
     },
     "execution_count": 57,
     "metadata": {},
     "output_type": "execute_result"
    }
   ],
   "source": [
    "np.concatenate([ar, np.zeros([ar.shape[0],1])],1)"
   ]
  },
  {
   "cell_type": "code",
   "execution_count": 31,
   "metadata": {},
   "outputs": [],
   "source": [
    "ar = np.array(l)\n",
    "\n",
    "ar[np.argsort(ar[:,1])[::-1]]"
   ]
  },
  {
   "cell_type": "code",
   "execution_count": 37,
   "metadata": {},
   "outputs": [
    {
     "data": {
      "text/plain": [
       "array([[1, 1],\n",
       "       [2, 1],\n",
       "       [3, 1],\n",
       "       [4, 6],\n",
       "       [4, 5],\n",
       "       [4, 5],\n",
       "       [4, 5]])"
      ]
     },
     "execution_count": 37,
     "metadata": {},
     "output_type": "execute_result"
    }
   ],
   "source": [
    "ar"
   ]
  },
  {
   "cell_type": "code",
   "execution_count": 58,
   "metadata": {},
   "outputs": [],
   "source": [
    "ar_rank = np.concatenate([ar, np.zeros([ar.shape[0],1])],1)"
   ]
  },
  {
   "cell_type": "code",
   "execution_count": 85,
   "metadata": {},
   "outputs": [
    {
     "data": {
      "text/plain": [
       "7"
      ]
     },
     "execution_count": 85,
     "metadata": {},
     "output_type": "execute_result"
    }
   ],
   "source": [
    "n"
   ]
  },
  {
   "cell_type": "code",
   "execution_count": null,
   "metadata": {},
   "outputs": [],
   "source": []
  },
  {
   "cell_type": "code",
   "execution_count": 86,
   "metadata": {},
   "outputs": [
    {
     "data": {
      "text/plain": [
       "array([[4., 6., 0.],\n",
       "       [4., 5., 0.],\n",
       "       [4., 5., 0.],\n",
       "       [4., 5., 0.],\n",
       "       [3., 1., 0.],\n",
       "       [2., 1., 0.],\n",
       "       [1., 1., 0.]])"
      ]
     },
     "execution_count": 86,
     "metadata": {},
     "output_type": "execute_result"
    }
   ],
   "source": [
    "b"
   ]
  },
  {
   "cell_type": "code",
   "execution_count": 94,
   "metadata": {},
   "outputs": [],
   "source": [
    "b = ar_rank[np.argsort(ar_rank[:,1])[::-1]]\n",
    "for i in list(np.unique(ar_rank[:,0])):\n",
    "    b[b[:,0]==int(i)][0,2] = 1"
   ]
  },
  {
   "cell_type": "code",
   "execution_count": 99,
   "metadata": {},
   "outputs": [
    {
     "data": {
      "text/plain": [
       "array([[1., 1., 0.]])"
      ]
     },
     "execution_count": 99,
     "metadata": {},
     "output_type": "execute_result"
    }
   ],
   "source": [
    "b[b[:,0]==int(1)]"
   ]
  },
  {
   "cell_type": "code",
   "execution_count": 80,
   "metadata": {},
   "outputs": [],
   "source": [
    "b = ar_rank[np.argsort(ar_rank[:,1])[::-1]]"
   ]
  },
  {
   "cell_type": "code",
   "execution_count": 79,
   "metadata": {},
   "outputs": [
    {
     "data": {
      "text/plain": [
       "0.0"
      ]
     },
     "execution_count": 79,
     "metadata": {},
     "output_type": "execute_result"
    }
   ],
   "source": [
    "b[b[:,0]==4][0,2]"
   ]
  },
  {
   "cell_type": "code",
   "execution_count": null,
   "metadata": {},
   "outputs": [],
   "source": []
  },
  {
   "cell_type": "code",
   "execution_count": 61,
   "metadata": {},
   "outputs": [
    {
     "ename": "IndexError",
     "evalue": "boolean index did not match indexed array along dimension 0; dimension is 7 but corresponding boolean dimension is 3",
     "output_type": "error",
     "traceback": [
      "\u001b[0;31m---------------------------------------------------------------------------\u001b[0m",
      "\u001b[0;31mIndexError\u001b[0m                                Traceback (most recent call last)",
      "\u001b[0;32m<ipython-input-61-403aba120696>\u001b[0m in \u001b[0;36m<module>\u001b[0;34m()\u001b[0m\n\u001b[0;32m----> 1\u001b[0;31m \u001b[0mnp\u001b[0m\u001b[0;34m.\u001b[0m\u001b[0margsort\u001b[0m\u001b[0;34m(\u001b[0m\u001b[0mar_rank\u001b[0m\u001b[0;34m[\u001b[0m\u001b[0mar_rank\u001b[0m\u001b[0;34m[\u001b[0m\u001b[0;36m0\u001b[0m\u001b[0;34m]\u001b[0m\u001b[0;34m==\u001b[0m\u001b[0;36m1\u001b[0m\u001b[0;34m]\u001b[0m\u001b[0;34m[\u001b[0m\u001b[0;34m:\u001b[0m\u001b[0;34m,\u001b[0m\u001b[0;36m1\u001b[0m\u001b[0;34m]\u001b[0m\u001b[0;34m)\u001b[0m\u001b[0;34m\u001b[0m\u001b[0m\n\u001b[0m",
      "\u001b[0;31mIndexError\u001b[0m: boolean index did not match indexed array along dimension 0; dimension is 7 but corresponding boolean dimension is 3"
     ]
    }
   ],
   "source": [
    "np.argsort(ar_rank[ar_rank[0]==1][:,1])"
   ]
  },
  {
   "cell_type": "code",
   "execution_count": 48,
   "metadata": {},
   "outputs": [],
   "source": [
    "riyou_ar = ar[np.argsort(ar[:,1])[::-1]][:3]"
   ]
  },
  {
   "cell_type": "code",
   "execution_count": 49,
   "metadata": {},
   "outputs": [],
   "source": [
    "oisisa_yuusen = riyou_ar[:,1].sum()"
   ]
  },
  {
   "cell_type": "code",
   "execution_count": 53,
   "metadata": {},
   "outputs": [],
   "source": [
    "kizon_t = np.unique(riyou_ar[:,0])"
   ]
  },
  {
   "cell_type": "code",
   "execution_count": null,
   "metadata": {},
   "outputs": [],
   "source": []
  },
  {
   "cell_type": "markdown",
   "metadata": {},
   "source": [
    "https://atcoder.jp/contests/abc116/submissions/4056403"
   ]
  },
  {
   "cell_type": "code",
   "execution_count": 112,
   "metadata": {},
   "outputs": [
    {
     "name": "stdout",
     "output_type": "stream",
     "text": [
      "5 3\n",
      "1 9\n",
      "1 7\n",
      "2 6\n",
      "2 5\n",
      "3 1\n",
      "26\n"
     ]
    }
   ],
   "source": [
    "from heapq import heappush, heappop\n",
    " \n",
    "N, K = map(int, input().split())\n",
    "h = []\n",
    "for i in range(N):\n",
    "    t, d = map(int, input().split())\n",
    "    heappush(h, (-d, t))\n",
    "    \n",
    "# initial\n",
    "res = 0\n",
    "sum = 0\n",
    "q = []\n",
    "used = {}\n",
    "for i in range(K):\n",
    "    (d, t) = heappop(h)\n",
    "    if t not in used:\n",
    "        used[t] = 1\n",
    "    else:\n",
    "        heappush(q, (-d, t))\n",
    "    sum += -d\n",
    "res = len(used)*len(used)+sum\n",
    " \n",
    "# swap minimum\n",
    "while q and h:\n",
    "    (d, t) = heappop(h)\n",
    "    if t not in used:\n",
    "        used[t] = 1\n",
    "        m, _ = heappop(q)\n",
    "        sum = sum - m - d\n",
    "    res = max(res, len(used)*len(used) + sum)\n",
    "    \n",
    "print(res)"
   ]
  },
  {
   "cell_type": "code",
   "execution_count": null,
   "metadata": {},
   "outputs": [],
   "source": []
  }
 ],
 "metadata": {
  "kernelspec": {
   "display_name": "Python 3",
   "language": "python",
   "name": "python3"
  },
  "language_info": {
   "codemirror_mode": {
    "name": "ipython",
    "version": 3
   },
   "file_extension": ".py",
   "mimetype": "text/x-python",
   "name": "python",
   "nbconvert_exporter": "python",
   "pygments_lexer": "ipython3",
   "version": "3.6.6"
  }
 },
 "nbformat": 4,
 "nbformat_minor": 2
}
