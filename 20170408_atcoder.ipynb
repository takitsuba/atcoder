{
 "cells": [
  {
   "cell_type": "code",
   "execution_count": null,
   "metadata": {
    "collapsed": true
   },
   "outputs": [],
   "source": []
  },
  {
   "cell_type": "code",
   "execution_count": 3,
   "metadata": {},
   "outputs": [
    {
     "name": "stdout",
     "output_type": "stream",
     "text": [
      "a b c\n"
     ]
    }
   ],
   "source": [
    "l = input().split()"
   ]
  },
  {
   "cell_type": "code",
   "execution_count": 4,
   "metadata": {},
   "outputs": [
    {
     "data": {
      "text/plain": [
       "['a', 'b', 'c']"
      ]
     },
     "execution_count": 4,
     "metadata": {},
     "output_type": "execute_result"
    }
   ],
   "source": [
    "l"
   ]
  },
  {
   "cell_type": "code",
   "execution_count": 8,
   "metadata": {},
   "outputs": [
    {
     "name": "stdout",
     "output_type": "stream",
     "text": [
      "2 4 6\n",
      "YES\n"
     ]
    }
   ],
   "source": [
    "l = input().split()\n",
    "\n",
    "if int(l[0]) - int(l[1]) == int(l[1]) - int(l[2]):\n",
    "    print(\"YES\")\n",
    "else:\n",
    "    print(\"NO\")"
   ]
  },
  {
   "cell_type": "markdown",
   "metadata": {},
   "source": [
    "# 2"
   ]
  },
  {
   "cell_type": "code",
   "execution_count": null,
   "metadata": {},
   "outputs": [],
   "source": [
    "o = input()\n",
    "e = input()\n",
    "t = \"\"\n",
    "for idx,ki in enumerate(o):\n",
    "    t += ki\n",
    "    if idx < len(e):\n",
    "        t += e[idx]\n",
    "print(t)"
   ]
  },
  {
   "cell_type": "code",
   "execution_count": null,
   "metadata": {
    "collapsed": true
   },
   "outputs": [],
   "source": [
    "abc = \"aiueoka\""
   ]
  },
  {
   "cell_type": "code",
   "execution_count": 12,
   "metadata": {},
   "outputs": [
    {
     "name": "stdout",
     "output_type": "stream",
     "text": [
      "0 a\n",
      "1 ai\n",
      "2 aiu\n",
      "3 aiue\n",
      "4 aiueo\n",
      "5 aiueok\n",
      "6 aiueoka\n"
     ]
    }
   ],
   "source": [
    "t = \"\"\n",
    "for i,a in enumerate(abc):\n",
    "    t += a\n",
    "    print(i,t)"
   ]
  },
  {
   "cell_type": "markdown",
   "metadata": {},
   "source": [
    "# 3"
   ]
  },
  {
   "cell_type": "code",
   "execution_count": null,
   "metadata": {
    "collapsed": true
   },
   "outputs": [],
   "source": [
    "from collections impor OrderedDict"
   ]
  },
  {
   "cell_type": "code",
   "execution_count": 56,
   "metadata": {},
   "outputs": [
    {
     "name": "stdout",
     "output_type": "stream",
     "text": [
      "3\n",
      "cca\n",
      "ccaa\n",
      "ca\n",
      "ac\n"
     ]
    }
   ],
   "source": [
    "from collections import OrderedDict\n",
    "n = int(input())\n",
    "s_list = list()\n",
    "for i in range(n):\n",
    "    s_list.append(input())\n",
    "\n",
    "dictionary_list = list()\n",
    "    \n",
    "for s in s_list:\n",
    "    dictionary = dict()\n",
    "    for w in s:\n",
    "        if w in dictionary:\n",
    "            dictionary[w] += 1\n",
    "        else:\n",
    "            dictionary[w] = 1\n",
    "    dictionary_list.append(dictionary)\n",
    "\n",
    "first = dictionary_list[0]\n",
    "pop_list = list()\n",
    "\n",
    "for key,value in first.items():\n",
    "    for dictionary in dictionary_list[1:]:\n",
    "        if key in dictionary:\n",
    "            first[key] = min(first[key],dictionary[key])\n",
    "        else:\n",
    "            pop_list.append(key)\n",
    "\n",
    "for p in pop_list:\n",
    "    if p in first:\n",
    "        first.pop(p)\n",
    "          \n",
    "first = OrderedDict(sorted(first.items(),key=lambda x: x[0]))\n",
    "t = \"\"\n",
    "for k,v in first.items():\n",
    "    t += k*v\n",
    "print(t)"
   ]
  },
  {
   "cell_type": "code",
   "execution_count": 52,
   "metadata": {},
   "outputs": [
    {
     "data": {
      "text/plain": [
       "[('a', 1), ('c', 1)]"
      ]
     },
     "execution_count": 52,
     "metadata": {},
     "output_type": "execute_result"
    }
   ],
   "source": [
    "sorted(first.items(),key=lambda x: x[0])"
   ]
  },
  {
   "cell_type": "code",
   "execution_count": 30,
   "metadata": {},
   "outputs": [
    {
     "ename": "IndexError",
     "evalue": "list index out of range",
     "output_type": "error",
     "traceback": [
      "\u001b[0;31m---------------------------------------------------------------------------\u001b[0m",
      "\u001b[0;31mIndexError\u001b[0m                                Traceback (most recent call last)",
      "\u001b[0;32m<ipython-input-30-810cc1c61ee9>\u001b[0m in \u001b[0;36m<module>\u001b[0;34m()\u001b[0m\n\u001b[1;32m      8\u001b[0m     \u001b[0;32melse\u001b[0m\u001b[0;34m:\u001b[0m\u001b[0;34m\u001b[0m\u001b[0m\n\u001b[1;32m      9\u001b[0m         \u001b[0mdictionary\u001b[0m\u001b[0;34m[\u001b[0m\u001b[0mw\u001b[0m\u001b[0;34m]\u001b[0m \u001b[0;34m=\u001b[0m \u001b[0;36m1\u001b[0m\u001b[0;34m\u001b[0m\u001b[0m\n\u001b[0;32m---> 10\u001b[0;31m \u001b[0;32mfor\u001b[0m \u001b[0mkey\u001b[0m\u001b[0;34m,\u001b[0m\u001b[0mvalue\u001b[0m \u001b[0;32min\u001b[0m \u001b[0mdictionary_list\u001b[0m\u001b[0;34m[\u001b[0m\u001b[0;36m0\u001b[0m\u001b[0;34m]\u001b[0m\u001b[0;34m.\u001b[0m\u001b[0mitems\u001b[0m\u001b[0;34m(\u001b[0m\u001b[0;34m)\u001b[0m\u001b[0;34m:\u001b[0m\u001b[0;34m\u001b[0m\u001b[0m\n\u001b[0m\u001b[1;32m     11\u001b[0m     \u001b[0mprint\u001b[0m\u001b[0;34m(\u001b[0m\u001b[0mkey\u001b[0m\u001b[0;34m,\u001b[0m\u001b[0mvalue\u001b[0m\u001b[0;34m)\u001b[0m\u001b[0;34m\u001b[0m\u001b[0m\n",
      "\u001b[0;31mIndexError\u001b[0m: list index out of range"
     ]
    }
   ],
   "source": [
    "word = \"abc\"\n",
    "words = [\"abc\",\"cde\"]\n",
    "dictionary = dict()\n",
    "dictionary_list = list()\n",
    "for w in word:\n",
    "    if w in dictionary:\n",
    "        dictionary[w] += 1\n",
    "    else:\n",
    "        dictionary[w] = 1\n",
    "dic\n",
    "for key,value in dictionary_list[0].items():\n",
    "    print(key,value)"
   ]
  },
  {
   "cell_type": "code",
   "execution_count": 28,
   "metadata": {},
   "outputs": [
    {
     "data": {
      "text/plain": [
       "dict_items([('a', 1), ('b', 1), ('c', 1)])"
      ]
     },
     "execution_count": 28,
     "metadata": {},
     "output_type": "execute_result"
    }
   ],
   "source": [
    "dictionary_list[0].items()"
   ]
  },
  {
   "cell_type": "markdown",
   "metadata": {},
   "source": [
    "# 4"
   ]
  },
  {
   "cell_type": "code",
   "execution_count": 102,
   "metadata": {},
   "outputs": [
    {
     "name": "stdout",
     "output_type": "stream",
     "text": [
      "3 3\n",
      "1 3 4\n",
      "1 3 6\n",
      "60\n"
     ]
    }
   ],
   "source": [
    "n,m = input().split()\n",
    "n = int(n)\n",
    "m = int(m)\n",
    "x_list =list()\n",
    "y_list = list()\n",
    "\n",
    "x_list= input().split()\n",
    "y_list= input().split()\n",
    "\n",
    "for i in range(n):\n",
    "    x_list[i] = int(x_list[i])\n",
    "\n",
    "for i in range(m):\n",
    "    y_list[i] = int(y_list[i])\n",
    "\n",
    "all_menseki = 0\n",
    "waru = 10**9 + 7\n",
    "amari = 0\n",
    "for x_min_i,x_min in enumerate(x_list[:-1]):\n",
    "    for x_max in x_list[x_min_i:]:\n",
    "        for y_min_i,y_min in enumerate(y_list[:-1]):\n",
    "            for y_max in y_list[y_min_i:]:\n",
    "                x = x_max - x_min\n",
    "                y = y_max - y_min\n",
    "                amari = (amari + (x % waru) * (y % waru)) % waru    \n",
    "\n",
    "print(amari)\n"
   ]
  },
  {
   "cell_type": "code",
   "execution_count": 83,
   "metadata": {},
   "outputs": [
    {
     "data": {
      "text/plain": [
       "60"
      ]
     },
     "execution_count": 83,
     "metadata": {},
     "output_type": "execute_result"
    }
   ],
   "source": [
    "amari"
   ]
  },
  {
   "cell_type": "code",
   "execution_count": 84,
   "metadata": {},
   "outputs": [
    {
     "data": {
      "text/plain": [
       "26"
      ]
     },
     "execution_count": 84,
     "metadata": {},
     "output_type": "execute_result"
    }
   ],
   "source": [
    "waru"
   ]
  },
  {
   "cell_type": "markdown",
   "metadata": {},
   "source": [
    "# amari"
   ]
  },
  {
   "cell_type": "code",
   "execution_count": 91,
   "metadata": {},
   "outputs": [],
   "source": [
    "test =[1,2,3]\n",
    "for i in range(len(test)):\n",
    "    test[i] = 4"
   ]
  },
  {
   "cell_type": "code",
   "execution_count": 92,
   "metadata": {},
   "outputs": [
    {
     "data": {
      "text/plain": [
       "[4, 4, 4]"
      ]
     },
     "execution_count": 92,
     "metadata": {},
     "output_type": "execute_result"
    }
   ],
   "source": [
    "test"
   ]
  },
  {
   "cell_type": "code",
   "execution_count": 97,
   "metadata": {},
   "outputs": [
    {
     "name": "stdout",
     "output_type": "stream",
     "text": [
      "3 3\n",
      "1 3 4\n",
      "1 3 6\n",
      "3\n"
     ]
    }
   ],
   "source": [
    "n,m = input().split()\n",
    "n = int(n)\n",
    "m = int(m)\n",
    "x_list =list()\n",
    "y_list = list()\n",
    "\n",
    "x_list= input().split()\n",
    "y_list= input().split()\n",
    "\n",
    "for i in range(n):\n",
    "    x_list[i] = int(x_list[i])\n",
    "\n",
    "for i in range(m):\n",
    "    y_list[i] = int(y_list[i])\n",
    "    \n",
    "all_menseki = 0\n",
    "waru = 10**9 + 7\n",
    "amari = 0\n",
    "for i in range(n-1):\n",
    "    for j in range(n-i-1):\n",
    "        for k in range(m-1):\n",
    "            for l in range(m-k-1):\n",
    "                x = x_list[-j] - x_list[i]\n",
    "                y = y_list[-l] - y_list[k]\n",
    "                amari = (amari + (x % waru) * (y % waru)) % waru    \n",
    "\n",
    "print(amari)\n"
   ]
  },
  {
   "cell_type": "code",
   "execution_count": 101,
   "metadata": {},
   "outputs": [
    {
     "data": {
      "text/plain": [
       "3"
      ]
     },
     "execution_count": 101,
     "metadata": {},
     "output_type": "execute_result"
    }
   ],
   "source": [
    "amari"
   ]
  },
  {
   "cell_type": "code",
   "execution_count": null,
   "metadata": {
    "collapsed": true
   },
   "outputs": [],
   "source": [
    "6 5\n",
    "-790013317 -192321079 95834122 418379342 586260100 802780784\n",
    "-253230108 193944314 363756450 712662868 735867677"
   ]
  }
 ],
 "metadata": {
  "kernelspec": {
   "display_name": "Python 3",
   "language": "python",
   "name": "python3"
  },
  "language_info": {
   "codemirror_mode": {
    "name": "ipython",
    "version": 3
   },
   "file_extension": ".py",
   "mimetype": "text/x-python",
   "name": "python",
   "nbconvert_exporter": "python",
   "pygments_lexer": "ipython3",
   "version": "3.6.0"
  }
 },
 "nbformat": 4,
 "nbformat_minor": 2
}
