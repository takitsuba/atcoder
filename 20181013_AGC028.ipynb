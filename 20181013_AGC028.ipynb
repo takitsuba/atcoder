{
 "cells": [
  {
   "cell_type": "code",
   "execution_count": null,
   "metadata": {},
   "outputs": [],
   "source": [
    "12\n",
    "3 4\n",
    "\n",
    "oxxoxxoxxoxx\n",
    "oxxxoxxxoxxx\n",
    "\n",
    "頭が一緒ならできるか\n",
    "\n",
    "\n",
    "12\n",
    "3 6\n",
    "oxxoxxoxxoxx\n",
    "oxxxxxoxxxxx\n",
    "\n",
    "6は3と一緒である必要\n",
    "\n",
    "12\n",
    "4 6\n",
    "oxxoxxoxxoxx\n",
    "oxxxxxoxxxxx\n",
    "\n",
    "acp\n",
    "ae\n",
    "a_c_p_\n",
    "a__e__\n",
    "\n",
    "a___c___p___\n",
    "a_____e_____\n",
    "\n",
    "abcdef\n",
    "abc\n",
    "\n",
    "abcdef\n",
    "a_b_c_\n",
    "\n",
    "a_b_c_d_e_f_\n",
    "a___b___c___\n",
    "\n",
    "a__b__c__d__e__f__\n",
    "a_____b_____c_____"
   ]
  },
  {
   "cell_type": "code",
   "execution_count": 39,
   "metadata": {},
   "outputs": [
    {
     "name": "stdout",
     "output_type": "stream",
     "text": [
      "6 3\n",
      "abcdef\n",
      "abc\n",
      "-1\n"
     ]
    }
   ],
   "source": [
    "N,M = map(int,input().split())\n",
    "S = input()\n",
    "T = input()\n",
    "\n",
    "def gcd(x, y):\n",
    "    while y > 0:\n",
    "        x, y = y, x%y\n",
    "    return x\n",
    " \n",
    "def lcm(x, y):\n",
    "    return int(x/gcd(x, y)*y)\n",
    "\n",
    "lenx = lcm(N,M)\n",
    "\n",
    "s_list = list(S)\n",
    "t_list = list(T)\n",
    "\n",
    "baisuu_s = int(lenx/N)\n",
    "baisuu_t = int(lenx/M)\n",
    "def check():\n",
    "    for i in range(0,lenx,baisuu_s):\n",
    "        if i % baisuu_s==0 and i%baisuu_t == 0:\n",
    "            if s_list[int(i/baisuu_s)] == t_list[int(i/baisuu_t)]:\n",
    "                pass\n",
    "            else:\n",
    "                return False\n",
    "    return True\n",
    "\n",
    "if check():\n",
    "    print(lenx)\n",
    "else:\n",
    "    print(-1)"
   ]
  },
  {
   "cell_type": "code",
   "execution_count": null,
   "metadata": {},
   "outputs": [],
   "source": []
  }
 ],
 "metadata": {
  "kernelspec": {
   "display_name": "Python 3",
   "language": "python",
   "name": "python3"
  },
  "language_info": {
   "codemirror_mode": {
    "name": "ipython",
    "version": 3
   },
   "file_extension": ".py",
   "mimetype": "text/x-python",
   "name": "python",
   "nbconvert_exporter": "python",
   "pygments_lexer": "ipython3",
   "version": "3.6.6"
  }
 },
 "nbformat": 4,
 "nbformat_minor": 2
}
