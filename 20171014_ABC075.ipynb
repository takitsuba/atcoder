{
 "cells": [
  {
   "cell_type": "markdown",
   "metadata": {},
   "source": [
    "# C"
   ]
  },
  {
   "cell_type": "markdown",
   "metadata": {},
   "source": [
    "https://atcoder.jp/contests/abc075/tasks/abc075_c?lang=ja"
   ]
  },
  {
   "cell_type": "code",
   "execution_count": null,
   "metadata": {},
   "outputs": [],
   "source": [
    "think this problem simply.\n",
    "N is greater than or equal to  2 and not more than 50.\n",
    "M is not less than n-1 and not more than min(n*(n-1)/2,50).\n",
    "\n",
    "First, we think this problem as follows.\n",
    "- After Removing a edge, we judge whether the remaining graph is connected or not.\n",
    "\n",
    "This solution's time complexity is\n",
    "M * "
   ]
  },
  {
   "cell_type": "code",
   "execution_count": 1,
   "metadata": {},
   "outputs": [
    {
     "data": {
      "application/vnd.jupyter.widget-view+json": {
       "model_id": "35075050cc504ce2a6c62cb0e38b6b27",
       "version_major": 2,
       "version_minor": 0
      },
      "text/plain": [
       "Textarea(value='')"
      ]
     },
     "metadata": {},
     "output_type": "display_data"
    }
   ],
   "source": [
    "from ipywidgets import Textarea\n",
    "import io\n",
    "\n",
    "if 'open' in globals():\n",
    "    del open\n",
    "if 'input' in globals():\n",
    "    del input\n",
    "\n",
    "original_open = open\n",
    "\n",
    "class custom_open():\n",
    "    def __init__(self):\n",
    "        self.text = ''\n",
    "\n",
    "    def __call__(self, file, *args, **kwargs):\n",
    "        if file == 0:\n",
    "            return io.StringIO(self.text)\n",
    "        return original_open(file, *args, **kwargs)\n",
    "\n",
    "    def updater(self, change):\n",
    "        self.text = change['new']\n",
    "\n",
    "class custom_input():\n",
    "    def __init__(self):\n",
    "        self.__sio = io.StringIO('')\n",
    "        self.shell = get_ipython()\n",
    "        if self.shell.events.callbacks['pre_run_cell'] != []:\n",
    "            self.shell.events.callbacks['pre_run_cell'] = []\n",
    "        self.shell.events.register('pre_run_cell', self.pre_run_cell)\n",
    "\n",
    "    def __call__(self):\n",
    "        return self.__sio.readline().strip()\n",
    "\n",
    "    def pre_run_cell(self, info):\n",
    "        text = self.shell.user_ns.get('text_area', None).value\n",
    "        self.__sio = io.StringIO(text)\n",
    "\n",
    "open = custom_open()\n",
    "input = custom_input()\n",
    "\n",
    "text_area = Textarea()\n",
    "text_area.observe(open.updater, names='value')\n",
    "display(text_area)"
   ]
  },
  {
   "cell_type": "code",
   "execution_count": 26,
   "metadata": {},
   "outputs": [
    {
     "name": "stdout",
     "output_type": "stream",
     "text": [
      "5\n"
     ]
    }
   ],
   "source": [
    "N,M = map(int,input().split())\n",
    "ab_list = [tuple(map(int,input().split())) for _ in range(M)]\n",
    "\n",
    "def create_dict(ab_list):\n",
    "    d = {}\n",
    "    for a,b in ab_list:\n",
    "        if a in d:\n",
    "            d[a].append(b)\n",
    "        else:\n",
    "            d[a] = [b]\n",
    "        if b in d:\n",
    "            d[b].append(a)\n",
    "        else:\n",
    "            d[b] = [a]\n",
    "            \n",
    "    return d\n",
    "\n",
    "# def check():\n",
    "cnt = 0\n",
    "\n",
    "for i in range(M):\n",
    "#     print(\"i:\",i)\n",
    "    tmp_ab_list = ab_list[:i] + ab_list[i+1:]\n",
    "\n",
    "    d = create_dict(tmp_ab_list)\n",
    "#     print(\"d:\",d)\n",
    "    connected = [0 for _ in range(N+1)]\n",
    "\n",
    "    def write_connected(a):\n",
    "#         print(a)\n",
    "        if connected[a] == 0:\n",
    "            connected[a] = 1\n",
    "            if a in d:\n",
    "                for next_a in d[a]:\n",
    "                    write_connected(next_a)\n",
    "\n",
    "    write_connected(1)\n",
    "\n",
    "#     print(connected)\n",
    "    if sum(connected) < N:\n",
    "        cnt += 1\n",
    "#     return cnt\n",
    "\n",
    "print(cnt)"
   ]
  },
  {
   "cell_type": "code",
   "execution_count": null,
   "metadata": {},
   "outputs": [],
   "source": []
  }
 ],
 "metadata": {
  "kernelspec": {
   "display_name": "Python 3",
   "language": "python",
   "name": "python3"
  },
  "language_info": {
   "codemirror_mode": {
    "name": "ipython",
    "version": 3
   },
   "file_extension": ".py",
   "mimetype": "text/x-python",
   "name": "python",
   "nbconvert_exporter": "python",
   "pygments_lexer": "ipython3",
   "version": "3.6.6"
  }
 },
 "nbformat": 4,
 "nbformat_minor": 2
}
