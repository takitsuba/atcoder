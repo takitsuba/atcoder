{
 "cells": [
  {
   "cell_type": "markdown",
   "metadata": {},
   "source": [
    "# C"
   ]
  },
  {
   "cell_type": "code",
   "execution_count": 1,
   "metadata": {},
   "outputs": [
    {
     "data": {
      "application/vnd.jupyter.widget-view+json": {
       "model_id": "09ddb1c4fdfe45d5a3f376125a0cb687",
       "version_major": 2,
       "version_minor": 0
      },
      "text/plain": [
       "Textarea(value='')"
      ]
     },
     "metadata": {},
     "output_type": "display_data"
    }
   ],
   "source": [
    "from ipywidgets import Textarea\n",
    "import io\n",
    "\n",
    "if 'open' in globals():\n",
    "    del open\n",
    "if 'input' in globals():\n",
    "    del input\n",
    "\n",
    "original_open = open\n",
    "\n",
    "class custom_open():\n",
    "    def __init__(self):\n",
    "        self.text = ''\n",
    "\n",
    "    def __call__(self, file, *args, **kwargs):\n",
    "        if file == 0:\n",
    "            return io.StringIO(self.text)\n",
    "        return original_open(file, *args, **kwargs)\n",
    "\n",
    "    def updater(self, change):\n",
    "        self.text = change['new']\n",
    "\n",
    "class custom_input():\n",
    "    def __init__(self):\n",
    "        self.__sio = io.StringIO('')\n",
    "        self.shell = get_ipython()\n",
    "        if self.shell.events.callbacks['pre_run_cell'] != []:\n",
    "            self.shell.events.callbacks['pre_run_cell'] = []\n",
    "        self.shell.events.register('pre_run_cell', self.pre_run_cell)\n",
    "\n",
    "    def __call__(self):\n",
    "        return self.__sio.readline().strip()\n",
    "\n",
    "    def pre_run_cell(self, info):\n",
    "        text = self.shell.user_ns.get('text_area', None).value\n",
    "        self.__sio = io.StringIO(text)\n",
    "\n",
    "open = custom_open()\n",
    "input = custom_input()\n",
    "\n",
    "text_area = Textarea()\n",
    "text_area.observe(open.updater, names='value')\n",
    "display(text_area)"
   ]
  },
  {
   "cell_type": "code",
   "execution_count": null,
   "metadata": {},
   "outputs": [],
   "source": [
    "aba\n",
    "a\n",
    "a\n",
    "\n",
    "ab\n",
    "a\n",
    "\n",
    "aba\n",
    "a\n",
    "\n",
    "b"
   ]
  },
  {
   "cell_type": "code",
   "execution_count": null,
   "metadata": {},
   "outputs": [],
   "source": [
    "a [a,0]\n",
    "at t [a 0, at, t 1]\n",
    "atc [a0 ,at, atc, c 2, t 1]\n",
    "atco [a,at,atc,atco,c]"
   ]
  },
  {
   "cell_type": "code",
   "execution_count": null,
   "metadata": {},
   "outputs": [],
   "source": [
    "まず1つずつみる。\n",
    "最小のcharをとる。\n",
    "次に、その最小のcharを頭にとる2文字でみる。\n",
    "\n",
    "\n",
    "1文字ずつみる。最小の5つをとる。この時、5000回、その時保存している5つとの比較を行うので＝25000\n",
    "2文字ずつみる。最小の5つをとる。\n",
    "\n",
    "25000 * 5 = 125000なので間に合う"
   ]
  },
  {
   "cell_type": "code",
   "execution_count": 21,
   "metadata": {},
   "outputs": [],
   "source": [
    "S = input()\n",
    "K = int(input())\n",
    "\n",
    "# import bisect\n",
    "\n",
    "five_subs = []\n",
    "for num in range(1,6):\n",
    "    for idx in range(len(S)-(num-1)):\n",
    "        tmp_s = S[idx:idx+num]\n",
    "        \n",
    "        if len(five_subs) == 0:\n",
    "            five_subs.append(tmp_s)\n",
    "\n",
    "        else:\n",
    "            if tmp_s in five_subs:\n",
    "                continue\n",
    "            elif len(five_subs) <= 5:\n",
    "                five_subs.append(tmp_s)\n",
    "                five_subs.sort()\n",
    "                five_subs = five_subs[:5]\n",
    "            else:\n",
    "                for sub in five_subs:\n",
    "                    if sub > tmp_s:\n",
    "                        five_subs.append(tmp_s)\n",
    "                        five_subs.sort()\n",
    "                        five_subs = five_subs[:5]\n",
    "                        break\n",
    "\n",
    "print(five_subs[K-1])"
   ]
  },
  {
   "cell_type": "code",
   "execution_count": 3,
   "metadata": {},
   "outputs": [
    {
     "data": {
      "text/plain": [
       "['a',\n",
       " 't',\n",
       " 'c',\n",
       " 'o',\n",
       " 'd',\n",
       " 'e',\n",
       " 'r',\n",
       " 'a',\n",
       " 'n',\n",
       " 'd',\n",
       " 'a',\n",
       " 't',\n",
       " 'c',\n",
       " 'o',\n",
       " 'd',\n",
       " 'e',\n",
       " 'e',\n",
       " 'r']"
      ]
     },
     "execution_count": 3,
     "metadata": {},
     "output_type": "execute_result"
    }
   ],
   "source": [
    "num = 1\n",
    "subs = []\n",
    "while True:\n",
    "    min_s = \"z\"* 5001\n",
    "    for i in range(len(s)-(num-1)):\n",
    "        tmp_s = ss[i:i+num]\n",
    "        if tmp_s < min_s:\n",
    "            min_s = tmp_s\n",
    "    subs.append(min_s)\n",
    "    "
   ]
  },
  {
   "cell_type": "code",
   "execution_count": null,
   "metadata": {},
   "outputs": [],
   "source": []
  }
 ],
 "metadata": {
  "kernelspec": {
   "display_name": "Python 3",
   "language": "python",
   "name": "python3"
  },
  "language_info": {
   "codemirror_mode": {
    "name": "ipython",
    "version": 3
   },
   "file_extension": ".py",
   "mimetype": "text/x-python",
   "name": "python",
   "nbconvert_exporter": "python",
   "pygments_lexer": "ipython3",
   "version": "3.6.6"
  }
 },
 "nbformat": 4,
 "nbformat_minor": 2
}
