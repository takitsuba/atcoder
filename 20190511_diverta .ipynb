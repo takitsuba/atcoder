{
 "cells": [
  {
   "cell_type": "code",
   "execution_count": null,
   "metadata": {},
   "outputs": [],
   "source": [
    "# A\n",
    "\n",
    "N, K = map(int, input().split())\n",
    "\n",
    "print(N-K+1)"
   ]
  },
  {
   "cell_type": "markdown",
   "metadata": {},
   "source": [
    "# B"
   ]
  },
  {
   "cell_type": "code",
   "execution_count": null,
   "metadata": {},
   "outputs": [],
   "source": [
    "R,G,B,N = map(int, input().split())\n",
    "\n",
    "cnt = 0\n",
    "for i in range(N//R+1):\n",
    "    for j in range((N-R*i)//G+1):\n",
    "#         print(N-R*i-G*j)\n",
    "        if (N-R*i-G*j) % B == 0:\n",
    "#             print(i,j)\n",
    "\n",
    "            cnt += 1\n",
    "    \n",
    "print(cnt)"
   ]
  },
  {
   "cell_type": "code",
   "execution_count": null,
   "metadata": {},
   "outputs": [],
   "source": [
    "\n",
    "cnt"
   ]
  },
  {
   "cell_type": "markdown",
   "metadata": {},
   "source": [
    "# C"
   ]
  },
  {
   "cell_type": "code",
   "execution_count": 18,
   "metadata": {},
   "outputs": [
    {
     "name": "stdout",
     "output_type": "stream",
     "text": [
      "3\n",
      "BO\n",
      "OA\n",
      "OA\n",
      "1\n"
     ]
    }
   ],
   "source": [
    "N = int(input())\n",
    "s_list = []\n",
    "for i in range(N):\n",
    "    s_list.append(input())\n",
    "\n",
    "ab_cnt = 0\n",
    "a_saigo = 0\n",
    "b_atama = 0\n",
    "ba_cnt = 0\n",
    "for s in s_list:\n",
    "    ab_cnt += s.count(\"AB\")\n",
    "    if s[0] ==\"B\":\n",
    "        b_atama += 1\n",
    "    if s[-1] == \"A\":\n",
    "        a_saigo += 1\n",
    "    if s[0] ==\"B\" and s[-1] == \"A\":\n",
    "        ba_cnt += 1\n",
    "\n",
    "result = ab_cnt + min(b_atama,a_saigo)\n",
    "if b_atama == ba_cnt and a_saigo == ba_cnt and ba_cnt != 0:\n",
    "    result += -1\n",
    "\n",
    "print(result)"
   ]
  },
  {
   "cell_type": "code",
   "execution_count": 13,
   "metadata": {},
   "outputs": [
    {
     "data": {
      "text/plain": [
       "'B'"
      ]
     },
     "execution_count": 13,
     "metadata": {},
     "output_type": "execute_result"
    }
   ],
   "source": [
    "\"AB\"[-1]"
   ]
  },
  {
   "cell_type": "code",
   "execution_count": 11,
   "metadata": {},
   "outputs": [
    {
     "data": {
      "text/plain": [
       "0"
      ]
     },
     "execution_count": 11,
     "metadata": {},
     "output_type": "execute_result"
    }
   ],
   "source": [
    "\"b\".count(\"AB\")"
   ]
  },
  {
   "cell_type": "code",
   "execution_count": null,
   "metadata": {},
   "outputs": [],
   "source": [
    "# result"
   ]
  },
  {
   "cell_type": "code",
   "execution_count": null,
   "metadata": {},
   "outputs": [],
   "source": [
    "\"ABABAB\".count(\"AB\")"
   ]
  },
  {
   "cell_type": "markdown",
   "metadata": {},
   "source": [
    "# D"
   ]
  },
  {
   "cell_type": "code",
   "execution_count": null,
   "metadata": {},
   "outputs": [],
   "source": [
    "N = int(input())\n",
    "\n",
    "def make_divisors(n):\n",
    "    divisors = []\n",
    "    for i in range(1, int(n**0.5)+1):\n",
    "        # nを合う数字で割り切れたら、その割った数と商をリストに追加する。\n",
    "        # nが平方数のとき、同じ数字が2回追加されてしまうので3行したのif文がある\n",
    "        if n % i == 0:\n",
    "            divisors.append(i)\n",
    "            if i != n // i:\n",
    "                divisors.append(n//i)\n",
    "\n",
    "    divisors.sort()\n",
    "    return divisors\n",
    "\n",
    "yakusuu_list = make_divisors(N)\n",
    "\n",
    "cnt = 0\n",
    "for yaku in yakusuu_list[::-1]:\n",
    "    m = yaku-1\n",
    "    a = N / yaku\n",
    "    if a >= m:\n",
    "        break\n",
    "    else:\n",
    "        cnt += m\n",
    "\n",
    "print(cnt)"
   ]
  },
  {
   "cell_type": "markdown",
   "metadata": {},
   "source": [
    "# E"
   ]
  },
  {
   "cell_type": "code",
   "execution_count": 25,
   "metadata": {},
   "outputs": [
    {
     "name": "stdout",
     "output_type": "stream",
     "text": [
      "3\n",
      "1 2 3\n"
     ]
    }
   ],
   "source": [
    "N = int(input())\n",
    "a_list = list(map(int, input().split()))"
   ]
  },
  {
   "cell_type": "code",
   "execution_count": 51,
   "metadata": {},
   "outputs": [],
   "source": [
    "def make_divisors(n):\n",
    "    divisors = []\n",
    "    for i in range(1, int(n**0.5)+1):\n",
    "        # nを合う数字で割り切れたら、その割った数と商をリストに追加する。\n",
    "        # nが平方数のとき、同じ数字が2回追加されてしまうので3行したのif文がある\n",
    "        if n % i == 0:\n",
    "            divisors.append(i)\n",
    "            if i != n // i:\n",
    "                divisors.append(n//i)\n",
    "\n",
    "#     divisors.sort()\n",
    "    return divisors\n",
    "\n",
    "result = 0\n",
    "def func(k, bainari, cnt):\n",
    "    global result\n",
    "    if k == len(a_list):\n",
    "        result += 1\n",
    "    \n",
    "    for i in range(k, len(a_list)):\n",
    "        if i == k:\n",
    "            b = a_list[i]\n",
    "        else:\n",
    "            b = b^a_list[i]\n",
    "        if b == bainari:\n",
    "            return func(i+1, bainari, cnt+1)\n",
    "\n",
    "#     return False"
   ]
  },
  {
   "cell_type": "code",
   "execution_count": 53,
   "metadata": {},
   "outputs": [],
   "source": [
    "for i in range(N):\n",
    "    for j in range(i+1):\n",
    "        if j==0:\n",
    "            bainari = a_list[j]\n",
    "        else:\n",
    "            bainari = bainari^a_list[j]\n",
    "    func(i+1, bainari,1)"
   ]
  },
  {
   "cell_type": "code",
   "execution_count": 54,
   "metadata": {},
   "outputs": [
    {
     "data": {
      "text/plain": [
       "3"
      ]
     },
     "execution_count": 54,
     "metadata": {},
     "output_type": "execute_result"
    }
   ],
   "source": [
    "result"
   ]
  },
  {
   "cell_type": "code",
   "execution_count": 28,
   "metadata": {},
   "outputs": [
    {
     "data": {
      "text/plain": [
       "899"
      ]
     },
     "execution_count": 28,
     "metadata": {},
     "output_type": "execute_result"
    }
   ],
   "source": [
    "999 ^ 100"
   ]
  },
  {
   "cell_type": "code",
   "execution_count": null,
   "metadata": {},
   "outputs": [],
   "source": []
  }
 ],
 "metadata": {
  "kernelspec": {
   "display_name": "Python 3",
   "language": "python",
   "name": "python3"
  }
 },
 "nbformat": 4,
 "nbformat_minor": 2
}
