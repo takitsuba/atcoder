{
 "cells": [
  {
   "cell_type": "markdown",
   "metadata": {},
   "source": [
    "# A"
   ]
  },
  {
   "cell_type": "markdown",
   "metadata": {},
   "source": [
    "BBW\n",
    "BWB\n",
    "WBB\n",
    "\n",
    "BWBWBW\n",
    "WBBWBW\n",
    "WBWBBW\n",
    "WWBBBW\n",
    "WWBBWB\n",
    "WWBWBB\n",
    "WWWBBBm"
   ]
  },
  {
   "cell_type": "code",
   "execution_count": 12,
   "metadata": {},
   "outputs": [
    {
     "name": "stdout",
     "output_type": "stream",
     "text": [
      "WBBB\n",
      "0\n"
     ]
    }
   ],
   "source": [
    "s_list = list(input())\n",
    "\n",
    "result = 0\n",
    "wcnt = 0\n",
    "for i,s in enumerate(s_list):\n",
    "    if s == \"W\":\n",
    "        result += i - wcnt\n",
    "        wcnt += 1\n",
    "\n",
    "print(result)"
   ]
  },
  {
   "cell_type": "code",
   "execution_count": null,
   "metadata": {},
   "outputs": [],
   "source": []
  }
 ],
 "metadata": {
  "kernelspec": {
   "display_name": "Python 3",
   "language": "python",
   "name": "python3"
  },
  "language_info": {
   "codemirror_mode": {
    "name": "ipython",
    "version": 3
   },
   "file_extension": ".py",
   "mimetype": "text/x-python",
   "name": "python",
   "nbconvert_exporter": "python",
   "pygments_lexer": "ipython3",
   "version": "3.6.6"
  }
 },
 "nbformat": 4,
 "nbformat_minor": 2
}
