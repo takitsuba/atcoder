{
 "cells": [
  {
   "cell_type": "code",
   "execution_count": 3,
   "metadata": {},
   "outputs": [],
   "source": [
    "path = \"./CC0004/c004files/in/example_01.txt\"\n",
    "with open(path) as f:\n",
    "    texts = f.read().split(\"\\n\")\n",
    "    texts = [ row.split() for row in texts]\n",
    "    texts = [[int(x) for x in xs] for xs in texts]\n",
    "    \n",
    "def texts_to_nblr(texts):\n",
    "    N, B1, B2, B3 = [x for x in texts[0]]\n",
    "    ls_list = texts[1:N+1]\n",
    "    rs_list = texts[N+1:2*N+1]\n",
    "\n",
    "    assert len(ls_list) == N\n",
    "    assert len(rs_list) == N\n",
    "    # textsは最後の行は空\n",
    "    assert rs_list[-1] == texts[-2]\n",
    "    \n",
    "    return N, B1, B2, B3, ls_list, rs_list"
   ]
  },
  {
   "cell_type": "code",
   "execution_count": 11,
   "metadata": {},
   "outputs": [
    {
     "name": "stdout",
     "output_type": "stream",
     "text": [
      "1 1 4 7 5 4 2 6 1 3 1 7 1 6 2 3 6 8 3 1 4 3 4 2 5 2 4 1 4 3\n",
      "1 2 2 4 5 3 1 3 6 4 3 2 4 2 8 4 1 6 2 1 1 2 5 1 7 1 2 7 4 2\n",
      "3 3 1 5 6 3 3 1 5 6 6 4 2 6 1 5 6 5 5 2 1 2 5 7 4 3 3 8 5 4\n",
      "1 4 1 8 4 5 3 5 1 4 2 6 1 3 1 6 2 1 8 2 3 1 2 5 4 1 6 1 6 1\n",
      "5 3 2 7 3 3 2 3 2 7 3 3 4 3 5 3 2 5 5 2 7 4 1 2 7 8 6 2 7 3\n",
      "3 2 7 2 4 5 2 5 4 4 4 3 2 1 2 1 1 1 4 2 4 7 7 3 4 6 2 3 3 3\n",
      "4 1 2 4 2 4 1 1 5 7 3 4 1 3 4 2 5 4 3 5 4 4 7 6 8 3 8 6 2 2\n",
      "3 3 1 3 4 4 4 4 2 1 1 3 5 1 2 3 4 6 3 5 8 4 2 2 7 4 4 1 2 6\n",
      "3 2 4 3 2 3 1 4 3 1 1 9 6 8 2 7 1 1 2 2 4 1 1 3 5 6 2 7 4 1\n",
      "2 3 2 6 2 6 4 2 1 6 2 3 1 8 2 7 2 1 3 1 2 3 6 4 2 3 7 9 5 1\n",
      "1 6 3 8 3 3 2 2 2 1 1 5 1 1 2 2 2 8 2 5 4 8 1 5 2 5 1 1 1 3\n",
      "3 5 2 3 1 5 2 1 2 3 3 1 4 8 2 1 6 4 1 6 4 3 4 1 3 5 3 6 7 3\n",
      "3 1 4 8 4 2 2 5 2 4 3 2 3 3 8 7 2 1 2 2 2 7 1 2 3 3 1 8 3 3\n",
      "4 4 1 4 2 9 4 2 2 3 3 4 1 4 1 1 2 8 3 2 3 3 3 5 4 2 2 1 5 5\n",
      "3 5 2 1 4 1 8 3 2 1 4 8 5 1 2 2 1 2 1 4 4 5 5 3 7 7 4 3 3 3\n",
      "4 1 3 3 5 9 1 4 4 4 4 2 1 8 3 2 7 5 6 4 1 1 2 5 4 1 4 5 7 1\n",
      "4 1 1 4 2 2 7 4 7 5 1 5 3 8 1 3 4 1 5 9 2 2 2 6 6 7 4 3 2 1\n",
      "4 7 4 3 4 6 3 4 3 2 5 2 7 4 5 8 5 3 7 6 6 2 6 5 7 4 6 2 1 3\n",
      "5 1 1 1 2 9 4 4 3 6 1 2 1 1 1 2 2 6 5 5 1 4 2 3 1 1 4 1 5 5\n",
      "5 3 4 2 8 7 4 1 8 2 3 8 1 5 3 7 8 1 3 5 1 8 3 4 5 6 1 3 1 3\n",
      "2 4 1 1 4 7 6 3 3 6 1 6 2 6 2 1 3 3 2 2 4 6 2 2 2 2 2 2 7 4\n",
      "3 2 2 4 1 3 6 2 2 2 2 1 3 7 1 2 4 4 6 5 4 3 7 4 3 4 4 6 5 3\n",
      "3 4 1 2 6 3 1 1 3 2 1 3 5 7 4 5 3 7 3 2 7 3 7 5 3 8 3 4 1 1\n",
      "3 3 5 3 1 1 1 4 5 2 5 6 4 5 1 3 4 5 1 3 5 4 4 5 1 2 6 4 7 7\n",
      "6 2 6 7 4 1 3 6 7 7 5 4 2 2 4 7 1 7 5 3 1 4 5 6 2 7 6 5 7 8\n",
      "1 1 1 2 4 1 3 4 8 3 2 2 2 5 1 3 7 7 4 4 5 2 1 1 3 2 1 7 1 3\n",
      "2 5 2 8 7 9 1 2 4 3 3 2 2 1 4 3 8 1 3 7 1 8 1 5 4 2 7 3 2 3\n",
      "2 2 2 1 8 4 2 4 1 9 5 6 4 1 4 6 5 3 5 4 1 5 1 1 2 2 8 3 8 5\n",
      "3 1 5 3 4 1 1 2 6 5 3 2 3 3 7 2 7 5 3 3 4 3 4 1 1 3 7 2 3 5\n",
      "7 2 1 4 3 3 7 9 5 1 5 9 6 1 1 1 7 2 6 3 7 1 5 1 3 4 5 5 1 4\n"
     ]
    }
   ],
   "source": [
    "# まずは通る回答を作る。\n",
    "# 全て l の値を入れれば、一応通るはず。\n",
    "\n",
    "# N, B1, B2, B3, ls_list, rs_list = get_input()\n",
    "N, B1, B2, B3, ls_list, rs_list = texts_to_nblr(texts)\n",
    "\n",
    "\n",
    "answer = [\" \".join([str(l) for l in ls])  for ls in ls_list]\n",
    "answer = \"\\n\".join(answer)\n",
    "\n",
    "print(answer)"
   ]
  },
  {
   "cell_type": "code",
   "execution_count": 8,
   "metadata": {},
   "outputs": [],
   "source": [
    "\"\"\"\n",
    "# 区間が多ければ多いほどよい。\n",
    "# B3 ほど大きい\n",
    "# 正方形\n",
    "# 極力B3に近づけていいが、maxの数字を書き込まないセルがあるともったいない。\n",
    "# 逆に、とりあえずmaxをかく。\n",
    "# 横に作ることを前提とする。1行の合計を見て、何個基本的に大きく\n",
    "区間が重複する用にするにはどうすればよいか？\n",
    "\"\"\"\n"
   ]
  },
  {
   "cell_type": "code",
   "execution_count": 10,
   "metadata": {},
   "outputs": [],
   "source": [
    "# 横のB1,B2,B3と合計が極力なっていくように作ってみよう"
   ]
  },
  {
   "cell_type": "code",
   "execution_count": 10,
   "metadata": {},
   "outputs": [
    {
     "name": "stdout",
     "output_type": "stream",
     "text": [
      "1 2 3 4\n",
      "1\n",
      "2\n",
      "2\n"
     ]
    }
   ],
   "source": [
    "# B3\n",
    "def answers_list_to_str(answers_list):\n",
    "    answers_str_list = [\" \".join([str(answer) for answer in answers])  for answers in answers_list]\n",
    "    answers_str = \"\\n\".join(answers_str_list)\n",
    "    return answers_str\n",
    "\n",
    "def row_text_to_ints(row):\n",
    "    return [int(x) for x in row.split()]\n",
    "\n",
    "def get_input():\n",
    "    N, B1, B2, B3 = row_text_to_ints(input())\n",
    "    ls_list = []\n",
    "    for _ in range(N):\n",
    "        ls_list.append(row_text_to_ints(input()))\n",
    "    rs_list = []\n",
    "    for _ in range(N):\n",
    "        rs_list.append(row_text_to_ints(input()))\n",
    "    return N, B1, B2, B3, ls_list, rs_list\n",
    "\n",
    "# N, B1, B2, B3, ls_list, rs_list = texts_to_nblr(texts)\n",
    "N, B1, B2, B3, ls_list, rs_list = get_input()\n",
    "\n",
    "goukei = 0\n",
    "answers_list = []\n",
    "for ls, rs in zip(ls_list, rs_list):\n",
    "    answers = []\n",
    "    for l, r in zip(ls, rs):\n",
    "        if l <= (B3-goukei) <= r: # Bを作れるタイミング\n",
    "            answers.append(B3-goukei)\n",
    "            goukei += B3-goukei\n",
    "            goukei = 0\n",
    "        else: #Bを作れるタイミングでないなら\n",
    "            answers.append(r)\n",
    "            goukei += r\n",
    "    answers_list.append(answers)\n",
    "    \n",
    "print(answers_list_to_str(answers_list))"
   ]
  },
  {
   "cell_type": "code",
   "execution_count": null,
   "metadata": {},
   "outputs": [],
   "source": [
    "\"\"\"\n",
    "B3を目標にしたら下がった。\n",
    "おそらく、大きな数値ばかり記載し、微調整ができなくなり、Bが作られ辛くなったからかと思う。\n",
    "B1を目標にする方がいいのかもしれない\n",
    "↑これでも意味なかった\n",
    "\n",
    "もしくは、いったん l を記載。Bに拘れてないマスを見て、Bを作れるように調整するとか？\n",
    "雰囲気を少し知れたので今日はこの辺で。\n",
    "\"\"\" \n",
    " # B123\n",
    "def answers_list_to_str(answers_list):\n",
    "    answers_str_list = [\" \".join([str(answer) for answer in answers])  for answers in answers_list]\n",
    "    answers_str = \"\\n\".join(answers_str_list)\n",
    "    return answers_str\n",
    "\n",
    "def row_text_to_ints(row):\n",
    "    return [int(x) for x in row.split()]\n",
    "\n",
    "def get_input():\n",
    "    N, B1, B2, B3 = row_text_to_ints(input())\n",
    "    ls_list = []\n",
    "    for _ in range(N):\n",
    "        ls_list.append(input())\n",
    "    rs_list = []\n",
    "    for _ in range(N):\n",
    "        rs_list.append(input())\n",
    "    return N, B1, B2, B3, ls_list, rs_list\n",
    "\n",
    "# N, B1, B2, B3, ls_list, rs_list = texts_to_nblr(texts)\n",
    "N, B1, B2, B3, ls_list, rs_list = get_input()\n",
    "\n",
    "answers_list = []\n",
    "for ls, rs in zip(ls_list, rs_list):\n",
    "    bs = [[],[],[]]\n",
    "    goukeis = [0,0,0]\n",
    "    answers = []\n",
    "    for l, r in zip(ls, rs):\n",
    "        if l <= (B3-goukei) <= r: # B3を作れるタイミング\n",
    "            answers.append(B3-goukei)\n",
    "            goukei += B3-goukei\n",
    "            goukei = 0\n",
    "        else: #Bを作れるタイミングでないなら\n",
    "            answers.append(r)\n",
    "            goukei += r\n",
    "    answers_list.append(answers)\n",
    "    \n",
    "print(answers_list_to_str(answers_list))"
   ]
  }
 ],
 "metadata": {
  "kernelspec": {
   "display_name": "Python 3",
   "language": "python",
   "name": "python3"
  },
  "language_info": {
   "codemirror_mode": {
    "name": "ipython",
    "version": 3
   },
   "file_extension": ".py",
   "mimetype": "text/x-python",
   "name": "python",
   "nbconvert_exporter": "python",
   "pygments_lexer": "ipython3",
   "version": "3.8.5"
  }
 },
 "nbformat": 4,
 "nbformat_minor": 4
}
