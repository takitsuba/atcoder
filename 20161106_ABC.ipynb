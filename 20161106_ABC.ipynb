{
 "cells": [
  {
   "cell_type": "markdown",
   "metadata": {},
   "source": [
    "# D"
   ]
  },
  {
   "cell_type": "code",
   "execution_count": 1,
   "metadata": {},
   "outputs": [
    {
     "data": {
      "application/vnd.jupyter.widget-view+json": {
       "model_id": "1ff781f114164329b3fd50a6ddbcb6c5",
       "version_major": 2,
       "version_minor": 0
      },
      "text/plain": [
       "Textarea(value='')"
      ]
     },
     "metadata": {},
     "output_type": "display_data"
    }
   ],
   "source": [
    "from ipywidgets import Textarea\n",
    "import io\n",
    "\n",
    "if 'open' in globals():\n",
    "    del open\n",
    "if 'input' in globals():\n",
    "    del input\n",
    "\n",
    "original_open = open\n",
    "\n",
    "class custom_open():\n",
    "    def __init__(self):\n",
    "        self.text = ''\n",
    "\n",
    "    def __call__(self, file, *args, **kwargs):\n",
    "        if file == 0:\n",
    "            return io.StringIO(self.text)\n",
    "        return original_open(file, *args, **kwargs)\n",
    "\n",
    "    def updater(self, change):\n",
    "        self.text = change['new']\n",
    "\n",
    "class custom_input():\n",
    "    def __init__(self):\n",
    "        self.__sio = io.StringIO('')\n",
    "        self.shell = get_ipython()\n",
    "        if self.shell.events.callbacks['pre_run_cell'] != []:\n",
    "            self.shell.events.callbacks['pre_run_cell'] = []\n",
    "        self.shell.events.register('pre_run_cell', self.pre_run_cell)\n",
    "\n",
    "    def __call__(self):\n",
    "        return self.__sio.readline().strip()\n",
    "\n",
    "    def pre_run_cell(self, info):\n",
    "        text = self.shell.user_ns.get('text_area', None).value\n",
    "        self.__sio = io.StringIO(text)\n",
    "\n",
    "open = custom_open()\n",
    "input = custom_input()\n",
    "\n",
    "text_area = Textarea()\n",
    "text_area.observe(open.updater, names='value')\n",
    "display(text_area)"
   ]
  },
  {
   "cell_type": "code",
   "execution_count": 16,
   "metadata": {},
   "outputs": [
    {
     "name": "stdout",
     "output_type": "stream",
     "text": [
      "1\n"
     ]
    }
   ],
   "source": [
    "# 全然ダメ\n",
    "N,T = map(int,input().split())\n",
    "a_list = list(map(int,input().split()))\n",
    "\n",
    "profit_list = []\n",
    "\n",
    "small_idx = 0\n",
    "\n",
    "for i in range(N):\n",
    "    if i == N-1:\n",
    "        big_idx = i\n",
    "        profit_list.append(a_list[big_idx]-a_list[small_idx])\n",
    "    elif a_list[i] > a_list[i+1]:\n",
    "        big_idx = i\n",
    "        profit_list.append(a_list[big_idx]-a_list[small_idx])\n",
    "        small_idx = i+1\n",
    "\n",
    "profit_list.sort()\n",
    "\n",
    "max_profit = profit_list[-1]\n",
    "\n",
    "cnt = 0\n",
    "for p in profit_list:\n",
    "    if p == max_profit:\n",
    "        cnt += 1\n",
    "\n",
    "print(cnt)"
   ]
  },
  {
   "cell_type": "code",
   "execution_count": 22,
   "metadata": {},
   "outputs": [],
   "source": [
    "N,T = map(int,input().split())\n",
    "a_list = list(map(int,input().split()))\n",
    "\n",
    "profit_list = []\n",
    "\n",
    "min_a = 10**9+1\n",
    "for a in a_list:\n",
    "    profit_list.append(a-min_a)\n",
    "    if a<min_a:\n",
    "        min_a = a\n",
    "\n",
    "profit_list.sort()\n",
    "\n",
    "max_profit = profit_list[-1]\n",
    "\n",
    "cnt = 0\n",
    "for p in profit_list:\n",
    "    if p == max_profit:\n",
    "        cnt += 1\n",
    "\n",
    "print(cnt)"
   ]
  },
  {
   "cell_type": "code",
   "execution_count": null,
   "metadata": {},
   "outputs": [],
   "source": []
  }
 ],
 "metadata": {
  "kernelspec": {
   "display_name": "Python 3",
   "language": "python",
   "name": "python3"
  },
  "language_info": {
   "codemirror_mode": {
    "name": "ipython",
    "version": 3
   },
   "file_extension": ".py",
   "mimetype": "text/x-python",
   "name": "python",
   "nbconvert_exporter": "python",
   "pygments_lexer": "ipython3",
   "version": "3.6.6"
  }
 },
 "nbformat": 4,
 "nbformat_minor": 2
}
