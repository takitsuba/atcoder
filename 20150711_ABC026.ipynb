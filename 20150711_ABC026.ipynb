{
 "cells": [
  {
   "cell_type": "markdown",
   "metadata": {},
   "source": [
    "# C"
   ]
  },
  {
   "cell_type": "code",
   "execution_count": 1,
   "metadata": {},
   "outputs": [
    {
     "data": {
      "application/vnd.jupyter.widget-view+json": {
       "model_id": "459b5224d5a144df84b0694ce6f7a439",
       "version_major": 2,
       "version_minor": 0
      },
      "text/plain": [
       "Textarea(value='')"
      ]
     },
     "metadata": {},
     "output_type": "display_data"
    }
   ],
   "source": [
    "from ipywidgets import Textarea\n",
    "import io\n",
    "\n",
    "if 'open' in globals():\n",
    "    del open\n",
    "if 'input' in globals():\n",
    "    del input\n",
    "\n",
    "original_open = open\n",
    "\n",
    "class custom_open():\n",
    "    def __init__(self):\n",
    "        self.text = ''\n",
    "\n",
    "    def __call__(self, file, *args, **kwargs):\n",
    "        if file == 0:\n",
    "            return io.StringIO(self.text)\n",
    "        return original_open(file, *args, **kwargs)\n",
    "\n",
    "    def updater(self, change):\n",
    "        self.text = change['new']\n",
    "\n",
    "class custom_input():\n",
    "    def __init__(self):\n",
    "        self.__sio = io.StringIO('')\n",
    "        self.shell = get_ipython()\n",
    "        if self.shell.events.callbacks['pre_run_cell'] != []:\n",
    "            self.shell.events.callbacks['pre_run_cell'] = []\n",
    "        self.shell.events.register('pre_run_cell', self.pre_run_cell)\n",
    "\n",
    "    def __call__(self):\n",
    "        return self.__sio.readline().strip()\n",
    "\n",
    "    def pre_run_cell(self, info):\n",
    "        text = self.shell.user_ns.get('text_area', None).value\n",
    "        self.__sio = io.StringIO(text)\n",
    "\n",
    "open = custom_open()\n",
    "input = custom_input()\n",
    "\n",
    "text_area = Textarea()\n",
    "text_area.observe(open.updater, names='value')\n",
    "display(text_area)"
   ]
  },
  {
   "cell_type": "code",
   "execution_count": null,
   "metadata": {},
   "outputs": [],
   "source": [
    "直属の部下がいない社員は1\n",
    "1人いたら、その部下の給料の2倍＋1\n",
    "2人以上いたらmax＋min＋1\n",
    "\n",
    "Nは最大20\n",
    "\n",
    "後ろから、社員を見ていき、上司を判定。その上司に給与リストを渡していく\n",
    "\n",
    "自分より社員番号が小さい上司が存在する\n",
    "→自分より社員番号が大きい人は「関係ない人」または「部下」\n",
    "\n",
    "なので後ろから順に見ていき、「すでに部下の給与が指定されていればそれを元に給与をきめる」「いなければ給与1」でどんどん降っていけば良い"
   ]
  },
  {
   "cell_type": "code",
   "execution_count": 18,
   "metadata": {},
   "outputs": [
    {
     "name": "stdout",
     "output_type": "stream",
     "text": [
      "1023\n"
     ]
    }
   ],
   "source": [
    "N = int(input())\n",
    "b_list = [0] + [int(input()) for _ in range(N-1)]\n",
    "\n",
    "def decide_worker_salary(worker):\n",
    "    if worker in subordinate_salaries:\n",
    "        salaries = subordinate_salaries[worker]\n",
    "        if len(salaries) == 1:\n",
    "            return salaries[0] * 2 + 1\n",
    "        else:\n",
    "            return max(salaries) + min(salaries) + 1\n",
    "    return 1\n",
    "subordinate_salaries = {}\n",
    "for i,b in enumerate(b_list[::-1]):\n",
    "    worker = N-i\n",
    "    salary = decide_worker_salary(worker)\n",
    "    if b in subordinate_salaries:\n",
    "        subordinate_salaries[b].append(salary)\n",
    "    else:\n",
    "        subordinate_salaries[b] = [salary]\n",
    "\n",
    "print(subordinate_salaries[0][0])"
   ]
  },
  {
   "cell_type": "code",
   "execution_count": 16,
   "metadata": {},
   "outputs": [
    {
     "data": {
      "text/plain": [
       "{3: [1, 1], 2: [1, 1], 1: [3, 3], 0: [7]}"
      ]
     },
     "execution_count": 16,
     "metadata": {},
     "output_type": "execute_result"
    }
   ],
   "source": [
    "subordinate_salaries"
   ]
  },
  {
   "cell_type": "code",
   "execution_count": 22,
   "metadata": {},
   "outputs": [
    {
     "data": {
      "text/plain": [
       "[20, 15]"
      ]
     },
     "execution_count": 22,
     "metadata": {},
     "output_type": "execute_result"
    }
   ],
   "source": [
    "a = [1,10,20,15,5]\n",
    "b = [2,3,]\n",
    "\n",
    "list(map(lambda j: a[j], tuple((2,3))))"
   ]
  },
  {
   "cell_type": "code",
   "execution_count": null,
   "metadata": {},
   "outputs": [],
   "source": []
  }
 ],
 "metadata": {
  "kernelspec": {
   "display_name": "Python 3",
   "language": "python",
   "name": "python3"
  },
  "language_info": {
   "codemirror_mode": {
    "name": "ipython",
    "version": 3
   },
   "file_extension": ".py",
   "mimetype": "text/x-python",
   "name": "python",
   "nbconvert_exporter": "python",
   "pygments_lexer": "ipython3",
   "version": "3.6.6"
  }
 },
 "nbformat": 4,
 "nbformat_minor": 2
}
