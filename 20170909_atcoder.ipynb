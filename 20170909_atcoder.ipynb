{
 "cells": [
  {
   "cell_type": "markdown",
   "metadata": {},
   "source": [
    "# A"
   ]
  },
  {
   "cell_type": "code",
   "execution_count": 5,
   "metadata": {},
   "outputs": [
    {
     "name": "stdout",
     "output_type": "stream",
     "text": [
      "91\n",
      "Yes\n"
     ]
    }
   ],
   "source": [
    "n = input()\n",
    "\n",
    "check = 0\n",
    "for i in n:\n",
    "    if i == \"9\":\n",
    "        check = 1\n",
    "        break\n",
    "\n",
    "if check == 1:\n",
    "    print(\"Yes\")\n",
    "else:\n",
    "    print(\"No\")"
   ]
  },
  {
   "cell_type": "code",
   "execution_count": 2,
   "metadata": {},
   "outputs": [
    {
     "data": {
      "text/plain": [
       "['29']"
      ]
     },
     "execution_count": 2,
     "metadata": {},
     "output_type": "execute_result"
    }
   ],
   "source": [
    "n"
   ]
  },
  {
   "cell_type": "markdown",
   "metadata": {},
   "source": [
    "# 反省\n",
    "+ すぐに解けたは解けたが、汚く感じる。\n",
    "+ 解答を見たところ、十で割った余りが9か、10で割った答えが9の時、Yesとする、としていた。確かに綺麗。"
   ]
  },
  {
   "cell_type": "code",
   "execution_count": null,
   "metadata": {
    "collapsed": true
   },
   "outputs": [],
   "source": []
  },
  {
   "cell_type": "markdown",
   "metadata": {},
   "source": [
    "# B"
   ]
  },
  {
   "cell_type": "code",
   "execution_count": 11,
   "metadata": {},
   "outputs": [
    {
     "name": "stdout",
     "output_type": "stream",
     "text": [
      "2\n",
      "6 8\n",
      "3 3\n",
      "4\n"
     ]
    }
   ],
   "source": [
    "n = int(input())\n",
    "# lr_list= []\n",
    "\n",
    "count =0\n",
    "for _ in range(n):\n",
    "#     lr_list.append([int(x) for x in input().split()])\n",
    "    x, y = [int(x) for x in input().split()]\n",
    "#     print(x,y)\n",
    "    count += y-x+1\n",
    "\n",
    "print(count)\n"
   ]
  },
  {
   "cell_type": "code",
   "execution_count": 7,
   "metadata": {},
   "outputs": [
    {
     "data": {
      "text/plain": [
       "[[1, 2], [1, 2], [2, 3]]"
      ]
     },
     "execution_count": 7,
     "metadata": {},
     "output_type": "execute_result"
    }
   ],
   "source": [
    "lr_list"
   ]
  },
  {
   "cell_type": "markdown",
   "metadata": {
    "collapsed": true
   },
   "source": [
    "# 反省\n",
    "* リスト内包表記をどうするかで少し手間取った\n"
   ]
  },
  {
   "cell_type": "markdown",
   "metadata": {
    "collapsed": true
   },
   "source": [
    "# C"
   ]
  },
  {
   "cell_type": "code",
   "execution_count": 19,
   "metadata": {},
   "outputs": [
    {
     "name": "stdout",
     "output_type": "stream",
     "text": [
      "6\n",
      "12\n",
      "22\n",
      "16\n",
      "22\n",
      "18\n",
      "12\n"
     ]
    },
    {
     "data": {
      "text/plain": [
       "2"
      ]
     },
     "execution_count": 19,
     "metadata": {},
     "output_type": "execute_result"
    }
   ],
   "source": [
    "from collections import Counter\n",
    "import numpy as np\n",
    "n = int(input())\n",
    "a_list = []\n",
    "for _ in range(n):\n",
    "    a_list.append(int(input()))\n",
    "\n",
    "counter = Counter(a_list)\n",
    "count = list(counter.values())\n",
    "ar = np.array(count)\n",
    "ar = ar % 2\n",
    "print(ar.sum())\n"
   ]
  },
  {
   "cell_type": "markdown",
   "metadata": {},
   "source": [
    "* 解説を見ると、C++などだと一手間かかるようだ。\n",
    "* ただPythonだと、collectionsのCounterが便利。\n",
    "* まだ使い慣れないけど。"
   ]
  },
  {
   "cell_type": "code",
   "execution_count": null,
   "metadata": {
    "collapsed": true
   },
   "outputs": [],
   "source": []
  }
 ],
 "metadata": {
  "kernelspec": {
   "display_name": "Python 3",
   "language": "python",
   "name": "python3"
  },
  "language_info": {
   "codemirror_mode": {
    "name": "ipython",
    "version": 3
   },
   "file_extension": ".py",
   "mimetype": "text/x-python",
   "name": "python",
   "nbconvert_exporter": "python",
   "pygments_lexer": "ipython3",
   "version": "3.6.0"
  }
 },
 "nbformat": 4,
 "nbformat_minor": 2
}
