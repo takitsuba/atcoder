{
 "cells": [
  {
   "cell_type": "code",
   "execution_count": 1,
   "metadata": {},
   "outputs": [
    {
     "name": "stdout",
     "output_type": "stream",
     "text": [
      "YAKINIKUFESTIVAL\n",
      "YAKINIKU\n"
     ]
    }
   ],
   "source": [
    "S = input()\n",
    "\n",
    "print(S[:-8])"
   ]
  },
  {
   "cell_type": "markdown",
   "metadata": {},
   "source": [
    "# B"
   ]
  },
  {
   "cell_type": "code",
   "execution_count": 18,
   "metadata": {},
   "outputs": [
    {
     "name": "stdout",
     "output_type": "stream",
     "text": [
      "15\n",
      "1 2 2 3 3 3 4 4 4 4 5 5 5 5 5\n",
      "9\n",
      "5 4 3 2 1 2 3 4 5\n",
      "YES\n"
     ]
    }
   ],
   "source": [
    "n = int(input())\n",
    "d_list = input().split()\n",
    "d_list = [int(x) for x in d_list]\n",
    "\n",
    "m = int(input())\n",
    "t_list = input().split()\n",
    "t_list = [int(x) for x in t_list]\n",
    "\n",
    "from collections import Counter\n",
    "\n",
    "count_d = Counter(d_list)\n",
    "count_t = Counter(t_list)\n",
    "\n",
    "check = 0\n",
    "for key, value in count_t.items():\n",
    "    if count_d[key] < value:\n",
    "        check = 1\n",
    "        break\n",
    "\n",
    "if check == 0:\n",
    "    print(\"YES\")\n",
    "else:\n",
    "    print(\"NO\")\n",
    "    "
   ]
  },
  {
   "cell_type": "code",
   "execution_count": null,
   "metadata": {
    "collapsed": true
   },
   "outputs": [],
   "source": [
    "7\n",
    "100 200 500 700 1200 1600 2000\n",
    "6\n",
    "100 200 500 700 1600 1600"
   ]
  },
  {
   "cell_type": "code",
   "execution_count": null,
   "metadata": {
    "collapsed": true
   },
   "outputs": [],
   "source": [
    "1\n",
    "800\n",
    "5\n",
    "100 100 100 100 100"
   ]
  },
  {
   "cell_type": "code",
   "execution_count": null,
   "metadata": {
    "collapsed": true
   },
   "outputs": [],
   "source": [
    "15\n",
    "1 2 2 3 3 3 4 4 4 4 5 5 5 5 5\n",
    "9\n",
    "5 4 3 2 1 2 3 4 5"
   ]
  },
  {
   "cell_type": "code",
   "execution_count": 4,
   "metadata": {},
   "outputs": [],
   "source": [
    "from collections import Counter\n",
    "\n",
    "count_d = Counter(d_list)\n",
    "count_t = Counter(t_list)"
   ]
  },
  {
   "cell_type": "code",
   "execution_count": 15,
   "metadata": {},
   "outputs": [
    {
     "name": "stdout",
     "output_type": "stream",
     "text": [
      "YES\n"
     ]
    }
   ],
   "source": [
    "check = 0\n",
    "for key, value in count_t.items():\n",
    "    if count_d[key] < value:\n",
    "        check = 1\n",
    "        break\n",
    "\n",
    "if check == 0:\n",
    "    print(\"YES\")\n",
    "else:\n",
    "    print(\"NO\")\n",
    "    "
   ]
  },
  {
   "cell_type": "code",
   "execution_count": 14,
   "metadata": {},
   "outputs": [
    {
     "data": {
      "text/plain": [
       "2"
      ]
     },
     "execution_count": 14,
     "metadata": {},
     "output_type": "execute_result"
    }
   ],
   "source": [
    "count_d[1]"
   ]
  },
  {
   "cell_type": "code",
   "execution_count": null,
   "metadata": {},
   "outputs": [],
   "source": []
  },
  {
   "cell_type": "markdown",
   "metadata": {},
   "source": [
    "# C"
   ]
  },
  {
   "cell_type": "code",
   "execution_count": 22,
   "metadata": {},
   "outputs": [
    {
     "name": "stdout",
     "output_type": "stream",
     "text": [
      "6 5\n",
      "1 2\n",
      "2 3\n",
      "3 4\n",
      "4 5\n",
      "5 6\n"
     ]
    }
   ],
   "source": [
    "N, M = map(int, input().split())\n",
    "ab_list = []\n",
    "for _ in range(m):\n",
    "    a, b = map(int, input().split())\n",
    "    ab_list.append([a,b])"
   ]
  },
  {
   "cell_type": "code",
   "execution_count": 20,
   "metadata": {},
   "outputs": [
    {
     "data": {
      "text/plain": [
       "[[1, 1]]"
      ]
     },
     "execution_count": 20,
     "metadata": {},
     "output_type": "execute_result"
    }
   ],
   "source": [
    "6 5\n",
    "1 2\n",
    "2 3\n",
    "3 4\n",
    "4 5\n",
    "5 6"
   ]
  },
  {
   "cell_type": "code",
   "execution_count": null,
   "metadata": {
    "collapsed": true
   },
   "outputs": [],
   "source": []
  },
  {
   "cell_type": "code",
   "execution_count": null,
   "metadata": {
    "collapsed": true
   },
   "outputs": [],
   "source": []
  },
  {
   "cell_type": "code",
   "execution_count": null,
   "metadata": {
    "collapsed": true
   },
   "outputs": [],
   "source": []
  },
  {
   "cell_type": "code",
   "execution_count": null,
   "metadata": {
    "collapsed": true
   },
   "outputs": [],
   "source": []
  },
  {
   "cell_type": "markdown",
   "metadata": {},
   "source": [
    "# D"
   ]
  },
  {
   "cell_type": "code",
   "execution_count": 97,
   "metadata": {},
   "outputs": [
    {
     "name": "stdout",
     "output_type": "stream",
     "text": [
      "50\n",
      "10101000010011011110001001111110000101010111100110\n"
     ]
    }
   ],
   "source": [
    "n = int(input())\n",
    "s = input()"
   ]
  },
  {
   "cell_type": "code",
   "execution_count": 35,
   "metadata": {},
   "outputs": [],
   "source": []
  },
  {
   "cell_type": "code",
   "execution_count": 36,
   "metadata": {},
   "outputs": [],
   "source": [
    "\n"
   ]
  },
  {
   "cell_type": "code",
   "execution_count": 98,
   "metadata": {
    "collapsed": true
   },
   "outputs": [],
   "source": [
    "s = [int(x) for x in s]\n",
    "l = len(s)\n",
    "import numpy as np\n",
    "ar_1 = np.array(s[:-2]).reshape([l-2,1])\n",
    "ar_2 = np.array(s[1:-1]).reshape([l-2,1])\n",
    "ar_3 = np.array(s[2:]).reshape([l-2,1])\n",
    "ar = np.hstack((ar_1,ar_2,ar_3))\n",
    "check_ar = (ar == [1,0,1]).all(axis=1)\n",
    "check_index = np.where(check_ar==True)[0]"
   ]
  },
  {
   "cell_type": "code",
   "execution_count": 99,
   "metadata": {},
   "outputs": [
    {
     "data": {
      "text/plain": [
       "array([ 0,  2, 13, 35, 37, 39])"
      ]
     },
     "execution_count": 99,
     "metadata": {},
     "output_type": "execute_result"
    }
   ],
   "source": [
    "check_index "
   ]
  },
  {
   "cell_type": "code",
   "execution_count": null,
   "metadata": {
    "collapsed": true
   },
   "outputs": [],
   "source": []
  },
  {
   "cell_type": "code",
   "execution_count": null,
   "metadata": {
    "collapsed": true
   },
   "outputs": [],
   "source": []
  },
  {
   "cell_type": "code",
   "execution_count": null,
   "metadata": {
    "collapsed": true
   },
   "outputs": [],
   "source": []
  },
  {
   "cell_type": "code",
   "execution_count": null,
   "metadata": {
    "collapsed": true
   },
   "outputs": [],
   "source": []
  },
  {
   "cell_type": "code",
   "execution_count": null,
   "metadata": {
    "collapsed": true
   },
   "outputs": [],
   "source": []
  },
  {
   "cell_type": "code",
   "execution_count": 94,
   "metadata": {},
   "outputs": [
    {
     "name": "stdout",
     "output_type": "stream",
     "text": [
      "0\n",
      "39\n",
      "40\n",
      "41\n",
      "42\n",
      "13\n",
      "12\n",
      "35\n",
      "8\n"
     ]
    }
   ],
   "source": [
    "s = [int(x) for x in s]\n",
    "l = len(s)\n",
    "import numpy as np\n",
    "\n",
    "\n",
    "\n",
    "count = 0\n",
    "while 1>0:\n",
    "    ar_1 = np.array(s[:-2]).reshape([l-2,1])\n",
    "    ar_2 = np.array(s[1:-1]).reshape([l-2,1])\n",
    "    ar_3 = np.array(s[2:]).reshape([l-2,1])\n",
    "    ar = np.hstack((ar_1,ar_2,ar_3))\n",
    "    check_ar = (ar == [1,0,1]).all(axis=1)\n",
    "    check_index = np.where(check_ar==True)[0]\n",
    "    if len(check_index)>0:\n",
    "        if min(check_index) <= l - max(check_index) - 1:\n",
    "            s[min(check_index):min(check_index)+3] = [0,1,0]\n",
    "            print(min(check_index))\n",
    "        else:\n",
    "            s[max(check_index):max(check_index)+3] = [0,1,0]\n",
    "            print(max(check_index))\n",
    "        count += 1\n",
    "#         print()\n",
    "    else:\n",
    "        break\n",
    "\n",
    "print(count)\n"
   ]
  },
  {
   "cell_type": "code",
   "execution_count": 88,
   "metadata": {},
   "outputs": [
    {
     "data": {
      "text/plain": [
       "array([False, False, False, False, False, False, False, False, False,\n",
       "       False, False, False, False, False, False, False, False, False,\n",
       "       False, False, False, False, False, False, False, False, False,\n",
       "       False, False, False, False, False, False, False, False, False,\n",
       "       False, False, False, False, False, False, False, False, False,\n",
       "       False, False, False], dtype=bool)"
      ]
     },
     "execution_count": 88,
     "metadata": {},
     "output_type": "execute_result"
    }
   ],
   "source": [
    "10101000010011011110001001111110000101010111100110"
   ]
  },
  {
   "cell_type": "code",
   "execution_count": null,
   "metadata": {
    "collapsed": true
   },
   "outputs": [],
   "source": [
    "# for i in range(l-2):\n",
    "#     if s[i:i+3] == [1,0,1]:\n",
    "#         check_list.append(1)\n",
    "#     else:\n",
    "#         check_list.append(0)\n"
   ]
  },
  {
   "cell_type": "code",
   "execution_count": 64,
   "metadata": {},
   "outputs": [],
   "source": [
    "ar_1 = np.array(s[:-2]).reshape([l-2,1])\n",
    "ar_2 = np.array(s[1:-1]).reshape([l-2,1])\n",
    "ar_3 = np.array(s[2:]).reshape([l-2,1])\n",
    "ar = np.hstack((ar_1,ar_2,ar_3))\n",
    "check_ar = (ar == [1,0,1]).all(axis=1)\n",
    "check_index = np.where(check_ar==True)\n",
    "if len(check_index)>0:\n",
    "    if min(check_index) <= l - max(check_index) - 1:\n",
    "        ar[min(check_index)] = [0,1,0]\n",
    "    else:\n",
    "        ar[max(check_index)] = [0,1,0]\n",
    "    count += 1\n",
    "else:\n",
    "    break\n",
    "\n",
    "print(count)\n"
   ]
  },
  {
   "cell_type": "code",
   "execution_count": 66,
   "metadata": {},
   "outputs": [],
   "source": [
    "ar = np.hstack((ar_1,ar_2,ar_3))\n",
    "check_ar = (ar == [1,0,1]).all(axis=1)\n",
    "check_index = np.where(check_ar==True)\n",
    "if len(check_index)>0:\n",
    "    if min(check_index) <= l - max(check_index) - 1:\n",
    "        ar[min(check_index)] = [0,1,0]\n",
    "    else:\n",
    "        ar[max(check_index)] = [0,1,0]\n",
    "    count += 1\n",
    "else:\n",
    "    break\n",
    "\n",
    "print(count)\n"
   ]
  },
  {
   "cell_type": "code",
   "execution_count": 72,
   "metadata": {},
   "outputs": [
    {
     "data": {
      "text/plain": [
       "array([[ True,  True,  True],\n",
       "       [False, False, False],\n",
       "       [ True,  True,  True],\n",
       "       [False, False, False],\n",
       "       [ True,  True, False],\n",
       "       [False,  True, False],\n",
       "       [False,  True, False],\n",
       "       [False,  True,  True],\n",
       "       [False, False, False],\n",
       "       [ True,  True, False],\n",
       "       [False,  True,  True],\n",
       "       [False, False,  True],\n",
       "       [ True, False, False],\n",
       "       [ True,  True,  True],\n",
       "       [False, False,  True],\n",
       "       [ True, False,  True],\n",
       "       [ True, False,  True],\n",
       "       [ True, False, False],\n",
       "       [ True,  True, False],\n",
       "       [False,  True, False],\n",
       "       [False,  True,  True],\n",
       "       [False, False, False],\n",
       "       [ True,  True, False],\n",
       "       [False,  True,  True],\n",
       "       [False, False,  True],\n",
       "       [ True, False,  True],\n",
       "       [ True, False,  True],\n",
       "       [ True, False,  True],\n",
       "       [ True, False,  True],\n",
       "       [ True, False, False],\n",
       "       [ True,  True, False],\n",
       "       [False,  True, False],\n",
       "       [False,  True, False],\n",
       "       [False,  True,  True],\n",
       "       [False, False, False],\n",
       "       [ True,  True,  True],\n",
       "       [False, False, False],\n",
       "       [ True,  True,  True],\n",
       "       [False, False, False],\n",
       "       [ True,  True,  True],\n",
       "       [False, False,  True],\n",
       "       [ True, False,  True],\n",
       "       [ True, False,  True],\n",
       "       [ True, False, False],\n",
       "       [ True,  True, False],\n",
       "       [False,  True,  True],\n",
       "       [False, False,  True],\n",
       "       [ True, False, False]], dtype=bool)"
      ]
     },
     "execution_count": 72,
     "metadata": {},
     "output_type": "execute_result"
    }
   ],
   "source": [
    "ar == [1,0,1]"
   ]
  },
  {
   "cell_type": "code",
   "execution_count": 75,
   "metadata": {},
   "outputs": [],
   "source": [
    "check_ar = (ar == [1,0,1]).all(axis=1)\n",
    "check_index = np.where(check_ar==True)\n",
    "if len(check_index)>0:\n",
    "    if min(check_index) <= l - max(check_index) - 1:\n",
    "        ar[min(check_index)] = [0,1,0]\n",
    "    else:\n",
    "        ar[max(check_index)] = [0,1,0]\n",
    "    count += 1\n",
    "else:\n",
    "    break\n",
    "\n",
    "print(count)\n"
   ]
  },
  {
   "cell_type": "code",
   "execution_count": 77,
   "metadata": {},
   "outputs": [
    {
     "data": {
      "text/plain": [
       "array([ True, False,  True, False, False, False, False, False, False,\n",
       "       False, False, False, False,  True, False, False, False, False,\n",
       "       False, False, False, False, False, False, False, False, False,\n",
       "       False, False, False, False, False, False, False, False,  True,\n",
       "       False,  True, False,  True, False, False, False, False, False,\n",
       "       False, False, False], dtype=bool)"
      ]
     },
     "execution_count": 77,
     "metadata": {},
     "output_type": "execute_result"
    }
   ],
   "source": [
    "check_ar"
   ]
  },
  {
   "cell_type": "code",
   "execution_count": 78,
   "metadata": {},
   "outputs": [],
   "source": [
    "check_index = np.where(check_ar==True)\n",
    "if len(check_index)>0:\n",
    "    if min(check_index) <= l - max(check_index) - 1:\n",
    "        ar[min(check_index)] = [0,1,0]\n",
    "    else:\n",
    "        ar[max(check_index)] = [0,1,0]\n",
    "    count += 1\n",
    "else:\n",
    "    break\n",
    "\n",
    "print(count)\n"
   ]
  },
  {
   "cell_type": "code",
   "execution_count": 79,
   "metadata": {},
   "outputs": [
    {
     "ename": "SyntaxError",
     "evalue": "'break' outside loop (<ipython-input-79-a73e16c61525>, line 8)",
     "output_type": "error",
     "traceback": [
      "\u001b[0;36m  File \u001b[0;32m\"<ipython-input-79-a73e16c61525>\"\u001b[0;36m, line \u001b[0;32m8\u001b[0m\n\u001b[0;31m    break\u001b[0m\n\u001b[0m    ^\u001b[0m\n\u001b[0;31mSyntaxError\u001b[0m\u001b[0;31m:\u001b[0m 'break' outside loop\n"
     ]
    }
   ],
   "source": [
    "if len(check_index)>0:\n",
    "    if min(check_index) <= l - max(check_index) - 1:\n",
    "        ar[min(check_index)] = [0,1,0]\n",
    "    else:\n",
    "        ar[max(check_index)] = [0,1,0]\n",
    "    count += 1\n",
    "else:\n",
    "    break\n",
    "\n",
    "print(count)\n"
   ]
  },
  {
   "cell_type": "code",
   "execution_count": 48,
   "metadata": {},
   "outputs": [
    {
     "data": {
      "text/plain": [
       "array([[1, 0, 1],\n",
       "       [0, 1, 0],\n",
       "       [0, 0, 0],\n",
       "       [1, 0, 0],\n",
       "       [1, 1, 0],\n",
       "       [1, 1, 1],\n",
       "       [1, 0, 0],\n",
       "       [0, 1, 0],\n",
       "       [0, 1, 1],\n",
       "       [1, 1, 1],\n",
       "       [1, 0, 0],\n",
       "       [0, 0, 1],\n",
       "       [0, 1, 0],\n",
       "       [1, 0, 1],\n",
       "       [1, 1, 1],\n",
       "       [0, 0, 1],\n",
       "       [0, 1, 0],\n",
       "       [1, 0, 0],\n",
       "       [0, 0, 1],\n",
       "       [0, 0, 1],\n",
       "       [1, 0, 1],\n",
       "       [1, 1, 1],\n",
       "       [0, 0, 0],\n",
       "       [1, 0, 0],\n",
       "       [1, 1, 1],\n",
       "       [1, 1, 1],\n",
       "       [0, 0, 0],\n",
       "       [0, 1, 0],\n",
       "       [1, 0, 1],\n",
       "       [0, 1, 1],\n",
       "       [1, 1, 0],\n",
       "       [0, 1, 1],\n",
       "       [1, 0, 1],\n",
       "       [0, 0, 0],\n",
       "       [0, 1, 0],\n",
       "       [0, 1, 1],\n",
       "       [0, 1, 1],\n",
       "       [1, 1, 0],\n",
       "       [0, 0, 1],\n",
       "       [0, 0, 1],\n",
       "       [1, 1, 1],\n",
       "       [1, 1, 0],\n",
       "       [0, 0, 0],\n",
       "       [1, 0, 1],\n",
       "       [0, 1, 0],\n",
       "       [1, 1, 1],\n",
       "       [1, 0, 0],\n",
       "       [1, 1, 0]])"
      ]
     },
     "execution_count": 48,
     "metadata": {},
     "output_type": "execute_result"
    }
   ],
   "source": [
    "np.array([s[:-2],s[1:-1],s[2:]]).reshape()"
   ]
  },
  {
   "cell_type": "code",
   "execution_count": 39,
   "metadata": {},
   "outputs": [
    {
     "data": {
      "text/plain": [
       "48"
      ]
     },
     "execution_count": 39,
     "metadata": {},
     "output_type": "execute_result"
    }
   ],
   "source": [
    "len(check_list)"
   ]
  },
  {
   "cell_type": "code",
   "execution_count": 27,
   "metadata": {},
   "outputs": [
    {
     "name": "stdout",
     "output_type": "stream",
     "text": [
      "1\n",
      "2\n",
      "3\n",
      "4\n",
      "5\n",
      "6\n",
      "7\n",
      "8\n",
      "9\n",
      "10\n",
      "11\n"
     ]
    }
   ],
   "source": [
    "i = 0\n",
    "while i>=0:\n",
    "    i += 1\n",
    "    print(i)\n",
    "    if i>10:\n",
    "        break"
   ]
  },
  {
   "cell_type": "markdown",
   "metadata": {},
   "source": [
    "# 反省\n",
    "* A,Bしか終えられなかった。\n",
    "* Cはグラフの問題で、少し考えたがわからなそうだったので、スルーしてDに挑む。\n",
    "* しかしDも解けず。はじめに、「両側から徐々に101の組みを探すだけでいいのでは」と見積もり、numpyに若干苦戦しながら進め、時間を無駄にした。(上記のコードは無駄コード)\n",
    "* その後、101と隣接する1が重要である、ということはわかったが、どのようにロジックを組めばいいかわからず、終了。\n",
    "* 解説を見ても、よくわからない。改めてみる。"
   ]
  },
  {
   "cell_type": "code",
   "execution_count": null,
   "metadata": {
    "collapsed": true
   },
   "outputs": [],
   "source": []
  }
 ],
 "metadata": {
  "kernelspec": {
   "display_name": "Python 3",
   "language": "python",
   "name": "python3"
  },
  "language_info": {
   "codemirror_mode": {
    "name": "ipython",
    "version": 3
   },
   "file_extension": ".py",
   "mimetype": "text/x-python",
   "name": "python",
   "nbconvert_exporter": "python",
   "pygments_lexer": "ipython3",
   "version": "3.6.6"
  }
 },
 "nbformat": 4,
 "nbformat_minor": 2
}
